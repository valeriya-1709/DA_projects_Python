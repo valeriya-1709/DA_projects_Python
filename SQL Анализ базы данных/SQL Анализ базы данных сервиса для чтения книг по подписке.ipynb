{
 "cells": [
  {
   "cell_type": "markdown",
   "metadata": {},
   "source": [
    "# Анализ базы данных сервиса для чтения книг по подписке."
   ]
  },
  {
   "cell_type": "markdown",
   "metadata": {},
   "source": [
    "## Описание проекта и цели исследования"
   ]
  },
  {
   "cell_type": "markdown",
   "metadata": {},
   "source": [
    "**Описание данных**\n",
    "\n",
    "Коронавирус застал мир врасплох, изменив привычный порядок вещей. В свободное время жители городов больше не выходят на улицу, не посещают кафе и торговые центры. Зато стало больше времени для книг. Это заметили стартаперы — и бросились создавать приложения для тех, кто любит читать. Компания купила крупный сервис для чтения книг по подписке. Ваша первая задача как аналитика — проанализировать базу данных.\n",
    "В ней — информация о книгах, издательствах, авторах, а также пользовательские обзоры книг. Эти данные помогут сформулировать ценностное предложение для нового продукта.\n",
    "\n",
    "**Задача**\n",
    "\n",
    "Сформулировать ценностное предложение для нового продукта.\n",
    "\n",
    "**Цели исследования:**\n",
    "\n",
    "1. проанализировать базу данных о книгах\n",
    "2. проанализировать информацию об издательствах\n",
    "3. оценить пользовательские обзоры книг, авторов\n",
    "\n",
    "**Описание данных**\n",
    "\n",
    "**Таблица `books`**\n",
    "\n",
    "Содержит данные о книгах:\n",
    "\n",
    "- `book_id` — идентификатор книги;\n",
    "- `author_id` — идентификатор автора;\n",
    "- `title` — название книги;\n",
    "- `num_pages` — количество страниц;\n",
    "- `publication_date` — дата публикации книги;\n",
    "- `publisher_id` — идентификатор издателя.\n",
    "\n",
    "**Таблица `authors`**\n",
    "\n",
    "Содержит данные об авторах:\n",
    "\n",
    "- `author_id` — идентификатор автора;\n",
    "- `author` — имя автора.\n",
    "\n",
    "**Таблица `publishers`**\n",
    "\n",
    "Содержит данные об издательствах:\n",
    "\n",
    "- `publisher_id` — идентификатор издательства;\n",
    "- `publisher` — название издательства;\n",
    "\n",
    "**Таблица `ratings`**\n",
    "\n",
    "Содержит данные о пользовательских оценках книг:\n",
    "\n",
    "- `rating_id` — идентификатор оценки;\n",
    "- `book_id` — идентификатор книги;\n",
    "- `username` — имя пользователя, оставившего оценку;\n",
    "- `rating` — оценка книги.\n",
    "\n",
    "**Таблица `reviews`**\n",
    "\n",
    "Содержит данные о пользовательских обзорах на книги:\n",
    "\n",
    "- `review_id` — идентификатор обзора;\n",
    "- `book_id` — идентификатор книги;\n",
    "- `username` — имя пользователя, написавшего обзор;\n",
    "- `text` — текст обзора."
   ]
  },
  {
   "cell_type": "markdown",
   "metadata": {},
   "source": [
    "## Исследуйте таблицы — выведите первые строки"
   ]
  },
  {
   "cell_type": "code",
   "execution_count": 20,
   "metadata": {},
   "outputs": [],
   "source": [
    "# импортируем библиотеки\n",
    "import pandas as pd\n",
    "import matplotlib.pyplot as plt\n",
    "from sqlalchemy import create_engine\n",
    "# устанавливаем параметры\n",
    "db_config = {'user': 'praktikum_student', # имя пользователя\n",
    "'pwd': 'Sdf4$2;d-d30pp', # пароль\n",
    "'host': 'rc1b-wcoijxj3yxfsf3fs.mdb.yandexcloud.net',\n",
    "'port': 6432, # порт подключения\n",
    "'db': 'data-analyst-final-project-db'} # название базы данных\n",
    "connection_string = 'postgresql://{}:{}@{}:{}/{}'.format(db_config['user'],\n",
    " db_config['pwd'],\n",
    " db_config['host'],\n",
    " db_config['port'],\n",
    " db_config['db'])\n",
    "# сохраняем коннектор\n",
    "engine = create_engine(connection_string, connect_args={'sslmode':'require'}) "
   ]
  },
  {
   "cell_type": "code",
   "execution_count": 2,
   "metadata": {},
   "outputs": [
    {
     "data": {
      "text/html": [
       "<div>\n",
       "<style scoped>\n",
       "    .dataframe tbody tr th:only-of-type {\n",
       "        vertical-align: middle;\n",
       "    }\n",
       "\n",
       "    .dataframe tbody tr th {\n",
       "        vertical-align: top;\n",
       "    }\n",
       "\n",
       "    .dataframe thead th {\n",
       "        text-align: right;\n",
       "    }\n",
       "</style>\n",
       "<table border=\"1\" class=\"dataframe\">\n",
       "  <thead>\n",
       "    <tr style=\"text-align: right;\">\n",
       "      <th></th>\n",
       "      <th>book_id</th>\n",
       "      <th>author_id</th>\n",
       "      <th>title</th>\n",
       "      <th>num_pages</th>\n",
       "      <th>publication_date</th>\n",
       "      <th>publisher_id</th>\n",
       "    </tr>\n",
       "  </thead>\n",
       "  <tbody>\n",
       "    <tr>\n",
       "      <th>0</th>\n",
       "      <td>1</td>\n",
       "      <td>546</td>\n",
       "      <td>'Salem's Lot</td>\n",
       "      <td>594</td>\n",
       "      <td>2005-11-01</td>\n",
       "      <td>93</td>\n",
       "    </tr>\n",
       "    <tr>\n",
       "      <th>1</th>\n",
       "      <td>2</td>\n",
       "      <td>465</td>\n",
       "      <td>1 000 Places to See Before You Die</td>\n",
       "      <td>992</td>\n",
       "      <td>2003-05-22</td>\n",
       "      <td>336</td>\n",
       "    </tr>\n",
       "    <tr>\n",
       "      <th>2</th>\n",
       "      <td>3</td>\n",
       "      <td>407</td>\n",
       "      <td>13 Little Blue Envelopes (Little Blue Envelope...</td>\n",
       "      <td>322</td>\n",
       "      <td>2010-12-21</td>\n",
       "      <td>135</td>\n",
       "    </tr>\n",
       "    <tr>\n",
       "      <th>3</th>\n",
       "      <td>4</td>\n",
       "      <td>82</td>\n",
       "      <td>1491: New Revelations of the Americas Before C...</td>\n",
       "      <td>541</td>\n",
       "      <td>2006-10-10</td>\n",
       "      <td>309</td>\n",
       "    </tr>\n",
       "    <tr>\n",
       "      <th>4</th>\n",
       "      <td>5</td>\n",
       "      <td>125</td>\n",
       "      <td>1776</td>\n",
       "      <td>386</td>\n",
       "      <td>2006-07-04</td>\n",
       "      <td>268</td>\n",
       "    </tr>\n",
       "  </tbody>\n",
       "</table>\n",
       "</div>"
      ],
      "text/plain": [
       "   book_id  author_id                                              title  \\\n",
       "0        1        546                                       'Salem's Lot   \n",
       "1        2        465                 1 000 Places to See Before You Die   \n",
       "2        3        407  13 Little Blue Envelopes (Little Blue Envelope...   \n",
       "3        4         82  1491: New Revelations of the Americas Before C...   \n",
       "4        5        125                                               1776   \n",
       "\n",
       "   num_pages publication_date  publisher_id  \n",
       "0        594       2005-11-01            93  \n",
       "1        992       2003-05-22           336  \n",
       "2        322       2010-12-21           135  \n",
       "3        541       2006-10-10           309  \n",
       "4        386       2006-07-04           268  "
      ]
     },
     "metadata": {},
     "output_type": "display_data"
    }
   ],
   "source": [
    "query = '''SELECT *\n",
    "FROM books'''\n",
    "books = pd.io.sql.read_sql(query, con = engine) \n",
    "display(books.head(5))"
   ]
  },
  {
   "cell_type": "code",
   "execution_count": 3,
   "metadata": {},
   "outputs": [
    {
     "name": "stdout",
     "output_type": "stream",
     "text": [
      "<class 'pandas.core.frame.DataFrame'>\n",
      "RangeIndex: 1000 entries, 0 to 999\n",
      "Data columns (total 6 columns):\n",
      " #   Column            Non-Null Count  Dtype \n",
      "---  ------            --------------  ----- \n",
      " 0   book_id           1000 non-null   int64 \n",
      " 1   author_id         1000 non-null   int64 \n",
      " 2   title             1000 non-null   object\n",
      " 3   num_pages         1000 non-null   int64 \n",
      " 4   publication_date  1000 non-null   object\n",
      " 5   publisher_id      1000 non-null   int64 \n",
      "dtypes: int64(4), object(2)\n",
      "memory usage: 47.0+ KB\n"
     ]
    }
   ],
   "source": [
    "books.info()"
   ]
  },
  {
   "cell_type": "code",
   "execution_count": 4,
   "metadata": {},
   "outputs": [
    {
     "data": {
      "text/html": [
       "<div>\n",
       "<style scoped>\n",
       "    .dataframe tbody tr th:only-of-type {\n",
       "        vertical-align: middle;\n",
       "    }\n",
       "\n",
       "    .dataframe tbody tr th {\n",
       "        vertical-align: top;\n",
       "    }\n",
       "\n",
       "    .dataframe thead th {\n",
       "        text-align: right;\n",
       "    }\n",
       "</style>\n",
       "<table border=\"1\" class=\"dataframe\">\n",
       "  <thead>\n",
       "    <tr style=\"text-align: right;\">\n",
       "      <th></th>\n",
       "      <th>author_id</th>\n",
       "      <th>author</th>\n",
       "    </tr>\n",
       "  </thead>\n",
       "  <tbody>\n",
       "    <tr>\n",
       "      <th>0</th>\n",
       "      <td>1</td>\n",
       "      <td>A.S. Byatt</td>\n",
       "    </tr>\n",
       "    <tr>\n",
       "      <th>1</th>\n",
       "      <td>2</td>\n",
       "      <td>Aesop/Laura Harris/Laura Gibbs</td>\n",
       "    </tr>\n",
       "    <tr>\n",
       "      <th>2</th>\n",
       "      <td>3</td>\n",
       "      <td>Agatha Christie</td>\n",
       "    </tr>\n",
       "    <tr>\n",
       "      <th>3</th>\n",
       "      <td>4</td>\n",
       "      <td>Alan Brennert</td>\n",
       "    </tr>\n",
       "    <tr>\n",
       "      <th>4</th>\n",
       "      <td>5</td>\n",
       "      <td>Alan Moore/David   Lloyd</td>\n",
       "    </tr>\n",
       "  </tbody>\n",
       "</table>\n",
       "</div>"
      ],
      "text/plain": [
       "   author_id                          author\n",
       "0          1                      A.S. Byatt\n",
       "1          2  Aesop/Laura Harris/Laura Gibbs\n",
       "2          3                 Agatha Christie\n",
       "3          4                   Alan Brennert\n",
       "4          5        Alan Moore/David   Lloyd"
      ]
     },
     "metadata": {},
     "output_type": "display_data"
    }
   ],
   "source": [
    "query = '''SELECT *\n",
    "FROM authors'''\n",
    "authors = pd.io.sql.read_sql(query, con = engine) \n",
    "display(authors.head(5))"
   ]
  },
  {
   "cell_type": "code",
   "execution_count": 5,
   "metadata": {},
   "outputs": [
    {
     "name": "stdout",
     "output_type": "stream",
     "text": [
      "<class 'pandas.core.frame.DataFrame'>\n",
      "RangeIndex: 636 entries, 0 to 635\n",
      "Data columns (total 2 columns):\n",
      " #   Column     Non-Null Count  Dtype \n",
      "---  ------     --------------  ----- \n",
      " 0   author_id  636 non-null    int64 \n",
      " 1   author     636 non-null    object\n",
      "dtypes: int64(1), object(1)\n",
      "memory usage: 10.1+ KB\n"
     ]
    }
   ],
   "source": [
    "authors.info()"
   ]
  },
  {
   "cell_type": "code",
   "execution_count": 6,
   "metadata": {},
   "outputs": [
    {
     "data": {
      "text/html": [
       "<div>\n",
       "<style scoped>\n",
       "    .dataframe tbody tr th:only-of-type {\n",
       "        vertical-align: middle;\n",
       "    }\n",
       "\n",
       "    .dataframe tbody tr th {\n",
       "        vertical-align: top;\n",
       "    }\n",
       "\n",
       "    .dataframe thead th {\n",
       "        text-align: right;\n",
       "    }\n",
       "</style>\n",
       "<table border=\"1\" class=\"dataframe\">\n",
       "  <thead>\n",
       "    <tr style=\"text-align: right;\">\n",
       "      <th></th>\n",
       "      <th>publisher_id</th>\n",
       "      <th>publisher</th>\n",
       "    </tr>\n",
       "  </thead>\n",
       "  <tbody>\n",
       "    <tr>\n",
       "      <th>0</th>\n",
       "      <td>1</td>\n",
       "      <td>Ace</td>\n",
       "    </tr>\n",
       "    <tr>\n",
       "      <th>1</th>\n",
       "      <td>2</td>\n",
       "      <td>Ace Book</td>\n",
       "    </tr>\n",
       "    <tr>\n",
       "      <th>2</th>\n",
       "      <td>3</td>\n",
       "      <td>Ace Books</td>\n",
       "    </tr>\n",
       "    <tr>\n",
       "      <th>3</th>\n",
       "      <td>4</td>\n",
       "      <td>Ace Hardcover</td>\n",
       "    </tr>\n",
       "    <tr>\n",
       "      <th>4</th>\n",
       "      <td>5</td>\n",
       "      <td>Addison Wesley Publishing Company</td>\n",
       "    </tr>\n",
       "  </tbody>\n",
       "</table>\n",
       "</div>"
      ],
      "text/plain": [
       "   publisher_id                          publisher\n",
       "0             1                                Ace\n",
       "1             2                           Ace Book\n",
       "2             3                          Ace Books\n",
       "3             4                      Ace Hardcover\n",
       "4             5  Addison Wesley Publishing Company"
      ]
     },
     "metadata": {},
     "output_type": "display_data"
    }
   ],
   "source": [
    "query = '''SELECT *\n",
    "FROM publishers'''\n",
    "publishers = pd.io.sql.read_sql(query, con = engine) \n",
    "display(publishers.head(5))"
   ]
  },
  {
   "cell_type": "code",
   "execution_count": 7,
   "metadata": {},
   "outputs": [
    {
     "name": "stdout",
     "output_type": "stream",
     "text": [
      "<class 'pandas.core.frame.DataFrame'>\n",
      "RangeIndex: 340 entries, 0 to 339\n",
      "Data columns (total 2 columns):\n",
      " #   Column        Non-Null Count  Dtype \n",
      "---  ------        --------------  ----- \n",
      " 0   publisher_id  340 non-null    int64 \n",
      " 1   publisher     340 non-null    object\n",
      "dtypes: int64(1), object(1)\n",
      "memory usage: 5.4+ KB\n"
     ]
    }
   ],
   "source": [
    "publishers.info()"
   ]
  },
  {
   "cell_type": "code",
   "execution_count": 8,
   "metadata": {},
   "outputs": [
    {
     "data": {
      "text/html": [
       "<div>\n",
       "<style scoped>\n",
       "    .dataframe tbody tr th:only-of-type {\n",
       "        vertical-align: middle;\n",
       "    }\n",
       "\n",
       "    .dataframe tbody tr th {\n",
       "        vertical-align: top;\n",
       "    }\n",
       "\n",
       "    .dataframe thead th {\n",
       "        text-align: right;\n",
       "    }\n",
       "</style>\n",
       "<table border=\"1\" class=\"dataframe\">\n",
       "  <thead>\n",
       "    <tr style=\"text-align: right;\">\n",
       "      <th></th>\n",
       "      <th>rating_id</th>\n",
       "      <th>book_id</th>\n",
       "      <th>username</th>\n",
       "      <th>rating</th>\n",
       "    </tr>\n",
       "  </thead>\n",
       "  <tbody>\n",
       "    <tr>\n",
       "      <th>0</th>\n",
       "      <td>1</td>\n",
       "      <td>1</td>\n",
       "      <td>ryanfranco</td>\n",
       "      <td>4</td>\n",
       "    </tr>\n",
       "    <tr>\n",
       "      <th>1</th>\n",
       "      <td>2</td>\n",
       "      <td>1</td>\n",
       "      <td>grantpatricia</td>\n",
       "      <td>2</td>\n",
       "    </tr>\n",
       "    <tr>\n",
       "      <th>2</th>\n",
       "      <td>3</td>\n",
       "      <td>1</td>\n",
       "      <td>brandtandrea</td>\n",
       "      <td>5</td>\n",
       "    </tr>\n",
       "    <tr>\n",
       "      <th>3</th>\n",
       "      <td>4</td>\n",
       "      <td>2</td>\n",
       "      <td>lorichen</td>\n",
       "      <td>3</td>\n",
       "    </tr>\n",
       "    <tr>\n",
       "      <th>4</th>\n",
       "      <td>5</td>\n",
       "      <td>2</td>\n",
       "      <td>mariokeller</td>\n",
       "      <td>2</td>\n",
       "    </tr>\n",
       "  </tbody>\n",
       "</table>\n",
       "</div>"
      ],
      "text/plain": [
       "   rating_id  book_id       username  rating\n",
       "0          1        1     ryanfranco       4\n",
       "1          2        1  grantpatricia       2\n",
       "2          3        1   brandtandrea       5\n",
       "3          4        2       lorichen       3\n",
       "4          5        2    mariokeller       2"
      ]
     },
     "metadata": {},
     "output_type": "display_data"
    }
   ],
   "source": [
    "query = '''SELECT *\n",
    "FROM ratings'''\n",
    "ratings = pd.io.sql.read_sql(query, con = engine) \n",
    "display(ratings.head(5))"
   ]
  },
  {
   "cell_type": "code",
   "execution_count": 9,
   "metadata": {},
   "outputs": [
    {
     "name": "stdout",
     "output_type": "stream",
     "text": [
      "<class 'pandas.core.frame.DataFrame'>\n",
      "RangeIndex: 6456 entries, 0 to 6455\n",
      "Data columns (total 4 columns):\n",
      " #   Column     Non-Null Count  Dtype \n",
      "---  ------     --------------  ----- \n",
      " 0   rating_id  6456 non-null   int64 \n",
      " 1   book_id    6456 non-null   int64 \n",
      " 2   username   6456 non-null   object\n",
      " 3   rating     6456 non-null   int64 \n",
      "dtypes: int64(3), object(1)\n",
      "memory usage: 201.9+ KB\n"
     ]
    }
   ],
   "source": [
    "ratings.info()"
   ]
  },
  {
   "cell_type": "code",
   "execution_count": 10,
   "metadata": {},
   "outputs": [
    {
     "data": {
      "text/html": [
       "<div>\n",
       "<style scoped>\n",
       "    .dataframe tbody tr th:only-of-type {\n",
       "        vertical-align: middle;\n",
       "    }\n",
       "\n",
       "    .dataframe tbody tr th {\n",
       "        vertical-align: top;\n",
       "    }\n",
       "\n",
       "    .dataframe thead th {\n",
       "        text-align: right;\n",
       "    }\n",
       "</style>\n",
       "<table border=\"1\" class=\"dataframe\">\n",
       "  <thead>\n",
       "    <tr style=\"text-align: right;\">\n",
       "      <th></th>\n",
       "      <th>review_id</th>\n",
       "      <th>book_id</th>\n",
       "      <th>username</th>\n",
       "      <th>text</th>\n",
       "    </tr>\n",
       "  </thead>\n",
       "  <tbody>\n",
       "    <tr>\n",
       "      <th>0</th>\n",
       "      <td>1</td>\n",
       "      <td>1</td>\n",
       "      <td>brandtandrea</td>\n",
       "      <td>Mention society tell send professor analysis. ...</td>\n",
       "    </tr>\n",
       "    <tr>\n",
       "      <th>1</th>\n",
       "      <td>2</td>\n",
       "      <td>1</td>\n",
       "      <td>ryanfranco</td>\n",
       "      <td>Foot glass pretty audience hit themselves. Amo...</td>\n",
       "    </tr>\n",
       "    <tr>\n",
       "      <th>2</th>\n",
       "      <td>3</td>\n",
       "      <td>2</td>\n",
       "      <td>lorichen</td>\n",
       "      <td>Listen treat keep worry. Miss husband tax but ...</td>\n",
       "    </tr>\n",
       "    <tr>\n",
       "      <th>3</th>\n",
       "      <td>4</td>\n",
       "      <td>3</td>\n",
       "      <td>johnsonamanda</td>\n",
       "      <td>Finally month interesting blue could nature cu...</td>\n",
       "    </tr>\n",
       "    <tr>\n",
       "      <th>4</th>\n",
       "      <td>5</td>\n",
       "      <td>3</td>\n",
       "      <td>scotttamara</td>\n",
       "      <td>Nation purpose heavy give wait song will. List...</td>\n",
       "    </tr>\n",
       "  </tbody>\n",
       "</table>\n",
       "</div>"
      ],
      "text/plain": [
       "   review_id  book_id       username  \\\n",
       "0          1        1   brandtandrea   \n",
       "1          2        1     ryanfranco   \n",
       "2          3        2       lorichen   \n",
       "3          4        3  johnsonamanda   \n",
       "4          5        3    scotttamara   \n",
       "\n",
       "                                                text  \n",
       "0  Mention society tell send professor analysis. ...  \n",
       "1  Foot glass pretty audience hit themselves. Amo...  \n",
       "2  Listen treat keep worry. Miss husband tax but ...  \n",
       "3  Finally month interesting blue could nature cu...  \n",
       "4  Nation purpose heavy give wait song will. List...  "
      ]
     },
     "metadata": {},
     "output_type": "display_data"
    }
   ],
   "source": [
    "query = '''SELECT *\n",
    "FROM reviews'''\n",
    "reviews = pd.io.sql.read_sql(query, con = engine) \n",
    "display(reviews.head(5))"
   ]
  },
  {
   "cell_type": "code",
   "execution_count": 11,
   "metadata": {},
   "outputs": [
    {
     "name": "stdout",
     "output_type": "stream",
     "text": [
      "<class 'pandas.core.frame.DataFrame'>\n",
      "RangeIndex: 2793 entries, 0 to 2792\n",
      "Data columns (total 4 columns):\n",
      " #   Column     Non-Null Count  Dtype \n",
      "---  ------     --------------  ----- \n",
      " 0   review_id  2793 non-null   int64 \n",
      " 1   book_id    2793 non-null   int64 \n",
      " 2   username   2793 non-null   object\n",
      " 3   text       2793 non-null   object\n",
      "dtypes: int64(2), object(2)\n",
      "memory usage: 87.4+ KB\n"
     ]
    }
   ],
   "source": [
    "reviews.info()"
   ]
  },
  {
   "cell_type": "markdown",
   "metadata": {},
   "source": [
    "## Посчитайте, сколько книг вышло после 1 января 2000 года"
   ]
  },
  {
   "cell_type": "code",
   "execution_count": 12,
   "metadata": {},
   "outputs": [
    {
     "data": {
      "text/html": [
       "<div>\n",
       "<style scoped>\n",
       "    .dataframe tbody tr th:only-of-type {\n",
       "        vertical-align: middle;\n",
       "    }\n",
       "\n",
       "    .dataframe tbody tr th {\n",
       "        vertical-align: top;\n",
       "    }\n",
       "\n",
       "    .dataframe thead th {\n",
       "        text-align: right;\n",
       "    }\n",
       "</style>\n",
       "<table border=\"1\" class=\"dataframe\">\n",
       "  <thead>\n",
       "    <tr style=\"text-align: right;\">\n",
       "      <th></th>\n",
       "      <th>count</th>\n",
       "    </tr>\n",
       "  </thead>\n",
       "  <tbody>\n",
       "    <tr>\n",
       "      <th>0</th>\n",
       "      <td>821</td>\n",
       "    </tr>\n",
       "  </tbody>\n",
       "</table>\n",
       "</div>"
      ],
      "text/plain": [
       "   count\n",
       "0    821"
      ]
     },
     "metadata": {},
     "output_type": "display_data"
    }
   ],
   "source": [
    "query = '''SELECT COUNT(book_id)\n",
    "FROM books\n",
    "WHERE DATE(publication_date) >= '2000-01-01';'''\n",
    "data_1 = pd.io.sql.read_sql(query, con = engine) \n",
    "display(data_1)"
   ]
  },
  {
   "cell_type": "markdown",
   "metadata": {},
   "source": [
    "### Вывод\n",
    "\n",
    "После 1 января 2000 года(включительно) вышла 821 книга."
   ]
  },
  {
   "cell_type": "markdown",
   "metadata": {},
   "source": [
    "## Для каждой книги посчитайте количество обзоров и среднюю оценку"
   ]
  },
  {
   "cell_type": "code",
   "execution_count": 13,
   "metadata": {
    "scrolled": false
   },
   "outputs": [
    {
     "data": {
      "text/html": [
       "<div>\n",
       "<style scoped>\n",
       "    .dataframe tbody tr th:only-of-type {\n",
       "        vertical-align: middle;\n",
       "    }\n",
       "\n",
       "    .dataframe tbody tr th {\n",
       "        vertical-align: top;\n",
       "    }\n",
       "\n",
       "    .dataframe thead th {\n",
       "        text-align: right;\n",
       "    }\n",
       "</style>\n",
       "<table border=\"1\" class=\"dataframe\">\n",
       "  <thead>\n",
       "    <tr style=\"text-align: right;\">\n",
       "      <th></th>\n",
       "      <th>title</th>\n",
       "      <th>avg_rating</th>\n",
       "      <th>count_review</th>\n",
       "    </tr>\n",
       "  </thead>\n",
       "  <tbody>\n",
       "    <tr>\n",
       "      <th>0</th>\n",
       "      <td>Memoirs of a Geisha</td>\n",
       "      <td>4.138462</td>\n",
       "      <td>8</td>\n",
       "    </tr>\n",
       "    <tr>\n",
       "      <th>1</th>\n",
       "      <td>Twilight (Twilight  #1)</td>\n",
       "      <td>3.662500</td>\n",
       "      <td>7</td>\n",
       "    </tr>\n",
       "    <tr>\n",
       "      <th>2</th>\n",
       "      <td>Harry Potter and the Chamber of Secrets (Harry...</td>\n",
       "      <td>4.287500</td>\n",
       "      <td>6</td>\n",
       "    </tr>\n",
       "    <tr>\n",
       "      <th>3</th>\n",
       "      <td>The Glass Castle</td>\n",
       "      <td>4.206897</td>\n",
       "      <td>6</td>\n",
       "    </tr>\n",
       "    <tr>\n",
       "      <th>4</th>\n",
       "      <td>Eat  Pray  Love</td>\n",
       "      <td>3.395833</td>\n",
       "      <td>6</td>\n",
       "    </tr>\n",
       "    <tr>\n",
       "      <th>5</th>\n",
       "      <td>The Curious Incident of the Dog in the Night-Time</td>\n",
       "      <td>4.081081</td>\n",
       "      <td>6</td>\n",
       "    </tr>\n",
       "    <tr>\n",
       "      <th>6</th>\n",
       "      <td>Water for Elephants</td>\n",
       "      <td>3.977273</td>\n",
       "      <td>6</td>\n",
       "    </tr>\n",
       "    <tr>\n",
       "      <th>7</th>\n",
       "      <td>Outlander (Outlander  #1)</td>\n",
       "      <td>4.125000</td>\n",
       "      <td>6</td>\n",
       "    </tr>\n",
       "    <tr>\n",
       "      <th>8</th>\n",
       "      <td>The Road</td>\n",
       "      <td>3.772727</td>\n",
       "      <td>6</td>\n",
       "    </tr>\n",
       "    <tr>\n",
       "      <th>9</th>\n",
       "      <td>The Alchemist</td>\n",
       "      <td>3.789474</td>\n",
       "      <td>6</td>\n",
       "    </tr>\n",
       "    <tr>\n",
       "      <th>10</th>\n",
       "      <td>The Da Vinci Code (Robert Langdon  #2)</td>\n",
       "      <td>3.830508</td>\n",
       "      <td>6</td>\n",
       "    </tr>\n",
       "    <tr>\n",
       "      <th>11</th>\n",
       "      <td>The Catcher in the Rye</td>\n",
       "      <td>3.825581</td>\n",
       "      <td>6</td>\n",
       "    </tr>\n",
       "    <tr>\n",
       "      <th>12</th>\n",
       "      <td>The Hobbit  or There and Back Again</td>\n",
       "      <td>4.125000</td>\n",
       "      <td>6</td>\n",
       "    </tr>\n",
       "    <tr>\n",
       "      <th>13</th>\n",
       "      <td>The Lightning Thief (Percy Jackson and the Oly...</td>\n",
       "      <td>4.080645</td>\n",
       "      <td>6</td>\n",
       "    </tr>\n",
       "    <tr>\n",
       "      <th>14</th>\n",
       "      <td>Harry Potter and the Prisoner of Azkaban (Harr...</td>\n",
       "      <td>4.414634</td>\n",
       "      <td>6</td>\n",
       "    </tr>\n",
       "    <tr>\n",
       "      <th>15</th>\n",
       "      <td>The Giver (The Giver  #1)</td>\n",
       "      <td>3.750000</td>\n",
       "      <td>6</td>\n",
       "    </tr>\n",
       "    <tr>\n",
       "      <th>16</th>\n",
       "      <td>The Book Thief</td>\n",
       "      <td>4.264151</td>\n",
       "      <td>6</td>\n",
       "    </tr>\n",
       "    <tr>\n",
       "      <th>17</th>\n",
       "      <td>My Sister's Keeper</td>\n",
       "      <td>4.142857</td>\n",
       "      <td>5</td>\n",
       "    </tr>\n",
       "    <tr>\n",
       "      <th>18</th>\n",
       "      <td>Coraline</td>\n",
       "      <td>4.133333</td>\n",
       "      <td>5</td>\n",
       "    </tr>\n",
       "    <tr>\n",
       "      <th>19</th>\n",
       "      <td>Lord of the Flies</td>\n",
       "      <td>3.901408</td>\n",
       "      <td>5</td>\n",
       "    </tr>\n",
       "  </tbody>\n",
       "</table>\n",
       "</div>"
      ],
      "text/plain": [
       "                                                title  avg_rating  \\\n",
       "0                                 Memoirs of a Geisha    4.138462   \n",
       "1                             Twilight (Twilight  #1)    3.662500   \n",
       "2   Harry Potter and the Chamber of Secrets (Harry...    4.287500   \n",
       "3                                    The Glass Castle    4.206897   \n",
       "4                                     Eat  Pray  Love    3.395833   \n",
       "5   The Curious Incident of the Dog in the Night-Time    4.081081   \n",
       "6                                 Water for Elephants    3.977273   \n",
       "7                           Outlander (Outlander  #1)    4.125000   \n",
       "8                                            The Road    3.772727   \n",
       "9                                       The Alchemist    3.789474   \n",
       "10             The Da Vinci Code (Robert Langdon  #2)    3.830508   \n",
       "11                             The Catcher in the Rye    3.825581   \n",
       "12                The Hobbit  or There and Back Again    4.125000   \n",
       "13  The Lightning Thief (Percy Jackson and the Oly...    4.080645   \n",
       "14  Harry Potter and the Prisoner of Azkaban (Harr...    4.414634   \n",
       "15                          The Giver (The Giver  #1)    3.750000   \n",
       "16                                     The Book Thief    4.264151   \n",
       "17                                 My Sister's Keeper    4.142857   \n",
       "18                                           Coraline    4.133333   \n",
       "19                                  Lord of the Flies    3.901408   \n",
       "\n",
       "    count_review  \n",
       "0              8  \n",
       "1              7  \n",
       "2              6  \n",
       "3              6  \n",
       "4              6  \n",
       "5              6  \n",
       "6              6  \n",
       "7              6  \n",
       "8              6  \n",
       "9              6  \n",
       "10             6  \n",
       "11             6  \n",
       "12             6  \n",
       "13             6  \n",
       "14             6  \n",
       "15             6  \n",
       "16             6  \n",
       "17             5  \n",
       "18             5  \n",
       "19             5  "
      ]
     },
     "metadata": {},
     "output_type": "display_data"
    }
   ],
   "source": [
    "query = '''SELECT b.title,\n",
    "AVG(rat.rating) AS avg_rating,\n",
    "COUNT(DISTINCT rev.review_id) AS count_review\n",
    "FROM books AS b\n",
    "LEFT JOIN ratings AS rat ON b.book_id=rat.book_id\n",
    "LEFT JOIN reviews AS rev ON b.book_id=rev.book_id\n",
    "GROUP BY b.title\n",
    "ORDER BY COUNT(DISTINCT rev.review_id) DESC;'''\n",
    "data_2 = pd.io.sql.read_sql(query, con = engine) \n",
    "display(data_2.head(20))"
   ]
  },
  {
   "cell_type": "code",
   "execution_count": 24,
   "metadata": {},
   "outputs": [
    {
     "data": {
      "text/plain": [
       "Text(0, 0.5, 'Число книг')"
      ]
     },
     "execution_count": 24,
     "metadata": {},
     "output_type": "execute_result"
    },
    {
     "data": {
      "image/png": "[encoded data removed]",
      "text/plain": [
       "<Figure size 432x288 with 1 Axes>"
      ]
     },
     "metadata": {
      "needs_background": "light"
     },
     "output_type": "display_data"
    }
   ],
   "source": [
    "data_2['count_review'].hist(bins=8)\n",
    "plt.title('Распределение количества обзоров на каждую книгу')\n",
    "plt.xlabel(\"Количество обзоров\")\n",
    "plt.ylabel(\"Число книг\")"
   ]
  },
  {
   "cell_type": "code",
   "execution_count": 33,
   "metadata": {},
   "outputs": [
    {
     "data": {
      "text/plain": [
       "Text(0, 0.5, 'Число книг')"
      ]
     },
     "execution_count": 33,
     "metadata": {},
     "output_type": "execute_result"
    },
    {
     "data": {
      "image/png": "[encoded data removed]",
      "text/plain": [
       "<Figure size 432x288 with 1 Axes>"
      ]
     },
     "metadata": {
      "needs_background": "light"
     },
     "output_type": "display_data"
    }
   ],
   "source": [
    "data_2['avg_rating'].hist(bins=25)\n",
    "plt.title('Распределение средней оценки за каждую книгу')\n",
    "plt.xlabel(\"Средняя оценка\")\n",
    "plt.ylabel(\"Число книг\")"
   ]
  },
  {
   "cell_type": "markdown",
   "metadata": {},
   "source": [
    "### Вывод\n",
    "\n",
    "Количество обзоров и средняя оценка рассчитаны.\n",
    "\n",
    "Больше всего обзоров на книги Memoirs of a Geisha - 8шт. и Twilight - 7.\n",
    "\n",
    "Средняя оценка колеблется от 1,50 до 5."
   ]
  },
  {
   "cell_type": "markdown",
   "metadata": {},
   "source": [
    "## Определите издательство, которое выпустило наибольшее число книг толще 50 страниц — так вы исключите из анализа брошюры"
   ]
  },
  {
   "cell_type": "code",
   "execution_count": 15,
   "metadata": {},
   "outputs": [
    {
     "data": {
      "text/html": [
       "<div>\n",
       "<style scoped>\n",
       "    .dataframe tbody tr th:only-of-type {\n",
       "        vertical-align: middle;\n",
       "    }\n",
       "\n",
       "    .dataframe tbody tr th {\n",
       "        vertical-align: top;\n",
       "    }\n",
       "\n",
       "    .dataframe thead th {\n",
       "        text-align: right;\n",
       "    }\n",
       "</style>\n",
       "<table border=\"1\" class=\"dataframe\">\n",
       "  <thead>\n",
       "    <tr style=\"text-align: right;\">\n",
       "      <th></th>\n",
       "      <th>publisher</th>\n",
       "      <th>count</th>\n",
       "    </tr>\n",
       "  </thead>\n",
       "  <tbody>\n",
       "    <tr>\n",
       "      <th>0</th>\n",
       "      <td>Penguin Books</td>\n",
       "      <td>42</td>\n",
       "    </tr>\n",
       "    <tr>\n",
       "      <th>1</th>\n",
       "      <td>Vintage</td>\n",
       "      <td>31</td>\n",
       "    </tr>\n",
       "    <tr>\n",
       "      <th>2</th>\n",
       "      <td>Grand Central Publishing</td>\n",
       "      <td>25</td>\n",
       "    </tr>\n",
       "    <tr>\n",
       "      <th>3</th>\n",
       "      <td>Penguin Classics</td>\n",
       "      <td>24</td>\n",
       "    </tr>\n",
       "    <tr>\n",
       "      <th>4</th>\n",
       "      <td>Ballantine Books</td>\n",
       "      <td>19</td>\n",
       "    </tr>\n",
       "    <tr>\n",
       "      <th>5</th>\n",
       "      <td>Bantam</td>\n",
       "      <td>19</td>\n",
       "    </tr>\n",
       "    <tr>\n",
       "      <th>6</th>\n",
       "      <td>Berkley</td>\n",
       "      <td>17</td>\n",
       "    </tr>\n",
       "    <tr>\n",
       "      <th>7</th>\n",
       "      <td>St. Martin's Press</td>\n",
       "      <td>14</td>\n",
       "    </tr>\n",
       "    <tr>\n",
       "      <th>8</th>\n",
       "      <td>Berkley Books</td>\n",
       "      <td>14</td>\n",
       "    </tr>\n",
       "    <tr>\n",
       "      <th>9</th>\n",
       "      <td>Delta</td>\n",
       "      <td>13</td>\n",
       "    </tr>\n",
       "  </tbody>\n",
       "</table>\n",
       "</div>"
      ],
      "text/plain": [
       "                  publisher  count\n",
       "0             Penguin Books     42\n",
       "1                   Vintage     31\n",
       "2  Grand Central Publishing     25\n",
       "3          Penguin Classics     24\n",
       "4          Ballantine Books     19\n",
       "5                    Bantam     19\n",
       "6                   Berkley     17\n",
       "7        St. Martin's Press     14\n",
       "8             Berkley Books     14\n",
       "9                     Delta     13"
      ]
     },
     "metadata": {},
     "output_type": "display_data"
    }
   ],
   "source": [
    "query = '''SELECT p.publisher,\n",
    "COUNT(b.book_id)\n",
    "FROM publishers AS p\n",
    "RIGHT JOIN books AS b ON p.publisher_id=b.publisher_id\n",
    "WHERE b.num_pages > 50\n",
    "GROUP BY p.publisher\n",
    "ORDER BY COUNT(b.book_id) DESC;'''\n",
    "data_3 = pd.io.sql.read_sql(query, con = engine) \n",
    "display(data_3.head(10))"
   ]
  },
  {
   "cell_type": "markdown",
   "metadata": {},
   "source": [
    "### Вывод\n",
    "\n",
    "Наибольшее число книг толще 50 страниц выпустило издательство Penguin Books - 42 штуки."
   ]
  },
  {
   "cell_type": "markdown",
   "metadata": {},
   "source": [
    "## Определите автора с самой высокой средней оценкой книг — учитывайте только книги с 50 и более оценками"
   ]
  },
  {
   "cell_type": "code",
   "execution_count": 16,
   "metadata": {},
   "outputs": [
    {
     "data": {
      "text/html": [
       "<div>\n",
       "<style scoped>\n",
       "    .dataframe tbody tr th:only-of-type {\n",
       "        vertical-align: middle;\n",
       "    }\n",
       "\n",
       "    .dataframe tbody tr th {\n",
       "        vertical-align: top;\n",
       "    }\n",
       "\n",
       "    .dataframe thead th {\n",
       "        text-align: right;\n",
       "    }\n",
       "</style>\n",
       "<table border=\"1\" class=\"dataframe\">\n",
       "  <thead>\n",
       "    <tr style=\"text-align: right;\">\n",
       "      <th></th>\n",
       "      <th>author</th>\n",
       "      <th>avg</th>\n",
       "    </tr>\n",
       "  </thead>\n",
       "  <tbody>\n",
       "    <tr>\n",
       "      <th>0</th>\n",
       "      <td>J.K. Rowling/Mary GrandPré</td>\n",
       "      <td>4.287097</td>\n",
       "    </tr>\n",
       "    <tr>\n",
       "      <th>1</th>\n",
       "      <td>Markus Zusak/Cao Xuân Việt Khương</td>\n",
       "      <td>4.264151</td>\n",
       "    </tr>\n",
       "    <tr>\n",
       "      <th>2</th>\n",
       "      <td>J.R.R. Tolkien</td>\n",
       "      <td>4.246914</td>\n",
       "    </tr>\n",
       "    <tr>\n",
       "      <th>3</th>\n",
       "      <td>Louisa May Alcott</td>\n",
       "      <td>4.192308</td>\n",
       "    </tr>\n",
       "    <tr>\n",
       "      <th>4</th>\n",
       "      <td>Rick Riordan</td>\n",
       "      <td>4.080645</td>\n",
       "    </tr>\n",
       "    <tr>\n",
       "      <th>5</th>\n",
       "      <td>William Golding</td>\n",
       "      <td>3.901408</td>\n",
       "    </tr>\n",
       "    <tr>\n",
       "      <th>6</th>\n",
       "      <td>J.D. Salinger</td>\n",
       "      <td>3.825581</td>\n",
       "    </tr>\n",
       "    <tr>\n",
       "      <th>7</th>\n",
       "      <td>Paulo Coelho/Alan R. Clarke/Özdemir İnce</td>\n",
       "      <td>3.789474</td>\n",
       "    </tr>\n",
       "    <tr>\n",
       "      <th>8</th>\n",
       "      <td>William Shakespeare/Paul Werstine/Barbara A. M...</td>\n",
       "      <td>3.787879</td>\n",
       "    </tr>\n",
       "    <tr>\n",
       "      <th>9</th>\n",
       "      <td>Lois Lowry</td>\n",
       "      <td>3.750000</td>\n",
       "    </tr>\n",
       "    <tr>\n",
       "      <th>10</th>\n",
       "      <td>Dan Brown</td>\n",
       "      <td>3.741259</td>\n",
       "    </tr>\n",
       "    <tr>\n",
       "      <th>11</th>\n",
       "      <td>George Orwell/Boris Grabnar/Peter Škerl</td>\n",
       "      <td>3.729730</td>\n",
       "    </tr>\n",
       "    <tr>\n",
       "      <th>12</th>\n",
       "      <td>Stephenie Meyer</td>\n",
       "      <td>3.662500</td>\n",
       "    </tr>\n",
       "    <tr>\n",
       "      <th>13</th>\n",
       "      <td>John Steinbeck</td>\n",
       "      <td>3.622951</td>\n",
       "    </tr>\n",
       "  </tbody>\n",
       "</table>\n",
       "</div>"
      ],
      "text/plain": [
       "                                               author       avg\n",
       "0                          J.K. Rowling/Mary GrandPré  4.287097\n",
       "1                   Markus Zusak/Cao Xuân Việt Khương  4.264151\n",
       "2                                      J.R.R. Tolkien  4.246914\n",
       "3                                   Louisa May Alcott  4.192308\n",
       "4                                        Rick Riordan  4.080645\n",
       "5                                     William Golding  3.901408\n",
       "6                                       J.D. Salinger  3.825581\n",
       "7            Paulo Coelho/Alan R. Clarke/Özdemir İnce  3.789474\n",
       "8   William Shakespeare/Paul Werstine/Barbara A. M...  3.787879\n",
       "9                                          Lois Lowry  3.750000\n",
       "10                                          Dan Brown  3.741259\n",
       "11            George Orwell/Boris Grabnar/Peter Škerl  3.729730\n",
       "12                                    Stephenie Meyer  3.662500\n",
       "13                                     John Steinbeck  3.622951"
      ]
     },
     "metadata": {},
     "output_type": "display_data"
    }
   ],
   "source": [
    "query = '''WITH books_50 AS (SELECT b.book_id,\n",
    "b.title,\n",
    "b.author_id,\n",
    "COUNT(rat.rating_id)\n",
    "FROM books AS b\n",
    "LEFT JOIN ratings AS rat ON b.book_id=rat.book_id\n",
    "GROUP BY b.book_id\n",
    "HAVING COUNT(rat.rating_id) >= 50\n",
    "ORDER BY COUNT(rat.rating_id) DESC)\n",
    "SELECT a.author,\n",
    "AVG(rat.rating) \n",
    "FROM authors AS a\n",
    "RIGHT JOIN books_50 AS b50 ON a.author_id=b50.author_id\n",
    "LEFT JOIN ratings AS rat ON b50.book_id=rat.book_id\n",
    "GROUP BY a.author\n",
    "ORDER BY AVG(rat.rating) DESC;'''\n",
    "data_4 = pd.io.sql.read_sql(query, con = engine) \n",
    "display(data_4)"
   ]
  },
  {
   "cell_type": "markdown",
   "metadata": {},
   "source": [
    "### Вывод\n",
    "\n",
    "Автор с самой высокой средней оценкой книг - J.K. Rowling/Mary GrandPré. Средняя оценка - 4,29."
   ]
  },
  {
   "cell_type": "markdown",
   "metadata": {},
   "source": [
    "## Посчитайте среднее количество обзоров от пользователей, которые поставили больше 50 оценок"
   ]
  },
  {
   "cell_type": "code",
   "execution_count": 17,
   "metadata": {},
   "outputs": [
    {
     "data": {
      "text/html": [
       "<div>\n",
       "<style scoped>\n",
       "    .dataframe tbody tr th:only-of-type {\n",
       "        vertical-align: middle;\n",
       "    }\n",
       "\n",
       "    .dataframe tbody tr th {\n",
       "        vertical-align: top;\n",
       "    }\n",
       "\n",
       "    .dataframe thead th {\n",
       "        text-align: right;\n",
       "    }\n",
       "</style>\n",
       "<table border=\"1\" class=\"dataframe\">\n",
       "  <thead>\n",
       "    <tr style=\"text-align: right;\">\n",
       "      <th></th>\n",
       "      <th>avg</th>\n",
       "    </tr>\n",
       "  </thead>\n",
       "  <tbody>\n",
       "    <tr>\n",
       "      <th>0</th>\n",
       "      <td>24.222222</td>\n",
       "    </tr>\n",
       "  </tbody>\n",
       "</table>\n",
       "</div>"
      ],
      "text/plain": [
       "         avg\n",
       "0  24.222222"
      ]
     },
     "metadata": {},
     "output_type": "display_data"
    }
   ],
   "source": [
    "query = '''WITH result AS (WITH us AS (SELECT rat.username,\n",
    "COUNT(rat.rating_id) as count\n",
    "FROM ratings AS rat\n",
    "GROUP BY rat.username\n",
    "HAVING COUNT(rat.rating_id) >= 50)\n",
    "SELECT rev.username,\n",
    "COUNT(rev.review_id)\n",
    "FROM reviews AS rev\n",
    "RIGHT JOIN us ON rev.username=us.username\n",
    "GROUP BY rev.username)\n",
    "SELECT AVG(result.count)\n",
    "FROM result;'''\n",
    "data_5 = pd.io.sql.read_sql(query, con = engine) \n",
    "display(data_5)"
   ]
  },
  {
   "cell_type": "markdown",
   "metadata": {},
   "source": [
    "### Вывод\n",
    "\n",
    "Среднее количество обзоров от пользователей, которые поставили больше 50 оценок - 24 штуки."
   ]
  },
  {
   "cell_type": "markdown",
   "metadata": {},
   "source": [
    "## Общий вывод"
   ]
  },
  {
   "cell_type": "markdown",
   "metadata": {},
   "source": [
    "1. После 1 января 2000 года(включительно) вышла 821 книга.\n",
    "2. Больше всего обзоров на книги Memoirs of a Geisha - 8шт. и Twilight - 7. По общей статистике более 450 книг с 3 обзорами, около 275 - по 4 обзора и около 150 книг - по 5 обзоров.\n",
    "3. Средняя оценка колеблется от 1,50 до 5.Чаще всего она близка к 4(более 200 книг) и более 100 книг имеют среднюю оценку 4,5, и промерно столько же - 3,5.\n",
    "4. Наибольшее число книг толще 50 страниц выпустило издательство Penguin Books - 42 штуки.\n",
    "5. Авторы с наиболее высокими оценками: J.K. Rowling/Mary GrandPré - 4.29;  Markus Zusak/Cao Xuân Việt Khương - 4.26 и J.R.R. Tolkien - 4.25.\n",
    "6. Среднее количество обзоров от пользователей, которые поставили больше 50 оценок - 24 штуки."
   ]
  }
 ],
 "metadata": {
  "ExecuteTimeLog": [
   {
    "duration": 599,
    "start_time": "2022-06-04T06:30:18.544Z"
   },
   {
    "duration": 303,
    "start_time": "2022-06-04T06:30:33.143Z"
   },
   {
    "duration": 97,
    "start_time": "2022-06-04T06:31:09.293Z"
   },
   {
    "duration": 89,
    "start_time": "2022-06-04T06:31:17.245Z"
   },
   {
    "duration": 76,
    "start_time": "2022-06-04T06:31:31.211Z"
   },
   {
    "duration": 72,
    "start_time": "2022-06-04T06:32:31.923Z"
   },
   {
    "duration": 126,
    "start_time": "2022-06-04T06:32:34.630Z"
   },
   {
    "duration": 118,
    "start_time": "2022-06-04T06:32:38.473Z"
   },
   {
    "duration": 67,
    "start_time": "2022-06-04T06:33:20.493Z"
   },
   {
    "duration": 77,
    "start_time": "2022-06-04T06:37:49.857Z"
   },
   {
    "duration": 3,
    "start_time": "2022-06-04T06:38:49.714Z"
   },
   {
    "duration": 145,
    "start_time": "2022-06-04T06:39:06.613Z"
   },
   {
    "duration": 105,
    "start_time": "2022-06-04T06:44:07.804Z"
   },
   {
    "duration": 105,
    "start_time": "2022-06-04T06:45:36.107Z"
   },
   {
    "duration": 107,
    "start_time": "2022-06-04T06:45:54.093Z"
   },
   {
    "duration": 214,
    "start_time": "2022-06-04T06:46:45.803Z"
   },
   {
    "duration": 111,
    "start_time": "2022-06-04T06:47:23.872Z"
   },
   {
    "duration": 110,
    "start_time": "2022-06-04T06:47:42.078Z"
   },
   {
    "duration": 112,
    "start_time": "2022-06-04T06:47:54.087Z"
   },
   {
    "duration": 105,
    "start_time": "2022-06-04T06:49:03.022Z"
   },
   {
    "duration": 102,
    "start_time": "2022-06-04T06:49:13.086Z"
   },
   {
    "duration": 107,
    "start_time": "2022-06-04T06:50:15.872Z"
   },
   {
    "duration": 76,
    "start_time": "2022-06-04T06:53:55.313Z"
   },
   {
    "duration": 83,
    "start_time": "2022-06-04T06:54:04.837Z"
   },
   {
    "duration": 69,
    "start_time": "2022-06-04T06:54:16.270Z"
   },
   {
    "duration": 82,
    "start_time": "2022-06-04T06:55:17.939Z"
   },
   {
    "duration": 74,
    "start_time": "2022-06-04T06:56:39.445Z"
   },
   {
    "duration": 481,
    "start_time": "2022-06-04T09:22:39.508Z"
   },
   {
    "duration": 269,
    "start_time": "2022-06-04T09:22:39.991Z"
   },
   {
    "duration": 68,
    "start_time": "2022-06-04T09:22:40.261Z"
   },
   {
    "duration": 69,
    "start_time": "2022-06-04T09:22:40.331Z"
   },
   {
    "duration": 97,
    "start_time": "2022-06-04T09:22:40.402Z"
   },
   {
    "duration": 84,
    "start_time": "2022-06-04T09:22:40.500Z"
   },
   {
    "duration": 70,
    "start_time": "2022-06-04T09:22:40.585Z"
   },
   {
    "duration": 142,
    "start_time": "2022-06-04T09:22:40.657Z"
   },
   {
    "duration": 82,
    "start_time": "2022-06-04T09:22:40.801Z"
   },
   {
    "duration": 69,
    "start_time": "2022-06-04T09:22:40.885Z"
   },
   {
    "duration": 73,
    "start_time": "2022-06-04T09:22:40.955Z"
   },
   {
    "duration": 70,
    "start_time": "2022-06-04T09:22:41.029Z"
   },
   {
    "duration": 90,
    "start_time": "2022-06-04T10:28:03.823Z"
   },
   {
    "duration": 685,
    "start_time": "2022-06-04T10:28:57.185Z"
   },
   {
    "duration": 147,
    "start_time": "2022-06-04T10:28:57.875Z"
   },
   {
    "duration": 23,
    "start_time": "2022-06-04T10:28:58.024Z"
   },
   {
    "duration": 49,
    "start_time": "2022-06-04T10:28:58.054Z"
   },
   {
    "duration": 12,
    "start_time": "2022-06-04T10:28:58.106Z"
   },
   {
    "duration": 77,
    "start_time": "2022-06-04T10:28:58.120Z"
   },
   {
    "duration": 10,
    "start_time": "2022-06-04T10:28:58.199Z"
   },
   {
    "duration": 97,
    "start_time": "2022-06-04T10:28:58.210Z"
   },
   {
    "duration": 13,
    "start_time": "2022-06-04T10:28:58.309Z"
   },
   {
    "duration": 68,
    "start_time": "2022-06-04T10:28:58.324Z"
   },
   {
    "duration": 12,
    "start_time": "2022-06-04T10:28:58.394Z"
   },
   {
    "duration": 19,
    "start_time": "2022-06-04T10:28:58.407Z"
   },
   {
    "duration": 170,
    "start_time": "2022-06-04T10:28:58.428Z"
   },
   {
    "duration": 34,
    "start_time": "2022-06-04T10:28:58.601Z"
   },
   {
    "duration": 71,
    "start_time": "2022-06-04T10:28:58.637Z"
   },
   {
    "duration": 17,
    "start_time": "2022-06-04T10:28:58.710Z"
   },
   {
    "duration": 69,
    "start_time": "2022-06-04T10:28:58.728Z"
   },
   {
    "duration": 6,
    "start_time": "2022-06-04T10:33:58.307Z"
   },
   {
    "duration": 12,
    "start_time": "2022-06-04T10:36:17.861Z"
   },
   {
    "duration": 15,
    "start_time": "2022-06-04T10:38:34.151Z"
   },
   {
    "duration": 84,
    "start_time": "2022-06-04T10:39:05.519Z"
   },
   {
    "duration": 32,
    "start_time": "2022-06-04T10:39:12.565Z"
   },
   {
    "duration": 328,
    "start_time": "2022-06-04T10:40:13.506Z"
   },
   {
    "duration": 115,
    "start_time": "2022-06-04T10:40:50.063Z"
   },
   {
    "duration": 147,
    "start_time": "2022-06-04T10:41:18.009Z"
   },
   {
    "duration": 123,
    "start_time": "2022-06-04T10:41:34.596Z"
   },
   {
    "duration": 182,
    "start_time": "2022-06-04T10:42:15.545Z"
   },
   {
    "duration": 8,
    "start_time": "2022-06-04T10:43:34.818Z"
   },
   {
    "duration": 13,
    "start_time": "2022-06-04T10:44:22.994Z"
   },
   {
    "duration": 29,
    "start_time": "2022-06-04T10:44:46.792Z"
   },
   {
    "duration": 29,
    "start_time": "2022-06-04T10:44:57.496Z"
   },
   {
    "duration": 58,
    "start_time": "2022-06-04T10:45:40.606Z"
   },
   {
    "duration": 26,
    "start_time": "2022-06-04T10:46:01.280Z"
   },
   {
    "duration": 618,
    "start_time": "2022-06-04T11:57:54.392Z"
   },
   {
    "duration": 74,
    "start_time": "2022-06-04T11:57:55.013Z"
   },
   {
    "duration": 15,
    "start_time": "2022-06-04T11:57:55.089Z"
   },
   {
    "duration": 16,
    "start_time": "2022-06-04T11:57:55.106Z"
   },
   {
    "duration": 11,
    "start_time": "2022-06-04T11:57:55.124Z"
   },
   {
    "duration": 22,
    "start_time": "2022-06-04T11:57:55.137Z"
   },
   {
    "duration": 13,
    "start_time": "2022-06-04T11:57:55.161Z"
   },
   {
    "duration": 39,
    "start_time": "2022-06-04T11:57:55.177Z"
   },
   {
    "duration": 22,
    "start_time": "2022-06-04T11:57:55.219Z"
   },
   {
    "duration": 30,
    "start_time": "2022-06-04T11:57:55.243Z"
   },
   {
    "duration": 14,
    "start_time": "2022-06-04T11:57:55.275Z"
   },
   {
    "duration": 16,
    "start_time": "2022-06-04T11:57:55.292Z"
   },
   {
    "duration": 110,
    "start_time": "2022-06-04T11:57:55.310Z"
   },
   {
    "duration": 27,
    "start_time": "2022-06-04T11:57:55.423Z"
   },
   {
    "duration": 9,
    "start_time": "2022-06-04T11:57:55.452Z"
   },
   {
    "duration": 5,
    "start_time": "2022-06-04T11:57:55.462Z"
   },
   {
    "duration": 12,
    "start_time": "2022-06-04T11:57:55.469Z"
   },
   {
    "duration": 36,
    "start_time": "2022-06-04T11:57:55.482Z"
   },
   {
    "duration": 15,
    "start_time": "2022-06-04T11:57:55.519Z"
   },
   {
    "duration": 16,
    "start_time": "2022-06-04T11:57:55.536Z"
   },
   {
    "duration": 12,
    "start_time": "2022-06-04T11:57:55.554Z"
   },
   {
    "duration": 172,
    "start_time": "2022-06-04T11:58:34.203Z"
   },
   {
    "duration": 51,
    "start_time": "2022-06-04T11:58:53.142Z"
   },
   {
    "duration": 25,
    "start_time": "2022-06-04T11:59:12.087Z"
   },
   {
    "duration": 25,
    "start_time": "2022-06-04T12:04:33.078Z"
   },
   {
    "duration": 9,
    "start_time": "2022-06-04T12:04:56.121Z"
   },
   {
    "duration": 9,
    "start_time": "2022-06-04T12:05:41.542Z"
   },
   {
    "duration": 17,
    "start_time": "2022-06-04T12:10:43.945Z"
   },
   {
    "duration": 51,
    "start_time": "2022-06-04T12:13:56.191Z"
   },
   {
    "duration": 57,
    "start_time": "2022-06-04T12:17:31.050Z"
   },
   {
    "duration": 21,
    "start_time": "2022-06-04T12:17:52.046Z"
   },
   {
    "duration": 94,
    "start_time": "2022-06-04T12:21:11.324Z"
   },
   {
    "duration": 50,
    "start_time": "2022-06-04T12:21:31.508Z"
   },
   {
    "duration": 74,
    "start_time": "2022-06-04T12:22:09.037Z"
   },
   {
    "duration": 57,
    "start_time": "2022-06-04T12:22:37.764Z"
   },
   {
    "duration": 70,
    "start_time": "2022-06-04T12:23:31.423Z"
   },
   {
    "duration": 56,
    "start_time": "2022-06-04T12:24:05.200Z"
   },
   {
    "duration": 91,
    "start_time": "2022-06-04T12:24:33.296Z"
   },
   {
    "duration": 25,
    "start_time": "2022-06-04T12:25:32.461Z"
   },
   {
    "duration": 27,
    "start_time": "2022-06-04T12:27:03.428Z"
   },
   {
    "duration": 26,
    "start_time": "2022-06-04T12:27:15.335Z"
   },
   {
    "duration": 57,
    "start_time": "2022-06-04T12:28:00.331Z"
   },
   {
    "duration": 37,
    "start_time": "2022-06-04T12:28:12.414Z"
   },
   {
    "duration": 31,
    "start_time": "2022-06-04T12:28:40.800Z"
   },
   {
    "duration": 35,
    "start_time": "2022-06-04T12:31:33.240Z"
   },
   {
    "duration": 34,
    "start_time": "2022-06-04T12:31:55.226Z"
   },
   {
    "duration": 40,
    "start_time": "2022-06-04T12:32:36.800Z"
   },
   {
    "duration": 573,
    "start_time": "2022-06-04T12:39:24.259Z"
   },
   {
    "duration": 64,
    "start_time": "2022-06-04T12:39:24.835Z"
   },
   {
    "duration": 13,
    "start_time": "2022-06-04T12:39:24.900Z"
   },
   {
    "duration": 17,
    "start_time": "2022-06-04T12:39:24.915Z"
   },
   {
    "duration": 11,
    "start_time": "2022-06-04T12:39:24.934Z"
   },
   {
    "duration": 15,
    "start_time": "2022-06-04T12:39:24.947Z"
   },
   {
    "duration": 37,
    "start_time": "2022-06-04T12:39:24.963Z"
   },
   {
    "duration": 54,
    "start_time": "2022-06-04T12:39:25.001Z"
   },
   {
    "duration": 13,
    "start_time": "2022-06-04T12:39:25.057Z"
   },
   {
    "duration": 34,
    "start_time": "2022-06-04T12:39:25.073Z"
   },
   {
    "duration": 11,
    "start_time": "2022-06-04T12:39:25.108Z"
   },
   {
    "duration": 28,
    "start_time": "2022-06-04T12:39:25.121Z"
   },
   {
    "duration": 92,
    "start_time": "2022-06-04T12:39:25.151Z"
   },
   {
    "duration": 36,
    "start_time": "2022-06-04T12:39:25.245Z"
   },
   {
    "duration": 14,
    "start_time": "2022-06-04T12:39:25.282Z"
   },
   {
    "duration": 17,
    "start_time": "2022-06-04T12:39:25.298Z"
   },
   {
    "duration": 13,
    "start_time": "2022-06-04T12:39:25.317Z"
   },
   {
    "duration": 373,
    "start_time": "2022-06-04T12:40:05.550Z"
   },
   {
    "duration": 280,
    "start_time": "2022-06-04T12:43:42.824Z"
   },
   {
    "duration": 6,
    "start_time": "2022-06-04T12:44:10.200Z"
   },
   {
    "duration": 157,
    "start_time": "2022-06-04T12:44:15.552Z"
   },
   {
    "duration": 147,
    "start_time": "2022-06-04T12:44:31.244Z"
   },
   {
    "duration": 150,
    "start_time": "2022-06-04T12:44:42.745Z"
   },
   {
    "duration": 142,
    "start_time": "2022-06-04T12:45:39.199Z"
   },
   {
    "duration": 150,
    "start_time": "2022-06-04T12:46:40.406Z"
   },
   {
    "duration": 140,
    "start_time": "2022-06-04T12:46:49.855Z"
   },
   {
    "duration": 149,
    "start_time": "2022-06-04T12:47:06.900Z"
   },
   {
    "duration": 185,
    "start_time": "2022-06-04T12:47:24.532Z"
   },
   {
    "duration": 166,
    "start_time": "2022-06-04T12:48:02.468Z"
   },
   {
    "duration": 171,
    "start_time": "2022-06-04T12:54:15.440Z"
   },
   {
    "duration": 270,
    "start_time": "2022-06-04T12:54:25.922Z"
   },
   {
    "duration": 175,
    "start_time": "2022-06-04T12:54:34.210Z"
   },
   {
    "duration": 176,
    "start_time": "2022-06-04T12:54:40.025Z"
   }
  ],
  "kernelspec": {
   "display_name": "Python 3 (ipykernel)",
   "language": "python",
   "name": "python3"
  },
  "language_info": {
   "codemirror_mode": {
    "name": "ipython",
    "version": 3
   },
   "file_extension": ".py",
   "mimetype": "text/x-python",
   "name": "python",
   "nbconvert_exporter": "python",
   "pygments_lexer": "ipython3",
   "version": "3.9.7"
  },
  "toc": {
   "base_numbering": 1,
   "nav_menu": {},
   "number_sections": true,
   "sideBar": true,
   "skip_h1_title": true,
   "title_cell": "Table of Contents",
   "title_sidebar": "Contents",
   "toc_cell": false,
   "toc_position": {},
   "toc_section_display": true,
   "toc_window_display": false
  }
 },
 "nbformat": 4,
 "nbformat_minor": 2
}
