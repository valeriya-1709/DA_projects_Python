{
 "cells": [
  {
   "cell_type": "markdown",
   "metadata": {},
   "source": [
    "## Описание проекта\n",
    "\n",
    "Вы работаете в интернет-магазине «Стримчик», который продаёт по всему миру компьютерные игры. Из открытых источников доступны исторические данные о продажах игр, оценки пользователей и экспертов, жанры и платформы (например, Xbox или PlayStation). Вам нужно выявить определяющие успешность игры закономерности. Это позволит сделать ставку на потенциально популярный продукт и спланировать рекламные кампании.\n",
    "\n",
    "Перед вами данные до 2016 года. Представим, что сейчас декабрь 2016 г., и вы планируете кампанию на 2017-й. Нужно отработать принцип работы с данными. Неважно, прогнозируете ли вы продажи на 2017 год по данным 2016-го или же 2027-й — по данным 2026 года.\n",
    "\n",
    "В наборе данных попадается аббревиатура ESRB (Entertainment Software Rating Board) — это ассоциация, определяющая возрастной рейтинг компьютерных игр. ESRB оценивает игровой контент и присваивает ему подходящую возрастную категорию, например, «Для взрослых», «Для детей младшего возраста» или «Для подростков»."
   ]
  },
  {
   "cell_type": "markdown",
   "metadata": {},
   "source": [
    "## Откройте файл с данными и изучите общую информацию"
   ]
  },
  {
   "cell_type": "code",
   "execution_count": 1,
   "metadata": {},
   "outputs": [],
   "source": [
    "import warnings\n",
    "warnings.simplefilter(action='ignore', category=FutureWarning)\n",
    "import pandas as pd\n",
    "import numpy as np\n",
    "import matplotlib.pyplot as plt\n",
    "import seaborn as sns\n",
    "from scipy import stats as st\n",
    "pd.options.mode.chained_assignment = None "
   ]
  },
  {
   "cell_type": "code",
   "execution_count": 2,
   "metadata": {},
   "outputs": [
    {
     "data": {
      "text/html": [
       "<div>\n",
       "<style scoped>\n",
       "    .dataframe tbody tr th:only-of-type {\n",
       "        vertical-align: middle;\n",
       "    }\n",
       "\n",
       "    .dataframe tbody tr th {\n",
       "        vertical-align: top;\n",
       "    }\n",
       "\n",
       "    .dataframe thead th {\n",
       "        text-align: right;\n",
       "    }\n",
       "</style>\n",
       "<table border=\"1\" class=\"dataframe\">\n",
       "  <thead>\n",
       "    <tr style=\"text-align: right;\">\n",
       "      <th></th>\n",
       "      <th>Name</th>\n",
       "      <th>Platform</th>\n",
       "      <th>Year_of_Release</th>\n",
       "      <th>Genre</th>\n",
       "      <th>NA_sales</th>\n",
       "      <th>EU_sales</th>\n",
       "      <th>JP_sales</th>\n",
       "      <th>Other_sales</th>\n",
       "      <th>Critic_Score</th>\n",
       "      <th>User_Score</th>\n",
       "      <th>Rating</th>\n",
       "    </tr>\n",
       "  </thead>\n",
       "  <tbody>\n",
       "    <tr>\n",
       "      <th>0</th>\n",
       "      <td>Wii Sports</td>\n",
       "      <td>Wii</td>\n",
       "      <td>2006.0</td>\n",
       "      <td>Sports</td>\n",
       "      <td>41.36</td>\n",
       "      <td>28.96</td>\n",
       "      <td>3.77</td>\n",
       "      <td>8.45</td>\n",
       "      <td>76.0</td>\n",
       "      <td>8</td>\n",
       "      <td>E</td>\n",
       "    </tr>\n",
       "    <tr>\n",
       "      <th>1</th>\n",
       "      <td>Super Mario Bros.</td>\n",
       "      <td>NES</td>\n",
       "      <td>1985.0</td>\n",
       "      <td>Platform</td>\n",
       "      <td>29.08</td>\n",
       "      <td>3.58</td>\n",
       "      <td>6.81</td>\n",
       "      <td>0.77</td>\n",
       "      <td>NaN</td>\n",
       "      <td>NaN</td>\n",
       "      <td>NaN</td>\n",
       "    </tr>\n",
       "    <tr>\n",
       "      <th>2</th>\n",
       "      <td>Mario Kart Wii</td>\n",
       "      <td>Wii</td>\n",
       "      <td>2008.0</td>\n",
       "      <td>Racing</td>\n",
       "      <td>15.68</td>\n",
       "      <td>12.76</td>\n",
       "      <td>3.79</td>\n",
       "      <td>3.29</td>\n",
       "      <td>82.0</td>\n",
       "      <td>8.3</td>\n",
       "      <td>E</td>\n",
       "    </tr>\n",
       "    <tr>\n",
       "      <th>3</th>\n",
       "      <td>Wii Sports Resort</td>\n",
       "      <td>Wii</td>\n",
       "      <td>2009.0</td>\n",
       "      <td>Sports</td>\n",
       "      <td>15.61</td>\n",
       "      <td>10.93</td>\n",
       "      <td>3.28</td>\n",
       "      <td>2.95</td>\n",
       "      <td>80.0</td>\n",
       "      <td>8</td>\n",
       "      <td>E</td>\n",
       "    </tr>\n",
       "    <tr>\n",
       "      <th>4</th>\n",
       "      <td>Pokemon Red/Pokemon Blue</td>\n",
       "      <td>GB</td>\n",
       "      <td>1996.0</td>\n",
       "      <td>Role-Playing</td>\n",
       "      <td>11.27</td>\n",
       "      <td>8.89</td>\n",
       "      <td>10.22</td>\n",
       "      <td>1.00</td>\n",
       "      <td>NaN</td>\n",
       "      <td>NaN</td>\n",
       "      <td>NaN</td>\n",
       "    </tr>\n",
       "    <tr>\n",
       "      <th>5</th>\n",
       "      <td>Tetris</td>\n",
       "      <td>GB</td>\n",
       "      <td>1989.0</td>\n",
       "      <td>Puzzle</td>\n",
       "      <td>23.20</td>\n",
       "      <td>2.26</td>\n",
       "      <td>4.22</td>\n",
       "      <td>0.58</td>\n",
       "      <td>NaN</td>\n",
       "      <td>NaN</td>\n",
       "      <td>NaN</td>\n",
       "    </tr>\n",
       "    <tr>\n",
       "      <th>6</th>\n",
       "      <td>New Super Mario Bros.</td>\n",
       "      <td>DS</td>\n",
       "      <td>2006.0</td>\n",
       "      <td>Platform</td>\n",
       "      <td>11.28</td>\n",
       "      <td>9.14</td>\n",
       "      <td>6.50</td>\n",
       "      <td>2.88</td>\n",
       "      <td>89.0</td>\n",
       "      <td>8.5</td>\n",
       "      <td>E</td>\n",
       "    </tr>\n",
       "    <tr>\n",
       "      <th>7</th>\n",
       "      <td>Wii Play</td>\n",
       "      <td>Wii</td>\n",
       "      <td>2006.0</td>\n",
       "      <td>Misc</td>\n",
       "      <td>13.96</td>\n",
       "      <td>9.18</td>\n",
       "      <td>2.93</td>\n",
       "      <td>2.84</td>\n",
       "      <td>58.0</td>\n",
       "      <td>6.6</td>\n",
       "      <td>E</td>\n",
       "    </tr>\n",
       "    <tr>\n",
       "      <th>8</th>\n",
       "      <td>New Super Mario Bros. Wii</td>\n",
       "      <td>Wii</td>\n",
       "      <td>2009.0</td>\n",
       "      <td>Platform</td>\n",
       "      <td>14.44</td>\n",
       "      <td>6.94</td>\n",
       "      <td>4.70</td>\n",
       "      <td>2.24</td>\n",
       "      <td>87.0</td>\n",
       "      <td>8.4</td>\n",
       "      <td>E</td>\n",
       "    </tr>\n",
       "    <tr>\n",
       "      <th>9</th>\n",
       "      <td>Duck Hunt</td>\n",
       "      <td>NES</td>\n",
       "      <td>1984.0</td>\n",
       "      <td>Shooter</td>\n",
       "      <td>26.93</td>\n",
       "      <td>0.63</td>\n",
       "      <td>0.28</td>\n",
       "      <td>0.47</td>\n",
       "      <td>NaN</td>\n",
       "      <td>NaN</td>\n",
       "      <td>NaN</td>\n",
       "    </tr>\n",
       "  </tbody>\n",
       "</table>\n",
       "</div>"
      ],
      "text/plain": [
       "                        Name Platform  Year_of_Release         Genre  \\\n",
       "0                 Wii Sports      Wii           2006.0        Sports   \n",
       "1          Super Mario Bros.      NES           1985.0      Platform   \n",
       "2             Mario Kart Wii      Wii           2008.0        Racing   \n",
       "3          Wii Sports Resort      Wii           2009.0        Sports   \n",
       "4   Pokemon Red/Pokemon Blue       GB           1996.0  Role-Playing   \n",
       "5                     Tetris       GB           1989.0        Puzzle   \n",
       "6      New Super Mario Bros.       DS           2006.0      Platform   \n",
       "7                   Wii Play      Wii           2006.0          Misc   \n",
       "8  New Super Mario Bros. Wii      Wii           2009.0      Platform   \n",
       "9                  Duck Hunt      NES           1984.0       Shooter   \n",
       "\n",
       "   NA_sales  EU_sales  JP_sales  Other_sales  Critic_Score User_Score Rating  \n",
       "0     41.36     28.96      3.77         8.45          76.0          8      E  \n",
       "1     29.08      3.58      6.81         0.77           NaN        NaN    NaN  \n",
       "2     15.68     12.76      3.79         3.29          82.0        8.3      E  \n",
       "3     15.61     10.93      3.28         2.95          80.0          8      E  \n",
       "4     11.27      8.89     10.22         1.00           NaN        NaN    NaN  \n",
       "5     23.20      2.26      4.22         0.58           NaN        NaN    NaN  \n",
       "6     11.28      9.14      6.50         2.88          89.0        8.5      E  \n",
       "7     13.96      9.18      2.93         2.84          58.0        6.6      E  \n",
       "8     14.44      6.94      4.70         2.24          87.0        8.4      E  \n",
       "9     26.93      0.63      0.28         0.47           NaN        NaN    NaN  "
      ]
     },
     "execution_count": 2,
     "metadata": {},
     "output_type": "execute_result"
    }
   ],
   "source": [
    "data = pd.read_csv('/datasets/games.csv')\n",
    "data.head(10)"
   ]
  },
  {
   "cell_type": "code",
   "execution_count": 3,
   "metadata": {},
   "outputs": [
    {
     "name": "stdout",
     "output_type": "stream",
     "text": [
      "<class 'pandas.core.frame.DataFrame'>\n",
      "RangeIndex: 16715 entries, 0 to 16714\n",
      "Data columns (total 11 columns):\n",
      " #   Column           Non-Null Count  Dtype  \n",
      "---  ------           --------------  -----  \n",
      " 0   Name             16713 non-null  object \n",
      " 1   Platform         16715 non-null  object \n",
      " 2   Year_of_Release  16446 non-null  float64\n",
      " 3   Genre            16713 non-null  object \n",
      " 4   NA_sales         16715 non-null  float64\n",
      " 5   EU_sales         16715 non-null  float64\n",
      " 6   JP_sales         16715 non-null  float64\n",
      " 7   Other_sales      16715 non-null  float64\n",
      " 8   Critic_Score     8137 non-null   float64\n",
      " 9   User_Score       10014 non-null  object \n",
      " 10  Rating           9949 non-null   object \n",
      "dtypes: float64(6), object(5)\n",
      "memory usage: 1.4+ MB\n"
     ]
    }
   ],
   "source": [
    "data.info()"
   ]
  },
  {
   "cell_type": "code",
   "execution_count": 4,
   "metadata": {},
   "outputs": [
    {
     "data": {
      "text/plain": [
       "Platform             2600\n",
       "Year_of_Release    1980.0\n",
       "NA_sales              0.0\n",
       "EU_sales              0.0\n",
       "JP_sales              0.0\n",
       "Other_sales           0.0\n",
       "Critic_Score         13.0\n",
       "dtype: object"
      ]
     },
     "execution_count": 4,
     "metadata": {},
     "output_type": "execute_result"
    }
   ],
   "source": [
    "data.min()"
   ]
  },
  {
   "cell_type": "code",
   "execution_count": 5,
   "metadata": {},
   "outputs": [
    {
     "data": {
      "text/plain": [
       "Platform             XOne\n",
       "Year_of_Release    2016.0\n",
       "NA_sales            41.36\n",
       "EU_sales            28.96\n",
       "JP_sales            10.22\n",
       "Other_sales         10.57\n",
       "Critic_Score         98.0\n",
       "dtype: object"
      ]
     },
     "execution_count": 5,
     "metadata": {},
     "output_type": "execute_result"
    }
   ],
   "source": [
    "data.max()"
   ]
  },
  {
   "cell_type": "markdown",
   "metadata": {},
   "source": [
    "### Вывод\n",
    "\n",
    "Таблицу изучила, есть пропущенные значения, есть столбцы, где нужно менять тип данных.\n",
    "Посмотрела в общем минимум и максимум в столбцах, на первый взгляд нет ошибочных значений, оценки соответствуют указанным критериям."
   ]
  },
  {
   "cell_type": "markdown",
   "metadata": {},
   "source": [
    "## Подготовьте данные"
   ]
  },
  {
   "cell_type": "markdown",
   "metadata": {},
   "source": [
    "### Замените названия столбцов (приведите к нижнему регистру)"
   ]
  },
  {
   "cell_type": "code",
   "execution_count": 6,
   "metadata": {},
   "outputs": [
    {
     "data": {
      "text/plain": [
       "Index(['name', 'platform', 'year_of_release', 'genre', 'na_sales', 'eu_sales',\n",
       "       'jp_sales', 'other_sales', 'critic_score', 'user_score', 'rating'],\n",
       "      dtype='object')"
      ]
     },
     "metadata": {},
     "output_type": "display_data"
    }
   ],
   "source": [
    "data.columns = map(str.lower, data.columns)\n",
    "display(data.columns)"
   ]
  },
  {
   "cell_type": "markdown",
   "metadata": {},
   "source": [
    "### Преобразуйте данные в нужные типы. Опишите, в каких столбцах заменили тип данных и почему"
   ]
  },
  {
   "cell_type": "code",
   "execution_count": 7,
   "metadata": {},
   "outputs": [],
   "source": [
    "# год переведу в целочисленный тип на следующем этапе для моего удобства\n",
    "\n",
    "# чтобы перевести user_score в float64 сначала уберу значение tbd, заменю на nan, так как на 0 менять не логично\n",
    "\n",
    "data.loc[data['user_score'] == 'tbd', 'user_score'] = np.nan\n",
    "data['user_score'] = data['user_score'].astype('float64')"
   ]
  },
  {
   "cell_type": "code",
   "execution_count": 8,
   "metadata": {},
   "outputs": [
    {
     "name": "stdout",
     "output_type": "stream",
     "text": [
      "<class 'pandas.core.frame.DataFrame'>\n",
      "RangeIndex: 16715 entries, 0 to 16714\n",
      "Data columns (total 11 columns):\n",
      " #   Column           Non-Null Count  Dtype  \n",
      "---  ------           --------------  -----  \n",
      " 0   name             16713 non-null  object \n",
      " 1   platform         16715 non-null  object \n",
      " 2   year_of_release  16446 non-null  float64\n",
      " 3   genre            16713 non-null  object \n",
      " 4   na_sales         16715 non-null  float64\n",
      " 5   eu_sales         16715 non-null  float64\n",
      " 6   jp_sales         16715 non-null  float64\n",
      " 7   other_sales      16715 non-null  float64\n",
      " 8   critic_score     8137 non-null   float64\n",
      " 9   user_score       7590 non-null   float64\n",
      " 10  rating           9949 non-null   object \n",
      "dtypes: float64(7), object(4)\n",
      "memory usage: 1.4+ MB\n"
     ]
    }
   ],
   "source": [
    "# проверим, как изменились типы данных\n",
    "\n",
    "data.info()"
   ]
  },
  {
   "cell_type": "markdown",
   "metadata": {},
   "source": [
    "### Обработайте пропуски при необходимости:\n",
    "- Объясните, почему заполнили пропуски определённым образом или почему не стали это делать;\n",
    "- Опишите причины, которые могли привести к пропускам;\n",
    "- Обратите внимание на аббревиатуру 'tbd' в столбцах с рейтингом. Отдельно разберите это значение и опишите, как его обработать"
   ]
  },
  {
   "cell_type": "code",
   "execution_count": 9,
   "metadata": {
    "scrolled": true
   },
   "outputs": [
    {
     "data": {
      "text/plain": [
       "name                  2\n",
       "platform              0\n",
       "year_of_release     269\n",
       "genre                 2\n",
       "na_sales              0\n",
       "eu_sales              0\n",
       "jp_sales              0\n",
       "other_sales           0\n",
       "critic_score       8578\n",
       "user_score         9125\n",
       "rating             6766\n",
       "dtype: int64"
      ]
     },
     "execution_count": 9,
     "metadata": {},
     "output_type": "execute_result"
    }
   ],
   "source": [
    "# посмотрим, в каких столбцах есть пропуски\n",
    "\n",
    "data.isna().sum()"
   ]
  },
  {
   "cell_type": "markdown",
   "metadata": {},
   "source": [
    "1. В столбце name удалю 2 строки с отсутствующими названиями, так как в рамках выборки это 0,01%, то есть на результаты анализа не повлияют, а анализировать данные без названия игры нецелесообразно\n",
    "2. столбец year_of_release попробую заменить пропуски по названию платформы\n",
    "3. critic_score, user_score, rating - пропуски заменять не буду, так как замена на 0 потом скажется на результатах, а нам это не нужно. тем более, что тут так много пропусков."
   ]
  },
  {
   "cell_type": "code",
   "execution_count": 10,
   "metadata": {},
   "outputs": [],
   "source": [
    "# удаляю 2 строки с пустым значением названия игры\n",
    "\n",
    "data = data.dropna(subset =['name'])"
   ]
  },
  {
   "cell_type": "code",
   "execution_count": 11,
   "metadata": {
    "scrolled": true
   },
   "outputs": [
    {
     "data": {
      "text/html": [
       "<div>\n",
       "<style scoped>\n",
       "    .dataframe tbody tr th:only-of-type {\n",
       "        vertical-align: middle;\n",
       "    }\n",
       "\n",
       "    .dataframe tbody tr th {\n",
       "        vertical-align: top;\n",
       "    }\n",
       "\n",
       "    .dataframe thead tr th {\n",
       "        text-align: left;\n",
       "    }\n",
       "</style>\n",
       "<table border=\"1\" class=\"dataframe\">\n",
       "  <thead>\n",
       "    <tr>\n",
       "      <th></th>\n",
       "      <th>platform</th>\n",
       "      <th>min</th>\n",
       "      <th>max</th>\n",
       "    </tr>\n",
       "    <tr>\n",
       "      <th></th>\n",
       "      <th></th>\n",
       "      <th>year_of_release</th>\n",
       "      <th>year_of_release</th>\n",
       "    </tr>\n",
       "  </thead>\n",
       "  <tbody>\n",
       "    <tr>\n",
       "      <th>0</th>\n",
       "      <td>2600</td>\n",
       "      <td>1980.0</td>\n",
       "      <td>1989.0</td>\n",
       "    </tr>\n",
       "    <tr>\n",
       "      <th>1</th>\n",
       "      <td>3DO</td>\n",
       "      <td>1994.0</td>\n",
       "      <td>1995.0</td>\n",
       "    </tr>\n",
       "    <tr>\n",
       "      <th>2</th>\n",
       "      <td>3DS</td>\n",
       "      <td>2011.0</td>\n",
       "      <td>2016.0</td>\n",
       "    </tr>\n",
       "    <tr>\n",
       "      <th>3</th>\n",
       "      <td>DC</td>\n",
       "      <td>1998.0</td>\n",
       "      <td>2008.0</td>\n",
       "    </tr>\n",
       "    <tr>\n",
       "      <th>4</th>\n",
       "      <td>DS</td>\n",
       "      <td>1985.0</td>\n",
       "      <td>2013.0</td>\n",
       "    </tr>\n",
       "    <tr>\n",
       "      <th>5</th>\n",
       "      <td>GB</td>\n",
       "      <td>1988.0</td>\n",
       "      <td>2001.0</td>\n",
       "    </tr>\n",
       "    <tr>\n",
       "      <th>6</th>\n",
       "      <td>GBA</td>\n",
       "      <td>2000.0</td>\n",
       "      <td>2007.0</td>\n",
       "    </tr>\n",
       "    <tr>\n",
       "      <th>7</th>\n",
       "      <td>GC</td>\n",
       "      <td>2001.0</td>\n",
       "      <td>2007.0</td>\n",
       "    </tr>\n",
       "    <tr>\n",
       "      <th>8</th>\n",
       "      <td>GEN</td>\n",
       "      <td>1990.0</td>\n",
       "      <td>1994.0</td>\n",
       "    </tr>\n",
       "    <tr>\n",
       "      <th>9</th>\n",
       "      <td>GG</td>\n",
       "      <td>1992.0</td>\n",
       "      <td>1992.0</td>\n",
       "    </tr>\n",
       "    <tr>\n",
       "      <th>10</th>\n",
       "      <td>N64</td>\n",
       "      <td>1996.0</td>\n",
       "      <td>2002.0</td>\n",
       "    </tr>\n",
       "    <tr>\n",
       "      <th>11</th>\n",
       "      <td>NES</td>\n",
       "      <td>1983.0</td>\n",
       "      <td>1994.0</td>\n",
       "    </tr>\n",
       "    <tr>\n",
       "      <th>12</th>\n",
       "      <td>NG</td>\n",
       "      <td>1993.0</td>\n",
       "      <td>1996.0</td>\n",
       "    </tr>\n",
       "    <tr>\n",
       "      <th>13</th>\n",
       "      <td>PC</td>\n",
       "      <td>1985.0</td>\n",
       "      <td>2016.0</td>\n",
       "    </tr>\n",
       "    <tr>\n",
       "      <th>14</th>\n",
       "      <td>PCFX</td>\n",
       "      <td>1996.0</td>\n",
       "      <td>1996.0</td>\n",
       "    </tr>\n",
       "    <tr>\n",
       "      <th>15</th>\n",
       "      <td>PS</td>\n",
       "      <td>1994.0</td>\n",
       "      <td>2003.0</td>\n",
       "    </tr>\n",
       "    <tr>\n",
       "      <th>16</th>\n",
       "      <td>PS2</td>\n",
       "      <td>2000.0</td>\n",
       "      <td>2011.0</td>\n",
       "    </tr>\n",
       "    <tr>\n",
       "      <th>17</th>\n",
       "      <td>PS3</td>\n",
       "      <td>2006.0</td>\n",
       "      <td>2016.0</td>\n",
       "    </tr>\n",
       "    <tr>\n",
       "      <th>18</th>\n",
       "      <td>PS4</td>\n",
       "      <td>2013.0</td>\n",
       "      <td>2016.0</td>\n",
       "    </tr>\n",
       "    <tr>\n",
       "      <th>19</th>\n",
       "      <td>PSP</td>\n",
       "      <td>2004.0</td>\n",
       "      <td>2015.0</td>\n",
       "    </tr>\n",
       "    <tr>\n",
       "      <th>20</th>\n",
       "      <td>PSV</td>\n",
       "      <td>2011.0</td>\n",
       "      <td>2016.0</td>\n",
       "    </tr>\n",
       "    <tr>\n",
       "      <th>21</th>\n",
       "      <td>SAT</td>\n",
       "      <td>1994.0</td>\n",
       "      <td>1999.0</td>\n",
       "    </tr>\n",
       "    <tr>\n",
       "      <th>22</th>\n",
       "      <td>SCD</td>\n",
       "      <td>1993.0</td>\n",
       "      <td>1994.0</td>\n",
       "    </tr>\n",
       "    <tr>\n",
       "      <th>23</th>\n",
       "      <td>SNES</td>\n",
       "      <td>1990.0</td>\n",
       "      <td>1999.0</td>\n",
       "    </tr>\n",
       "    <tr>\n",
       "      <th>24</th>\n",
       "      <td>TG16</td>\n",
       "      <td>1995.0</td>\n",
       "      <td>1995.0</td>\n",
       "    </tr>\n",
       "    <tr>\n",
       "      <th>25</th>\n",
       "      <td>WS</td>\n",
       "      <td>1999.0</td>\n",
       "      <td>2001.0</td>\n",
       "    </tr>\n",
       "    <tr>\n",
       "      <th>26</th>\n",
       "      <td>Wii</td>\n",
       "      <td>2006.0</td>\n",
       "      <td>2016.0</td>\n",
       "    </tr>\n",
       "    <tr>\n",
       "      <th>27</th>\n",
       "      <td>WiiU</td>\n",
       "      <td>2012.0</td>\n",
       "      <td>2016.0</td>\n",
       "    </tr>\n",
       "    <tr>\n",
       "      <th>28</th>\n",
       "      <td>X360</td>\n",
       "      <td>2005.0</td>\n",
       "      <td>2016.0</td>\n",
       "    </tr>\n",
       "    <tr>\n",
       "      <th>29</th>\n",
       "      <td>XB</td>\n",
       "      <td>2000.0</td>\n",
       "      <td>2008.0</td>\n",
       "    </tr>\n",
       "    <tr>\n",
       "      <th>30</th>\n",
       "      <td>XOne</td>\n",
       "      <td>2013.0</td>\n",
       "      <td>2016.0</td>\n",
       "    </tr>\n",
       "  </tbody>\n",
       "</table>\n",
       "</div>"
      ],
      "text/plain": [
       "   platform             min             max\n",
       "            year_of_release year_of_release\n",
       "0      2600          1980.0          1989.0\n",
       "1       3DO          1994.0          1995.0\n",
       "2       3DS          2011.0          2016.0\n",
       "3        DC          1998.0          2008.0\n",
       "4        DS          1985.0          2013.0\n",
       "5        GB          1988.0          2001.0\n",
       "6       GBA          2000.0          2007.0\n",
       "7        GC          2001.0          2007.0\n",
       "8       GEN          1990.0          1994.0\n",
       "9        GG          1992.0          1992.0\n",
       "10      N64          1996.0          2002.0\n",
       "11      NES          1983.0          1994.0\n",
       "12       NG          1993.0          1996.0\n",
       "13       PC          1985.0          2016.0\n",
       "14     PCFX          1996.0          1996.0\n",
       "15       PS          1994.0          2003.0\n",
       "16      PS2          2000.0          2011.0\n",
       "17      PS3          2006.0          2016.0\n",
       "18      PS4          2013.0          2016.0\n",
       "19      PSP          2004.0          2015.0\n",
       "20      PSV          2011.0          2016.0\n",
       "21      SAT          1994.0          1999.0\n",
       "22      SCD          1993.0          1994.0\n",
       "23     SNES          1990.0          1999.0\n",
       "24     TG16          1995.0          1995.0\n",
       "25       WS          1999.0          2001.0\n",
       "26      Wii          2006.0          2016.0\n",
       "27     WiiU          2012.0          2016.0\n",
       "28     X360          2005.0          2016.0\n",
       "29       XB          2000.0          2008.0\n",
       "30     XOne          2013.0          2016.0"
      ]
     },
     "metadata": {},
     "output_type": "display_data"
    }
   ],
   "source": [
    "# Посмотрим, есть ли зависимость года выпуска от платформы\n",
    "# Хочу это сделать для того, чтобы понять, можно ли заменить пропуски в столбце year_of_release на медианное значение, \n",
    "# рассчитанное по типу платформы\n",
    "\n",
    "data_platform = data.pivot_table(index= 'platform', values= 'year_of_release', aggfunc= ['min', 'max']).reset_index()\n",
    "display(data_platform)"
   ]
  },
  {
   "cell_type": "markdown",
   "metadata": {},
   "source": [
    "Думаю, что вполне можно опираться на такой вариант при заполнении пропусков."
   ]
  },
  {
   "cell_type": "code",
   "execution_count": 12,
   "metadata": {
    "scrolled": true
   },
   "outputs": [
    {
     "name": "stdout",
     "output_type": "stream",
     "text": [
      "Год выпуска. Пропуски до: 269\n",
      "Год выпуска. Пропуски после: 0\n"
     ]
    }
   ],
   "source": [
    "print('Год выпуска. Пропуски до:', data['year_of_release'].isna().sum())\n",
    "\n",
    "for platform_name in data['platform'].unique():\n",
    "    median_year = data.loc[data['platform'] == platform_name, 'year_of_release'].median()  \n",
    "    data.loc[(data['year_of_release'].isna()) & (data['platform'] == platform_name), 'year_of_release'] = median_year\n",
    "\n",
    "\n",
    "\n",
    "data['year_of_release'] = data['year_of_release'].fillna(data['year_of_release'].median())    \n",
    "    \n",
    "print('Год выпуска. Пропуски после:', data['year_of_release'].isna().sum())"
   ]
  },
  {
   "cell_type": "code",
   "execution_count": 13,
   "metadata": {},
   "outputs": [],
   "source": [
    "# год передевем в целочисленный тип\n",
    "\n",
    "data['year_of_release'] = data['year_of_release'].astype('Int64')"
   ]
  },
  {
   "cell_type": "markdown",
   "metadata": {},
   "source": [
    "#### Вывод\n",
    "\n",
    "В столбце name удалены 2 строки с отсутствующими названиями, так как в рамках выборки это 0,01%, то есть на результаты анализа не повлияют, а анализировать данные без названия игры нецелесообразно\n",
    "Столбец year_of_release заменены пропуски на медианное значение по платформе\n",
    "critic_score, user_score, rating - пропуски оставлены, так как замена на 0 потом скажется на результатах, а нам это не нужно. тем более, что тут так много пропусков. \n",
    "\n",
    "Причины, которые могли привести к пропускам: в столбцах critic_score, user_score и rating - не проводилась оценка, нет и результата. По столбцам name и year_of_release - думаю, что ошибка из-за человеческого фактора: не внесли значения.\n",
    "\n",
    "Аббревиатура 'tbd' в столбце User_Score заменила на nan в прошлом пункте."
   ]
  },
  {
   "cell_type": "markdown",
   "metadata": {},
   "source": [
    "### Посчитайте суммарные продажи во всех регионах и запишите их в отдельный столбец"
   ]
  },
  {
   "cell_type": "code",
   "execution_count": 14,
   "metadata": {},
   "outputs": [
    {
     "data": {
      "text/html": [
       "<div>\n",
       "<style scoped>\n",
       "    .dataframe tbody tr th:only-of-type {\n",
       "        vertical-align: middle;\n",
       "    }\n",
       "\n",
       "    .dataframe tbody tr th {\n",
       "        vertical-align: top;\n",
       "    }\n",
       "\n",
       "    .dataframe thead th {\n",
       "        text-align: right;\n",
       "    }\n",
       "</style>\n",
       "<table border=\"1\" class=\"dataframe\">\n",
       "  <thead>\n",
       "    <tr style=\"text-align: right;\">\n",
       "      <th></th>\n",
       "      <th>name</th>\n",
       "      <th>platform</th>\n",
       "      <th>year_of_release</th>\n",
       "      <th>genre</th>\n",
       "      <th>na_sales</th>\n",
       "      <th>eu_sales</th>\n",
       "      <th>jp_sales</th>\n",
       "      <th>other_sales</th>\n",
       "      <th>critic_score</th>\n",
       "      <th>user_score</th>\n",
       "      <th>rating</th>\n",
       "      <th>total_sales</th>\n",
       "    </tr>\n",
       "  </thead>\n",
       "  <tbody>\n",
       "    <tr>\n",
       "      <th>0</th>\n",
       "      <td>Wii Sports</td>\n",
       "      <td>Wii</td>\n",
       "      <td>2006</td>\n",
       "      <td>Sports</td>\n",
       "      <td>41.36</td>\n",
       "      <td>28.96</td>\n",
       "      <td>3.77</td>\n",
       "      <td>8.45</td>\n",
       "      <td>76.0</td>\n",
       "      <td>8.0</td>\n",
       "      <td>E</td>\n",
       "      <td>82.54</td>\n",
       "    </tr>\n",
       "    <tr>\n",
       "      <th>1</th>\n",
       "      <td>Super Mario Bros.</td>\n",
       "      <td>NES</td>\n",
       "      <td>1985</td>\n",
       "      <td>Platform</td>\n",
       "      <td>29.08</td>\n",
       "      <td>3.58</td>\n",
       "      <td>6.81</td>\n",
       "      <td>0.77</td>\n",
       "      <td>NaN</td>\n",
       "      <td>NaN</td>\n",
       "      <td>NaN</td>\n",
       "      <td>40.24</td>\n",
       "    </tr>\n",
       "    <tr>\n",
       "      <th>2</th>\n",
       "      <td>Mario Kart Wii</td>\n",
       "      <td>Wii</td>\n",
       "      <td>2008</td>\n",
       "      <td>Racing</td>\n",
       "      <td>15.68</td>\n",
       "      <td>12.76</td>\n",
       "      <td>3.79</td>\n",
       "      <td>3.29</td>\n",
       "      <td>82.0</td>\n",
       "      <td>8.3</td>\n",
       "      <td>E</td>\n",
       "      <td>35.52</td>\n",
       "    </tr>\n",
       "    <tr>\n",
       "      <th>3</th>\n",
       "      <td>Wii Sports Resort</td>\n",
       "      <td>Wii</td>\n",
       "      <td>2009</td>\n",
       "      <td>Sports</td>\n",
       "      <td>15.61</td>\n",
       "      <td>10.93</td>\n",
       "      <td>3.28</td>\n",
       "      <td>2.95</td>\n",
       "      <td>80.0</td>\n",
       "      <td>8.0</td>\n",
       "      <td>E</td>\n",
       "      <td>32.77</td>\n",
       "    </tr>\n",
       "    <tr>\n",
       "      <th>4</th>\n",
       "      <td>Pokemon Red/Pokemon Blue</td>\n",
       "      <td>GB</td>\n",
       "      <td>1996</td>\n",
       "      <td>Role-Playing</td>\n",
       "      <td>11.27</td>\n",
       "      <td>8.89</td>\n",
       "      <td>10.22</td>\n",
       "      <td>1.00</td>\n",
       "      <td>NaN</td>\n",
       "      <td>NaN</td>\n",
       "      <td>NaN</td>\n",
       "      <td>31.38</td>\n",
       "    </tr>\n",
       "  </tbody>\n",
       "</table>\n",
       "</div>"
      ],
      "text/plain": [
       "                       name platform  year_of_release         genre  na_sales  \\\n",
       "0                Wii Sports      Wii             2006        Sports     41.36   \n",
       "1         Super Mario Bros.      NES             1985      Platform     29.08   \n",
       "2            Mario Kart Wii      Wii             2008        Racing     15.68   \n",
       "3         Wii Sports Resort      Wii             2009        Sports     15.61   \n",
       "4  Pokemon Red/Pokemon Blue       GB             1996  Role-Playing     11.27   \n",
       "\n",
       "   eu_sales  jp_sales  other_sales  critic_score  user_score rating  \\\n",
       "0     28.96      3.77         8.45          76.0         8.0      E   \n",
       "1      3.58      6.81         0.77           NaN         NaN    NaN   \n",
       "2     12.76      3.79         3.29          82.0         8.3      E   \n",
       "3     10.93      3.28         2.95          80.0         8.0      E   \n",
       "4      8.89     10.22         1.00           NaN         NaN    NaN   \n",
       "\n",
       "   total_sales  \n",
       "0        82.54  \n",
       "1        40.24  \n",
       "2        35.52  \n",
       "3        32.77  \n",
       "4        31.38  "
      ]
     },
     "execution_count": 14,
     "metadata": {},
     "output_type": "execute_result"
    }
   ],
   "source": [
    "data['total_sales'] = data['na_sales'] + data['eu_sales'] + data['jp_sales'] + data['other_sales']\n",
    "data.head()"
   ]
  },
  {
   "cell_type": "markdown",
   "metadata": {},
   "source": [
    "## Проведите исследовательский анализ данных"
   ]
  },
  {
   "cell_type": "markdown",
   "metadata": {},
   "source": [
    "### Посмотрите, сколько игр выпускалось в разные годы."
   ]
  },
  {
   "cell_type": "code",
   "execution_count": 15,
   "metadata": {
    "scrolled": true
   },
   "outputs": [
    {
     "data": {
      "text/html": [
       "<div>\n",
       "<style scoped>\n",
       "    .dataframe tbody tr th:only-of-type {\n",
       "        vertical-align: middle;\n",
       "    }\n",
       "\n",
       "    .dataframe tbody tr th {\n",
       "        vertical-align: top;\n",
       "    }\n",
       "\n",
       "    .dataframe thead th {\n",
       "        text-align: right;\n",
       "    }\n",
       "</style>\n",
       "<table border=\"1\" class=\"dataframe\">\n",
       "  <thead>\n",
       "    <tr style=\"text-align: right;\">\n",
       "      <th></th>\n",
       "      <th>year_of_release</th>\n",
       "      <th>name</th>\n",
       "    </tr>\n",
       "  </thead>\n",
       "  <tbody>\n",
       "    <tr>\n",
       "      <th>0</th>\n",
       "      <td>1980</td>\n",
       "      <td>9</td>\n",
       "    </tr>\n",
       "    <tr>\n",
       "      <th>1</th>\n",
       "      <td>1981</td>\n",
       "      <td>46</td>\n",
       "    </tr>\n",
       "    <tr>\n",
       "      <th>2</th>\n",
       "      <td>1982</td>\n",
       "      <td>53</td>\n",
       "    </tr>\n",
       "    <tr>\n",
       "      <th>3</th>\n",
       "      <td>1983</td>\n",
       "      <td>17</td>\n",
       "    </tr>\n",
       "    <tr>\n",
       "      <th>4</th>\n",
       "      <td>1984</td>\n",
       "      <td>14</td>\n",
       "    </tr>\n",
       "    <tr>\n",
       "      <th>5</th>\n",
       "      <td>1985</td>\n",
       "      <td>14</td>\n",
       "    </tr>\n",
       "    <tr>\n",
       "      <th>6</th>\n",
       "      <td>1986</td>\n",
       "      <td>21</td>\n",
       "    </tr>\n",
       "    <tr>\n",
       "      <th>7</th>\n",
       "      <td>1987</td>\n",
       "      <td>16</td>\n",
       "    </tr>\n",
       "    <tr>\n",
       "      <th>8</th>\n",
       "      <td>1988</td>\n",
       "      <td>15</td>\n",
       "    </tr>\n",
       "    <tr>\n",
       "      <th>9</th>\n",
       "      <td>1989</td>\n",
       "      <td>17</td>\n",
       "    </tr>\n",
       "    <tr>\n",
       "      <th>10</th>\n",
       "      <td>1990</td>\n",
       "      <td>16</td>\n",
       "    </tr>\n",
       "    <tr>\n",
       "      <th>11</th>\n",
       "      <td>1991</td>\n",
       "      <td>41</td>\n",
       "    </tr>\n",
       "    <tr>\n",
       "      <th>12</th>\n",
       "      <td>1992</td>\n",
       "      <td>43</td>\n",
       "    </tr>\n",
       "    <tr>\n",
       "      <th>13</th>\n",
       "      <td>1993</td>\n",
       "      <td>60</td>\n",
       "    </tr>\n",
       "    <tr>\n",
       "      <th>14</th>\n",
       "      <td>1994</td>\n",
       "      <td>121</td>\n",
       "    </tr>\n",
       "    <tr>\n",
       "      <th>15</th>\n",
       "      <td>1995</td>\n",
       "      <td>219</td>\n",
       "    </tr>\n",
       "    <tr>\n",
       "      <th>16</th>\n",
       "      <td>1996</td>\n",
       "      <td>263</td>\n",
       "    </tr>\n",
       "    <tr>\n",
       "      <th>17</th>\n",
       "      <td>1997</td>\n",
       "      <td>290</td>\n",
       "    </tr>\n",
       "    <tr>\n",
       "      <th>18</th>\n",
       "      <td>1998</td>\n",
       "      <td>386</td>\n",
       "    </tr>\n",
       "    <tr>\n",
       "      <th>19</th>\n",
       "      <td>1999</td>\n",
       "      <td>341</td>\n",
       "    </tr>\n",
       "    <tr>\n",
       "      <th>20</th>\n",
       "      <td>2000</td>\n",
       "      <td>350</td>\n",
       "    </tr>\n",
       "    <tr>\n",
       "      <th>21</th>\n",
       "      <td>2001</td>\n",
       "      <td>482</td>\n",
       "    </tr>\n",
       "    <tr>\n",
       "      <th>22</th>\n",
       "      <td>2002</td>\n",
       "      <td>829</td>\n",
       "    </tr>\n",
       "    <tr>\n",
       "      <th>23</th>\n",
       "      <td>2003</td>\n",
       "      <td>800</td>\n",
       "    </tr>\n",
       "    <tr>\n",
       "      <th>24</th>\n",
       "      <td>2004</td>\n",
       "      <td>783</td>\n",
       "    </tr>\n",
       "    <tr>\n",
       "      <th>25</th>\n",
       "      <td>2005</td>\n",
       "      <td>973</td>\n",
       "    </tr>\n",
       "    <tr>\n",
       "      <th>26</th>\n",
       "      <td>2006</td>\n",
       "      <td>1006</td>\n",
       "    </tr>\n",
       "    <tr>\n",
       "      <th>27</th>\n",
       "      <td>2007</td>\n",
       "      <td>1197</td>\n",
       "    </tr>\n",
       "    <tr>\n",
       "      <th>28</th>\n",
       "      <td>2008</td>\n",
       "      <td>1457</td>\n",
       "    </tr>\n",
       "    <tr>\n",
       "      <th>29</th>\n",
       "      <td>2009</td>\n",
       "      <td>1476</td>\n",
       "    </tr>\n",
       "    <tr>\n",
       "      <th>30</th>\n",
       "      <td>2010</td>\n",
       "      <td>1302</td>\n",
       "    </tr>\n",
       "    <tr>\n",
       "      <th>31</th>\n",
       "      <td>2011</td>\n",
       "      <td>1161</td>\n",
       "    </tr>\n",
       "    <tr>\n",
       "      <th>32</th>\n",
       "      <td>2012</td>\n",
       "      <td>653</td>\n",
       "    </tr>\n",
       "    <tr>\n",
       "      <th>33</th>\n",
       "      <td>2013</td>\n",
       "      <td>552</td>\n",
       "    </tr>\n",
       "    <tr>\n",
       "      <th>34</th>\n",
       "      <td>2014</td>\n",
       "      <td>582</td>\n",
       "    </tr>\n",
       "    <tr>\n",
       "      <th>35</th>\n",
       "      <td>2015</td>\n",
       "      <td>606</td>\n",
       "    </tr>\n",
       "    <tr>\n",
       "      <th>36</th>\n",
       "      <td>2016</td>\n",
       "      <td>502</td>\n",
       "    </tr>\n",
       "  </tbody>\n",
       "</table>\n",
       "</div>"
      ],
      "text/plain": [
       "    year_of_release  name\n",
       "0              1980     9\n",
       "1              1981    46\n",
       "2              1982    53\n",
       "3              1983    17\n",
       "4              1984    14\n",
       "5              1985    14\n",
       "6              1986    21\n",
       "7              1987    16\n",
       "8              1988    15\n",
       "9              1989    17\n",
       "10             1990    16\n",
       "11             1991    41\n",
       "12             1992    43\n",
       "13             1993    60\n",
       "14             1994   121\n",
       "15             1995   219\n",
       "16             1996   263\n",
       "17             1997   290\n",
       "18             1998   386\n",
       "19             1999   341\n",
       "20             2000   350\n",
       "21             2001   482\n",
       "22             2002   829\n",
       "23             2003   800\n",
       "24             2004   783\n",
       "25             2005   973\n",
       "26             2006  1006\n",
       "27             2007  1197\n",
       "28             2008  1457\n",
       "29             2009  1476\n",
       "30             2010  1302\n",
       "31             2011  1161\n",
       "32             2012   653\n",
       "33             2013   552\n",
       "34             2014   582\n",
       "35             2015   606\n",
       "36             2016   502"
      ]
     },
     "execution_count": 15,
     "metadata": {},
     "output_type": "execute_result"
    }
   ],
   "source": [
    "data.pivot_table(index= 'year_of_release', values= 'name', aggfunc= 'count').reset_index()"
   ]
  },
  {
   "cell_type": "markdown",
   "metadata": {},
   "source": [
    "#### Вывод\n",
    "\n",
    "Больше всего игр выпускалось в 2005-2011 годах."
   ]
  },
  {
   "cell_type": "markdown",
   "metadata": {},
   "source": [
    "### Посмотрите, как менялись продажи по платформам\n",
    "\n",
    "Посмотрите, как менялись продажи по платформам. Выберите платформы с наибольшими суммарными продажами и постройте распределение по годам. За какой характерный срок появляются новые и исчезают старые платформы?"
   ]
  },
  {
   "cell_type": "code",
   "execution_count": 16,
   "metadata": {
    "scrolled": false
   },
   "outputs": [
    {
     "data": {
      "text/plain": [
       "<AxesSubplot:title={'center':'Продажи по годам'}, xlabel='year_of_release'>"
      ]
     },
     "execution_count": 16,
     "metadata": {},
     "output_type": "execute_result"
    },
    {
     "data": {
      "image/png": "[encoded data removed]",
      "text/plain": [
       "<Figure size 864x360 with 1 Axes>"
      ]
     },
     "metadata": {
      "needs_background": "light"
     },
     "output_type": "display_data"
    }
   ],
   "source": [
    "# посмотрим, как менялись продажи по платформам\n",
    "\n",
    "data.pivot_table(index='year_of_release', values='total_sales', aggfunc= 'sum').sort_values(by='year_of_release').plot(kind='bar', title = \"Продажи по годам\", figsize = (12,5))"
   ]
  },
  {
   "cell_type": "code",
   "execution_count": 17,
   "metadata": {
    "scrolled": true
   },
   "outputs": [
    {
     "data": {
      "text/html": [
       "<div>\n",
       "<style scoped>\n",
       "    .dataframe tbody tr th:only-of-type {\n",
       "        vertical-align: middle;\n",
       "    }\n",
       "\n",
       "    .dataframe tbody tr th {\n",
       "        vertical-align: top;\n",
       "    }\n",
       "\n",
       "    .dataframe thead th {\n",
       "        text-align: right;\n",
       "    }\n",
       "</style>\n",
       "<table border=\"1\" class=\"dataframe\">\n",
       "  <thead>\n",
       "    <tr style=\"text-align: right;\">\n",
       "      <th></th>\n",
       "      <th>total_sales</th>\n",
       "    </tr>\n",
       "    <tr>\n",
       "      <th>platform</th>\n",
       "      <th></th>\n",
       "    </tr>\n",
       "  </thead>\n",
       "  <tbody>\n",
       "    <tr>\n",
       "      <th>PS2</th>\n",
       "      <td>1255.77</td>\n",
       "    </tr>\n",
       "    <tr>\n",
       "      <th>X360</th>\n",
       "      <td>971.42</td>\n",
       "    </tr>\n",
       "    <tr>\n",
       "      <th>PS3</th>\n",
       "      <td>939.65</td>\n",
       "    </tr>\n",
       "    <tr>\n",
       "      <th>Wii</th>\n",
       "      <td>907.51</td>\n",
       "    </tr>\n",
       "    <tr>\n",
       "      <th>DS</th>\n",
       "      <td>806.12</td>\n",
       "    </tr>\n",
       "    <tr>\n",
       "      <th>PS</th>\n",
       "      <td>730.86</td>\n",
       "    </tr>\n",
       "    <tr>\n",
       "      <th>GBA</th>\n",
       "      <td>317.85</td>\n",
       "    </tr>\n",
       "    <tr>\n",
       "      <th>PS4</th>\n",
       "      <td>314.14</td>\n",
       "    </tr>\n",
       "    <tr>\n",
       "      <th>PSP</th>\n",
       "      <td>294.05</td>\n",
       "    </tr>\n",
       "    <tr>\n",
       "      <th>PC</th>\n",
       "      <td>259.52</td>\n",
       "    </tr>\n",
       "    <tr>\n",
       "      <th>3DS</th>\n",
       "      <td>259.00</td>\n",
       "    </tr>\n",
       "    <tr>\n",
       "      <th>XB</th>\n",
       "      <td>257.74</td>\n",
       "    </tr>\n",
       "    <tr>\n",
       "      <th>GB</th>\n",
       "      <td>255.46</td>\n",
       "    </tr>\n",
       "    <tr>\n",
       "      <th>NES</th>\n",
       "      <td>251.05</td>\n",
       "    </tr>\n",
       "    <tr>\n",
       "      <th>N64</th>\n",
       "      <td>218.68</td>\n",
       "    </tr>\n",
       "  </tbody>\n",
       "</table>\n",
       "</div>"
      ],
      "text/plain": [
       "          total_sales\n",
       "platform             \n",
       "PS2           1255.77\n",
       "X360           971.42\n",
       "PS3            939.65\n",
       "Wii            907.51\n",
       "DS             806.12\n",
       "PS             730.86\n",
       "GBA            317.85\n",
       "PS4            314.14\n",
       "PSP            294.05\n",
       "PC             259.52\n",
       "3DS            259.00\n",
       "XB             257.74\n",
       "GB             255.46\n",
       "NES            251.05\n",
       "N64            218.68"
      ]
     },
     "metadata": {},
     "output_type": "display_data"
    }
   ],
   "source": [
    "# Выберем платформы с наибольшими суммарными продажами\n",
    "\n",
    "# достаем индекс\n",
    "top = data.pivot_table(index= 'platform', values= 'total_sales', aggfunc= 'sum').sort_values(by='total_sales', ascending=False).head(15)\n",
    "display(top)\n",
    "# Взяла 6, так как предварительно проанализировала и после 6 строки был резкий спад суммарных продаж\n",
    "\n",
    "top_6 = top.index.values"
   ]
  },
  {
   "cell_type": "code",
   "execution_count": 18,
   "metadata": {
    "scrolled": false
   },
   "outputs": [
    {
     "data": {
      "image/png": "[encoded data removed]",
      "text/plain": [
       "<Figure size 720x288 with 1 Axes>"
      ]
     },
     "metadata": {
      "needs_background": "light"
     },
     "output_type": "display_data"
    }
   ],
   "source": [
    "top_6_platform = data[data['platform'].isin(top_6)]\n",
    "\n",
    "sales_ps2 =top_6_platform.query('platform == \"PS2\"').pivot_table(index='year_of_release', values='total_sales', aggfunc= 'sum').sort_values(\n",
    "    by='year_of_release').plot(kind='bar', title = \"Продажи по годам PS2\", figsize = (10,4))\n",
    "      "
   ]
  },
  {
   "cell_type": "code",
   "execution_count": 19,
   "metadata": {},
   "outputs": [
    {
     "data": {
      "image/png": "[encoded data removed]",
      "text/plain": [
       "<Figure size 720x288 with 1 Axes>"
      ]
     },
     "metadata": {
      "needs_background": "light"
     },
     "output_type": "display_data"
    }
   ],
   "source": [
    "sales_x360 =top_6_platform.query('platform == \"X360\"').pivot_table(index='year_of_release', values='total_sales', aggfunc= 'sum').sort_values(\n",
    "    by='year_of_release').plot(kind='bar', title = \"Продажи по годам X360\", figsize = (10,4))"
   ]
  },
  {
   "cell_type": "code",
   "execution_count": 20,
   "metadata": {},
   "outputs": [
    {
     "data": {
      "image/png": "[encoded data removed]",
      "text/plain": [
       "<Figure size 720x288 with 1 Axes>"
      ]
     },
     "metadata": {
      "needs_background": "light"
     },
     "output_type": "display_data"
    }
   ],
   "source": [
    "sales_ps3 =top_6_platform.query('platform == \"PS3\"').pivot_table(index='year_of_release', values='total_sales', aggfunc= 'sum').sort_values(\n",
    "    by='year_of_release').plot(kind='bar', title = \"Продажи по годам X360\", figsize = (10,4))"
   ]
  },
  {
   "cell_type": "code",
   "execution_count": 21,
   "metadata": {},
   "outputs": [
    {
     "data": {
      "image/png": "[encoded data removed]",
      "text/plain": [
       "<Figure size 720x288 with 1 Axes>"
      ]
     },
     "metadata": {
      "needs_background": "light"
     },
     "output_type": "display_data"
    }
   ],
   "source": [
    "sales_ds =top_6_platform.query('platform == \"DS\"').pivot_table(index='year_of_release', values='total_sales', aggfunc= 'sum').sort_values(\n",
    "    by='year_of_release').plot(kind='bar', title = \"Продажи по годам DS\", figsize = (10,4))"
   ]
  },
  {
   "cell_type": "code",
   "execution_count": 22,
   "metadata": {
    "scrolled": true
   },
   "outputs": [
    {
     "data": {
      "image/png": "[encoded data removed]",
      "text/plain": [
       "<Figure size 720x288 with 1 Axes>"
      ]
     },
     "metadata": {
      "needs_background": "light"
     },
     "output_type": "display_data"
    }
   ],
   "source": [
    "sales_wii =top_6_platform.query('platform == \"Wii\"').pivot_table(index='year_of_release', values='total_sales', aggfunc= 'sum').sort_values(\n",
    "    by='year_of_release').plot(kind='bar', title = \"Продажи по годам Wii\", figsize = (10,4))"
   ]
  },
  {
   "cell_type": "code",
   "execution_count": 23,
   "metadata": {},
   "outputs": [
    {
     "data": {
      "image/png": "[encoded data removed]",
      "text/plain": [
       "<Figure size 720x288 with 1 Axes>"
      ]
     },
     "metadata": {
      "needs_background": "light"
     },
     "output_type": "display_data"
    }
   ],
   "source": [
    "sales_ps =top_6_platform.query('platform == \"PS\"').pivot_table(index='year_of_release', values='total_sales', aggfunc= 'sum').sort_values(\n",
    "    by='year_of_release').plot(kind='bar', title = \"Продажи по годам PS\", figsize = (10,4))"
   ]
  },
  {
   "cell_type": "code",
   "execution_count": 24,
   "metadata": {},
   "outputs": [],
   "source": [
    "# для того,чтобы посмотреть, за какой срок появляются и исчезают платформы, воспользуюсь уже созданной таблицей.\n",
    "# создам корректные названия столбцов\n",
    "\n",
    "data_platform.columns = ['platform', 'min_year', 'max_year']"
   ]
  },
  {
   "cell_type": "code",
   "execution_count": 25,
   "metadata": {
    "scrolled": true
   },
   "outputs": [
    {
     "data": {
      "text/plain": [
       "<AxesSubplot:>"
      ]
     },
     "execution_count": 25,
     "metadata": {},
     "output_type": "execute_result"
    },
    {
     "data": {
      "image/png": "[encoded data removed]",
      "text/plain": [
       "<Figure size 432x288 with 1 Axes>"
      ]
     },
     "metadata": {
      "needs_background": "light"
     },
     "output_type": "display_data"
    }
   ],
   "source": [
    "# столбец с данными, сколько лет выпускались игры на платформу и посмотрим на графике распределение\n",
    "\n",
    "data_platform['delta'] = data_platform['max_year'] - data_platform['min_year']\n",
    "data_platform['delta'].hist(bins=30)"
   ]
  },
  {
   "cell_type": "code",
   "execution_count": 26,
   "metadata": {},
   "outputs": [
    {
     "data": {
      "text/plain": [
       "7.612903225806452"
      ]
     },
     "execution_count": 26,
     "metadata": {},
     "output_type": "execute_result"
    }
   ],
   "source": [
    "data_platform['delta'].mean()"
   ]
  },
  {
   "cell_type": "markdown",
   "metadata": {},
   "source": [
    "#### Вывод\n",
    "\n",
    "Продажи по платформам начали расти с 1996 года и пик пришелся на 2008-2009 года. Дольше шел спад.\n",
    "\n",
    "Платформы с наибольшими суммарными продажами:\n",
    "'PS2', 'X360', 'PS3', 'Wii', 'DS', 'PS'\n",
    "Распределение по годам так же показало, что с 1996 года начался рост, пик пришелся на 2008-2009 года и потом пошел активный спад\n",
    "\n",
    " Характерный срок, когда появляются новые и исчезают старые платформы по результатам анализа всей выборки - от 0 до 10 лет, в среднем, 7,5 лет. \n",
    " Если смотреть графики Топ-6 платформ, то пик продаж игр на платформу составляет 3-4 года."
   ]
  },
  {
   "cell_type": "markdown",
   "metadata": {},
   "source": [
    "### Определите актуальный период\n",
    "\n",
    "Возьмите данные за соответствующий актуальный период. Актуальный период определите самостоятельно в результате исследования предыдущих вопросов. Основной фактор — эти данные помогут построить прогноз на 2017 год.\n",
    "Не учитывайте в работе данные за предыдущие годы."
   ]
  },
  {
   "cell_type": "code",
   "execution_count": 27,
   "metadata": {},
   "outputs": [
    {
     "data": {
      "text/html": [
       "<div>\n",
       "<style scoped>\n",
       "    .dataframe tbody tr th:only-of-type {\n",
       "        vertical-align: middle;\n",
       "    }\n",
       "\n",
       "    .dataframe tbody tr th {\n",
       "        vertical-align: top;\n",
       "    }\n",
       "\n",
       "    .dataframe thead th {\n",
       "        text-align: right;\n",
       "    }\n",
       "</style>\n",
       "<table border=\"1\" class=\"dataframe\">\n",
       "  <thead>\n",
       "    <tr style=\"text-align: right;\">\n",
       "      <th></th>\n",
       "      <th>name</th>\n",
       "      <th>platform</th>\n",
       "      <th>year_of_release</th>\n",
       "      <th>genre</th>\n",
       "      <th>na_sales</th>\n",
       "      <th>eu_sales</th>\n",
       "      <th>jp_sales</th>\n",
       "      <th>other_sales</th>\n",
       "      <th>critic_score</th>\n",
       "      <th>user_score</th>\n",
       "      <th>rating</th>\n",
       "      <th>total_sales</th>\n",
       "    </tr>\n",
       "  </thead>\n",
       "  <tbody>\n",
       "    <tr>\n",
       "      <th>0</th>\n",
       "      <td>Grand Theft Auto V</td>\n",
       "      <td>PS3</td>\n",
       "      <td>2013</td>\n",
       "      <td>Action</td>\n",
       "      <td>7.02</td>\n",
       "      <td>9.09</td>\n",
       "      <td>0.98</td>\n",
       "      <td>3.96</td>\n",
       "      <td>97.0</td>\n",
       "      <td>8.2</td>\n",
       "      <td>M</td>\n",
       "      <td>21.05</td>\n",
       "    </tr>\n",
       "    <tr>\n",
       "      <th>1</th>\n",
       "      <td>Grand Theft Auto V</td>\n",
       "      <td>X360</td>\n",
       "      <td>2013</td>\n",
       "      <td>Action</td>\n",
       "      <td>9.66</td>\n",
       "      <td>5.14</td>\n",
       "      <td>0.06</td>\n",
       "      <td>1.41</td>\n",
       "      <td>97.0</td>\n",
       "      <td>8.1</td>\n",
       "      <td>M</td>\n",
       "      <td>16.27</td>\n",
       "    </tr>\n",
       "    <tr>\n",
       "      <th>2</th>\n",
       "      <td>Call of Duty: Black Ops 3</td>\n",
       "      <td>PS4</td>\n",
       "      <td>2015</td>\n",
       "      <td>Shooter</td>\n",
       "      <td>6.03</td>\n",
       "      <td>5.86</td>\n",
       "      <td>0.36</td>\n",
       "      <td>2.38</td>\n",
       "      <td>NaN</td>\n",
       "      <td>NaN</td>\n",
       "      <td>NaN</td>\n",
       "      <td>14.63</td>\n",
       "    </tr>\n",
       "    <tr>\n",
       "      <th>3</th>\n",
       "      <td>Pokemon X/Pokemon Y</td>\n",
       "      <td>3DS</td>\n",
       "      <td>2013</td>\n",
       "      <td>Role-Playing</td>\n",
       "      <td>5.28</td>\n",
       "      <td>4.19</td>\n",
       "      <td>4.35</td>\n",
       "      <td>0.78</td>\n",
       "      <td>NaN</td>\n",
       "      <td>NaN</td>\n",
       "      <td>NaN</td>\n",
       "      <td>14.60</td>\n",
       "    </tr>\n",
       "    <tr>\n",
       "      <th>4</th>\n",
       "      <td>Call of Duty: Black Ops II</td>\n",
       "      <td>PS3</td>\n",
       "      <td>2012</td>\n",
       "      <td>Shooter</td>\n",
       "      <td>4.99</td>\n",
       "      <td>5.73</td>\n",
       "      <td>0.65</td>\n",
       "      <td>2.42</td>\n",
       "      <td>83.0</td>\n",
       "      <td>5.3</td>\n",
       "      <td>M</td>\n",
       "      <td>13.79</td>\n",
       "    </tr>\n",
       "  </tbody>\n",
       "</table>\n",
       "</div>"
      ],
      "text/plain": [
       "                         name platform  year_of_release         genre  \\\n",
       "0          Grand Theft Auto V      PS3             2013        Action   \n",
       "1          Grand Theft Auto V     X360             2013        Action   \n",
       "2   Call of Duty: Black Ops 3      PS4             2015       Shooter   \n",
       "3         Pokemon X/Pokemon Y      3DS             2013  Role-Playing   \n",
       "4  Call of Duty: Black Ops II      PS3             2012       Shooter   \n",
       "\n",
       "   na_sales  eu_sales  jp_sales  other_sales  critic_score  user_score rating  \\\n",
       "0      7.02      9.09      0.98         3.96          97.0         8.2      M   \n",
       "1      9.66      5.14      0.06         1.41          97.0         8.1      M   \n",
       "2      6.03      5.86      0.36         2.38           NaN         NaN    NaN   \n",
       "3      5.28      4.19      4.35         0.78           NaN         NaN    NaN   \n",
       "4      4.99      5.73      0.65         2.42          83.0         5.3      M   \n",
       "\n",
       "   total_sales  \n",
       "0        21.05  \n",
       "1        16.27  \n",
       "2        14.63  \n",
       "3        14.60  \n",
       "4        13.79  "
      ]
     },
     "execution_count": 27,
     "metadata": {},
     "output_type": "execute_result"
    }
   ],
   "source": [
    "# сохраним базу данных,вытащив параметры, актуальные с 2012 года\n",
    "\n",
    "data_2012 = data[data['year_of_release'] >= 2012].reset_index(drop=True)\n",
    "data_2012.head(5)"
   ]
  },
  {
   "cell_type": "markdown",
   "metadata": {},
   "source": [
    "#### Вывод\n",
    "\n",
    "Актуальный период - с 2012 года. Определила на основании графика всех продаж по годам. По нему был пик в 2008-2009 годах, потом постепенный спад в 2010-2011 и потом резкое падение продаж в 2012 году. Далее 2012-2014 близки по итогам, 2015 - небольшой спад, 2016 по нашим данным вообще прибыль минимальна.\n",
    "\n",
    "То есть, брать период до 2012 года считаю неактуальным. Тогда были более высокие показатели продаж, которые сейчас неактуальны и могу только исказить наши результаты."
   ]
  },
  {
   "cell_type": "markdown",
   "metadata": {},
   "source": [
    "### Потенциально прибыльные платформы\n",
    "\n",
    "Какие платформы лидируют по продажам, растут или падают? Выберите несколько потенциально прибыльных платформ."
   ]
  },
  {
   "cell_type": "code",
   "execution_count": 28,
   "metadata": {
    "scrolled": false
   },
   "outputs": [
    {
     "data": {
      "image/png": "[encoded data removed]",
      "text/plain": [
       "<Figure size 936x432 with 1 Axes>"
      ]
     },
     "metadata": {
      "needs_background": "light"
     },
     "output_type": "display_data"
    }
   ],
   "source": [
    "data_2012_hist =data_2012.pivot_table(index=['platform','year_of_release'], values='total_sales', aggfunc= 'sum').sort_values(\n",
    "    by='year_of_release').plot(kind='bar',grid='True', title = \"Продажи по годам и платформам\", figsize = (13,6))"
   ]
  },
  {
   "cell_type": "markdown",
   "metadata": {},
   "source": [
    "#### Вывод\n",
    "\n",
    "\n",
    "По продажам в 2015-2016 годах лидируют платформы: PS4, XOne, 3DS. Их считаю потенциально прибыльными. При этом сумма продаж в 2016 году снизилась по всем платформам.\n",
    "\n",
    "Так же можно сделать вывод, что данные с 2012 года для наших целей анализировать неакттуально. Так как платформы, которые были лидерами до 2015 года: PS3, X360, сейчас таковыми не являются  потенциально прибыльными уже тоже считаться не могут. Поэтому далее при анализе актуальных для нас данных, буду брать только 2015-2016 года."
   ]
  },
  {
   "cell_type": "markdown",
   "metadata": {},
   "source": [
    "### Проанализировать продажи по платформам\n",
    "\n",
    "Постройте график «ящик с усами» по глобальным продажам игр в разбивке по платформам. Опишите результат."
   ]
  },
  {
   "cell_type": "code",
   "execution_count": 29,
   "metadata": {
    "scrolled": true
   },
   "outputs": [
    {
     "data": {
      "image/png": "[encoded data removed]",
      "text/plain": [
       "<Figure size 792x576 with 1 Axes>"
      ]
     },
     "metadata": {
      "needs_background": "light"
     },
     "output_type": "display_data"
    }
   ],
   "source": [
    "# построю график «ящик с усами» по данным за 2015-2016 года. ранее для нас рассматривать данные не имеет смысла\n",
    "data_2015 = data[data['year_of_release'] >= 2015].reset_index(drop=True)\n",
    "data_2015_boxplot = data_2015.pivot_table(index=['platform','year_of_release'], values='total_sales', aggfunc= 'sum')\n",
    "\n",
    "data_2015_boxplot.boxplot(column=\"total_sales\", by=\"platform\", figsize = (11,8))\n",
    "plt.xlabel(\"Распределение продаж игр по платформам\")\n",
    "plt.show()"
   ]
  },
  {
   "cell_type": "markdown",
   "metadata": {},
   "source": [
    "#### Вывод\n",
    "\n",
    "Боксплот наглядно подтвердил вывод, который был сделан в прошлом пункте: по продажам в 2015-2016 годах лидируют платформы: PS4, XOne, 3DS. Медианные значения по ним имеют наибольшие показатели."
   ]
  },
  {
   "cell_type": "markdown",
   "metadata": {},
   "source": [
    "### Влияние отзывов на продажи по платформам\n",
    "\n",
    "Посмотрите, как влияют на продажи внутри одной популярной платформы отзывы пользователей и критиков. Постройте диаграмму рассеяния и посчитайте корреляцию между отзывами и продажами. Сформулируйте выводы.\n",
    "Соотнесите выводы с продажами игр на других платформах"
   ]
  },
  {
   "cell_type": "code",
   "execution_count": 30,
   "metadata": {
    "scrolled": true
   },
   "outputs": [],
   "source": [
    "# посмотрим корреляцию по PS4\n",
    "\n",
    "data_2015_ps4 = data_2015[data_2015['platform'] == 'PS4'].reset_index(drop=True)"
   ]
  },
  {
   "cell_type": "code",
   "execution_count": 31,
   "metadata": {},
   "outputs": [
    {
     "data": {
      "text/plain": [
       "<AxesSubplot:xlabel='user_score', ylabel='total_sales'>"
      ]
     },
     "execution_count": 31,
     "metadata": {},
     "output_type": "execute_result"
    },
    {
     "data": {
      "image/png": "[encoded data removed]",
      "text/plain": [
       "<Figure size 432x288 with 1 Axes>"
      ]
     },
     "metadata": {
      "needs_background": "light"
     },
     "output_type": "display_data"
    },
    {
     "data": {
      "image/png": "[encoded data removed]",
      "text/plain": [
       "<Figure size 432x288 with 1 Axes>"
      ]
     },
     "metadata": {
      "needs_background": "light"
     },
     "output_type": "display_data"
    }
   ],
   "source": [
    "data_2015_ps4.sort_values('critic_score').plot(x='critic_score', y='total_sales', kind='scatter', alpha=0.5)\n",
    "data_2015_ps4.sort_values('user_score').plot(x='user_score', y='total_sales', kind='scatter', alpha=0.5)"
   ]
  },
  {
   "cell_type": "code",
   "execution_count": 32,
   "metadata": {},
   "outputs": [
    {
     "name": "stdout",
     "output_type": "stream",
     "text": [
      "Корреляция между оценкой критиков и продажами: 0.3928485555130601\n",
      "Корреляция между оценкой пользователей и продажами: -0.05973845712638215\n"
     ]
    }
   ],
   "source": [
    "print('Корреляция между оценкой критиков и продажами:', data_2015_ps4['total_sales'].corr(data_2015_ps4['critic_score']))\n",
    "print('Корреляция между оценкой пользователей и продажами:', data_2015_ps4['total_sales'].corr(data_2015_ps4['user_score']))"
   ]
  },
  {
   "cell_type": "code",
   "execution_count": 33,
   "metadata": {},
   "outputs": [],
   "source": [
    "# посмотрим корреляцию по XOne\n",
    "\n",
    "data_2015_xone = data_2015[data_2015['platform'] == 'XOne'].reset_index(drop=True)"
   ]
  },
  {
   "cell_type": "code",
   "execution_count": 34,
   "metadata": {
    "scrolled": true
   },
   "outputs": [
    {
     "data": {
      "text/plain": [
       "<AxesSubplot:xlabel='user_score', ylabel='total_sales'>"
      ]
     },
     "execution_count": 34,
     "metadata": {},
     "output_type": "execute_result"
    },
    {
     "data": {
      "image/png": "[encoded data removed]",
      "text/plain": [
       "<Figure size 432x288 with 1 Axes>"
      ]
     },
     "metadata": {
      "needs_background": "light"
     },
     "output_type": "display_data"
    },
    {
     "data": {
      "image/png": "[encoded data removed]",
      "text/plain": [
       "<Figure size 432x288 with 1 Axes>"
      ]
     },
     "metadata": {
      "needs_background": "light"
     },
     "output_type": "display_data"
    }
   ],
   "source": [
    "data_2015_xone.sort_values('critic_score').plot(x='critic_score', y='total_sales', kind='scatter', alpha=0.5)\n",
    "data_2015_xone.sort_values('user_score').plot(x='user_score', y='total_sales', kind='scatter', alpha=0.5)"
   ]
  },
  {
   "cell_type": "code",
   "execution_count": 35,
   "metadata": {
    "scrolled": true
   },
   "outputs": [
    {
     "name": "stdout",
     "output_type": "stream",
     "text": [
      "Корреляция между оценкой критиков и продажами: 0.430888745821368\n",
      "Корреляция между оценкой пользователей и продажами: -0.04146733387366271\n"
     ]
    }
   ],
   "source": [
    "print('Корреляция между оценкой критиков и продажами:', data_2015_xone['total_sales'].corr(data_2015_xone['critic_score']))\n",
    "print('Корреляция между оценкой пользователей и продажами:', data_2015_xone['total_sales'].corr(data_2015_xone['user_score']))"
   ]
  },
  {
   "cell_type": "code",
   "execution_count": 36,
   "metadata": {},
   "outputs": [],
   "source": [
    "# посмотрим корреляцию по 3DS\n",
    "\n",
    "data_2015_3ds = data_2015[data_2015['platform'] == '3DS'].reset_index(drop=True)"
   ]
  },
  {
   "cell_type": "code",
   "execution_count": 37,
   "metadata": {},
   "outputs": [
    {
     "data": {
      "text/plain": [
       "<AxesSubplot:xlabel='user_score', ylabel='total_sales'>"
      ]
     },
     "execution_count": 37,
     "metadata": {},
     "output_type": "execute_result"
    },
    {
     "data": {
      "image/png": "[encoded data removed]",
      "text/plain": [
       "<Figure size 432x288 with 1 Axes>"
      ]
     },
     "metadata": {
      "needs_background": "light"
     },
     "output_type": "display_data"
    },
    {
     "data": {
      "image/png": "[encoded data removed]",
      "text/plain": [
       "<Figure size 432x288 with 1 Axes>"
      ]
     },
     "metadata": {
      "needs_background": "light"
     },
     "output_type": "display_data"
    }
   ],
   "source": [
    "data_2015_3ds.sort_values('critic_score').plot(x='critic_score', y='total_sales', kind='scatter', alpha=0.5)\n",
    "data_2015_3ds.sort_values('user_score').plot(x='user_score', y='total_sales', kind='scatter', alpha=0.5)"
   ]
  },
  {
   "cell_type": "code",
   "execution_count": 38,
   "metadata": {
    "scrolled": true
   },
   "outputs": [
    {
     "name": "stdout",
     "output_type": "stream",
     "text": [
      "Корреляция между оценкой критиков и продажами: 0.17757455046092874\n",
      "Корреляция между оценкой пользователей и продажами: 0.19879627008102985\n"
     ]
    }
   ],
   "source": [
    "print('Корреляция между оценкой критиков и продажами:', data_2015_3ds['total_sales'].corr(data_2015_3ds['critic_score']))\n",
    "print('Корреляция между оценкой пользователей и продажами:', data_2015_3ds['total_sales'].corr(data_2015_3ds['user_score']))"
   ]
  },
  {
   "cell_type": "code",
   "execution_count": 39,
   "metadata": {
    "scrolled": true
   },
   "outputs": [
    {
     "data": {
      "text/plain": [
       "<AxesSubplot:xlabel='user_score', ylabel='total_sales'>"
      ]
     },
     "execution_count": 39,
     "metadata": {},
     "output_type": "execute_result"
    },
    {
     "data": {
      "image/png": "[encoded data removed]",
      "text/plain": [
       "<Figure size 432x288 with 1 Axes>"
      ]
     },
     "metadata": {
      "needs_background": "light"
     },
     "output_type": "display_data"
    },
    {
     "data": {
      "image/png": "[encoded data removed]",
      "text/plain": [
       "<Figure size 432x288 with 1 Axes>"
      ]
     },
     "metadata": {
      "needs_background": "light"
     },
     "output_type": "display_data"
    }
   ],
   "source": [
    "# и изучим корреляцию по всей актуальной выборке\n",
    "\n",
    "data_2015.sort_values('critic_score').plot(x='critic_score', y='total_sales', kind='scatter', alpha=0.5)\n",
    "data_2015.sort_values('user_score').plot(x='user_score', y='total_sales', kind='scatter', alpha=0.5)"
   ]
  },
  {
   "cell_type": "code",
   "execution_count": 40,
   "metadata": {},
   "outputs": [
    {
     "name": "stdout",
     "output_type": "stream",
     "text": [
      "Корреляция между оценкой критиков и продажами: 0.32552662253933334\n",
      "Корреляция между оценкой пользователей и продажами: -0.0019642931122463305\n"
     ]
    }
   ],
   "source": [
    "print('Корреляция между оценкой критиков и продажами:', data_2015['total_sales'].corr(data_2015['critic_score']))\n",
    "print('Корреляция между оценкой пользователей и продажами:', data_2015['total_sales'].corr(data_2015['user_score']))"
   ]
  },
  {
   "cell_type": "markdown",
   "metadata": {},
   "source": [
    "#### Вывод\n",
    "\n",
    "Рассчеты показали, что корреляция между оценками критиков или пользователей и продажами по 3 лидирующим на данный момент платформам слабая. Диаграмма рассеяния это так же подтверждает.\n",
    "При этом по 2 платформам корреляция между оценкой критиков и продажам больше, чем оценкой пользователей и теми же продажами: 0,4 и -0,05 соответственно.\n",
    "\n",
    "Анализ всей выборки показал аналогичный результат: слабая корреляция продаж и оценок критиков и практически отсутствует между продажами и оценкой пользователей."
   ]
  },
  {
   "cell_type": "markdown",
   "metadata": {},
   "source": [
    "### Общее распределение игр по жанрам\n",
    "\n",
    "Посмотрите на общее распределение игр по жанрам. Что можно сказать о самых прибыльных жанрах? Выделяются ли жанры с высокими и низкими продажами?"
   ]
  },
  {
   "cell_type": "code",
   "execution_count": 41,
   "metadata": {
    "scrolled": false
   },
   "outputs": [
    {
     "data": {
      "text/plain": [
       "<AxesSubplot:title={'center':'Прибыльность жанров'}, xlabel='genre'>"
      ]
     },
     "execution_count": 41,
     "metadata": {},
     "output_type": "execute_result"
    },
    {
     "data": {
      "image/png": "[encoded data removed]",
      "text/plain": [
       "<Figure size 864x360 with 1 Axes>"
      ]
     },
     "metadata": {
      "needs_background": "light"
     },
     "output_type": "display_data"
    }
   ],
   "source": [
    "data_2015.pivot_table(index='genre', values='total_sales', aggfunc= 'sum').plot(kind='bar', title = \"Прибыльность жанров\", figsize = (12,5))"
   ]
  },
  {
   "cell_type": "markdown",
   "metadata": {},
   "source": [
    "#### Вывод\n",
    "\n",
    "Выделяются жанры с высокими продажами: Action и Shooter, потом идут Sports и Role-Playing;\n",
    "с самыми низкими - Puzzle и Strategy, хотя продажи по остальным жанрам тоже небольшие."
   ]
  },
  {
   "cell_type": "markdown",
   "metadata": {},
   "source": [
    "## Составьте портрет пользователя каждого региона"
   ]
  },
  {
   "cell_type": "markdown",
   "metadata": {},
   "source": [
    "Самые популярные платформы (топ-5). Опишите различия в долях продаж.\n",
    "\n",
    "Самые популярные жанры (топ-5). Поясните разницу.\n",
    "\n",
    "Влияет ли рейтинг ESRB на продажи в отдельном регионе?"
   ]
  },
  {
   "cell_type": "code",
   "execution_count": 42,
   "metadata": {},
   "outputs": [
    {
     "data": {
      "text/html": [
       "<div>\n",
       "<style scoped>\n",
       "    .dataframe tbody tr th:only-of-type {\n",
       "        vertical-align: middle;\n",
       "    }\n",
       "\n",
       "    .dataframe tbody tr th {\n",
       "        vertical-align: top;\n",
       "    }\n",
       "\n",
       "    .dataframe thead th {\n",
       "        text-align: right;\n",
       "    }\n",
       "</style>\n",
       "<table border=\"1\" class=\"dataframe\">\n",
       "  <thead>\n",
       "    <tr style=\"text-align: right;\">\n",
       "      <th></th>\n",
       "      <th>eu_sales</th>\n",
       "      <th>jp_sales</th>\n",
       "      <th>na_sales</th>\n",
       "      <th>other_sales</th>\n",
       "    </tr>\n",
       "    <tr>\n",
       "      <th>platform</th>\n",
       "      <th></th>\n",
       "      <th></th>\n",
       "      <th></th>\n",
       "      <th></th>\n",
       "    </tr>\n",
       "  </thead>\n",
       "  <tbody>\n",
       "    <tr>\n",
       "      <th>3DS</th>\n",
       "      <td>7.39</td>\n",
       "      <td>23.55</td>\n",
       "      <td>10.31</td>\n",
       "      <td>1.67</td>\n",
       "    </tr>\n",
       "    <tr>\n",
       "      <th>PC</th>\n",
       "      <td>9.10</td>\n",
       "      <td>0.00</td>\n",
       "      <td>3.72</td>\n",
       "      <td>0.95</td>\n",
       "    </tr>\n",
       "    <tr>\n",
       "      <th>PS3</th>\n",
       "      <td>7.30</td>\n",
       "      <td>4.97</td>\n",
       "      <td>5.66</td>\n",
       "      <td>2.49</td>\n",
       "    </tr>\n",
       "    <tr>\n",
       "      <th>PS4</th>\n",
       "      <td>83.54</td>\n",
       "      <td>12.05</td>\n",
       "      <td>63.86</td>\n",
       "      <td>28.70</td>\n",
       "    </tr>\n",
       "    <tr>\n",
       "      <th>PSP</th>\n",
       "      <td>0.00</td>\n",
       "      <td>0.12</td>\n",
       "      <td>0.00</td>\n",
       "      <td>0.00</td>\n",
       "    </tr>\n",
       "    <tr>\n",
       "      <th>PSV</th>\n",
       "      <td>1.08</td>\n",
       "      <td>8.41</td>\n",
       "      <td>0.54</td>\n",
       "      <td>0.47</td>\n",
       "    </tr>\n",
       "    <tr>\n",
       "      <th>Wii</th>\n",
       "      <td>0.73</td>\n",
       "      <td>0.00</td>\n",
       "      <td>0.49</td>\n",
       "      <td>0.10</td>\n",
       "    </tr>\n",
       "    <tr>\n",
       "      <th>WiiU</th>\n",
       "      <td>6.49</td>\n",
       "      <td>4.12</td>\n",
       "      <td>8.86</td>\n",
       "      <td>1.48</td>\n",
       "    </tr>\n",
       "    <tr>\n",
       "      <th>X360</th>\n",
       "      <td>4.21</td>\n",
       "      <td>0.00</td>\n",
       "      <td>8.05</td>\n",
       "      <td>1.22</td>\n",
       "    </tr>\n",
       "    <tr>\n",
       "      <th>XOne</th>\n",
       "      <td>28.10</td>\n",
       "      <td>0.18</td>\n",
       "      <td>50.30</td>\n",
       "      <td>7.71</td>\n",
       "    </tr>\n",
       "  </tbody>\n",
       "</table>\n",
       "</div>"
      ],
      "text/plain": [
       "          eu_sales  jp_sales  na_sales  other_sales\n",
       "platform                                           \n",
       "3DS           7.39     23.55     10.31         1.67\n",
       "PC            9.10      0.00      3.72         0.95\n",
       "PS3           7.30      4.97      5.66         2.49\n",
       "PS4          83.54     12.05     63.86        28.70\n",
       "PSP           0.00      0.12      0.00         0.00\n",
       "PSV           1.08      8.41      0.54         0.47\n",
       "Wii           0.73      0.00      0.49         0.10\n",
       "WiiU          6.49      4.12      8.86         1.48\n",
       "X360          4.21      0.00      8.05         1.22\n",
       "XOne         28.10      0.18     50.30         7.71"
      ]
     },
     "metadata": {},
     "output_type": "display_data"
    },
    {
     "data": {
      "text/plain": [
       "<AxesSubplot:xlabel='platform'>"
      ]
     },
     "execution_count": 42,
     "metadata": {},
     "output_type": "execute_result"
    },
    {
     "data": {
      "image/png": "[encoded data removed]",
      "text/plain": [
       "<Figure size 864x504 with 1 Axes>"
      ]
     },
     "metadata": {
      "needs_background": "light"
     },
     "output_type": "display_data"
    }
   ],
   "source": [
    "sales_region = data_2015.pivot_table(index='platform', values=['na_sales','eu_sales','jp_sales','other_sales'], aggfunc= 'sum').sort_values(\n",
    "    by='platform')\n",
    "display(sales_region)\n",
    "sales_region.plot(figsize=(12,7))"
   ]
  },
  {
   "cell_type": "code",
   "execution_count": 43,
   "metadata": {},
   "outputs": [
    {
     "data": {
      "image/png": "[encoded data removed]",
      "text/plain": [
       "<Figure size 504x504 with 1 Axes>"
      ]
     },
     "metadata": {},
     "output_type": "display_data"
    },
    {
     "data": {
      "image/png": "[encoded data removed]",
      "text/plain": [
       "<Figure size 504x504 with 1 Axes>"
      ]
     },
     "metadata": {},
     "output_type": "display_data"
    },
    {
     "data": {
      "image/png": "[encoded data removed]",
      "text/plain": [
       "<Figure size 504x504 with 1 Axes>"
      ]
     },
     "metadata": {},
     "output_type": "display_data"
    },
    {
     "data": {
      "image/png": "[encoded data removed]",
      "text/plain": [
       "<Figure size 504x504 with 1 Axes>"
      ]
     },
     "metadata": {},
     "output_type": "display_data"
    }
   ],
   "source": [
    "sales_region.plot.pie(y='eu_sales',figsize=(7, 7),autopct='%1.1f%%', startangle=90)\n",
    "sales_region.plot.pie(y='jp_sales',figsize=(7, 7),autopct='%1.1f%%', startangle=90)\n",
    "sales_region.plot.pie(y='na_sales',figsize=(7, 7),autopct='%1.1f%%', startangle=90)\n",
    "sales_region.plot.pie(y='other_sales',figsize=(7, 7),autopct='%1.1f%%', startangle=90)\n",
    "\n",
    "plt.show()"
   ]
  },
  {
   "cell_type": "markdown",
   "metadata": {},
   "source": [
    "### Вывод\n",
    "\n",
    "В Европе наиболее популярны платформы:\n",
    "1. PS4 56,5%\n",
    "2. XOne 19%\n",
    "3. PC 6,2%\n",
    "3. 3DS 5%\n",
    "4. PS3 4,9%\n",
    "\n",
    "В Японии:\n",
    "1. 3DS 44,1%\n",
    "2. PS4 22,6%\n",
    "3. PSV 15,7%\n",
    "4. PS3 9,3%\n",
    "5. WiiU 7,7%\n",
    "\n",
    "В Северной Америке:\n",
    "1. PS4 42,1%\n",
    "2. XOne 33,1%\n",
    "3. 3DS 6,8%\n",
    "4. WiiU 5,8%\n",
    "5. X360 5,3%\n",
    "\n",
    "В других странах:\n",
    "1. PS4 64,1%\n",
    "2. XOne 17,2%\n",
    "3. PS3 5,6%\n",
    "3. 3DS 3,7%\n",
    "4. WiiU 3,3%\n",
    "\n",
    "Различия в долях продаж по регионам есть. Схожи топ-5 платформ в Европе, Северной Америке и в других странах(кроме еще Японии). В этих 3 регионах лидируют PS4 и XOne в разных пропорциях, в общем, на эти 2 платформы приходится 75-80% продаж и остальные платформы, входящие по популярности в Топ-5, имеют гораздо меньшие доли.\n",
    "\n",
    "В Японии картина немного другая. Платформы на рынке распределены более равномерно, лидируют 3DS, PS4 и PSV."
   ]
  },
  {
   "cell_type": "code",
   "execution_count": 44,
   "metadata": {
    "scrolled": false
   },
   "outputs": [
    {
     "data": {
      "text/html": [
       "<div>\n",
       "<style scoped>\n",
       "    .dataframe tbody tr th:only-of-type {\n",
       "        vertical-align: middle;\n",
       "    }\n",
       "\n",
       "    .dataframe tbody tr th {\n",
       "        vertical-align: top;\n",
       "    }\n",
       "\n",
       "    .dataframe thead th {\n",
       "        text-align: right;\n",
       "    }\n",
       "</style>\n",
       "<table border=\"1\" class=\"dataframe\">\n",
       "  <thead>\n",
       "    <tr style=\"text-align: right;\">\n",
       "      <th></th>\n",
       "      <th>eu_sales</th>\n",
       "      <th>jp_sales</th>\n",
       "      <th>na_sales</th>\n",
       "      <th>other_sales</th>\n",
       "      <th>total_sales</th>\n",
       "    </tr>\n",
       "    <tr>\n",
       "      <th>genre</th>\n",
       "      <th></th>\n",
       "      <th></th>\n",
       "      <th></th>\n",
       "      <th></th>\n",
       "      <th></th>\n",
       "    </tr>\n",
       "  </thead>\n",
       "  <tbody>\n",
       "    <tr>\n",
       "      <th>Shooter</th>\n",
       "      <td>40.28</td>\n",
       "      <td>3.79</td>\n",
       "      <td>48.18</td>\n",
       "      <td>13.48</td>\n",
       "      <td>105.73</td>\n",
       "    </tr>\n",
       "    <tr>\n",
       "      <th>Action</th>\n",
       "      <td>34.82</td>\n",
       "      <td>23.05</td>\n",
       "      <td>33.68</td>\n",
       "      <td>10.58</td>\n",
       "      <td>102.13</td>\n",
       "    </tr>\n",
       "    <tr>\n",
       "      <th>Sports</th>\n",
       "      <td>27.82</td>\n",
       "      <td>1.65</td>\n",
       "      <td>26.31</td>\n",
       "      <td>8.55</td>\n",
       "      <td>64.33</td>\n",
       "    </tr>\n",
       "    <tr>\n",
       "      <th>Role-Playing</th>\n",
       "      <td>17.21</td>\n",
       "      <td>13.41</td>\n",
       "      <td>19.82</td>\n",
       "      <td>5.38</td>\n",
       "      <td>55.82</td>\n",
       "    </tr>\n",
       "    <tr>\n",
       "      <th>Misc</th>\n",
       "      <td>4.26</td>\n",
       "      <td>3.19</td>\n",
       "      <td>5.58</td>\n",
       "      <td>1.14</td>\n",
       "      <td>14.17</td>\n",
       "    </tr>\n",
       "    <tr>\n",
       "      <th>Fighting</th>\n",
       "      <td>3.72</td>\n",
       "      <td>1.54</td>\n",
       "      <td>5.54</td>\n",
       "      <td>1.57</td>\n",
       "      <td>12.37</td>\n",
       "    </tr>\n",
       "    <tr>\n",
       "      <th>Adventure</th>\n",
       "      <td>4.67</td>\n",
       "      <td>2.22</td>\n",
       "      <td>3.84</td>\n",
       "      <td>1.25</td>\n",
       "      <td>11.98</td>\n",
       "    </tr>\n",
       "    <tr>\n",
       "      <th>Racing</th>\n",
       "      <td>6.52</td>\n",
       "      <td>0.29</td>\n",
       "      <td>2.82</td>\n",
       "      <td>1.23</td>\n",
       "      <td>10.86</td>\n",
       "    </tr>\n",
       "    <tr>\n",
       "      <th>Platform</th>\n",
       "      <td>3.20</td>\n",
       "      <td>1.42</td>\n",
       "      <td>3.78</td>\n",
       "      <td>0.88</td>\n",
       "      <td>9.28</td>\n",
       "    </tr>\n",
       "    <tr>\n",
       "      <th>Simulation</th>\n",
       "      <td>3.74</td>\n",
       "      <td>1.93</td>\n",
       "      <td>1.36</td>\n",
       "      <td>0.52</td>\n",
       "      <td>7.55</td>\n",
       "    </tr>\n",
       "    <tr>\n",
       "      <th>Strategy</th>\n",
       "      <td>1.57</td>\n",
       "      <td>0.39</td>\n",
       "      <td>0.82</td>\n",
       "      <td>0.20</td>\n",
       "      <td>2.98</td>\n",
       "    </tr>\n",
       "    <tr>\n",
       "      <th>Puzzle</th>\n",
       "      <td>0.13</td>\n",
       "      <td>0.52</td>\n",
       "      <td>0.06</td>\n",
       "      <td>0.01</td>\n",
       "      <td>0.72</td>\n",
       "    </tr>\n",
       "  </tbody>\n",
       "</table>\n",
       "</div>"
      ],
      "text/plain": [
       "              eu_sales  jp_sales  na_sales  other_sales  total_sales\n",
       "genre                                                               \n",
       "Shooter          40.28      3.79     48.18        13.48       105.73\n",
       "Action           34.82     23.05     33.68        10.58       102.13\n",
       "Sports           27.82      1.65     26.31         8.55        64.33\n",
       "Role-Playing     17.21     13.41     19.82         5.38        55.82\n",
       "Misc              4.26      3.19      5.58         1.14        14.17\n",
       "Fighting          3.72      1.54      5.54         1.57        12.37\n",
       "Adventure         4.67      2.22      3.84         1.25        11.98\n",
       "Racing            6.52      0.29      2.82         1.23        10.86\n",
       "Platform          3.20      1.42      3.78         0.88         9.28\n",
       "Simulation        3.74      1.93      1.36         0.52         7.55\n",
       "Strategy          1.57      0.39      0.82         0.20         2.98\n",
       "Puzzle            0.13      0.52      0.06         0.01         0.72"
      ]
     },
     "execution_count": 44,
     "metadata": {},
     "output_type": "execute_result"
    }
   ],
   "source": [
    "genre_region = data_2015.pivot_table(index='genre', values=['na_sales','eu_sales','jp_sales','other_sales','total_sales'], aggfunc= 'sum').sort_values(\n",
    "    by='total_sales',ascending=False)\n",
    "\n",
    "genre_region"
   ]
  },
  {
   "cell_type": "code",
   "execution_count": 45,
   "metadata": {},
   "outputs": [
    {
     "data": {
      "image/png": "[encoded data removed]",
      "text/plain": [
       "<Figure size 504x504 with 1 Axes>"
      ]
     },
     "metadata": {},
     "output_type": "display_data"
    },
    {
     "data": {
      "image/png": "[encoded data removed]",
      "text/plain": [
       "<Figure size 504x504 with 1 Axes>"
      ]
     },
     "metadata": {},
     "output_type": "display_data"
    },
    {
     "data": {
      "image/png": "[encoded data removed]",
      "text/plain": [
       "<Figure size 504x504 with 1 Axes>"
      ]
     },
     "metadata": {},
     "output_type": "display_data"
    },
    {
     "data": {
      "image/png": "[encoded data removed]",
      "text/plain": [
       "<Figure size 504x504 with 1 Axes>"
      ]
     },
     "metadata": {},
     "output_type": "display_data"
    }
   ],
   "source": [
    "genre_region.plot.pie(y='eu_sales',figsize=(7, 7),autopct='%1.1f%%', startangle=0)\n",
    "genre_region.plot.pie(y='jp_sales',figsize=(7, 7),autopct='%1.1f%%', startangle=0)\n",
    "genre_region.plot.pie(y='na_sales',figsize=(7, 7),autopct='%1.1f%%', startangle=0)\n",
    "genre_region.plot.pie(y='other_sales',figsize=(7, 7),autopct='%1.1f%%', startangle=0)\n",
    "\n",
    "plt.show()"
   ]
  },
  {
   "cell_type": "markdown",
   "metadata": {},
   "source": [
    "### Вывод\n",
    "\n",
    "Самые популярные жанры в Европе:\n",
    "1. Shooter 27,2%\n",
    "2. Action 23,5%\n",
    "3. Sports 18,8%\n",
    "4. Role-Playing 11,6%\n",
    "\n",
    "В Японии:\n",
    "1. Action 43,2%\n",
    "2. Role-Playing 25,1%\n",
    "\n",
    "В Северной Америке:\n",
    "1. Shooter 31,7%\n",
    "2. Action 22,2%\n",
    "3. Sports 17,3%\n",
    "4. Role-Playing 13,1%\n",
    "\n",
    "В других странах:\n",
    "1. Shooter 30,1%\n",
    "2. Action 23,6%\n",
    "3. Sports 19,1%\n",
    "4. Role-Playing 12%\n",
    "\n",
    "Не стала выбирать именно Топ-5, потому что по результатам анализа доля других жанров значительно меньше.\n",
    "По итогам можно сказать, что популярные жанры везде, кроме Японии, одинаковы, одинаковы даже их доли продаж.\n",
    "В Японии наиболее популярны только 2 жанра, Action и Role-Playing, в сумме 68% от продаж по всем жанрам. "
   ]
  },
  {
   "cell_type": "code",
   "execution_count": 46,
   "metadata": {
    "scrolled": false
   },
   "outputs": [
    {
     "data": {
      "text/html": [
       "<div>\n",
       "<style scoped>\n",
       "    .dataframe tbody tr th:only-of-type {\n",
       "        vertical-align: middle;\n",
       "    }\n",
       "\n",
       "    .dataframe tbody tr th {\n",
       "        vertical-align: top;\n",
       "    }\n",
       "\n",
       "    .dataframe thead th {\n",
       "        text-align: right;\n",
       "    }\n",
       "</style>\n",
       "<table border=\"1\" class=\"dataframe\">\n",
       "  <thead>\n",
       "    <tr style=\"text-align: right;\">\n",
       "      <th></th>\n",
       "      <th>eu_sales</th>\n",
       "      <th>jp_sales</th>\n",
       "      <th>na_sales</th>\n",
       "      <th>other_sales</th>\n",
       "      <th>total_sales</th>\n",
       "    </tr>\n",
       "    <tr>\n",
       "      <th>rating</th>\n",
       "      <th></th>\n",
       "      <th></th>\n",
       "      <th></th>\n",
       "      <th></th>\n",
       "      <th></th>\n",
       "    </tr>\n",
       "  </thead>\n",
       "  <tbody>\n",
       "    <tr>\n",
       "      <th>M</th>\n",
       "      <td>45.54</td>\n",
       "      <td>4.29</td>\n",
       "      <td>47.03</td>\n",
       "      <td>14.24</td>\n",
       "      <td>111.10</td>\n",
       "    </tr>\n",
       "    <tr>\n",
       "      <th>E</th>\n",
       "      <td>34.83</td>\n",
       "      <td>5.25</td>\n",
       "      <td>26.59</td>\n",
       "      <td>8.57</td>\n",
       "      <td>75.24</td>\n",
       "    </tr>\n",
       "    <tr>\n",
       "      <th>T</th>\n",
       "      <td>20.32</td>\n",
       "      <td>7.70</td>\n",
       "      <td>22.86</td>\n",
       "      <td>6.85</td>\n",
       "      <td>57.73</td>\n",
       "    </tr>\n",
       "    <tr>\n",
       "      <th>E10+</th>\n",
       "      <td>11.54</td>\n",
       "      <td>3.27</td>\n",
       "      <td>17.87</td>\n",
       "      <td>4.00</td>\n",
       "      <td>36.68</td>\n",
       "    </tr>\n",
       "  </tbody>\n",
       "</table>\n",
       "</div>"
      ],
      "text/plain": [
       "        eu_sales  jp_sales  na_sales  other_sales  total_sales\n",
       "rating                                                        \n",
       "M          45.54      4.29     47.03        14.24       111.10\n",
       "E          34.83      5.25     26.59         8.57        75.24\n",
       "T          20.32      7.70     22.86         6.85        57.73\n",
       "E10+       11.54      3.27     17.87         4.00        36.68"
      ]
     },
     "execution_count": 46,
     "metadata": {},
     "output_type": "execute_result"
    }
   ],
   "source": [
    "esrb_region = data_2015.pivot_table(index='rating', values=['na_sales','eu_sales','jp_sales','other_sales','total_sales'], aggfunc= 'sum').sort_values(\n",
    "    by='total_sales',ascending=False)\n",
    "\n",
    "esrb_region"
   ]
  },
  {
   "cell_type": "code",
   "execution_count": 47,
   "metadata": {},
   "outputs": [
    {
     "data": {
      "image/png": "[encoded data removed]",
      "text/plain": [
       "<Figure size 360x360 with 1 Axes>"
      ]
     },
     "metadata": {},
     "output_type": "display_data"
    },
    {
     "data": {
      "image/png": "[encoded data removed]",
      "text/plain": [
       "<Figure size 360x360 with 1 Axes>"
      ]
     },
     "metadata": {},
     "output_type": "display_data"
    },
    {
     "data": {
      "image/png": "[encoded data removed]",
      "text/plain": [
       "<Figure size 360x360 with 1 Axes>"
      ]
     },
     "metadata": {},
     "output_type": "display_data"
    },
    {
     "data": {
      "image/png": "[encoded data removed]",
      "text/plain": [
       "<Figure size 360x360 with 1 Axes>"
      ]
     },
     "metadata": {},
     "output_type": "display_data"
    }
   ],
   "source": [
    "esrb_region.plot.pie(y='eu_sales',figsize=(5, 5),autopct='%1.1f%%', startangle=0)\n",
    "esrb_region.plot.pie(y='jp_sales',figsize=(5, 5),autopct='%1.1f%%', startangle=0)\n",
    "esrb_region.plot.pie(y='na_sales',figsize=(5, 5),autopct='%1.1f%%', startangle=0)\n",
    "esrb_region.plot.pie(y='other_sales',figsize=(5, 5),autopct='%1.1f%%', startangle=0)\n",
    "\n",
    "plt.show()"
   ]
  },
  {
   "cell_type": "markdown",
   "metadata": {},
   "source": [
    "### Вывод\n",
    "\n",
    "Рейтинг ESRB, расшифровка:\n",
    "\n",
    "M (Mature 17+) — от 17 лет\n",
    "\n",
    "E - everyone - для всех\n",
    "\n",
    "T (Teen) — для подростков 13-19 лет\n",
    "\n",
    "E10+ (Everyone 10+) — для всех старше 10 лет\n",
    "\n",
    "И в этот раз, статистика по Японии отличается от других стран. \n",
    "Так в Японии наиболее популярны игры для подростков 13-19 лет, 37,5% от всех продаж. Далее идут игры для всех и от 17 лет.\n",
    "\n",
    "По остальным странам статистика схожа: наиболее популярны игры от 17 лет, примерно 40% от всех продаж по региону, потом идут игры для всех, 25-30%, потом для подростков от 13 до 19 лет, в среднем 20%.\n",
    "\n",
    "Общее для всех стран, что наименьшей популярностью пользуются игры для всех старше 10 лет, 10-15%."
   ]
  },
  {
   "cell_type": "markdown",
   "metadata": {},
   "source": [
    "## Проверьте гипотезы\n",
    "\n",
    "Средние пользовательские рейтинги платформ Xbox One и PC одинаковые;\n",
    "\n",
    "Средние пользовательские рейтинги жанров Action (англ. «действие», экшен-игры) и Sports (англ. «спортивные соревнования») разные."
   ]
  },
  {
   "cell_type": "code",
   "execution_count": 48,
   "metadata": {},
   "outputs": [
    {
     "name": "stdout",
     "output_type": "stream",
     "text": [
      "p-значение:  0.2946308864003399\n",
      "Не получилось отвергнуть нулевую гипотезу\n"
     ]
    }
   ],
   "source": [
    "# Н0 - Средние пользовательские рейтинги платформ Xbox One и PC равны\n",
    "# H1 - Средние пользовательские рейтинги платформ Xbox One и PC не равны\n",
    "\n",
    "xone = data_2015[data_2015['platform'] == 'XOne']['user_score']\n",
    "\n",
    "pc = data_2015[data_2015['platform'] == 'PC']['user_score']\n",
    "\n",
    "alpha = .05 # критический уровень статистической значимости\n",
    "# если p-value окажется меньше него - отвегнем гипотезу\n",
    "\n",
    "results = st.ttest_ind(xone, pc, equal_var = False, nan_policy ='omit')\n",
    "print('p-значение: ', results.pvalue)\n",
    "\n",
    "if results.pvalue < alpha:\n",
    "    print(\"Отвергаем нулевую гипотезу\")\n",
    "else:\n",
    "    print(\"Не получилось отвергнуть нулевую гипотезу\")"
   ]
  },
  {
   "cell_type": "code",
   "execution_count": 49,
   "metadata": {
    "scrolled": true
   },
   "outputs": [
    {
     "name": "stdout",
     "output_type": "stream",
     "text": [
      "Средний пользовательский рейтинг Xone: 6.542148760330578\n",
      "Средний пользовательский рейтинг PC: 6.296428571428573\n"
     ]
    }
   ],
   "source": [
    "# проверю\n",
    "\n",
    "print('Средний пользовательский рейтинг Xone:', xone.mean())\n",
    "print('Средний пользовательский рейтинг PC:', pc.mean())"
   ]
  },
  {
   "cell_type": "code",
   "execution_count": 50,
   "metadata": {},
   "outputs": [
    {
     "name": "stdout",
     "output_type": "stream",
     "text": [
      "p-значение:  5.97163549920592e-10\n",
      "Отвергаем нулевую гипотезу\n"
     ]
    }
   ],
   "source": [
    "# Н0 - Средние пользовательские рейтинги жанров Action и Sports равны\n",
    "# H1 - Средние пользовательские рейтинги жанров Action и Sports не равны\n",
    "\n",
    "action = data_2015[data_2015['genre'] == 'Action']['user_score']\n",
    "\n",
    "sports = data_2015[data_2015['genre'] == 'Sports']['user_score']\n",
    "\n",
    "alpha = .05 # критический уровень статистической значимости\n",
    "# если p-value окажется меньше него - отвегнем гипотезу\n",
    "\n",
    "results = st.ttest_ind(action, sports, equal_var = False, nan_policy ='omit')\n",
    "print('p-значение: ', results.pvalue)\n",
    "\n",
    "if results.pvalue < alpha:\n",
    "    print(\"Отвергаем нулевую гипотезу\")\n",
    "else:\n",
    "    print(\"Не получилось отвергнуть нулевую гипотезу\")"
   ]
  },
  {
   "cell_type": "code",
   "execution_count": 51,
   "metadata": {},
   "outputs": [
    {
     "name": "stdout",
     "output_type": "stream",
     "text": [
      "Средний пользовательский рейтинг Action: 6.808290155440415\n",
      "Средний пользовательский рейтинг Sports: 5.198780487804878\n"
     ]
    }
   ],
   "source": [
    "# проверю\n",
    "\n",
    "print('Средний пользовательский рейтинг Action:', action.mean())\n",
    "print('Средний пользовательский рейтинг Sports:', sports.mean())"
   ]
  },
  {
   "cell_type": "markdown",
   "metadata": {},
   "source": [
    "### Вывод\n",
    "\n",
    "Были проверены гипотезы:\n",
    "\n",
    "Средние пользовательские рейтинги платформ Xbox One и PC одинаковые;\n",
    "\n",
    "Средние пользовательские рейтинги жанров Action (англ. «действие», экшен-игры) и Sports (англ. «спортивные соревнования») разные.\n",
    "\n",
    "Обе они подтвердились.\n",
    "H0 в обоих случаях была о том, что сравниваемые данные равны, H1, о том, что различаются.\n",
    "Анализировались две независимые выборки, поэтому использовался st.ttest_ind"
   ]
  },
  {
   "cell_type": "markdown",
   "metadata": {},
   "source": [
    "## Напишите общий вывод"
   ]
  },
  {
   "cell_type": "markdown",
   "metadata": {},
   "source": [
    "1. Больше всего игр выпускалось в 2005-2011 годах.\n",
    "2. Продажи по платформам начали расти с 1996 года и пик пришелся на 2008-2009 года. Дальше шел спад.\n",
    "3. Платформы с наибольшими суммарными продажами:'PS2', 'X360', 'PS3', 'Wii', 'DS', 'PS'\n",
    "4. Характерный срок, когда появляются новые и исчезают старые платформы по результатам анализа всей выборки - от 0 до 10 лет, в среднем, 7,5 лет. При этом, если смотреть графики Топ-6 платформ за все время, то пик продаж игр на платформу составляет 3-4 года.\n",
    "5. Далее проводился анализ по данным с 2015 года, так как платформы, которые были лидерами ранее, сейчас таковыми не являются потенциально прибыльными уже тоже считаться не могут.\n",
    "6. По продажам в 2015-2016 годах лидируют платформы: PS4, XOne, 3DS. Их считаю потенциально прибыльными. При этом сумма продаж в 2016 году снизилась по всем платформам.\n",
    "7. Анализ показал, что корреляция между оценками критиков или пользователей и продажами слабая и по всей выборке, и по лидирующим платформам. \n",
    "8. Выделяются жанры с высокими продажами: Action и Shooter, потом идут Sports и Role-Playing; с самыми низкими - Puzzle и Strategy, хотя продажи по остальным жанрам тоже небольшие.\n",
    "9. В Европе наиболее популярны платформы:\n",
    "PS4 56,5%,\n",
    "XOne 19%,\n",
    "PC 6,2%,\n",
    "3DS 5%,\n",
    "PS3 4,9%\n",
    "\n",
    "В Японии:\n",
    "3DS 44,1%,\n",
    "PS4 22,6%,\n",
    "PSV 15,7%,\n",
    "PS3 9,3%,\n",
    "WiiU 7,7%\n",
    "\n",
    "В Северной Америке:\n",
    "PS4 42,1%,\n",
    "XOne 33,1%,\n",
    "3DS 6,8%,\n",
    "WiiU 5,8%,\n",
    "X360 5,3%\n",
    "\n",
    "В других странах:\n",
    "PS4 64,1%,\n",
    "XOne 17,2%,\n",
    "PS3 5,6%,\n",
    "3DS 3,7%,\n",
    "WiiU 3,3%\n",
    "\n",
    "Различия в долях продаж по регионам есть. Схожи топ-5 платформ в Европе, Северной Америке и в других странах(кроме еще Японии). В этих 3 регионах лидируют PS4 и XOne в разных пропорциях, в общем, на эти 2 платформы приходится 75-80% продаж и остальные платформы, входящие по популярности в Топ-5, имеют гораздо меньшие доли.\n",
    "В Японии картина немного другая. Платформы на рынке распределены более равномерно, лидируют 3DS, PS4 и PSV.\n",
    "\n",
    "10. Самые популярные жанры в Европе:\n",
    "Shooter 27,2%,\n",
    "Action 23,5%,\n",
    "Sports 18,8%,\n",
    "Role-Playing 11,6%\n",
    "\n",
    "В Японии:\n",
    "Action 43,2%,\n",
    "Role-Playing 25,1%\n",
    "\n",
    "В Северной Америке:\n",
    "Shooter 31,7%,\n",
    "Action 22,2%,\n",
    "Sports 17,3%,\n",
    "Role-Playing 13,1%\n",
    "\n",
    "В других странах:\n",
    "Shooter 30,1%,\n",
    "Action 23,6%,\n",
    "Sports 19,1%,\n",
    "Role-Playing 12%\n",
    "\n",
    "Популярные жанры везде, кроме Японии, одинаковы, одинаковы даже их доли продаж. В Японии наиболее популярны только 2 жанра, Action и Role-Playing, в сумме 68% от продаж по всем жанрам.\n",
    "\n",
    "11. И в этот раз, статистика по Японии отличается от других стран. Так в Японии наиболее популярны игры для подростков 13-19 лет, 37,5% от всех продаж. Далее идут игры для всех и от 17 лет. По остальным странам статистика схожа: наиболее популярны игры от 17 лет, примерно 40% от всех продаж по региону, потом идут игры для всех, 25-30%, потом для подростков от 13 до 19 лет, в среднем 20%. Общее для всех стран, что наименьшей популярностью пользуются игры для всех старше 10 лет, 10-15%.\n",
    "\n",
    "12. Были проверены гипотезы:\n",
    "Средние пользовательские рейтинги платформ Xbox One и PC одинаковые;\n",
    "Средние пользовательские рейтинги жанров Action (англ. «действие», экшен-игры) и Sports (англ. «спортивные соревнования») разные.\n",
    "Обе они подтвердились. \n"
   ]
  },
  {
   "cell_type": "markdown",
   "metadata": {},
   "source": [
    "Определяющие успешность игры закономерности:\n",
    "1. Самая популярная платформа по всему миру - PS4. Так же популярна 3DS в Японии и XOne в остальных странах. Это наиболее выгодные платформы.\n",
    "2. Самые популярные жанры - Shooter, Action, Sports, Role-Playing. В Японии стоит сделать ставку только на 2 из них - Action и Role-Playing.\n",
    "3. Наименьшей популярностью пользуются игры для всех старше 10 лет, 10-15%. В Японии больше всего популярны игры для подростков 13-19 лет, в остальных странах - игры от 17 лет."
   ]
  }
 ],
 "metadata": {
  "ExecuteTimeLog": [
   {
    "duration": 954,
    "start_time": "2022-01-24T13:39:30.224Z"
   },
   {
    "duration": 1563,
    "start_time": "2022-01-24T13:39:40.352Z"
   },
   {
    "duration": 2321,
    "start_time": "2022-01-24T13:39:44.155Z"
   },
   {
    "duration": 52,
    "start_time": "2022-01-24T13:41:39.948Z"
   },
   {
    "duration": 9,
    "start_time": "2022-01-24T13:42:42.360Z"
   },
   {
    "duration": 62,
    "start_time": "2022-01-24T13:43:03.120Z"
   },
   {
    "duration": 58,
    "start_time": "2022-01-24T13:43:18.659Z"
   },
   {
    "duration": 3,
    "start_time": "2022-01-24T13:45:56.614Z"
   },
   {
    "duration": 4,
    "start_time": "2022-01-24T13:46:12.179Z"
   },
   {
    "duration": 8,
    "start_time": "2022-01-24T13:47:22.058Z"
   },
   {
    "duration": 9,
    "start_time": "2022-01-24T13:47:38.312Z"
   },
   {
    "duration": 9,
    "start_time": "2022-01-24T13:48:26.340Z"
   },
   {
    "duration": 7,
    "start_time": "2022-01-24T13:49:09.214Z"
   },
   {
    "duration": 29,
    "start_time": "2022-01-24T13:49:26.509Z"
   },
   {
    "duration": 131,
    "start_time": "2022-01-24T13:55:42.137Z"
   },
   {
    "duration": 119,
    "start_time": "2022-01-24T13:56:01.254Z"
   },
   {
    "duration": 4,
    "start_time": "2022-01-24T13:56:15.301Z"
   },
   {
    "duration": 23,
    "start_time": "2022-01-24T13:58:42.919Z"
   },
   {
    "duration": 18,
    "start_time": "2022-01-24T13:59:30.446Z"
   },
   {
    "duration": 12,
    "start_time": "2022-01-24T14:00:17.373Z"
   },
   {
    "duration": 986,
    "start_time": "2022-01-24T14:04:15.705Z"
   },
   {
    "duration": 53,
    "start_time": "2022-01-24T14:04:16.693Z"
   },
   {
    "duration": 10,
    "start_time": "2022-01-24T14:04:16.748Z"
   },
   {
    "duration": 70,
    "start_time": "2022-01-24T14:04:16.760Z"
   },
   {
    "duration": 58,
    "start_time": "2022-01-24T14:04:16.832Z"
   },
   {
    "duration": 20,
    "start_time": "2022-01-24T14:04:16.891Z"
   },
   {
    "duration": 9,
    "start_time": "2022-01-24T14:04:16.913Z"
   },
   {
    "duration": 9,
    "start_time": "2022-01-24T14:04:16.924Z"
   },
   {
    "duration": 8,
    "start_time": "2022-01-24T14:04:16.935Z"
   },
   {
    "duration": 7,
    "start_time": "2022-01-24T14:04:16.944Z"
   },
   {
    "duration": 23,
    "start_time": "2022-01-24T14:04:16.953Z"
   },
   {
    "duration": 163,
    "start_time": "2022-01-24T14:04:16.978Z"
   },
   {
    "duration": 3,
    "start_time": "2022-01-24T14:04:17.143Z"
   },
   {
    "duration": 23,
    "start_time": "2022-01-24T14:04:17.148Z"
   },
   {
    "duration": 42,
    "start_time": "2022-01-24T14:04:17.173Z"
   },
   {
    "duration": 13,
    "start_time": "2022-01-24T14:04:17.217Z"
   },
   {
    "duration": 22,
    "start_time": "2022-01-24T14:04:17.232Z"
   },
   {
    "duration": 76,
    "start_time": "2022-01-24T14:07:10.426Z"
   },
   {
    "duration": 3,
    "start_time": "2022-01-24T14:07:33.033Z"
   },
   {
    "duration": 252,
    "start_time": "2022-01-24T14:12:05.595Z"
   },
   {
    "duration": 231,
    "start_time": "2022-01-24T18:48:00.228Z"
   },
   {
    "duration": 2334,
    "start_time": "2022-01-24T18:48:08.347Z"
   },
   {
    "duration": 1030,
    "start_time": "2022-01-24T18:48:40.522Z"
   },
   {
    "duration": 52,
    "start_time": "2022-01-24T18:48:41.554Z"
   },
   {
    "duration": 9,
    "start_time": "2022-01-24T18:48:41.608Z"
   },
   {
    "duration": 56,
    "start_time": "2022-01-24T18:48:41.619Z"
   },
   {
    "duration": 72,
    "start_time": "2022-01-24T18:48:41.677Z"
   },
   {
    "duration": 4,
    "start_time": "2022-01-24T18:48:41.751Z"
   },
   {
    "duration": 10,
    "start_time": "2022-01-24T18:48:41.757Z"
   },
   {
    "duration": 9,
    "start_time": "2022-01-24T18:48:41.769Z"
   },
   {
    "duration": 7,
    "start_time": "2022-01-24T18:48:41.780Z"
   },
   {
    "duration": 7,
    "start_time": "2022-01-24T18:48:41.813Z"
   },
   {
    "duration": 27,
    "start_time": "2022-01-24T18:48:41.821Z"
   },
   {
    "duration": 138,
    "start_time": "2022-01-24T18:48:41.850Z"
   },
   {
    "duration": 3,
    "start_time": "2022-01-24T18:48:41.990Z"
   },
   {
    "duration": 32,
    "start_time": "2022-01-24T18:48:41.995Z"
   },
   {
    "duration": 15,
    "start_time": "2022-01-24T18:48:42.029Z"
   },
   {
    "duration": 289,
    "start_time": "2022-01-24T18:48:42.046Z"
   },
   {
    "duration": 11,
    "start_time": "2022-01-24T18:48:42.336Z"
   },
   {
    "duration": 20,
    "start_time": "2022-01-24T18:48:42.348Z"
   },
   {
    "duration": 279,
    "start_time": "2022-01-24T18:49:29.108Z"
   },
   {
    "duration": 273,
    "start_time": "2022-01-24T18:49:39.571Z"
   },
   {
    "duration": 233,
    "start_time": "2022-01-24T19:03:58.941Z"
   },
   {
    "duration": 210,
    "start_time": "2022-01-24T19:08:59.932Z"
   },
   {
    "duration": 339,
    "start_time": "2022-01-24T19:10:48.419Z"
   },
   {
    "duration": 466,
    "start_time": "2022-01-24T19:11:45.309Z"
   },
   {
    "duration": 376,
    "start_time": "2022-01-24T19:11:54.258Z"
   },
   {
    "duration": 576,
    "start_time": "2022-01-24T19:12:49.784Z"
   },
   {
    "duration": 380,
    "start_time": "2022-01-24T19:12:58.407Z"
   },
   {
    "duration": 395,
    "start_time": "2022-01-24T19:13:04.091Z"
   },
   {
    "duration": 308,
    "start_time": "2022-01-24T19:15:06.893Z"
   },
   {
    "duration": 323,
    "start_time": "2022-01-24T19:15:35.353Z"
   },
   {
    "duration": 18,
    "start_time": "2022-01-24T19:28:16.847Z"
   },
   {
    "duration": 4,
    "start_time": "2022-01-24T19:29:40.933Z"
   },
   {
    "duration": 4,
    "start_time": "2022-01-24T19:30:23.181Z"
   },
   {
    "duration": 6,
    "start_time": "2022-01-24T19:30:29.722Z"
   },
   {
    "duration": 787,
    "start_time": "2022-01-24T19:33:40.130Z"
   },
   {
    "duration": 769,
    "start_time": "2022-01-24T19:53:47.415Z"
   },
   {
    "duration": 13,
    "start_time": "2022-01-24T19:58:49.483Z"
   },
   {
    "duration": 768,
    "start_time": "2022-01-24T19:59:41.655Z"
   },
   {
    "duration": 1007,
    "start_time": "2022-01-24T19:59:58.649Z"
   },
   {
    "duration": 54,
    "start_time": "2022-01-24T19:59:59.657Z"
   },
   {
    "duration": 10,
    "start_time": "2022-01-24T19:59:59.713Z"
   },
   {
    "duration": 60,
    "start_time": "2022-01-24T19:59:59.724Z"
   },
   {
    "duration": 74,
    "start_time": "2022-01-24T19:59:59.786Z"
   },
   {
    "duration": 4,
    "start_time": "2022-01-24T19:59:59.862Z"
   },
   {
    "duration": 8,
    "start_time": "2022-01-24T19:59:59.868Z"
   },
   {
    "duration": 9,
    "start_time": "2022-01-24T19:59:59.879Z"
   },
   {
    "duration": 8,
    "start_time": "2022-01-24T19:59:59.912Z"
   },
   {
    "duration": 6,
    "start_time": "2022-01-24T19:59:59.922Z"
   },
   {
    "duration": 26,
    "start_time": "2022-01-24T19:59:59.930Z"
   },
   {
    "duration": 154,
    "start_time": "2022-01-24T19:59:59.958Z"
   },
   {
    "duration": 4,
    "start_time": "2022-01-24T20:00:00.113Z"
   },
   {
    "duration": 23,
    "start_time": "2022-01-24T20:00:00.119Z"
   },
   {
    "duration": 16,
    "start_time": "2022-01-24T20:00:00.144Z"
   },
   {
    "duration": 410,
    "start_time": "2022-01-24T20:00:00.161Z"
   },
   {
    "duration": 12,
    "start_time": "2022-01-24T20:00:00.573Z"
   },
   {
    "duration": 340,
    "start_time": "2022-01-24T20:00:00.587Z"
   },
   {
    "duration": 4,
    "start_time": "2022-01-24T20:00:00.930Z"
   },
   {
    "duration": 887,
    "start_time": "2022-01-24T20:00:00.936Z"
   },
   {
    "duration": 11,
    "start_time": "2022-01-24T20:00:15.122Z"
   },
   {
    "duration": 13,
    "start_time": "2022-01-24T20:00:28.348Z"
   },
   {
    "duration": 743,
    "start_time": "2022-01-24T20:04:20.261Z"
   },
   {
    "duration": 1032,
    "start_time": "2022-01-24T20:04:41.128Z"
   },
   {
    "duration": 52,
    "start_time": "2022-01-24T20:04:42.161Z"
   },
   {
    "duration": 9,
    "start_time": "2022-01-24T20:04:42.214Z"
   },
   {
    "duration": 57,
    "start_time": "2022-01-24T20:04:42.224Z"
   },
   {
    "duration": 72,
    "start_time": "2022-01-24T20:04:42.283Z"
   },
   {
    "duration": 5,
    "start_time": "2022-01-24T20:04:42.357Z"
   },
   {
    "duration": 8,
    "start_time": "2022-01-24T20:04:42.364Z"
   },
   {
    "duration": 9,
    "start_time": "2022-01-24T20:04:42.374Z"
   },
   {
    "duration": 29,
    "start_time": "2022-01-24T20:04:42.384Z"
   },
   {
    "duration": 7,
    "start_time": "2022-01-24T20:04:42.414Z"
   },
   {
    "duration": 29,
    "start_time": "2022-01-24T20:04:42.422Z"
   },
   {
    "duration": 141,
    "start_time": "2022-01-24T20:04:42.453Z"
   },
   {
    "duration": 16,
    "start_time": "2022-01-24T20:04:42.596Z"
   },
   {
    "duration": 22,
    "start_time": "2022-01-24T20:04:42.614Z"
   },
   {
    "duration": 16,
    "start_time": "2022-01-24T20:04:42.638Z"
   },
   {
    "duration": 417,
    "start_time": "2022-01-24T20:04:42.655Z"
   },
   {
    "duration": 14,
    "start_time": "2022-01-24T20:04:43.074Z"
   },
   {
    "duration": 333,
    "start_time": "2022-01-24T20:04:43.090Z"
   },
   {
    "duration": 5,
    "start_time": "2022-01-24T20:04:43.425Z"
   },
   {
    "duration": 438,
    "start_time": "2022-01-24T20:04:43.432Z"
   },
   {
    "duration": 873,
    "start_time": "2022-01-24T20:07:33.848Z"
   },
   {
    "duration": 999,
    "start_time": "2022-01-24T20:07:48.864Z"
   },
   {
    "duration": 52,
    "start_time": "2022-01-24T20:07:49.865Z"
   },
   {
    "duration": 9,
    "start_time": "2022-01-24T20:07:49.920Z"
   },
   {
    "duration": 56,
    "start_time": "2022-01-24T20:07:49.931Z"
   },
   {
    "duration": 73,
    "start_time": "2022-01-24T20:07:49.988Z"
   },
   {
    "duration": 5,
    "start_time": "2022-01-24T20:07:50.064Z"
   },
   {
    "duration": 16,
    "start_time": "2022-01-24T20:07:50.071Z"
   },
   {
    "duration": 24,
    "start_time": "2022-01-24T20:07:50.090Z"
   },
   {
    "duration": 7,
    "start_time": "2022-01-24T20:07:50.116Z"
   },
   {
    "duration": 9,
    "start_time": "2022-01-24T20:07:50.124Z"
   },
   {
    "duration": 37,
    "start_time": "2022-01-24T20:07:50.135Z"
   },
   {
    "duration": 141,
    "start_time": "2022-01-24T20:07:50.174Z"
   },
   {
    "duration": 4,
    "start_time": "2022-01-24T20:07:50.316Z"
   },
   {
    "duration": 24,
    "start_time": "2022-01-24T20:07:50.322Z"
   },
   {
    "duration": 17,
    "start_time": "2022-01-24T20:07:50.347Z"
   },
   {
    "duration": 413,
    "start_time": "2022-01-24T20:07:50.365Z"
   },
   {
    "duration": 12,
    "start_time": "2022-01-24T20:07:50.779Z"
   },
   {
    "duration": 362,
    "start_time": "2022-01-24T20:07:50.793Z"
   },
   {
    "duration": 228,
    "start_time": "2022-01-24T20:07:51.157Z"
   },
   {
    "duration": 203,
    "start_time": "2022-01-24T20:08:38.080Z"
   },
   {
    "duration": 4,
    "start_time": "2022-01-24T20:16:42.376Z"
   },
   {
    "duration": 320,
    "start_time": "2022-01-24T20:21:06.187Z"
   },
   {
    "duration": 3979,
    "start_time": "2022-01-24T20:23:48.836Z"
   },
   {
    "duration": 59,
    "start_time": "2022-01-24T20:27:51.297Z"
   },
   {
    "duration": 256,
    "start_time": "2022-01-24T20:28:03.606Z"
   },
   {
    "duration": 281,
    "start_time": "2022-01-24T20:28:36.515Z"
   },
   {
    "duration": 187,
    "start_time": "2022-01-24T20:28:44.540Z"
   },
   {
    "duration": 226,
    "start_time": "2022-01-24T20:29:03.997Z"
   },
   {
    "duration": 1157,
    "start_time": "2022-01-24T20:29:13.201Z"
   },
   {
    "duration": 52,
    "start_time": "2022-01-24T20:29:14.360Z"
   },
   {
    "duration": 9,
    "start_time": "2022-01-24T20:29:14.414Z"
   },
   {
    "duration": 56,
    "start_time": "2022-01-24T20:29:14.425Z"
   },
   {
    "duration": 73,
    "start_time": "2022-01-24T20:29:14.483Z"
   },
   {
    "duration": 4,
    "start_time": "2022-01-24T20:29:14.558Z"
   },
   {
    "duration": 9,
    "start_time": "2022-01-24T20:29:14.563Z"
   },
   {
    "duration": 11,
    "start_time": "2022-01-24T20:29:14.575Z"
   },
   {
    "duration": 27,
    "start_time": "2022-01-24T20:29:14.588Z"
   },
   {
    "duration": 7,
    "start_time": "2022-01-24T20:29:14.617Z"
   },
   {
    "duration": 25,
    "start_time": "2022-01-24T20:29:14.625Z"
   },
   {
    "duration": 153,
    "start_time": "2022-01-24T20:29:14.652Z"
   },
   {
    "duration": 4,
    "start_time": "2022-01-24T20:29:14.812Z"
   },
   {
    "duration": 23,
    "start_time": "2022-01-24T20:29:14.817Z"
   },
   {
    "duration": 17,
    "start_time": "2022-01-24T20:29:14.841Z"
   },
   {
    "duration": 441,
    "start_time": "2022-01-24T20:29:14.860Z"
   },
   {
    "duration": 19,
    "start_time": "2022-01-24T20:29:15.302Z"
   },
   {
    "duration": 261,
    "start_time": "2022-01-24T20:29:15.323Z"
   },
   {
    "duration": 3,
    "start_time": "2022-01-24T20:29:15.586Z"
   },
   {
    "duration": 233,
    "start_time": "2022-01-24T20:29:15.590Z"
   },
   {
    "duration": 4,
    "start_time": "2022-01-24T20:29:15.825Z"
   },
   {
    "duration": 277,
    "start_time": "2022-01-24T20:29:52.915Z"
   },
   {
    "duration": 239,
    "start_time": "2022-01-24T20:30:21.575Z"
   },
   {
    "duration": 218,
    "start_time": "2022-01-24T20:31:12.240Z"
   },
   {
    "duration": 285,
    "start_time": "2022-01-24T20:31:31.149Z"
   },
   {
    "duration": 222,
    "start_time": "2022-01-24T20:32:12.880Z"
   },
   {
    "duration": 200,
    "start_time": "2022-01-24T20:33:34.472Z"
   },
   {
    "duration": 208,
    "start_time": "2022-01-24T20:34:58.472Z"
   },
   {
    "duration": 205,
    "start_time": "2022-01-24T20:35:08.297Z"
   },
   {
    "duration": 210,
    "start_time": "2022-01-24T20:35:55.360Z"
   },
   {
    "duration": 21,
    "start_time": "2022-01-24T20:37:56.240Z"
   },
   {
    "duration": 56,
    "start_time": "2022-01-24T20:38:55.862Z"
   },
   {
    "duration": 15,
    "start_time": "2022-01-24T20:39:01.851Z"
   },
   {
    "duration": 1068,
    "start_time": "2022-01-24T20:39:17.481Z"
   },
   {
    "duration": 53,
    "start_time": "2022-01-24T20:39:18.551Z"
   },
   {
    "duration": 10,
    "start_time": "2022-01-24T20:39:18.606Z"
   },
   {
    "duration": 57,
    "start_time": "2022-01-24T20:39:18.618Z"
   },
   {
    "duration": 72,
    "start_time": "2022-01-24T20:39:18.677Z"
   },
   {
    "duration": 4,
    "start_time": "2022-01-24T20:39:18.751Z"
   },
   {
    "duration": 8,
    "start_time": "2022-01-24T20:39:18.756Z"
   },
   {
    "duration": 8,
    "start_time": "2022-01-24T20:39:18.767Z"
   },
   {
    "duration": 7,
    "start_time": "2022-01-24T20:39:18.777Z"
   },
   {
    "duration": 31,
    "start_time": "2022-01-24T20:39:18.786Z"
   },
   {
    "duration": 25,
    "start_time": "2022-01-24T20:39:18.819Z"
   },
   {
    "duration": 142,
    "start_time": "2022-01-24T20:39:18.846Z"
   },
   {
    "duration": 4,
    "start_time": "2022-01-24T20:39:18.989Z"
   },
   {
    "duration": 34,
    "start_time": "2022-01-24T20:39:18.995Z"
   },
   {
    "duration": 17,
    "start_time": "2022-01-24T20:39:19.031Z"
   },
   {
    "duration": 410,
    "start_time": "2022-01-24T20:39:19.049Z"
   },
   {
    "duration": 15,
    "start_time": "2022-01-24T20:39:19.461Z"
   },
   {
    "duration": 304,
    "start_time": "2022-01-24T20:39:19.478Z"
   },
   {
    "duration": 1491,
    "start_time": "2022-01-24T20:39:18.292Z"
   },
   {
    "duration": 1487,
    "start_time": "2022-01-24T20:39:18.297Z"
   },
   {
    "duration": 1482,
    "start_time": "2022-01-24T20:39:18.303Z"
   },
   {
    "duration": 1479,
    "start_time": "2022-01-24T20:39:18.307Z"
   },
   {
    "duration": 1476,
    "start_time": "2022-01-24T20:39:18.311Z"
   },
   {
    "duration": 1472,
    "start_time": "2022-01-24T20:39:18.316Z"
   },
   {
    "duration": 1469,
    "start_time": "2022-01-24T20:39:18.320Z"
   },
   {
    "duration": 1465,
    "start_time": "2022-01-24T20:39:18.325Z"
   },
   {
    "duration": 14,
    "start_time": "2022-01-24T20:40:54.087Z"
   },
   {
    "duration": 1079,
    "start_time": "2022-01-24T20:42:02.683Z"
   },
   {
    "duration": 52,
    "start_time": "2022-01-24T20:42:03.763Z"
   },
   {
    "duration": 10,
    "start_time": "2022-01-24T20:42:03.817Z"
   },
   {
    "duration": 54,
    "start_time": "2022-01-24T20:42:03.829Z"
   },
   {
    "duration": 74,
    "start_time": "2022-01-24T20:42:03.885Z"
   },
   {
    "duration": 4,
    "start_time": "2022-01-24T20:42:03.961Z"
   },
   {
    "duration": 8,
    "start_time": "2022-01-24T20:42:03.966Z"
   },
   {
    "duration": 9,
    "start_time": "2022-01-24T20:42:03.976Z"
   },
   {
    "duration": 28,
    "start_time": "2022-01-24T20:42:03.987Z"
   },
   {
    "duration": 13,
    "start_time": "2022-01-24T20:42:04.016Z"
   },
   {
    "duration": 33,
    "start_time": "2022-01-24T20:42:04.030Z"
   },
   {
    "duration": 126,
    "start_time": "2022-01-24T20:42:04.064Z"
   },
   {
    "duration": 3,
    "start_time": "2022-01-24T20:42:04.192Z"
   },
   {
    "duration": 32,
    "start_time": "2022-01-24T20:42:04.197Z"
   },
   {
    "duration": 17,
    "start_time": "2022-01-24T20:42:04.230Z"
   },
   {
    "duration": 411,
    "start_time": "2022-01-24T20:42:04.248Z"
   },
   {
    "duration": 289,
    "start_time": "2022-01-24T20:42:04.661Z"
   },
   {
    "duration": 1537,
    "start_time": "2022-01-24T20:42:03.415Z"
   },
   {
    "duration": 1532,
    "start_time": "2022-01-24T20:42:03.421Z"
   },
   {
    "duration": 1526,
    "start_time": "2022-01-24T20:42:03.427Z"
   },
   {
    "duration": 1520,
    "start_time": "2022-01-24T20:42:03.434Z"
   },
   {
    "duration": 1514,
    "start_time": "2022-01-24T20:42:03.441Z"
   },
   {
    "duration": 1507,
    "start_time": "2022-01-24T20:42:03.449Z"
   },
   {
    "duration": 1465,
    "start_time": "2022-01-24T20:42:03.492Z"
   },
   {
    "duration": 1455,
    "start_time": "2022-01-24T20:42:03.503Z"
   },
   {
    "duration": 1447,
    "start_time": "2022-01-24T20:42:03.512Z"
   },
   {
    "duration": 17,
    "start_time": "2022-01-24T20:42:36.234Z"
   },
   {
    "duration": 1073,
    "start_time": "2022-01-24T20:42:49.574Z"
   },
   {
    "duration": 52,
    "start_time": "2022-01-24T20:42:50.649Z"
   },
   {
    "duration": 10,
    "start_time": "2022-01-24T20:42:50.703Z"
   },
   {
    "duration": 58,
    "start_time": "2022-01-24T20:42:50.714Z"
   },
   {
    "duration": 72,
    "start_time": "2022-01-24T20:42:50.774Z"
   },
   {
    "duration": 5,
    "start_time": "2022-01-24T20:42:50.848Z"
   },
   {
    "duration": 9,
    "start_time": "2022-01-24T20:42:50.855Z"
   },
   {
    "duration": 10,
    "start_time": "2022-01-24T20:42:50.867Z"
   },
   {
    "duration": 37,
    "start_time": "2022-01-24T20:42:50.880Z"
   },
   {
    "duration": 7,
    "start_time": "2022-01-24T20:42:50.919Z"
   },
   {
    "duration": 25,
    "start_time": "2022-01-24T20:42:50.928Z"
   },
   {
    "duration": 148,
    "start_time": "2022-01-24T20:42:50.954Z"
   },
   {
    "duration": 3,
    "start_time": "2022-01-24T20:42:51.112Z"
   },
   {
    "duration": 23,
    "start_time": "2022-01-24T20:42:51.117Z"
   },
   {
    "duration": 16,
    "start_time": "2022-01-24T20:42:51.141Z"
   },
   {
    "duration": 416,
    "start_time": "2022-01-24T20:42:51.158Z"
   },
   {
    "duration": 13,
    "start_time": "2022-01-24T20:42:51.575Z"
   },
   {
    "duration": 230,
    "start_time": "2022-01-24T20:42:51.590Z"
   },
   {
    "duration": 231,
    "start_time": "2022-01-24T20:42:51.822Z"
   },
   {
    "duration": 217,
    "start_time": "2022-01-24T20:42:52.055Z"
   },
   {
    "duration": 233,
    "start_time": "2022-01-24T20:42:52.274Z"
   },
   {
    "duration": 217,
    "start_time": "2022-01-24T20:42:52.512Z"
   },
   {
    "duration": 280,
    "start_time": "2022-01-24T20:42:52.732Z"
   },
   {
    "duration": 3,
    "start_time": "2022-01-24T20:42:53.014Z"
   },
   {
    "duration": 227,
    "start_time": "2022-01-24T20:42:53.018Z"
   },
   {
    "duration": 5,
    "start_time": "2022-01-24T20:42:53.246Z"
   },
   {
    "duration": 23,
    "start_time": "2022-01-24T22:09:21.817Z"
   },
   {
    "duration": 5,
    "start_time": "2022-01-24T22:14:30.836Z"
   },
   {
    "duration": 182,
    "start_time": "2022-01-24T22:16:00.994Z"
   },
   {
    "duration": 164,
    "start_time": "2022-01-24T22:16:35.314Z"
   },
   {
    "duration": 206,
    "start_time": "2022-01-24T22:17:02.996Z"
   },
   {
    "duration": 192,
    "start_time": "2022-01-24T22:17:19.539Z"
   },
   {
    "duration": 381,
    "start_time": "2022-01-24T22:18:03.260Z"
   },
   {
    "duration": 368,
    "start_time": "2022-01-24T22:19:12.994Z"
   },
   {
    "duration": 364,
    "start_time": "2022-01-24T22:35:55.566Z"
   },
   {
    "duration": 298,
    "start_time": "2022-01-24T22:39:44.416Z"
   },
   {
    "duration": 548,
    "start_time": "2022-01-24T22:40:26.473Z"
   },
   {
    "duration": 741,
    "start_time": "2022-01-24T22:41:32.600Z"
   },
   {
    "duration": 1007,
    "start_time": "2022-01-24T22:42:44.829Z"
   },
   {
    "duration": 1562,
    "start_time": "2022-01-24T22:44:01.643Z"
   },
   {
    "duration": 1061,
    "start_time": "2022-01-24T22:44:22.696Z"
   },
   {
    "duration": 53,
    "start_time": "2022-01-24T22:44:23.759Z"
   },
   {
    "duration": 9,
    "start_time": "2022-01-24T22:44:23.814Z"
   },
   {
    "duration": 57,
    "start_time": "2022-01-24T22:44:23.825Z"
   },
   {
    "duration": 75,
    "start_time": "2022-01-24T22:44:23.883Z"
   },
   {
    "duration": 5,
    "start_time": "2022-01-24T22:44:23.960Z"
   },
   {
    "duration": 14,
    "start_time": "2022-01-24T22:44:23.966Z"
   },
   {
    "duration": 17,
    "start_time": "2022-01-24T22:44:23.983Z"
   },
   {
    "duration": 16,
    "start_time": "2022-01-24T22:44:24.003Z"
   },
   {
    "duration": 11,
    "start_time": "2022-01-24T22:44:24.020Z"
   },
   {
    "duration": 34,
    "start_time": "2022-01-24T22:44:24.033Z"
   },
   {
    "duration": 132,
    "start_time": "2022-01-24T22:44:24.069Z"
   },
   {
    "duration": 11,
    "start_time": "2022-01-24T22:44:24.203Z"
   },
   {
    "duration": 32,
    "start_time": "2022-01-24T22:44:24.215Z"
   },
   {
    "duration": 17,
    "start_time": "2022-01-24T22:44:24.248Z"
   },
   {
    "duration": 404,
    "start_time": "2022-01-24T22:44:24.267Z"
   },
   {
    "duration": 15,
    "start_time": "2022-01-24T22:44:24.673Z"
   },
   {
    "duration": 238,
    "start_time": "2022-01-24T22:44:24.689Z"
   },
   {
    "duration": 233,
    "start_time": "2022-01-24T22:44:24.928Z"
   },
   {
    "duration": 223,
    "start_time": "2022-01-24T22:44:25.163Z"
   },
   {
    "duration": 228,
    "start_time": "2022-01-24T22:44:25.388Z"
   },
   {
    "duration": 228,
    "start_time": "2022-01-24T22:44:25.618Z"
   },
   {
    "duration": 274,
    "start_time": "2022-01-24T22:44:25.850Z"
   },
   {
    "duration": 3,
    "start_time": "2022-01-24T22:44:26.126Z"
   },
   {
    "duration": 212,
    "start_time": "2022-01-24T22:44:26.130Z"
   },
   {
    "duration": 4,
    "start_time": "2022-01-24T22:44:26.344Z"
   },
   {
    "duration": 20,
    "start_time": "2022-01-24T22:44:26.350Z"
   },
   {
    "duration": 5,
    "start_time": "2022-01-24T22:44:26.371Z"
   },
   {
    "duration": 1477,
    "start_time": "2022-01-24T22:44:26.377Z"
   },
   {
    "duration": 1401,
    "start_time": "2022-01-24T22:46:41.731Z"
   },
   {
    "duration": 1645,
    "start_time": "2022-01-24T22:47:39.369Z"
   },
   {
    "duration": 81,
    "start_time": "2022-01-24T22:51:03.309Z"
   },
   {
    "duration": 602,
    "start_time": "2022-01-24T22:51:14.712Z"
   },
   {
    "duration": 605,
    "start_time": "2022-01-24T22:51:28.558Z"
   },
   {
    "duration": 722,
    "start_time": "2022-01-24T22:52:09.602Z"
   },
   {
    "duration": 218,
    "start_time": "2022-01-24T22:52:46.090Z"
   },
   {
    "duration": 604,
    "start_time": "2022-01-24T22:52:58.655Z"
   },
   {
    "duration": 619,
    "start_time": "2022-01-24T22:53:10.741Z"
   },
   {
    "duration": 599,
    "start_time": "2022-01-24T22:54:28.082Z"
   },
   {
    "duration": 295,
    "start_time": "2022-01-25T12:08:11.873Z"
   },
   {
    "duration": 1152,
    "start_time": "2022-01-25T12:08:23.719Z"
   },
   {
    "duration": 55,
    "start_time": "2022-01-25T12:08:24.873Z"
   },
   {
    "duration": 10,
    "start_time": "2022-01-25T12:08:24.930Z"
   },
   {
    "duration": 70,
    "start_time": "2022-01-25T12:08:24.942Z"
   },
   {
    "duration": 61,
    "start_time": "2022-01-25T12:08:25.014Z"
   },
   {
    "duration": 21,
    "start_time": "2022-01-25T12:08:25.077Z"
   },
   {
    "duration": 8,
    "start_time": "2022-01-25T12:08:25.100Z"
   },
   {
    "duration": 11,
    "start_time": "2022-01-25T12:08:25.111Z"
   },
   {
    "duration": 8,
    "start_time": "2022-01-25T12:08:25.124Z"
   },
   {
    "duration": 9,
    "start_time": "2022-01-25T12:08:25.134Z"
   },
   {
    "duration": 29,
    "start_time": "2022-01-25T12:08:25.145Z"
   },
   {
    "duration": 162,
    "start_time": "2022-01-25T12:08:25.175Z"
   },
   {
    "duration": 4,
    "start_time": "2022-01-25T12:08:25.338Z"
   },
   {
    "duration": 24,
    "start_time": "2022-01-25T12:08:25.344Z"
   },
   {
    "duration": 34,
    "start_time": "2022-01-25T12:08:25.370Z"
   },
   {
    "duration": 426,
    "start_time": "2022-01-25T12:08:25.406Z"
   },
   {
    "duration": 16,
    "start_time": "2022-01-25T12:08:25.833Z"
   },
   {
    "duration": 266,
    "start_time": "2022-01-25T12:08:25.850Z"
   },
   {
    "duration": 244,
    "start_time": "2022-01-25T12:08:26.118Z"
   },
   {
    "duration": 259,
    "start_time": "2022-01-25T12:08:26.364Z"
   },
   {
    "duration": 256,
    "start_time": "2022-01-25T12:08:26.625Z"
   },
   {
    "duration": 234,
    "start_time": "2022-01-25T12:08:26.883Z"
   },
   {
    "duration": 299,
    "start_time": "2022-01-25T12:08:27.119Z"
   },
   {
    "duration": 3,
    "start_time": "2022-01-25T12:08:27.421Z"
   },
   {
    "duration": 255,
    "start_time": "2022-01-25T12:08:27.426Z"
   },
   {
    "duration": 4,
    "start_time": "2022-01-25T12:08:27.683Z"
   },
   {
    "duration": 32,
    "start_time": "2022-01-25T12:08:27.689Z"
   },
   {
    "duration": 751,
    "start_time": "2022-01-25T12:08:27.722Z"
   },
   {
    "duration": 772,
    "start_time": "2022-01-25T12:09:00.767Z"
   },
   {
    "duration": 25,
    "start_time": "2022-01-25T12:11:43.298Z"
   },
   {
    "duration": 714,
    "start_time": "2022-01-25T12:11:49.817Z"
   },
   {
    "duration": 21,
    "start_time": "2022-01-25T12:13:44.230Z"
   },
   {
    "duration": 712,
    "start_time": "2022-01-25T12:13:49.473Z"
   },
   {
    "duration": 25,
    "start_time": "2022-01-25T12:15:26.059Z"
   },
   {
    "duration": 774,
    "start_time": "2022-01-25T12:15:39.043Z"
   },
   {
    "duration": 712,
    "start_time": "2022-01-25T12:18:35.789Z"
   },
   {
    "duration": 352,
    "start_time": "2022-01-25T12:18:48.246Z"
   },
   {
    "duration": 755,
    "start_time": "2022-01-25T12:18:56.398Z"
   },
   {
    "duration": 21,
    "start_time": "2022-01-25T12:19:16.599Z"
   },
   {
    "duration": 267,
    "start_time": "2022-01-25T12:19:39.226Z"
   },
   {
    "duration": 769,
    "start_time": "2022-01-25T12:20:02.548Z"
   },
   {
    "duration": 1914,
    "start_time": "2022-01-25T12:20:12.472Z"
   },
   {
    "duration": 22,
    "start_time": "2022-01-25T12:20:21.060Z"
   },
   {
    "duration": 15,
    "start_time": "2022-01-25T12:20:34.942Z"
   },
   {
    "duration": 278,
    "start_time": "2022-01-25T12:34:57.867Z"
   },
   {
    "duration": 3873,
    "start_time": "2022-01-25T12:35:16.583Z"
   },
   {
    "duration": 2662,
    "start_time": "2022-01-25T12:36:06.265Z"
   },
   {
    "duration": 496,
    "start_time": "2022-01-25T12:37:04.660Z"
   },
   {
    "duration": 369,
    "start_time": "2022-01-25T12:37:29.563Z"
   },
   {
    "duration": 408,
    "start_time": "2022-01-25T12:37:43.174Z"
   },
   {
    "duration": 414,
    "start_time": "2022-01-25T12:37:54.112Z"
   },
   {
    "duration": 407,
    "start_time": "2022-01-25T12:41:54.975Z"
   },
   {
    "duration": 521,
    "start_time": "2022-01-25T12:42:08.702Z"
   },
   {
    "duration": 408,
    "start_time": "2022-01-25T12:42:19.841Z"
   },
   {
    "duration": 438,
    "start_time": "2022-01-25T12:42:33.075Z"
   },
   {
    "duration": 501,
    "start_time": "2022-01-25T12:42:43.339Z"
   },
   {
    "duration": 731,
    "start_time": "2022-01-25T12:43:27.763Z"
   },
   {
    "duration": 694,
    "start_time": "2022-01-25T12:46:16.964Z"
   },
   {
    "duration": 92,
    "start_time": "2022-01-25T12:46:52.507Z"
   },
   {
    "duration": 98,
    "start_time": "2022-01-25T12:47:03.122Z"
   },
   {
    "duration": 84,
    "start_time": "2022-01-25T12:47:08.775Z"
   },
   {
    "duration": 670,
    "start_time": "2022-01-25T12:47:48.798Z"
   },
   {
    "duration": 363,
    "start_time": "2022-01-25T12:48:05.455Z"
   },
   {
    "duration": 465,
    "start_time": "2022-01-25T12:48:15.593Z"
   },
   {
    "duration": 393,
    "start_time": "2022-01-25T12:48:37.062Z"
   },
   {
    "duration": 417,
    "start_time": "2022-01-25T12:48:44.740Z"
   },
   {
    "duration": 398,
    "start_time": "2022-01-25T12:57:05.658Z"
   },
   {
    "duration": 376,
    "start_time": "2022-01-25T12:57:28.130Z"
   },
   {
    "duration": 505,
    "start_time": "2022-01-25T12:57:36.923Z"
   },
   {
    "duration": 397,
    "start_time": "2022-01-25T12:57:51.470Z"
   },
   {
    "duration": 415,
    "start_time": "2022-01-25T12:58:01.467Z"
   },
   {
    "duration": 341,
    "start_time": "2022-01-25T18:55:25.486Z"
   },
   {
    "duration": 1095,
    "start_time": "2022-01-25T18:55:48.407Z"
   },
   {
    "duration": 1523,
    "start_time": "2022-01-25T18:55:49.504Z"
   },
   {
    "duration": 2338,
    "start_time": "2022-01-25T18:55:51.028Z"
   },
   {
    "duration": 2166,
    "start_time": "2022-01-25T18:55:53.368Z"
   },
   {
    "duration": 2505,
    "start_time": "2022-01-25T18:55:55.535Z"
   },
   {
    "duration": 4841,
    "start_time": "2022-01-25T18:55:58.042Z"
   },
   {
    "duration": 1377,
    "start_time": "2022-01-25T18:56:02.886Z"
   },
   {
    "duration": 1552,
    "start_time": "2022-01-25T18:56:04.266Z"
   },
   {
    "duration": 1582,
    "start_time": "2022-01-25T18:56:05.821Z"
   },
   {
    "duration": 3166,
    "start_time": "2022-01-25T18:56:07.405Z"
   },
   {
    "duration": 2735,
    "start_time": "2022-01-25T18:56:10.572Z"
   },
   {
    "duration": 3430,
    "start_time": "2022-01-25T18:56:13.309Z"
   },
   {
    "duration": 3033,
    "start_time": "2022-01-25T18:56:16.741Z"
   },
   {
    "duration": 1530,
    "start_time": "2022-01-25T18:56:19.776Z"
   },
   {
    "duration": 1556,
    "start_time": "2022-01-25T18:56:21.308Z"
   },
   {
    "duration": 1450,
    "start_time": "2022-01-25T18:56:22.866Z"
   },
   {
    "duration": 2337,
    "start_time": "2022-01-25T18:56:24.318Z"
   },
   {
    "duration": 2316,
    "start_time": "2022-01-25T18:56:26.657Z"
   },
   {
    "duration": 1850,
    "start_time": "2022-01-25T18:56:28.975Z"
   },
   {
    "duration": 2369,
    "start_time": "2022-01-25T18:56:30.827Z"
   },
   {
    "duration": 2491,
    "start_time": "2022-01-25T18:56:33.197Z"
   },
   {
    "duration": 10477,
    "start_time": "2022-01-25T18:56:35.690Z"
   },
   {
    "duration": 1717,
    "start_time": "2022-01-25T18:56:46.170Z"
   },
   {
    "duration": 3356,
    "start_time": "2022-01-25T18:56:47.889Z"
   },
   {
    "duration": 2645,
    "start_time": "2022-01-25T18:56:51.247Z"
   },
   {
    "duration": 2126,
    "start_time": "2022-01-25T18:56:53.894Z"
   },
   {
    "duration": 1956,
    "start_time": "2022-01-25T18:56:56.022Z"
   },
   {
    "duration": 2746,
    "start_time": "2022-01-25T18:56:57.980Z"
   },
   {
    "duration": 3970,
    "start_time": "2022-01-25T18:57:00.728Z"
   },
   {
    "duration": 2870,
    "start_time": "2022-01-25T18:57:04.699Z"
   },
   {
    "duration": 14,
    "start_time": "2022-01-25T18:57:41.560Z"
   },
   {
    "duration": 12,
    "start_time": "2022-01-25T18:58:09.955Z"
   },
   {
    "duration": 7,
    "start_time": "2022-01-25T20:37:57.984Z"
   },
   {
    "duration": 21,
    "start_time": "2022-01-25T20:38:15.889Z"
   },
   {
    "duration": 17,
    "start_time": "2022-01-25T20:39:29.153Z"
   },
   {
    "duration": 592,
    "start_time": "2022-01-25T20:39:35.848Z"
   },
   {
    "duration": 17,
    "start_time": "2022-01-25T20:40:15.453Z"
   },
   {
    "duration": 617,
    "start_time": "2022-01-25T20:40:19.922Z"
   },
   {
    "duration": 15,
    "start_time": "2022-01-25T20:40:39.198Z"
   },
   {
    "duration": 412,
    "start_time": "2022-01-25T20:41:57.182Z"
   },
   {
    "duration": 12,
    "start_time": "2022-01-25T20:42:05.895Z"
   },
   {
    "duration": 21,
    "start_time": "2022-01-25T20:42:16.979Z"
   },
   {
    "duration": 23,
    "start_time": "2022-01-25T20:42:24.983Z"
   },
   {
    "duration": 1103,
    "start_time": "2022-01-25T20:42:54.759Z"
   },
   {
    "duration": 56,
    "start_time": "2022-01-25T20:42:55.864Z"
   },
   {
    "duration": 11,
    "start_time": "2022-01-25T20:42:55.922Z"
   },
   {
    "duration": 69,
    "start_time": "2022-01-25T20:42:55.936Z"
   },
   {
    "duration": 52,
    "start_time": "2022-01-25T20:42:56.007Z"
   },
   {
    "duration": 14,
    "start_time": "2022-01-25T20:42:56.060Z"
   },
   {
    "duration": 9,
    "start_time": "2022-01-25T20:42:56.076Z"
   },
   {
    "duration": 9,
    "start_time": "2022-01-25T20:42:56.088Z"
   },
   {
    "duration": 8,
    "start_time": "2022-01-25T20:42:56.100Z"
   },
   {
    "duration": 8,
    "start_time": "2022-01-25T20:42:56.109Z"
   },
   {
    "duration": 62,
    "start_time": "2022-01-25T20:42:56.118Z"
   },
   {
    "duration": 130,
    "start_time": "2022-01-25T20:42:56.182Z"
   },
   {
    "duration": 4,
    "start_time": "2022-01-25T20:42:56.314Z"
   },
   {
    "duration": 29,
    "start_time": "2022-01-25T20:42:56.320Z"
   },
   {
    "duration": 25,
    "start_time": "2022-01-25T20:42:56.351Z"
   },
   {
    "duration": 356,
    "start_time": "2022-01-25T20:42:56.378Z"
   },
   {
    "duration": 15,
    "start_time": "2022-01-25T20:42:56.735Z"
   },
   {
    "duration": 214,
    "start_time": "2022-01-25T20:42:56.751Z"
   },
   {
    "duration": 210,
    "start_time": "2022-01-25T20:42:56.967Z"
   },
   {
    "duration": 204,
    "start_time": "2022-01-25T20:42:57.178Z"
   },
   {
    "duration": 199,
    "start_time": "2022-01-25T20:42:57.384Z"
   },
   {
    "duration": 199,
    "start_time": "2022-01-25T20:42:57.585Z"
   },
   {
    "duration": 259,
    "start_time": "2022-01-25T20:42:57.787Z"
   },
   {
    "duration": 3,
    "start_time": "2022-01-25T20:42:58.048Z"
   },
   {
    "duration": 200,
    "start_time": "2022-01-25T20:42:58.052Z"
   },
   {
    "duration": 4,
    "start_time": "2022-01-25T20:42:58.254Z"
   },
   {
    "duration": 19,
    "start_time": "2022-01-25T20:42:58.272Z"
   },
   {
    "duration": 620,
    "start_time": "2022-01-25T20:42:58.292Z"
   },
   {
    "duration": 348,
    "start_time": "2022-01-25T20:42:58.913Z"
   },
   {
    "duration": 16,
    "start_time": "2022-01-25T20:42:59.263Z"
   },
   {
    "duration": 38,
    "start_time": "2022-01-25T20:42:59.281Z"
   },
   {
    "duration": 14,
    "start_time": "2022-01-25T20:47:28.964Z"
   },
   {
    "duration": 332,
    "start_time": "2022-01-25T20:47:41.441Z"
   },
   {
    "duration": 23,
    "start_time": "2022-01-25T20:47:51.814Z"
   },
   {
    "duration": 12,
    "start_time": "2022-01-25T20:47:56.587Z"
   },
   {
    "duration": 22,
    "start_time": "2022-01-25T20:47:59.747Z"
   },
   {
    "duration": 5,
    "start_time": "2022-01-25T20:49:02.581Z"
   },
   {
    "duration": 14,
    "start_time": "2022-01-25T20:49:30.533Z"
   },
   {
    "duration": 5,
    "start_time": "2022-01-25T20:51:13.127Z"
   },
   {
    "duration": 5,
    "start_time": "2022-01-25T20:52:20.845Z"
   },
   {
    "duration": 5,
    "start_time": "2022-01-25T20:54:03.519Z"
   },
   {
    "duration": 275,
    "start_time": "2022-01-25T20:56:13.442Z"
   },
   {
    "duration": 266,
    "start_time": "2022-01-25T20:56:24.781Z"
   },
   {
    "duration": 255,
    "start_time": "2022-01-25T20:56:50.509Z"
   },
   {
    "duration": 366,
    "start_time": "2022-01-25T20:57:13.797Z"
   },
   {
    "duration": 291,
    "start_time": "2022-01-25T20:57:30.245Z"
   },
   {
    "duration": 23,
    "start_time": "2022-01-25T20:58:20.485Z"
   },
   {
    "duration": 500,
    "start_time": "2022-01-25T20:59:00.791Z"
   },
   {
    "duration": 476,
    "start_time": "2022-01-25T20:59:19.433Z"
   },
   {
    "duration": 6,
    "start_time": "2022-01-25T21:00:06.859Z"
   },
   {
    "duration": 6,
    "start_time": "2022-01-25T21:04:02.808Z"
   },
   {
    "duration": 4,
    "start_time": "2022-01-25T21:05:16.063Z"
   },
   {
    "duration": 119,
    "start_time": "2022-01-25T21:05:34.789Z"
   },
   {
    "duration": 6,
    "start_time": "2022-01-25T21:06:05.622Z"
   },
   {
    "duration": 277,
    "start_time": "2022-01-25T21:06:46.042Z"
   },
   {
    "duration": 6,
    "start_time": "2022-01-25T21:07:43.171Z"
   },
   {
    "duration": 6,
    "start_time": "2022-01-25T21:08:15.072Z"
   },
   {
    "duration": 430,
    "start_time": "2022-01-25T21:10:57.247Z"
   },
   {
    "duration": 4,
    "start_time": "2022-01-25T21:11:03.385Z"
   },
   {
    "duration": 529,
    "start_time": "2022-01-25T21:11:05.185Z"
   },
   {
    "duration": 5,
    "start_time": "2022-01-25T21:12:00.040Z"
   },
   {
    "duration": 5,
    "start_time": "2022-01-25T21:13:30.924Z"
   },
   {
    "duration": 450,
    "start_time": "2022-01-25T21:13:56.366Z"
   },
   {
    "duration": 5,
    "start_time": "2022-01-25T21:14:39.311Z"
   },
   {
    "duration": 5,
    "start_time": "2022-01-25T21:17:31.336Z"
   },
   {
    "duration": 537,
    "start_time": "2022-01-25T21:22:13.675Z"
   },
   {
    "duration": 5,
    "start_time": "2022-01-25T21:22:46.324Z"
   },
   {
    "duration": 232,
    "start_time": "2022-01-25T21:27:07.500Z"
   },
   {
    "duration": 225,
    "start_time": "2022-01-25T21:27:31.689Z"
   },
   {
    "duration": 286,
    "start_time": "2022-01-26T11:22:02.227Z"
   },
   {
    "duration": 1378,
    "start_time": "2022-01-26T11:22:10.921Z"
   },
   {
    "duration": 60,
    "start_time": "2022-01-26T11:22:12.301Z"
   },
   {
    "duration": 16,
    "start_time": "2022-01-26T11:22:12.363Z"
   },
   {
    "duration": 88,
    "start_time": "2022-01-26T11:22:12.381Z"
   },
   {
    "duration": 71,
    "start_time": "2022-01-26T11:22:12.471Z"
   },
   {
    "duration": 5,
    "start_time": "2022-01-26T11:22:12.545Z"
   },
   {
    "duration": 21,
    "start_time": "2022-01-26T11:22:12.552Z"
   },
   {
    "duration": 10,
    "start_time": "2022-01-26T11:22:12.577Z"
   },
   {
    "duration": 25,
    "start_time": "2022-01-26T11:22:12.590Z"
   },
   {
    "duration": 13,
    "start_time": "2022-01-26T11:22:12.617Z"
   },
   {
    "duration": 33,
    "start_time": "2022-01-26T11:22:12.632Z"
   },
   {
    "duration": 183,
    "start_time": "2022-01-26T11:22:12.667Z"
   },
   {
    "duration": 5,
    "start_time": "2022-01-26T11:22:12.852Z"
   },
   {
    "duration": 32,
    "start_time": "2022-01-26T11:22:12.859Z"
   },
   {
    "duration": 35,
    "start_time": "2022-01-26T11:22:12.893Z"
   },
   {
    "duration": 483,
    "start_time": "2022-01-26T11:22:12.931Z"
   },
   {
    "duration": 22,
    "start_time": "2022-01-26T11:22:13.416Z"
   },
   {
    "duration": 267,
    "start_time": "2022-01-26T11:22:13.441Z"
   },
   {
    "duration": 241,
    "start_time": "2022-01-26T11:22:13.710Z"
   },
   {
    "duration": 247,
    "start_time": "2022-01-26T11:22:13.953Z"
   },
   {
    "duration": 299,
    "start_time": "2022-01-26T11:22:14.201Z"
   },
   {
    "duration": 238,
    "start_time": "2022-01-26T11:22:14.502Z"
   },
   {
    "duration": 302,
    "start_time": "2022-01-26T11:22:14.744Z"
   },
   {
    "duration": 4,
    "start_time": "2022-01-26T11:22:15.048Z"
   },
   {
    "duration": 256,
    "start_time": "2022-01-26T11:22:15.054Z"
   },
   {
    "duration": 6,
    "start_time": "2022-01-26T11:22:15.312Z"
   },
   {
    "duration": 30,
    "start_time": "2022-01-26T11:22:15.320Z"
   },
   {
    "duration": 731,
    "start_time": "2022-01-26T11:22:15.353Z"
   },
   {
    "duration": 423,
    "start_time": "2022-01-26T11:22:16.086Z"
   },
   {
    "duration": 5,
    "start_time": "2022-01-26T11:22:16.510Z"
   },
   {
    "duration": 551,
    "start_time": "2022-01-26T11:22:16.517Z"
   },
   {
    "duration": 348,
    "start_time": "2022-01-26T11:22:17.069Z"
   },
   {
    "duration": 2248,
    "start_time": "2022-01-26T11:22:15.171Z"
   },
   {
    "duration": 2244,
    "start_time": "2022-01-26T11:22:15.176Z"
   },
   {
    "duration": 2241,
    "start_time": "2022-01-26T11:22:15.180Z"
   },
   {
    "duration": 2238,
    "start_time": "2022-01-26T11:22:15.184Z"
   },
   {
    "duration": 2235,
    "start_time": "2022-01-26T11:22:15.188Z"
   },
   {
    "duration": 2231,
    "start_time": "2022-01-26T11:22:15.193Z"
   },
   {
    "duration": 2228,
    "start_time": "2022-01-26T11:22:15.197Z"
   },
   {
    "duration": 2224,
    "start_time": "2022-01-26T11:22:15.202Z"
   },
   {
    "duration": 2222,
    "start_time": "2022-01-26T11:22:15.206Z"
   },
   {
    "duration": 1267,
    "start_time": "2022-01-26T11:23:21.523Z"
   },
   {
    "duration": 62,
    "start_time": "2022-01-26T11:23:22.792Z"
   },
   {
    "duration": 12,
    "start_time": "2022-01-26T11:23:22.856Z"
   },
   {
    "duration": 79,
    "start_time": "2022-01-26T11:23:22.870Z"
   },
   {
    "duration": 77,
    "start_time": "2022-01-26T11:23:22.951Z"
   },
   {
    "duration": 5,
    "start_time": "2022-01-26T11:23:23.030Z"
   },
   {
    "duration": 16,
    "start_time": "2022-01-26T11:23:23.037Z"
   },
   {
    "duration": 16,
    "start_time": "2022-01-26T11:23:23.056Z"
   },
   {
    "duration": 33,
    "start_time": "2022-01-26T11:23:23.075Z"
   },
   {
    "duration": 8,
    "start_time": "2022-01-26T11:23:23.110Z"
   },
   {
    "duration": 38,
    "start_time": "2022-01-26T11:23:23.120Z"
   },
   {
    "duration": 171,
    "start_time": "2022-01-26T11:23:23.160Z"
   },
   {
    "duration": 5,
    "start_time": "2022-01-26T11:23:23.333Z"
   },
   {
    "duration": 38,
    "start_time": "2022-01-26T11:23:23.340Z"
   },
   {
    "duration": 36,
    "start_time": "2022-01-26T11:23:23.380Z"
   },
   {
    "duration": 432,
    "start_time": "2022-01-26T11:23:23.418Z"
   },
   {
    "duration": 16,
    "start_time": "2022-01-26T11:23:23.852Z"
   },
   {
    "duration": 268,
    "start_time": "2022-01-26T11:23:23.870Z"
   },
   {
    "duration": 251,
    "start_time": "2022-01-26T11:23:24.140Z"
   },
   {
    "duration": 246,
    "start_time": "2022-01-26T11:23:24.393Z"
   },
   {
    "duration": 236,
    "start_time": "2022-01-26T11:23:24.641Z"
   },
   {
    "duration": 232,
    "start_time": "2022-01-26T11:23:24.879Z"
   },
   {
    "duration": 300,
    "start_time": "2022-01-26T11:23:25.115Z"
   },
   {
    "duration": 3,
    "start_time": "2022-01-26T11:23:25.417Z"
   },
   {
    "duration": 238,
    "start_time": "2022-01-26T11:23:25.422Z"
   },
   {
    "duration": 4,
    "start_time": "2022-01-26T11:23:25.662Z"
   },
   {
    "duration": 26,
    "start_time": "2022-01-26T11:23:25.668Z"
   },
   {
    "duration": 705,
    "start_time": "2022-01-26T11:23:25.695Z"
   },
   {
    "duration": 415,
    "start_time": "2022-01-26T11:23:26.402Z"
   },
   {
    "duration": 6,
    "start_time": "2022-01-26T11:23:26.819Z"
   },
   {
    "duration": 662,
    "start_time": "2022-01-26T11:23:26.827Z"
   },
   {
    "duration": 6,
    "start_time": "2022-01-26T11:23:27.491Z"
   },
   {
    "duration": 6,
    "start_time": "2022-01-26T11:23:27.508Z"
   },
   {
    "duration": 561,
    "start_time": "2022-01-26T11:23:27.516Z"
   },
   {
    "duration": 5,
    "start_time": "2022-01-26T11:23:28.079Z"
   },
   {
    "duration": 22,
    "start_time": "2022-01-26T11:23:28.086Z"
   },
   {
    "duration": 586,
    "start_time": "2022-01-26T11:23:28.110Z"
   },
   {
    "duration": 11,
    "start_time": "2022-01-26T11:23:28.699Z"
   },
   {
    "duration": 602,
    "start_time": "2022-01-26T11:23:28.711Z"
   },
   {
    "duration": 6,
    "start_time": "2022-01-26T11:23:29.316Z"
   },
   {
    "duration": 378,
    "start_time": "2022-01-26T11:23:29.324Z"
   },
   {
    "duration": 21,
    "start_time": "2022-01-26T11:28:29.627Z"
   },
   {
    "duration": 16,
    "start_time": "2022-01-26T11:28:39.036Z"
   },
   {
    "duration": 81,
    "start_time": "2022-01-26T11:30:28.062Z"
   },
   {
    "duration": 18,
    "start_time": "2022-01-26T11:30:43.673Z"
   },
   {
    "duration": 197,
    "start_time": "2022-01-26T11:31:24.598Z"
   },
   {
    "duration": 598,
    "start_time": "2022-01-26T11:31:40.058Z"
   },
   {
    "duration": 253,
    "start_time": "2022-01-26T11:31:51.329Z"
   },
   {
    "duration": 271,
    "start_time": "2022-01-26T11:32:08.001Z"
   },
   {
    "duration": 276,
    "start_time": "2022-01-26T11:34:59.644Z"
   },
   {
    "duration": 285,
    "start_time": "2022-01-26T11:36:12.322Z"
   },
   {
    "duration": 184,
    "start_time": "2022-01-26T11:45:12.984Z"
   },
   {
    "duration": 507,
    "start_time": "2022-01-26T11:47:06.665Z"
   },
   {
    "duration": 880,
    "start_time": "2022-01-26T11:48:46.375Z"
   },
   {
    "duration": 332,
    "start_time": "2022-01-27T09:19:52.925Z"
   },
   {
    "duration": 2423,
    "start_time": "2022-01-27T09:20:01.997Z"
   },
   {
    "duration": 56,
    "start_time": "2022-01-27T09:20:04.422Z"
   },
   {
    "duration": 12,
    "start_time": "2022-01-27T09:20:04.483Z"
   },
   {
    "duration": 52,
    "start_time": "2022-01-27T09:20:04.497Z"
   },
   {
    "duration": 71,
    "start_time": "2022-01-27T09:20:04.551Z"
   },
   {
    "duration": 6,
    "start_time": "2022-01-27T09:20:04.624Z"
   },
   {
    "duration": 8,
    "start_time": "2022-01-27T09:20:04.632Z"
   },
   {
    "duration": 41,
    "start_time": "2022-01-27T09:20:04.643Z"
   },
   {
    "duration": 11,
    "start_time": "2022-01-27T09:20:04.687Z"
   },
   {
    "duration": 9,
    "start_time": "2022-01-27T09:20:04.700Z"
   },
   {
    "duration": 34,
    "start_time": "2022-01-27T09:20:04.711Z"
   },
   {
    "duration": 193,
    "start_time": "2022-01-27T09:20:04.747Z"
   },
   {
    "duration": 4,
    "start_time": "2022-01-27T09:20:04.942Z"
   },
   {
    "duration": 32,
    "start_time": "2022-01-27T09:20:04.947Z"
   },
   {
    "duration": 18,
    "start_time": "2022-01-27T09:20:04.983Z"
   },
   {
    "duration": 391,
    "start_time": "2022-01-27T09:20:05.002Z"
   },
   {
    "duration": 14,
    "start_time": "2022-01-27T09:20:05.395Z"
   },
   {
    "duration": 226,
    "start_time": "2022-01-27T09:20:05.411Z"
   },
   {
    "duration": 214,
    "start_time": "2022-01-27T09:20:05.639Z"
   },
   {
    "duration": 208,
    "start_time": "2022-01-27T09:20:05.855Z"
   },
   {
    "duration": 230,
    "start_time": "2022-01-27T09:20:06.065Z"
   },
   {
    "duration": 197,
    "start_time": "2022-01-27T09:20:06.297Z"
   },
   {
    "duration": 251,
    "start_time": "2022-01-27T09:20:06.498Z"
   },
   {
    "duration": 3,
    "start_time": "2022-01-27T09:20:06.752Z"
   },
   {
    "duration": 208,
    "start_time": "2022-01-27T09:20:06.756Z"
   },
   {
    "duration": 14,
    "start_time": "2022-01-27T09:20:06.966Z"
   },
   {
    "duration": 15,
    "start_time": "2022-01-27T09:20:06.982Z"
   },
   {
    "duration": 641,
    "start_time": "2022-01-27T09:20:06.999Z"
   },
   {
    "duration": 376,
    "start_time": "2022-01-27T09:20:07.641Z"
   },
   {
    "duration": 4,
    "start_time": "2022-01-27T09:20:08.019Z"
   },
   {
    "duration": 490,
    "start_time": "2022-01-27T09:20:08.025Z"
   },
   {
    "duration": 5,
    "start_time": "2022-01-27T09:20:08.516Z"
   },
   {
    "duration": 10,
    "start_time": "2022-01-27T09:20:08.522Z"
   },
   {
    "duration": 486,
    "start_time": "2022-01-27T09:20:08.533Z"
   },
   {
    "duration": 5,
    "start_time": "2022-01-27T09:20:09.020Z"
   },
   {
    "duration": 5,
    "start_time": "2022-01-27T09:20:09.026Z"
   },
   {
    "duration": 501,
    "start_time": "2022-01-27T09:20:09.033Z"
   },
   {
    "duration": 4,
    "start_time": "2022-01-27T09:20:09.536Z"
   },
   {
    "duration": 484,
    "start_time": "2022-01-27T09:20:09.542Z"
   },
   {
    "duration": 5,
    "start_time": "2022-01-27T09:20:10.028Z"
   },
   {
    "duration": 323,
    "start_time": "2022-01-27T09:20:10.035Z"
   },
   {
    "duration": 255,
    "start_time": "2022-01-27T09:20:10.359Z"
   },
   {
    "duration": 909,
    "start_time": "2022-01-27T09:20:10.616Z"
   },
   {
    "duration": 11,
    "start_time": "2022-01-27T09:20:11.527Z"
   },
   {
    "duration": 427,
    "start_time": "2022-01-27T09:22:02.596Z"
   },
   {
    "duration": 9,
    "start_time": "2022-01-27T09:22:32.521Z"
   },
   {
    "duration": 14,
    "start_time": "2022-01-27T09:22:36.340Z"
   },
   {
    "duration": 15,
    "start_time": "2022-01-27T09:23:16.356Z"
   },
   {
    "duration": 17,
    "start_time": "2022-01-27T09:24:48.898Z"
   },
   {
    "duration": 17,
    "start_time": "2022-01-27T09:26:20.320Z"
   },
   {
    "duration": 752,
    "start_time": "2022-01-27T09:31:05.791Z"
   },
   {
    "duration": 761,
    "start_time": "2022-01-27T09:37:47.330Z"
   },
   {
    "duration": 1230,
    "start_time": "2022-01-27T09:38:04.678Z"
   },
   {
    "duration": 1112,
    "start_time": "2022-01-27T09:38:26.375Z"
   },
   {
    "duration": 1119,
    "start_time": "2022-01-27T09:38:36.929Z"
   },
   {
    "duration": 1182,
    "start_time": "2022-01-27T09:38:54.124Z"
   },
   {
    "duration": 733,
    "start_time": "2022-01-27T09:39:35.967Z"
   },
   {
    "duration": 749,
    "start_time": "2022-01-27T09:39:46.738Z"
   },
   {
    "duration": 792,
    "start_time": "2022-01-27T09:40:00.716Z"
   },
   {
    "duration": 882,
    "start_time": "2022-01-27T09:40:11.122Z"
   },
   {
    "duration": 677,
    "start_time": "2022-01-27T09:40:59.273Z"
   },
   {
    "duration": 750,
    "start_time": "2022-01-27T09:41:13.893Z"
   },
   {
    "duration": 17,
    "start_time": "2022-01-27T09:48:57.293Z"
   },
   {
    "duration": 8374,
    "start_time": "2022-01-27T09:51:05.986Z"
   },
   {
    "duration": 984,
    "start_time": "2022-01-27T09:59:06.495Z"
   },
   {
    "duration": 447,
    "start_time": "2022-01-27T10:05:43.466Z"
   },
   {
    "duration": 570,
    "start_time": "2022-01-27T10:05:54.237Z"
   },
   {
    "duration": 360,
    "start_time": "2022-01-27T10:06:09.617Z"
   },
   {
    "duration": 17,
    "start_time": "2022-01-27T10:36:49.460Z"
   },
   {
    "duration": 333,
    "start_time": "2022-01-27T10:48:46.760Z"
   },
   {
    "duration": 530,
    "start_time": "2022-01-27T10:50:57.066Z"
   },
   {
    "duration": 308,
    "start_time": "2022-01-27T10:54:04.391Z"
   },
   {
    "duration": 8,
    "start_time": "2022-01-27T10:56:12.740Z"
   },
   {
    "duration": 9,
    "start_time": "2022-01-27T10:56:37.721Z"
   },
   {
    "duration": 4,
    "start_time": "2022-01-27T10:57:07.249Z"
   },
   {
    "duration": 4,
    "start_time": "2022-01-27T10:57:19.967Z"
   },
   {
    "duration": 5,
    "start_time": "2022-01-27T10:59:00.504Z"
   },
   {
    "duration": 4,
    "start_time": "2022-01-27T10:59:16.630Z"
   },
   {
    "duration": 4,
    "start_time": "2022-01-27T11:01:08.776Z"
   },
   {
    "duration": 7,
    "start_time": "2022-01-27T11:01:15.627Z"
   },
   {
    "duration": 4,
    "start_time": "2022-01-27T11:01:48.591Z"
   },
   {
    "duration": 8,
    "start_time": "2022-01-27T11:02:50.006Z"
   },
   {
    "duration": 9,
    "start_time": "2022-01-27T11:04:56.327Z"
   },
   {
    "duration": 5,
    "start_time": "2022-01-27T11:05:37.172Z"
   },
   {
    "duration": 307,
    "start_time": "2022-01-27T11:21:12.245Z"
   },
   {
    "duration": 17,
    "start_time": "2022-01-27T11:21:17.967Z"
   },
   {
    "duration": 313,
    "start_time": "2022-01-27T11:21:22.189Z"
   },
   {
    "duration": 191,
    "start_time": "2022-01-27T11:21:50.405Z"
   },
   {
    "duration": 236,
    "start_time": "2022-01-27T11:22:26.763Z"
   },
   {
    "duration": 21,
    "start_time": "2022-01-27T11:23:40.374Z"
   },
   {
    "duration": 1155,
    "start_time": "2022-02-04T21:16:04.778Z"
   },
   {
    "duration": 60,
    "start_time": "2022-02-04T21:16:05.935Z"
   },
   {
    "duration": 12,
    "start_time": "2022-02-04T21:16:05.997Z"
   },
   {
    "duration": 81,
    "start_time": "2022-02-04T21:16:06.011Z"
   },
   {
    "duration": 71,
    "start_time": "2022-02-04T21:16:06.095Z"
   },
   {
    "duration": 5,
    "start_time": "2022-02-04T21:16:06.169Z"
   },
   {
    "duration": 9,
    "start_time": "2022-02-04T21:16:06.176Z"
   },
   {
    "duration": 12,
    "start_time": "2022-02-04T21:16:06.187Z"
   },
   {
    "duration": 8,
    "start_time": "2022-02-04T21:16:06.202Z"
   },
   {
    "duration": 8,
    "start_time": "2022-02-04T21:16:06.212Z"
   },
   {
    "duration": 27,
    "start_time": "2022-02-04T21:16:06.260Z"
   },
   {
    "duration": 153,
    "start_time": "2022-02-04T21:16:06.289Z"
   },
   {
    "duration": 15,
    "start_time": "2022-02-04T21:16:06.444Z"
   },
   {
    "duration": 24,
    "start_time": "2022-02-04T21:16:06.461Z"
   },
   {
    "duration": 19,
    "start_time": "2022-02-04T21:16:06.487Z"
   },
   {
    "duration": 439,
    "start_time": "2022-02-04T21:16:06.508Z"
   },
   {
    "duration": 22,
    "start_time": "2022-02-04T21:16:06.949Z"
   },
   {
    "duration": 249,
    "start_time": "2022-02-04T21:16:06.973Z"
   },
   {
    "duration": 242,
    "start_time": "2022-02-04T21:16:07.224Z"
   },
   {
    "duration": 241,
    "start_time": "2022-02-04T21:16:07.469Z"
   },
   {
    "duration": 234,
    "start_time": "2022-02-04T21:16:07.712Z"
   },
   {
    "duration": 230,
    "start_time": "2022-02-04T21:16:07.948Z"
   },
   {
    "duration": 300,
    "start_time": "2022-02-04T21:16:08.179Z"
   },
   {
    "duration": 2,
    "start_time": "2022-02-04T21:16:08.481Z"
   },
   {
    "duration": 220,
    "start_time": "2022-02-04T21:16:08.485Z"
   },
   {
    "duration": 4,
    "start_time": "2022-02-04T21:16:08.707Z"
   },
   {
    "duration": 21,
    "start_time": "2022-02-04T21:16:08.714Z"
   },
   {
    "duration": 674,
    "start_time": "2022-02-04T21:16:08.737Z"
   },
   {
    "duration": 385,
    "start_time": "2022-02-04T21:16:09.412Z"
   },
   {
    "duration": 4,
    "start_time": "2022-02-04T21:16:09.799Z"
   },
   {
    "duration": 610,
    "start_time": "2022-02-04T21:16:09.805Z"
   },
   {
    "duration": 8,
    "start_time": "2022-02-04T21:16:10.417Z"
   },
   {
    "duration": 14,
    "start_time": "2022-02-04T21:16:10.426Z"
   },
   {
    "duration": 596,
    "start_time": "2022-02-04T21:16:10.441Z"
   },
   {
    "duration": 6,
    "start_time": "2022-02-04T21:16:11.038Z"
   },
   {
    "duration": 17,
    "start_time": "2022-02-04T21:16:11.045Z"
   },
   {
    "duration": 616,
    "start_time": "2022-02-04T21:16:11.063Z"
   },
   {
    "duration": 5,
    "start_time": "2022-02-04T21:16:11.681Z"
   },
   {
    "duration": 770,
    "start_time": "2022-02-04T21:16:11.688Z"
   },
   {
    "duration": 5,
    "start_time": "2022-02-04T21:16:12.460Z"
   },
   {
    "duration": 395,
    "start_time": "2022-02-04T21:16:12.467Z"
   },
   {
    "duration": 291,
    "start_time": "2022-02-04T21:16:12.864Z"
   },
   {
    "duration": 720,
    "start_time": "2022-02-04T21:16:13.159Z"
   },
   {
    "duration": 17,
    "start_time": "2022-02-04T21:16:13.881Z"
   },
   {
    "duration": 856,
    "start_time": "2022-02-04T21:16:13.900Z"
   },
   {
    "duration": 17,
    "start_time": "2022-02-04T21:16:14.758Z"
   },
   {
    "duration": 424,
    "start_time": "2022-02-04T21:16:14.777Z"
   },
   {
    "duration": 9,
    "start_time": "2022-02-04T21:16:15.202Z"
   },
   {
    "duration": 7,
    "start_time": "2022-02-04T21:16:15.213Z"
   },
   {
    "duration": 10,
    "start_time": "2022-02-04T21:16:15.222Z"
   },
   {
    "duration": 27,
    "start_time": "2022-02-04T21:16:15.233Z"
   },
   {
    "duration": 42,
    "start_time": "2022-09-01T20:56:58.165Z"
   },
   {
    "duration": 1187,
    "start_time": "2022-09-01T20:57:05.581Z"
   },
   {
    "duration": 188,
    "start_time": "2022-09-01T20:57:06.769Z"
   },
   {
    "duration": 12,
    "start_time": "2022-09-01T20:57:06.959Z"
   },
   {
    "duration": 9,
    "start_time": "2022-09-01T20:57:06.973Z"
   },
   {
    "duration": 8,
    "start_time": "2022-09-01T20:57:06.983Z"
   },
   {
    "duration": 4,
    "start_time": "2022-09-01T20:57:06.993Z"
   },
   {
    "duration": 10,
    "start_time": "2022-09-01T20:57:06.998Z"
   },
   {
    "duration": 11,
    "start_time": "2022-09-01T20:57:07.009Z"
   },
   {
    "duration": 9,
    "start_time": "2022-09-01T20:57:07.022Z"
   },
   {
    "duration": 9,
    "start_time": "2022-09-01T20:57:07.034Z"
   },
   {
    "duration": 38,
    "start_time": "2022-09-01T20:57:07.045Z"
   },
   {
    "duration": 93,
    "start_time": "2022-09-01T20:57:07.085Z"
   },
   {
    "duration": 4,
    "start_time": "2022-09-01T20:57:07.179Z"
   },
   {
    "duration": 34,
    "start_time": "2022-09-01T20:57:07.184Z"
   },
   {
    "duration": 12,
    "start_time": "2022-09-01T20:57:07.220Z"
   },
   {
    "duration": 332,
    "start_time": "2022-09-01T20:57:07.233Z"
   },
   {
    "duration": 14,
    "start_time": "2022-09-01T20:57:07.567Z"
   },
   {
    "duration": 180,
    "start_time": "2022-09-01T20:57:07.582Z"
   },
   {
    "duration": 171,
    "start_time": "2022-09-01T20:57:07.763Z"
   },
   {
    "duration": 181,
    "start_time": "2022-09-01T20:57:07.936Z"
   },
   {
    "duration": 162,
    "start_time": "2022-09-01T20:57:08.118Z"
   },
   {
    "duration": 160,
    "start_time": "2022-09-01T20:57:08.281Z"
   },
   {
    "duration": 190,
    "start_time": "2022-09-01T20:57:08.442Z"
   },
   {
    "duration": 3,
    "start_time": "2022-09-01T20:57:08.633Z"
   },
   {
    "duration": 237,
    "start_time": "2022-09-01T20:57:08.638Z"
   },
   {
    "duration": 4,
    "start_time": "2022-09-01T20:57:08.877Z"
   },
   {
    "duration": 28,
    "start_time": "2022-09-01T20:57:08.883Z"
   },
   {
    "duration": 610,
    "start_time": "2022-09-01T20:57:08.916Z"
   },
   {
    "duration": 264,
    "start_time": "2022-09-01T20:57:09.528Z"
   },
   {
    "duration": 11,
    "start_time": "2022-09-01T20:57:09.795Z"
   },
   {
    "duration": 261,
    "start_time": "2022-09-01T20:57:09.808Z"
   },
   {
    "duration": 5,
    "start_time": "2022-09-01T20:57:10.071Z"
   },
   {
    "duration": 10,
    "start_time": "2022-09-01T20:57:10.078Z"
   },
   {
    "duration": 326,
    "start_time": "2022-09-01T20:57:10.089Z"
   },
   {
    "duration": 6,
    "start_time": "2022-09-01T20:57:10.417Z"
   },
   {
    "duration": 8,
    "start_time": "2022-09-01T20:57:10.424Z"
   },
   {
    "duration": 289,
    "start_time": "2022-09-01T20:57:10.433Z"
   },
   {
    "duration": 6,
    "start_time": "2022-09-01T20:57:10.724Z"
   },
   {
    "duration": 263,
    "start_time": "2022-09-01T20:57:10.731Z"
   },
   {
    "duration": 12,
    "start_time": "2022-09-01T20:57:10.996Z"
   },
   {
    "duration": 199,
    "start_time": "2022-09-01T20:57:11.010Z"
   },
   {
    "duration": 203,
    "start_time": "2022-09-01T20:57:11.211Z"
   },
   {
    "duration": 1245,
    "start_time": "2022-09-01T20:57:11.415Z"
   },
   {
    "duration": 20,
    "start_time": "2022-09-01T20:57:12.662Z"
   },
   {
    "duration": 1395,
    "start_time": "2022-09-01T20:57:12.683Z"
   },
   {
    "duration": 27,
    "start_time": "2022-09-01T20:57:14.080Z"
   },
   {
    "duration": 601,
    "start_time": "2022-09-01T20:57:14.108Z"
   },
   {
    "duration": 8,
    "start_time": "2022-09-01T20:57:14.711Z"
   },
   {
    "duration": 12,
    "start_time": "2022-09-01T20:57:14.721Z"
   },
   {
    "duration": 10,
    "start_time": "2022-09-01T20:57:14.735Z"
   },
   {
    "duration": 7,
    "start_time": "2022-09-01T20:57:14.747Z"
   },
   {
    "duration": 24,
    "start_time": "2022-09-01T20:58:40.781Z"
   },
   {
    "duration": 1072,
    "start_time": "2022-09-01T21:00:51.208Z"
   },
   {
    "duration": 62,
    "start_time": "2022-09-01T21:00:52.282Z"
   },
   {
    "duration": 13,
    "start_time": "2022-09-01T21:00:52.345Z"
   },
   {
    "duration": 13,
    "start_time": "2022-09-01T21:00:52.360Z"
   },
   {
    "duration": 9,
    "start_time": "2022-09-01T21:00:52.375Z"
   },
   {
    "duration": 4,
    "start_time": "2022-09-01T21:00:52.405Z"
   },
   {
    "duration": 10,
    "start_time": "2022-09-01T21:00:52.411Z"
   },
   {
    "duration": 13,
    "start_time": "2022-09-01T21:00:52.422Z"
   },
   {
    "duration": 9,
    "start_time": "2022-09-01T21:00:52.437Z"
   },
   {
    "duration": 11,
    "start_time": "2022-09-01T21:00:52.449Z"
   },
   {
    "duration": 45,
    "start_time": "2022-09-01T21:00:52.462Z"
   },
   {
    "duration": 85,
    "start_time": "2022-09-01T21:00:52.508Z"
   },
   {
    "duration": 14,
    "start_time": "2022-09-01T21:00:52.594Z"
   },
   {
    "duration": 18,
    "start_time": "2022-09-01T21:00:52.609Z"
   },
   {
    "duration": 14,
    "start_time": "2022-09-01T21:00:52.628Z"
   },
   {
    "duration": 315,
    "start_time": "2022-09-01T21:00:52.643Z"
   },
   {
    "duration": 15,
    "start_time": "2022-09-01T21:00:52.960Z"
   },
   {
    "duration": 182,
    "start_time": "2022-09-01T21:00:52.977Z"
   },
   {
    "duration": 170,
    "start_time": "2022-09-01T21:00:53.161Z"
   },
   {
    "duration": 173,
    "start_time": "2022-09-01T21:00:53.333Z"
   },
   {
    "duration": 163,
    "start_time": "2022-09-01T21:00:53.508Z"
   },
   {
    "duration": 153,
    "start_time": "2022-09-01T21:00:53.673Z"
   },
   {
    "duration": 181,
    "start_time": "2022-09-01T21:00:53.827Z"
   },
   {
    "duration": 4,
    "start_time": "2022-09-01T21:00:54.010Z"
   },
   {
    "duration": 215,
    "start_time": "2022-09-01T21:00:54.015Z"
   },
   {
    "duration": 4,
    "start_time": "2022-09-01T21:00:54.232Z"
   },
   {
    "duration": 20,
    "start_time": "2022-09-01T21:00:54.238Z"
   },
   {
    "duration": 543,
    "start_time": "2022-09-01T21:00:54.261Z"
   },
   {
    "duration": 218,
    "start_time": "2022-09-01T21:00:54.805Z"
   },
   {
    "duration": 5,
    "start_time": "2022-09-01T21:00:55.024Z"
   },
   {
    "duration": 235,
    "start_time": "2022-09-01T21:00:55.030Z"
   },
   {
    "duration": 5,
    "start_time": "2022-09-01T21:00:55.266Z"
   },
   {
    "duration": 7,
    "start_time": "2022-09-01T21:00:55.273Z"
   },
   {
    "duration": 228,
    "start_time": "2022-09-01T21:00:55.282Z"
   },
   {
    "duration": 5,
    "start_time": "2022-09-01T21:00:55.512Z"
   },
   {
    "duration": 6,
    "start_time": "2022-09-01T21:00:55.518Z"
   },
   {
    "duration": 252,
    "start_time": "2022-09-01T21:00:55.525Z"
   },
   {
    "duration": 5,
    "start_time": "2022-09-01T21:00:55.779Z"
   },
   {
    "duration": 239,
    "start_time": "2022-09-01T21:00:55.785Z"
   },
   {
    "duration": 7,
    "start_time": "2022-09-01T21:00:56.026Z"
   },
   {
    "duration": 242,
    "start_time": "2022-09-01T21:00:56.035Z"
   },
   {
    "duration": 184,
    "start_time": "2022-09-01T21:00:56.278Z"
   },
   {
    "duration": 1081,
    "start_time": "2022-09-01T21:00:56.464Z"
   },
   {
    "duration": 18,
    "start_time": "2022-09-01T21:00:57.547Z"
   },
   {
    "duration": 1209,
    "start_time": "2022-09-01T21:00:57.566Z"
   },
   {
    "duration": 17,
    "start_time": "2022-09-01T21:00:58.777Z"
   },
   {
    "duration": 576,
    "start_time": "2022-09-01T21:00:58.806Z"
   },
   {
    "duration": 8,
    "start_time": "2022-09-01T21:00:59.384Z"
   },
   {
    "duration": 14,
    "start_time": "2022-09-01T21:00:59.393Z"
   },
   {
    "duration": 8,
    "start_time": "2022-09-01T21:00:59.408Z"
   },
   {
    "duration": 7,
    "start_time": "2022-09-01T21:00:59.418Z"
   }
  ],
  "kernelspec": {
   "display_name": "Python 3 (ipykernel)",
   "language": "python",
   "name": "python3"
  },
  "language_info": {
   "codemirror_mode": {
    "name": "ipython",
    "version": 3
   },
   "file_extension": ".py",
   "mimetype": "text/x-python",
   "name": "python",
   "nbconvert_exporter": "python",
   "pygments_lexer": "ipython3",
   "version": "3.9.5"
  },
  "toc": {
   "base_numbering": 1,
   "nav_menu": {},
   "number_sections": true,
   "sideBar": true,
   "skip_h1_title": true,
   "title_cell": "Table of Contents",
   "title_sidebar": "Contents",
   "toc_cell": false,
   "toc_position": {
    "height": "calc(100% - 180px)",
    "left": "10px",
    "top": "150px",
    "width": "232px"
   },
   "toc_section_display": true,
   "toc_window_display": true
  }
 },
 "nbformat": 4,
 "nbformat_minor": 2
}
