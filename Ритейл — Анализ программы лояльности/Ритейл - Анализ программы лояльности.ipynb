{
 "cells": [
  {
   "cell_type": "markdown",
   "metadata": {},
   "source": [
    "## Материалы:\n",
    "* [Презентация] (https://drive.google.com/file/d/1z45MVT0j2xHeZMLp6ydfy1sTENUTLtPI/view?usp=sharing)\n",
    "* [Дашборд] (https://public.tableau.com/app/profile/valeriya3733/viz/Final_project_16530791998300/Dashboard1)"
   ]
  },
  {
   "cell_type": "markdown",
   "metadata": {},
   "source": [
    "## Описание проекта\n",
    "\n",
    "**Название проекта:**\n",
    "\n",
    "Ритейл — Анализ программы лояльности\n",
    "\n",
    "**Описание исследования:**\n",
    "\n",
    "В магазине строительных материалов «Строили, строили и наконец построили» все покупатели могут получить доступ к нему с использованием персональных карт. За 200 рублей в месяц они могут стать участниками программы лояльности. В программу включены скидки, специальные предложения, подарки. Необходимо провести анализ данных и предоставить результаты и рекомендации руководству магазина.\n",
    "На основании анализа будут сделаны выводы и при необходимости приняты управленческие решения для корректировки программы лояльности.\n",
    "\n",
    "**Цель исследования:**\n",
    "\n",
    "Провести анализ программы лояльности\n",
    "\n",
    "\n",
    "**Задачи исследования:**\n",
    "\n",
    "Проанализировать программу лояльности магазина.\n",
    "\n",
    "- Провести исследовательский анализ данных;\n",
    "- Провести анализ программы лояльности;\n",
    "- Сформулировать и проверьте статистические гипотезы.\n",
    "\n",
    "**Исходные данные:**\n",
    "\n",
    "Файл retail_dataset.csv:\n",
    "\n",
    "- `purchaseId` — id чека;\n",
    "- `item_ID` — id товара;\n",
    "- `purchasedate` — дата покупки;\n",
    "- `Quantity` — количество товара;\n",
    "- `CustomerID` — id покупателя;\n",
    "- `ShopID` — id магазина;\n",
    "- `loyalty_program` — участвует ли покупатель в программе лояльности;\n",
    "\n",
    "\n",
    "Файл product_codes.csv:\n",
    "\n",
    "- `productID` — id товара;\n",
    "- `price_per_one` — стоимость одной единицы товара"
   ]
  },
  {
   "cell_type": "markdown",
   "metadata": {},
   "source": [
    "## Знакомство с данными и первичная обработка"
   ]
  },
  {
   "cell_type": "code",
   "execution_count": 1,
   "metadata": {},
   "outputs": [],
   "source": [
    "# импортируем необходимые библиотеки\n",
    "\n",
    "import pandas as pd\n",
    "import matplotlib.pyplot as plt\n",
    "import seaborn as sns\n",
    "import numpy as np\n",
    "from scipy import stats as st"
   ]
  },
  {
   "cell_type": "code",
   "execution_count": 2,
   "metadata": {},
   "outputs": [],
   "source": [
    "# загрузим данные\n",
    "\n",
    "data = pd.read_csv('/datasets/retail_dataset.csv')\n",
    "product = pd.read_csv('/datasets/product_codes.csv')"
   ]
  },
  {
   "cell_type": "code",
   "execution_count": 3,
   "metadata": {},
   "outputs": [],
   "source": [
    "# введем функцию для знакомства и первичной обработки базы данных\n",
    "\n",
    "def inspect(df):\n",
    "    display(df.head()) # вывод первых 5 строк таблицы\n",
    "    df.info() # получение информации\n",
    "    print ('Количество дубликатов -', df.duplicated().sum()) # вывод результата поиска дубликатов\n",
    "    df.columns = [x.lower().replace(' ', '_') for x in df.columns.values] # корректировка названий столбцов\n",
    "    display(df.describe()) #посмотрю основные статистические данные\n",
    "    return df"
   ]
  },
  {
   "cell_type": "code",
   "execution_count": 4,
   "metadata": {
    "scrolled": true
   },
   "outputs": [
    {
     "data": {
      "text/html": [
       "<div>\n",
       "<style scoped>\n",
       "    .dataframe tbody tr th:only-of-type {\n",
       "        vertical-align: middle;\n",
       "    }\n",
       "\n",
       "    .dataframe tbody tr th {\n",
       "        vertical-align: top;\n",
       "    }\n",
       "\n",
       "    .dataframe thead th {\n",
       "        text-align: right;\n",
       "    }\n",
       "</style>\n",
       "<table border=\"1\" class=\"dataframe\">\n",
       "  <thead>\n",
       "    <tr style=\"text-align: right;\">\n",
       "      <th></th>\n",
       "      <th>purchaseid</th>\n",
       "      <th>item_ID</th>\n",
       "      <th>Quantity</th>\n",
       "      <th>purchasedate</th>\n",
       "      <th>CustomerID</th>\n",
       "      <th>ShopID</th>\n",
       "      <th>loyalty_program</th>\n",
       "    </tr>\n",
       "  </thead>\n",
       "  <tbody>\n",
       "    <tr>\n",
       "      <th>0</th>\n",
       "      <td>538280</td>\n",
       "      <td>21873</td>\n",
       "      <td>11</td>\n",
       "      <td>2016-12-10 12:50:00</td>\n",
       "      <td>18427.0</td>\n",
       "      <td>Shop 0</td>\n",
       "      <td>0.0</td>\n",
       "    </tr>\n",
       "    <tr>\n",
       "      <th>1</th>\n",
       "      <td>538862</td>\n",
       "      <td>22195</td>\n",
       "      <td>0</td>\n",
       "      <td>2016-12-14 14:11:00</td>\n",
       "      <td>22389.0</td>\n",
       "      <td>Shop 0</td>\n",
       "      <td>1.0</td>\n",
       "    </tr>\n",
       "    <tr>\n",
       "      <th>2</th>\n",
       "      <td>538855</td>\n",
       "      <td>21239</td>\n",
       "      <td>7</td>\n",
       "      <td>2016-12-14 13:50:00</td>\n",
       "      <td>22182.0</td>\n",
       "      <td>Shop 0</td>\n",
       "      <td>1.0</td>\n",
       "    </tr>\n",
       "    <tr>\n",
       "      <th>3</th>\n",
       "      <td>543543</td>\n",
       "      <td>22271</td>\n",
       "      <td>0</td>\n",
       "      <td>2017-02-09 15:33:00</td>\n",
       "      <td>23522.0</td>\n",
       "      <td>Shop 0</td>\n",
       "      <td>1.0</td>\n",
       "    </tr>\n",
       "    <tr>\n",
       "      <th>4</th>\n",
       "      <td>543812</td>\n",
       "      <td>79321</td>\n",
       "      <td>0</td>\n",
       "      <td>2017-02-13 14:40:00</td>\n",
       "      <td>23151.0</td>\n",
       "      <td>Shop 0</td>\n",
       "      <td>1.0</td>\n",
       "    </tr>\n",
       "  </tbody>\n",
       "</table>\n",
       "</div>"
      ],
      "text/plain": [
       "  purchaseid item_ID  Quantity         purchasedate  CustomerID  ShopID  \\\n",
       "0     538280   21873        11  2016-12-10 12:50:00     18427.0  Shop 0   \n",
       "1     538862   22195         0  2016-12-14 14:11:00     22389.0  Shop 0   \n",
       "2     538855   21239         7  2016-12-14 13:50:00     22182.0  Shop 0   \n",
       "3     543543   22271         0  2017-02-09 15:33:00     23522.0  Shop 0   \n",
       "4     543812   79321         0  2017-02-13 14:40:00     23151.0  Shop 0   \n",
       "\n",
       "   loyalty_program  \n",
       "0              0.0  \n",
       "1              1.0  \n",
       "2              1.0  \n",
       "3              1.0  \n",
       "4              1.0  "
      ]
     },
     "metadata": {},
     "output_type": "display_data"
    },
    {
     "name": "stdout",
     "output_type": "stream",
     "text": [
      "<class 'pandas.core.frame.DataFrame'>\n",
      "RangeIndex: 105335 entries, 0 to 105334\n",
      "Data columns (total 7 columns):\n",
      " #   Column           Non-Null Count   Dtype  \n",
      "---  ------           --------------   -----  \n",
      " 0   purchaseid       105335 non-null  object \n",
      " 1   item_ID          105335 non-null  object \n",
      " 2   Quantity         105335 non-null  int64  \n",
      " 3   purchasedate     105335 non-null  object \n",
      " 4   CustomerID       69125 non-null   float64\n",
      " 5   ShopID           105335 non-null  object \n",
      " 6   loyalty_program  105335 non-null  float64\n",
      "dtypes: float64(2), int64(1), object(4)\n",
      "memory usage: 5.6+ MB\n",
      "Количество дубликатов - 1033\n"
     ]
    },
    {
     "data": {
      "text/html": [
       "<div>\n",
       "<style scoped>\n",
       "    .dataframe tbody tr th:only-of-type {\n",
       "        vertical-align: middle;\n",
       "    }\n",
       "\n",
       "    .dataframe tbody tr th {\n",
       "        vertical-align: top;\n",
       "    }\n",
       "\n",
       "    .dataframe thead th {\n",
       "        text-align: right;\n",
       "    }\n",
       "</style>\n",
       "<table border=\"1\" class=\"dataframe\">\n",
       "  <thead>\n",
       "    <tr style=\"text-align: right;\">\n",
       "      <th></th>\n",
       "      <th>quantity</th>\n",
       "      <th>customerid</th>\n",
       "      <th>loyalty_program</th>\n",
       "    </tr>\n",
       "  </thead>\n",
       "  <tbody>\n",
       "    <tr>\n",
       "      <th>count</th>\n",
       "      <td>105335.000000</td>\n",
       "      <td>69125.000000</td>\n",
       "      <td>105335.000000</td>\n",
       "    </tr>\n",
       "    <tr>\n",
       "      <th>mean</th>\n",
       "      <td>7.821218</td>\n",
       "      <td>21019.302047</td>\n",
       "      <td>0.226345</td>\n",
       "    </tr>\n",
       "    <tr>\n",
       "      <th>std</th>\n",
       "      <td>327.946695</td>\n",
       "      <td>1765.444679</td>\n",
       "      <td>0.418467</td>\n",
       "    </tr>\n",
       "    <tr>\n",
       "      <th>min</th>\n",
       "      <td>-74216.000000</td>\n",
       "      <td>18025.000000</td>\n",
       "      <td>0.000000</td>\n",
       "    </tr>\n",
       "    <tr>\n",
       "      <th>25%</th>\n",
       "      <td>0.000000</td>\n",
       "      <td>19544.000000</td>\n",
       "      <td>0.000000</td>\n",
       "    </tr>\n",
       "    <tr>\n",
       "      <th>50%</th>\n",
       "      <td>2.000000</td>\n",
       "      <td>20990.000000</td>\n",
       "      <td>0.000000</td>\n",
       "    </tr>\n",
       "    <tr>\n",
       "      <th>75%</th>\n",
       "      <td>7.000000</td>\n",
       "      <td>22659.000000</td>\n",
       "      <td>0.000000</td>\n",
       "    </tr>\n",
       "    <tr>\n",
       "      <th>max</th>\n",
       "      <td>74214.000000</td>\n",
       "      <td>23962.000000</td>\n",
       "      <td>1.000000</td>\n",
       "    </tr>\n",
       "  </tbody>\n",
       "</table>\n",
       "</div>"
      ],
      "text/plain": [
       "            quantity    customerid  loyalty_program\n",
       "count  105335.000000  69125.000000    105335.000000\n",
       "mean        7.821218  21019.302047         0.226345\n",
       "std       327.946695   1765.444679         0.418467\n",
       "min    -74216.000000  18025.000000         0.000000\n",
       "25%         0.000000  19544.000000         0.000000\n",
       "50%         2.000000  20990.000000         0.000000\n",
       "75%         7.000000  22659.000000         0.000000\n",
       "max     74214.000000  23962.000000         1.000000"
      ]
     },
     "metadata": {},
     "output_type": "display_data"
    }
   ],
   "source": [
    "# ознакомимся с базой данных по всем покупкам\n",
    "\n",
    "data = inspect(data)"
   ]
  },
  {
   "cell_type": "code",
   "execution_count": 5,
   "metadata": {
    "scrolled": true
   },
   "outputs": [
    {
     "name": "stdout",
     "output_type": "stream",
     "text": [
      "<class 'pandas.core.frame.DataFrame'>\n",
      "RangeIndex: 105335 entries, 0 to 105334\n",
      "Data columns (total 7 columns):\n",
      " #   Column           Non-Null Count   Dtype         \n",
      "---  ------           --------------   -----         \n",
      " 0   purchaseid       105335 non-null  object        \n",
      " 1   item_id          105335 non-null  object        \n",
      " 2   quantity         105335 non-null  int64         \n",
      " 3   purchasedate     105335 non-null  datetime64[ns]\n",
      " 4   customerid       69125 non-null   object        \n",
      " 5   shopid           105335 non-null  object        \n",
      " 6   loyalty_program  105335 non-null  int64         \n",
      "dtypes: datetime64[ns](1), int64(2), object(4)\n",
      "memory usage: 5.6+ MB\n"
     ]
    }
   ],
   "source": [
    "# скорректирую типы данных: дату покупки и статус участия в программе лояльности\n",
    "\n",
    "\n",
    "data['purchasedate'] = pd.to_datetime(data['purchasedate']).dt.date\n",
    "data['purchasedate'] = pd.to_datetime(data['purchasedate'], format='%Y-%m-%d')\n",
    "data['loyalty_program'] = data['loyalty_program'].astype(int)\n",
    "data['customerid'] = data['customerid'].astype(object)\n",
    "data.info()"
   ]
  },
  {
   "cell_type": "markdown",
   "metadata": {},
   "source": [
    "Пропуски в customerid рассмотрю дальше, после объединения таблиц. Хочу их немного проанализировать.\n",
    "\n",
    "1033 дубликатов могут действительно быть, когда пробивают один и тот же товар разными строками в чеке. Удалять не нужно."
   ]
  },
  {
   "cell_type": "markdown",
   "metadata": {},
   "source": [
    "Есть позиции в чеке, где количество равно 0. Это похоже на ошибку. В реальности этот вопрос можно было бы выяснить, но в рамках проекта понять точно, что значат эти нули не имею возможности, но при этом они могут исказить статистику, например, при расчете среднего чека."
   ]
  },
  {
   "cell_type": "code",
   "execution_count": 6,
   "metadata": {},
   "outputs": [],
   "source": [
    "# удаляю строки, в которых количество равно 0\n",
    "\n",
    "data = data[data['quantity'] != 0]"
   ]
  },
  {
   "cell_type": "code",
   "execution_count": 7,
   "metadata": {
    "scrolled": true
   },
   "outputs": [
    {
     "data": {
      "text/html": [
       "<div>\n",
       "<style scoped>\n",
       "    .dataframe tbody tr th:only-of-type {\n",
       "        vertical-align: middle;\n",
       "    }\n",
       "\n",
       "    .dataframe tbody tr th {\n",
       "        vertical-align: top;\n",
       "    }\n",
       "\n",
       "    .dataframe thead th {\n",
       "        text-align: right;\n",
       "    }\n",
       "</style>\n",
       "<table border=\"1\" class=\"dataframe\">\n",
       "  <thead>\n",
       "    <tr style=\"text-align: right;\">\n",
       "      <th></th>\n",
       "      <th>productID</th>\n",
       "      <th>price_per_one</th>\n",
       "    </tr>\n",
       "  </thead>\n",
       "  <tbody>\n",
       "    <tr>\n",
       "      <th>0</th>\n",
       "      <td>85123A</td>\n",
       "      <td>2.55</td>\n",
       "    </tr>\n",
       "    <tr>\n",
       "      <th>1</th>\n",
       "      <td>71053</td>\n",
       "      <td>3.39</td>\n",
       "    </tr>\n",
       "    <tr>\n",
       "      <th>2</th>\n",
       "      <td>84406B</td>\n",
       "      <td>2.75</td>\n",
       "    </tr>\n",
       "    <tr>\n",
       "      <th>3</th>\n",
       "      <td>84029G</td>\n",
       "      <td>3.39</td>\n",
       "    </tr>\n",
       "    <tr>\n",
       "      <th>4</th>\n",
       "      <td>84029E</td>\n",
       "      <td>3.39</td>\n",
       "    </tr>\n",
       "  </tbody>\n",
       "</table>\n",
       "</div>"
      ],
      "text/plain": [
       "  productID  price_per_one\n",
       "0    85123A           2.55\n",
       "1     71053           3.39\n",
       "2    84406B           2.75\n",
       "3    84029G           3.39\n",
       "4    84029E           3.39"
      ]
     },
     "metadata": {},
     "output_type": "display_data"
    },
    {
     "name": "stdout",
     "output_type": "stream",
     "text": [
      "<class 'pandas.core.frame.DataFrame'>\n",
      "RangeIndex: 9969 entries, 0 to 9968\n",
      "Data columns (total 2 columns):\n",
      " #   Column         Non-Null Count  Dtype  \n",
      "---  ------         --------------  -----  \n",
      " 0   productID      9969 non-null   object \n",
      " 1   price_per_one  9969 non-null   float64\n",
      "dtypes: float64(1), object(1)\n",
      "memory usage: 155.9+ KB\n",
      "Количество дубликатов - 0\n"
     ]
    },
    {
     "data": {
      "text/html": [
       "<div>\n",
       "<style scoped>\n",
       "    .dataframe tbody tr th:only-of-type {\n",
       "        vertical-align: middle;\n",
       "    }\n",
       "\n",
       "    .dataframe tbody tr th {\n",
       "        vertical-align: top;\n",
       "    }\n",
       "\n",
       "    .dataframe thead th {\n",
       "        text-align: right;\n",
       "    }\n",
       "</style>\n",
       "<table border=\"1\" class=\"dataframe\">\n",
       "  <thead>\n",
       "    <tr style=\"text-align: right;\">\n",
       "      <th></th>\n",
       "      <th>price_per_one</th>\n",
       "    </tr>\n",
       "  </thead>\n",
       "  <tbody>\n",
       "    <tr>\n",
       "      <th>count</th>\n",
       "      <td>9969.000000</td>\n",
       "    </tr>\n",
       "    <tr>\n",
       "      <th>mean</th>\n",
       "      <td>19.503697</td>\n",
       "    </tr>\n",
       "    <tr>\n",
       "      <th>std</th>\n",
       "      <td>330.880754</td>\n",
       "    </tr>\n",
       "    <tr>\n",
       "      <th>min</th>\n",
       "      <td>0.000000</td>\n",
       "    </tr>\n",
       "    <tr>\n",
       "      <th>25%</th>\n",
       "      <td>1.250000</td>\n",
       "    </tr>\n",
       "    <tr>\n",
       "      <th>50%</th>\n",
       "      <td>2.550000</td>\n",
       "    </tr>\n",
       "    <tr>\n",
       "      <th>75%</th>\n",
       "      <td>5.510000</td>\n",
       "    </tr>\n",
       "    <tr>\n",
       "      <th>max</th>\n",
       "      <td>16888.020000</td>\n",
       "    </tr>\n",
       "  </tbody>\n",
       "</table>\n",
       "</div>"
      ],
      "text/plain": [
       "       price_per_one\n",
       "count    9969.000000\n",
       "mean       19.503697\n",
       "std       330.880754\n",
       "min         0.000000\n",
       "25%         1.250000\n",
       "50%         2.550000\n",
       "75%         5.510000\n",
       "max     16888.020000"
      ]
     },
     "metadata": {},
     "output_type": "display_data"
    }
   ],
   "source": [
    "# ознакомимся с базой данных по всем покупкам\n",
    "\n",
    "product = inspect(product)"
   ]
  },
  {
   "cell_type": "markdown",
   "metadata": {},
   "source": [
    "Пропусков и дубликатов нет, с типами данных все в порядке"
   ]
  },
  {
   "cell_type": "code",
   "execution_count": 8,
   "metadata": {},
   "outputs": [
    {
     "data": {
      "text/plain": [
       "3159"
      ]
     },
     "execution_count": 8,
     "metadata": {},
     "output_type": "execute_result"
    }
   ],
   "source": [
    "# посмотрим, сколько уникальных значений есть в столбце с ID продукта\n",
    "\n",
    "product['productid'].nunique(dropna = True)"
   ]
  },
  {
   "cell_type": "markdown",
   "metadata": {},
   "source": [
    "Получается, что на 1 продукт может приходиться несколько цен. Такое вполне может быть, так как цены динамичны и могут меняться в зависимости от совокупности факторов."
   ]
  },
  {
   "cell_type": "code",
   "execution_count": 9,
   "metadata": {
    "scrolled": true
   },
   "outputs": [
    {
     "data": {
      "text/html": [
       "<div>\n",
       "<style scoped>\n",
       "    .dataframe tbody tr th:only-of-type {\n",
       "        vertical-align: middle;\n",
       "    }\n",
       "\n",
       "    .dataframe tbody tr th {\n",
       "        vertical-align: top;\n",
       "    }\n",
       "\n",
       "    .dataframe thead th {\n",
       "        text-align: right;\n",
       "    }\n",
       "</style>\n",
       "<table border=\"1\" class=\"dataframe\">\n",
       "  <thead>\n",
       "    <tr style=\"text-align: right;\">\n",
       "      <th></th>\n",
       "      <th>item_id</th>\n",
       "      <th>price_per_one</th>\n",
       "    </tr>\n",
       "  </thead>\n",
       "  <tbody>\n",
       "    <tr>\n",
       "      <th>0</th>\n",
       "      <td>10002</td>\n",
       "      <td>1.63</td>\n",
       "    </tr>\n",
       "    <tr>\n",
       "      <th>1</th>\n",
       "      <td>10080</td>\n",
       "      <td>0.85</td>\n",
       "    </tr>\n",
       "    <tr>\n",
       "      <th>2</th>\n",
       "      <td>10120</td>\n",
       "      <td>0.21</td>\n",
       "    </tr>\n",
       "    <tr>\n",
       "      <th>3</th>\n",
       "      <td>10123C</td>\n",
       "      <td>0.65</td>\n",
       "    </tr>\n",
       "    <tr>\n",
       "      <th>4</th>\n",
       "      <td>10124A</td>\n",
       "      <td>0.42</td>\n",
       "    </tr>\n",
       "  </tbody>\n",
       "</table>\n",
       "</div>"
      ],
      "text/plain": [
       "  item_id  price_per_one\n",
       "0   10002           1.63\n",
       "1   10080           0.85\n",
       "2   10120           0.21\n",
       "3  10123C           0.65\n",
       "4  10124A           0.42"
      ]
     },
     "execution_count": 9,
     "metadata": {},
     "output_type": "execute_result"
    }
   ],
   "source": [
    "# мне нужно оставить одну цену, чтобы объединить таблицы. \n",
    "# оставлю медианное значение\n",
    "\n",
    "last_price = product.groupby(['productid']).median().reset_index()\n",
    "last_price = last_price.rename(columns={'productid': 'item_id'}) # переименую столбец для объединения\n",
    "last_price.head(5)"
   ]
  },
  {
   "cell_type": "code",
   "execution_count": 10,
   "metadata": {},
   "outputs": [
    {
     "data": {
      "text/html": [
       "<div>\n",
       "<style scoped>\n",
       "    .dataframe tbody tr th:only-of-type {\n",
       "        vertical-align: middle;\n",
       "    }\n",
       "\n",
       "    .dataframe tbody tr th {\n",
       "        vertical-align: top;\n",
       "    }\n",
       "\n",
       "    .dataframe thead th {\n",
       "        text-align: right;\n",
       "    }\n",
       "</style>\n",
       "<table border=\"1\" class=\"dataframe\">\n",
       "  <thead>\n",
       "    <tr style=\"text-align: right;\">\n",
       "      <th></th>\n",
       "      <th>purchaseid</th>\n",
       "      <th>item_id</th>\n",
       "      <th>quantity</th>\n",
       "      <th>purchasedate</th>\n",
       "      <th>customerid</th>\n",
       "      <th>shopid</th>\n",
       "      <th>loyalty_program</th>\n",
       "      <th>price_per_one</th>\n",
       "      <th>sum_item</th>\n",
       "    </tr>\n",
       "  </thead>\n",
       "  <tbody>\n",
       "    <tr>\n",
       "      <th>0</th>\n",
       "      <td>538280</td>\n",
       "      <td>21873</td>\n",
       "      <td>11</td>\n",
       "      <td>2016-12-10</td>\n",
       "      <td>18427.0</td>\n",
       "      <td>Shop 0</td>\n",
       "      <td>0</td>\n",
       "      <td>1.630</td>\n",
       "      <td>17.930</td>\n",
       "    </tr>\n",
       "    <tr>\n",
       "      <th>1</th>\n",
       "      <td>538855</td>\n",
       "      <td>21239</td>\n",
       "      <td>7</td>\n",
       "      <td>2016-12-14</td>\n",
       "      <td>22182.0</td>\n",
       "      <td>Shop 0</td>\n",
       "      <td>1</td>\n",
       "      <td>1.630</td>\n",
       "      <td>11.410</td>\n",
       "    </tr>\n",
       "    <tr>\n",
       "      <th>2</th>\n",
       "      <td>541424</td>\n",
       "      <td>79321</td>\n",
       "      <td>1</td>\n",
       "      <td>2017-01-17</td>\n",
       "      <td>NaN</td>\n",
       "      <td>Shop 0</td>\n",
       "      <td>0</td>\n",
       "      <td>5.750</td>\n",
       "      <td>5.750</td>\n",
       "    </tr>\n",
       "    <tr>\n",
       "      <th>3</th>\n",
       "      <td>537795</td>\n",
       "      <td>82494L</td>\n",
       "      <td>5</td>\n",
       "      <td>2016-12-08</td>\n",
       "      <td>22892.0</td>\n",
       "      <td>Shop 0</td>\n",
       "      <td>1</td>\n",
       "      <td>5.205</td>\n",
       "      <td>26.025</td>\n",
       "    </tr>\n",
       "    <tr>\n",
       "      <th>4</th>\n",
       "      <td>541696</td>\n",
       "      <td>22197</td>\n",
       "      <td>4</td>\n",
       "      <td>2017-01-20</td>\n",
       "      <td>NaN</td>\n",
       "      <td>Shop 0</td>\n",
       "      <td>0</td>\n",
       "      <td>1.240</td>\n",
       "      <td>4.960</td>\n",
       "    </tr>\n",
       "  </tbody>\n",
       "</table>\n",
       "</div>"
      ],
      "text/plain": [
       "  purchaseid item_id  quantity purchasedate customerid  shopid  \\\n",
       "0     538280   21873        11   2016-12-10    18427.0  Shop 0   \n",
       "1     538855   21239         7   2016-12-14    22182.0  Shop 0   \n",
       "2     541424   79321         1   2017-01-17        NaN  Shop 0   \n",
       "3     537795  82494L         5   2016-12-08    22892.0  Shop 0   \n",
       "4     541696   22197         4   2017-01-20        NaN  Shop 0   \n",
       "\n",
       "   loyalty_program  price_per_one  sum_item  \n",
       "0                0          1.630    17.930  \n",
       "1                1          1.630    11.410  \n",
       "2                0          5.750     5.750  \n",
       "3                1          5.205    26.025  \n",
       "4                0          1.240     4.960  "
      ]
     },
     "execution_count": 10,
     "metadata": {},
     "output_type": "execute_result"
    }
   ],
   "source": [
    "# объединю таблицы и сразу же добавлю столбец с суммой позиции в чеке\n",
    "\n",
    "data_new = pd.merge(data, last_price, how='left', on='item_id')\n",
    "data_new['sum_item'] = data_new['quantity'] * data_new['price_per_one']\n",
    "data_new.head()"
   ]
  },
  {
   "cell_type": "markdown",
   "metadata": {},
   "source": [
    "Пропуски есть в колонке customerid, 36210 шт. По условию: \"Все покупатели могут получить доступ в магазин с использованием персональных карт.\" А соответственно, у всех покупателей должен быть id. Тогда предполагаю, что это могут быть строки для внутреннего пользования. Внутренние операции, которые нам для анализа не нужны.\n",
    "\n",
    "Нужно принять решение, удалять ли эти значения. Поэтому я дополнительно посмотрю, что это за строки."
   ]
  },
  {
   "cell_type": "code",
   "execution_count": 11,
   "metadata": {
    "scrolled": true
   },
   "outputs": [
    {
     "data": {
      "text/html": [
       "<div>\n",
       "<style scoped>\n",
       "    .dataframe tbody tr th:only-of-type {\n",
       "        vertical-align: middle;\n",
       "    }\n",
       "\n",
       "    .dataframe tbody tr th {\n",
       "        vertical-align: top;\n",
       "    }\n",
       "\n",
       "    .dataframe thead th {\n",
       "        text-align: right;\n",
       "    }\n",
       "</style>\n",
       "<table border=\"1\" class=\"dataframe\">\n",
       "  <thead>\n",
       "    <tr style=\"text-align: right;\">\n",
       "      <th></th>\n",
       "      <th>item_id</th>\n",
       "      <th>sum_item</th>\n",
       "    </tr>\n",
       "  </thead>\n",
       "  <tbody>\n",
       "    <tr>\n",
       "      <th>0</th>\n",
       "      <td>POST</td>\n",
       "      <td>12925.05</td>\n",
       "    </tr>\n",
       "    <tr>\n",
       "      <th>1</th>\n",
       "      <td>21479</td>\n",
       "      <td>10921.44</td>\n",
       "    </tr>\n",
       "    <tr>\n",
       "      <th>2</th>\n",
       "      <td>22423</td>\n",
       "      <td>7386.30</td>\n",
       "    </tr>\n",
       "    <tr>\n",
       "      <th>3</th>\n",
       "      <td>22114</td>\n",
       "      <td>6615.42</td>\n",
       "    </tr>\n",
       "    <tr>\n",
       "      <th>4</th>\n",
       "      <td>22086</td>\n",
       "      <td>4364.10</td>\n",
       "    </tr>\n",
       "    <tr>\n",
       "      <th>...</th>\n",
       "      <td>...</td>\n",
       "      <td>...</td>\n",
       "    </tr>\n",
       "    <tr>\n",
       "      <th>2009</th>\n",
       "      <td>BANK CHARGES</td>\n",
       "      <td>-1987.44</td>\n",
       "    </tr>\n",
       "    <tr>\n",
       "      <th>2010</th>\n",
       "      <td>84997C</td>\n",
       "      <td>-2685.00</td>\n",
       "    </tr>\n",
       "    <tr>\n",
       "      <th>2011</th>\n",
       "      <td>21621</td>\n",
       "      <td>-3924.72</td>\n",
       "    </tr>\n",
       "    <tr>\n",
       "      <th>2012</th>\n",
       "      <td>22617</td>\n",
       "      <td>-11960.00</td>\n",
       "    </tr>\n",
       "    <tr>\n",
       "      <th>2013</th>\n",
       "      <td>AMAZONFEE</td>\n",
       "      <td>-134134.20</td>\n",
       "    </tr>\n",
       "  </tbody>\n",
       "</table>\n",
       "<p>2014 rows × 2 columns</p>\n",
       "</div>"
      ],
      "text/plain": [
       "           item_id   sum_item\n",
       "0             POST   12925.05\n",
       "1            21479   10921.44\n",
       "2            22423    7386.30\n",
       "3            22114    6615.42\n",
       "4            22086    4364.10\n",
       "...            ...        ...\n",
       "2009  BANK CHARGES   -1987.44\n",
       "2010        84997C   -2685.00\n",
       "2011         21621   -3924.72\n",
       "2012         22617  -11960.00\n",
       "2013     AMAZONFEE -134134.20\n",
       "\n",
       "[2014 rows x 2 columns]"
      ]
     },
     "execution_count": 11,
     "metadata": {},
     "output_type": "execute_result"
    }
   ],
   "source": [
    "# отберу только строки, в которых данные покупателя не указаны\n",
    "\n",
    "drop_customerid_0 = data_new[data_new.isnull().any(1)]\n",
    "\n",
    "# сгруппирую по товару, отсортирую по убыванию суммы покупки\n",
    "\n",
    "drop_itemid_0 = drop_customerid_0.groupby('item_id').agg({'sum_item': 'sum'})\n",
    "drop_itemid_0 = drop_itemid_0.sort_values(by='sum_item', ascending=False).reset_index()\n",
    "drop_itemid_0"
   ]
  },
  {
   "cell_type": "markdown",
   "metadata": {},
   "source": [
    "Судя по группировке по item_id, максимальные и минимальные значения - это POST, BANK CHARGES и AMAZONFEE, особенно последнее значение самое крупное. А это всевозможные комиссии, то есть как раз внутренние операции.\n",
    "Поэтому удалю все строки, где не определено id покупателя."
   ]
  },
  {
   "cell_type": "code",
   "execution_count": 12,
   "metadata": {},
   "outputs": [],
   "source": [
    "data_new = data_new.dropna(subset=['customerid'])"
   ]
  },
  {
   "cell_type": "markdown",
   "metadata": {},
   "source": [
    "## Исследовательский анализ данных"
   ]
  },
  {
   "cell_type": "markdown",
   "metadata": {},
   "source": [
    "### Анализ магазинов"
   ]
  },
  {
   "cell_type": "code",
   "execution_count": 13,
   "metadata": {
    "scrolled": true
   },
   "outputs": [
    {
     "data": {
      "text/html": [
       "<div>\n",
       "<style scoped>\n",
       "    .dataframe tbody tr th:only-of-type {\n",
       "        vertical-align: middle;\n",
       "    }\n",
       "\n",
       "    .dataframe tbody tr th {\n",
       "        vertical-align: top;\n",
       "    }\n",
       "\n",
       "    .dataframe thead th {\n",
       "        text-align: right;\n",
       "    }\n",
       "</style>\n",
       "<table border=\"1\" class=\"dataframe\">\n",
       "  <thead>\n",
       "    <tr style=\"text-align: right;\">\n",
       "      <th></th>\n",
       "      <th>shopid</th>\n",
       "      <th>purchaseid</th>\n",
       "      <th>item_id</th>\n",
       "      <th>quantity</th>\n",
       "      <th>customerid</th>\n",
       "      <th>purchasedate_min</th>\n",
       "      <th>purchasedate_max</th>\n",
       "      <th>loyalty_program</th>\n",
       "      <th>sum_item</th>\n",
       "      <th>period</th>\n",
       "    </tr>\n",
       "  </thead>\n",
       "  <tbody>\n",
       "    <tr>\n",
       "      <th>0</th>\n",
       "      <td>Shop 0</td>\n",
       "      <td>3684</td>\n",
       "      <td>2549</td>\n",
       "      <td>601909</td>\n",
       "      <td>1564</td>\n",
       "      <td>2016-12-01</td>\n",
       "      <td>2017-02-28</td>\n",
       "      <td>17836</td>\n",
       "      <td>1577827.375</td>\n",
       "      <td>89 days</td>\n",
       "    </tr>\n",
       "    <tr>\n",
       "      <th>1</th>\n",
       "      <td>Shop 3</td>\n",
       "      <td>15</td>\n",
       "      <td>295</td>\n",
       "      <td>43096</td>\n",
       "      <td>4</td>\n",
       "      <td>2016-12-01</td>\n",
       "      <td>2017-02-22</td>\n",
       "      <td>0</td>\n",
       "      <td>101963.465</td>\n",
       "      <td>83 days</td>\n",
       "    </tr>\n",
       "    <tr>\n",
       "      <th>2</th>\n",
       "      <td>Shop 6</td>\n",
       "      <td>38</td>\n",
       "      <td>584</td>\n",
       "      <td>16935</td>\n",
       "      <td>3</td>\n",
       "      <td>2016-12-01</td>\n",
       "      <td>2017-02-25</td>\n",
       "      <td>0</td>\n",
       "      <td>51486.895</td>\n",
       "      <td>86 days</td>\n",
       "    </tr>\n",
       "    <tr>\n",
       "      <th>3</th>\n",
       "      <td>Shop 4</td>\n",
       "      <td>113</td>\n",
       "      <td>691</td>\n",
       "      <td>17971</td>\n",
       "      <td>43</td>\n",
       "      <td>2016-12-01</td>\n",
       "      <td>2017-02-25</td>\n",
       "      <td>0</td>\n",
       "      <td>50635.565</td>\n",
       "      <td>86 days</td>\n",
       "    </tr>\n",
       "    <tr>\n",
       "      <th>4</th>\n",
       "      <td>Shop 1</td>\n",
       "      <td>89</td>\n",
       "      <td>556</td>\n",
       "      <td>17894</td>\n",
       "      <td>38</td>\n",
       "      <td>2016-12-01</td>\n",
       "      <td>2017-02-28</td>\n",
       "      <td>0</td>\n",
       "      <td>48030.905</td>\n",
       "      <td>89 days</td>\n",
       "    </tr>\n",
       "    <tr>\n",
       "      <th>5</th>\n",
       "      <td>Shop 2</td>\n",
       "      <td>19</td>\n",
       "      <td>202</td>\n",
       "      <td>14504</td>\n",
       "      <td>8</td>\n",
       "      <td>2016-12-01</td>\n",
       "      <td>2017-02-27</td>\n",
       "      <td>0</td>\n",
       "      <td>39485.245</td>\n",
       "      <td>88 days</td>\n",
       "    </tr>\n",
       "    <tr>\n",
       "      <th>6</th>\n",
       "      <td>Shop 14</td>\n",
       "      <td>5</td>\n",
       "      <td>80</td>\n",
       "      <td>6893</td>\n",
       "      <td>3</td>\n",
       "      <td>2016-12-05</td>\n",
       "      <td>2017-02-09</td>\n",
       "      <td>0</td>\n",
       "      <td>22153.325</td>\n",
       "      <td>66 days</td>\n",
       "    </tr>\n",
       "    <tr>\n",
       "      <th>7</th>\n",
       "      <td>Shop 8</td>\n",
       "      <td>20</td>\n",
       "      <td>360</td>\n",
       "      <td>5010</td>\n",
       "      <td>12</td>\n",
       "      <td>2016-12-03</td>\n",
       "      <td>2017-02-18</td>\n",
       "      <td>34</td>\n",
       "      <td>16971.025</td>\n",
       "      <td>77 days</td>\n",
       "    </tr>\n",
       "    <tr>\n",
       "      <th>8</th>\n",
       "      <td>Shop 7</td>\n",
       "      <td>11</td>\n",
       "      <td>256</td>\n",
       "      <td>4500</td>\n",
       "      <td>7</td>\n",
       "      <td>2016-12-03</td>\n",
       "      <td>2017-02-28</td>\n",
       "      <td>0</td>\n",
       "      <td>11233.930</td>\n",
       "      <td>87 days</td>\n",
       "    </tr>\n",
       "    <tr>\n",
       "      <th>9</th>\n",
       "      <td>Shop 19</td>\n",
       "      <td>7</td>\n",
       "      <td>62</td>\n",
       "      <td>6986</td>\n",
       "      <td>3</td>\n",
       "      <td>2016-12-14</td>\n",
       "      <td>2017-02-01</td>\n",
       "      <td>48</td>\n",
       "      <td>10249.600</td>\n",
       "      <td>49 days</td>\n",
       "    </tr>\n",
       "    <tr>\n",
       "      <th>10</th>\n",
       "      <td>Shop 10</td>\n",
       "      <td>15</td>\n",
       "      <td>200</td>\n",
       "      <td>3282</td>\n",
       "      <td>8</td>\n",
       "      <td>2016-12-03</td>\n",
       "      <td>2017-02-28</td>\n",
       "      <td>0</td>\n",
       "      <td>9949.380</td>\n",
       "      <td>87 days</td>\n",
       "    </tr>\n",
       "    <tr>\n",
       "      <th>11</th>\n",
       "      <td>Shop 12</td>\n",
       "      <td>21</td>\n",
       "      <td>184</td>\n",
       "      <td>3357</td>\n",
       "      <td>10</td>\n",
       "      <td>2016-12-03</td>\n",
       "      <td>2017-02-28</td>\n",
       "      <td>0</td>\n",
       "      <td>6813.930</td>\n",
       "      <td>87 days</td>\n",
       "    </tr>\n",
       "    <tr>\n",
       "      <th>12</th>\n",
       "      <td>Shop 18</td>\n",
       "      <td>7</td>\n",
       "      <td>199</td>\n",
       "      <td>2995</td>\n",
       "      <td>5</td>\n",
       "      <td>2016-12-14</td>\n",
       "      <td>2017-02-21</td>\n",
       "      <td>0</td>\n",
       "      <td>6631.165</td>\n",
       "      <td>69 days</td>\n",
       "    </tr>\n",
       "    <tr>\n",
       "      <th>13</th>\n",
       "      <td>Shop 5</td>\n",
       "      <td>4</td>\n",
       "      <td>108</td>\n",
       "      <td>3698</td>\n",
       "      <td>3</td>\n",
       "      <td>2016-12-01</td>\n",
       "      <td>2017-02-16</td>\n",
       "      <td>0</td>\n",
       "      <td>6202.610</td>\n",
       "      <td>77 days</td>\n",
       "    </tr>\n",
       "    <tr>\n",
       "      <th>14</th>\n",
       "      <td>Shop 11</td>\n",
       "      <td>10</td>\n",
       "      <td>152</td>\n",
       "      <td>1330</td>\n",
       "      <td>7</td>\n",
       "      <td>2016-12-03</td>\n",
       "      <td>2017-02-18</td>\n",
       "      <td>0</td>\n",
       "      <td>4023.410</td>\n",
       "      <td>77 days</td>\n",
       "    </tr>\n",
       "    <tr>\n",
       "      <th>15</th>\n",
       "      <td>Shop 24</td>\n",
       "      <td>1</td>\n",
       "      <td>32</td>\n",
       "      <td>494</td>\n",
       "      <td>1</td>\n",
       "      <td>2017-01-24</td>\n",
       "      <td>2017-01-24</td>\n",
       "      <td>0</td>\n",
       "      <td>3984.625</td>\n",
       "      <td>0 days</td>\n",
       "    </tr>\n",
       "    <tr>\n",
       "      <th>16</th>\n",
       "      <td>Shop 16</td>\n",
       "      <td>4</td>\n",
       "      <td>55</td>\n",
       "      <td>1211</td>\n",
       "      <td>3</td>\n",
       "      <td>2016-12-09</td>\n",
       "      <td>2017-02-15</td>\n",
       "      <td>0</td>\n",
       "      <td>3828.300</td>\n",
       "      <td>68 days</td>\n",
       "    </tr>\n",
       "    <tr>\n",
       "      <th>17</th>\n",
       "      <td>Shop 22</td>\n",
       "      <td>4</td>\n",
       "      <td>33</td>\n",
       "      <td>2120</td>\n",
       "      <td>3</td>\n",
       "      <td>2016-12-16</td>\n",
       "      <td>2017-02-24</td>\n",
       "      <td>0</td>\n",
       "      <td>3003.470</td>\n",
       "      <td>70 days</td>\n",
       "    </tr>\n",
       "    <tr>\n",
       "      <th>18</th>\n",
       "      <td>Shop 26</td>\n",
       "      <td>1</td>\n",
       "      <td>56</td>\n",
       "      <td>1035</td>\n",
       "      <td>1</td>\n",
       "      <td>2017-01-25</td>\n",
       "      <td>2017-01-25</td>\n",
       "      <td>0</td>\n",
       "      <td>2775.590</td>\n",
       "      <td>0 days</td>\n",
       "    </tr>\n",
       "    <tr>\n",
       "      <th>19</th>\n",
       "      <td>Shop 9</td>\n",
       "      <td>4</td>\n",
       "      <td>54</td>\n",
       "      <td>664</td>\n",
       "      <td>2</td>\n",
       "      <td>2016-12-03</td>\n",
       "      <td>2017-02-08</td>\n",
       "      <td>0</td>\n",
       "      <td>2415.115</td>\n",
       "      <td>67 days</td>\n",
       "    </tr>\n",
       "    <tr>\n",
       "      <th>20</th>\n",
       "      <td>Shop 13</td>\n",
       "      <td>4</td>\n",
       "      <td>29</td>\n",
       "      <td>617</td>\n",
       "      <td>1</td>\n",
       "      <td>2016-12-05</td>\n",
       "      <td>2016-12-08</td>\n",
       "      <td>0</td>\n",
       "      <td>2410.330</td>\n",
       "      <td>3 days</td>\n",
       "    </tr>\n",
       "    <tr>\n",
       "      <th>21</th>\n",
       "      <td>Shop 17</td>\n",
       "      <td>2</td>\n",
       "      <td>38</td>\n",
       "      <td>638</td>\n",
       "      <td>2</td>\n",
       "      <td>2016-12-09</td>\n",
       "      <td>2017-02-16</td>\n",
       "      <td>0</td>\n",
       "      <td>2236.450</td>\n",
       "      <td>69 days</td>\n",
       "    </tr>\n",
       "    <tr>\n",
       "      <th>22</th>\n",
       "      <td>Shop 27</td>\n",
       "      <td>1</td>\n",
       "      <td>45</td>\n",
       "      <td>341</td>\n",
       "      <td>1</td>\n",
       "      <td>2017-01-27</td>\n",
       "      <td>2017-01-27</td>\n",
       "      <td>0</td>\n",
       "      <td>2095.470</td>\n",
       "      <td>0 days</td>\n",
       "    </tr>\n",
       "    <tr>\n",
       "      <th>23</th>\n",
       "      <td>Shop 15</td>\n",
       "      <td>2</td>\n",
       "      <td>49</td>\n",
       "      <td>574</td>\n",
       "      <td>1</td>\n",
       "      <td>2016-12-07</td>\n",
       "      <td>2017-01-26</td>\n",
       "      <td>0</td>\n",
       "      <td>1736.520</td>\n",
       "      <td>50 days</td>\n",
       "    </tr>\n",
       "    <tr>\n",
       "      <th>24</th>\n",
       "      <td>Shop 28</td>\n",
       "      <td>1</td>\n",
       "      <td>30</td>\n",
       "      <td>466</td>\n",
       "      <td>1</td>\n",
       "      <td>2017-02-14</td>\n",
       "      <td>2017-02-14</td>\n",
       "      <td>30</td>\n",
       "      <td>1621.895</td>\n",
       "      <td>0 days</td>\n",
       "    </tr>\n",
       "    <tr>\n",
       "      <th>25</th>\n",
       "      <td>Shop 20</td>\n",
       "      <td>4</td>\n",
       "      <td>28</td>\n",
       "      <td>315</td>\n",
       "      <td>4</td>\n",
       "      <td>2016-12-15</td>\n",
       "      <td>2017-02-02</td>\n",
       "      <td>0</td>\n",
       "      <td>988.945</td>\n",
       "      <td>49 days</td>\n",
       "    </tr>\n",
       "    <tr>\n",
       "      <th>26</th>\n",
       "      <td>Shop 21</td>\n",
       "      <td>2</td>\n",
       "      <td>18</td>\n",
       "      <td>212</td>\n",
       "      <td>2</td>\n",
       "      <td>2016-12-15</td>\n",
       "      <td>2017-02-16</td>\n",
       "      <td>0</td>\n",
       "      <td>848.855</td>\n",
       "      <td>63 days</td>\n",
       "    </tr>\n",
       "    <tr>\n",
       "      <th>27</th>\n",
       "      <td>Shop 30</td>\n",
       "      <td>1</td>\n",
       "      <td>15</td>\n",
       "      <td>331</td>\n",
       "      <td>1</td>\n",
       "      <td>2017-02-28</td>\n",
       "      <td>2017-02-28</td>\n",
       "      <td>0</td>\n",
       "      <td>743.530</td>\n",
       "      <td>0 days</td>\n",
       "    </tr>\n",
       "    <tr>\n",
       "      <th>28</th>\n",
       "      <td>Shop 29</td>\n",
       "      <td>1</td>\n",
       "      <td>9</td>\n",
       "      <td>71</td>\n",
       "      <td>1</td>\n",
       "      <td>2017-02-24</td>\n",
       "      <td>2017-02-24</td>\n",
       "      <td>0</td>\n",
       "      <td>207.715</td>\n",
       "      <td>0 days</td>\n",
       "    </tr>\n",
       "  </tbody>\n",
       "</table>\n",
       "</div>"
      ],
      "text/plain": [
       "     shopid  purchaseid  item_id  quantity  customerid purchasedate_min  \\\n",
       "0    Shop 0        3684     2549    601909        1564       2016-12-01   \n",
       "1    Shop 3          15      295     43096           4       2016-12-01   \n",
       "2    Shop 6          38      584     16935           3       2016-12-01   \n",
       "3    Shop 4         113      691     17971          43       2016-12-01   \n",
       "4    Shop 1          89      556     17894          38       2016-12-01   \n",
       "5    Shop 2          19      202     14504           8       2016-12-01   \n",
       "6   Shop 14           5       80      6893           3       2016-12-05   \n",
       "7    Shop 8          20      360      5010          12       2016-12-03   \n",
       "8    Shop 7          11      256      4500           7       2016-12-03   \n",
       "9   Shop 19           7       62      6986           3       2016-12-14   \n",
       "10  Shop 10          15      200      3282           8       2016-12-03   \n",
       "11  Shop 12          21      184      3357          10       2016-12-03   \n",
       "12  Shop 18           7      199      2995           5       2016-12-14   \n",
       "13   Shop 5           4      108      3698           3       2016-12-01   \n",
       "14  Shop 11          10      152      1330           7       2016-12-03   \n",
       "15  Shop 24           1       32       494           1       2017-01-24   \n",
       "16  Shop 16           4       55      1211           3       2016-12-09   \n",
       "17  Shop 22           4       33      2120           3       2016-12-16   \n",
       "18  Shop 26           1       56      1035           1       2017-01-25   \n",
       "19   Shop 9           4       54       664           2       2016-12-03   \n",
       "20  Shop 13           4       29       617           1       2016-12-05   \n",
       "21  Shop 17           2       38       638           2       2016-12-09   \n",
       "22  Shop 27           1       45       341           1       2017-01-27   \n",
       "23  Shop 15           2       49       574           1       2016-12-07   \n",
       "24  Shop 28           1       30       466           1       2017-02-14   \n",
       "25  Shop 20           4       28       315           4       2016-12-15   \n",
       "26  Shop 21           2       18       212           2       2016-12-15   \n",
       "27  Shop 30           1       15       331           1       2017-02-28   \n",
       "28  Shop 29           1        9        71           1       2017-02-24   \n",
       "\n",
       "   purchasedate_max  loyalty_program     sum_item  period  \n",
       "0        2017-02-28            17836  1577827.375 89 days  \n",
       "1        2017-02-22                0   101963.465 83 days  \n",
       "2        2017-02-25                0    51486.895 86 days  \n",
       "3        2017-02-25                0    50635.565 86 days  \n",
       "4        2017-02-28                0    48030.905 89 days  \n",
       "5        2017-02-27                0    39485.245 88 days  \n",
       "6        2017-02-09                0    22153.325 66 days  \n",
       "7        2017-02-18               34    16971.025 77 days  \n",
       "8        2017-02-28                0    11233.930 87 days  \n",
       "9        2017-02-01               48    10249.600 49 days  \n",
       "10       2017-02-28                0     9949.380 87 days  \n",
       "11       2017-02-28                0     6813.930 87 days  \n",
       "12       2017-02-21                0     6631.165 69 days  \n",
       "13       2017-02-16                0     6202.610 77 days  \n",
       "14       2017-02-18                0     4023.410 77 days  \n",
       "15       2017-01-24                0     3984.625  0 days  \n",
       "16       2017-02-15                0     3828.300 68 days  \n",
       "17       2017-02-24                0     3003.470 70 days  \n",
       "18       2017-01-25                0     2775.590  0 days  \n",
       "19       2017-02-08                0     2415.115 67 days  \n",
       "20       2016-12-08                0     2410.330  3 days  \n",
       "21       2017-02-16                0     2236.450 69 days  \n",
       "22       2017-01-27                0     2095.470  0 days  \n",
       "23       2017-01-26                0     1736.520 50 days  \n",
       "24       2017-02-14               30     1621.895  0 days  \n",
       "25       2017-02-02                0      988.945 49 days  \n",
       "26       2017-02-16                0      848.855 63 days  \n",
       "27       2017-02-28                0      743.530  0 days  \n",
       "28       2017-02-24                0      207.715  0 days  "
      ]
     },
     "execution_count": 13,
     "metadata": {},
     "output_type": "execute_result"
    }
   ],
   "source": [
    "# сведу все данные по магазинам\n",
    "\n",
    "shops = data_new.groupby('shopid').agg({'purchaseid': 'nunique', 'item_id': 'nunique', \n",
    "                                        'quantity': 'sum', 'customerid': 'nunique', \n",
    "                                        'purchasedate': ['min', 'max'], 'loyalty_program': 'sum', \n",
    "                                        'sum_item': 'sum'})\n",
    "shops.columns = shops.columns.map('_'.join)\n",
    "shops = shops.sort_values('sum_item_sum', ascending = False).reset_index()\n",
    "shops = shops.rename(columns={'purchaseid_nunique': 'purchaseid', 'item_id_nunique': 'item_id',\n",
    "                             'customerid_nunique': 'customerid', 'loyalty_program_sum': 'loyalty_program',\n",
    "                              'sum_item_sum': 'sum_item', 'quantity_sum': 'quantity'})\n",
    "shops['period'] = shops['purchasedate_max'] - shops['purchasedate_min']\n",
    "shops"
   ]
  },
  {
   "cell_type": "code",
   "execution_count": 14,
   "metadata": {},
   "outputs": [],
   "source": [
    "# Shop 0 сильно выделяется, хочу посмотреть данные других магазинов на графиках без его учета\n",
    "\n",
    "shops_without0 = shops[shops['shopid'] != 'Shop 0']"
   ]
  },
  {
   "cell_type": "code",
   "execution_count": 15,
   "metadata": {
    "scrolled": true
   },
   "outputs": [],
   "source": [
    "# функция для вывода графиков\n",
    "\n",
    "def my_plot(x, y, data,figsize):\n",
    "    plt.figure(figsize=figsize)\n",
    "    ax = sns.barplot(x= x, y=y, data=data) \n",
    "    ax.set_title(y) \n",
    "    ax.set_ylabel('Количество')\n",
    "    plt.xticks(rotation=90, ha=\"right\")\n",
    "    plt.xticks()\n",
    "    ax.set(xlabel=None)\n",
    "    plt.show()"
   ]
  },
  {
   "cell_type": "code",
   "execution_count": 16,
   "metadata": {
    "scrolled": false
   },
   "outputs": [
    {
     "data": {
      "image/png": "[encoded data removed]",
      "text/plain": [
       "<Figure size 720x504 with 1 Axes>"
      ]
     },
     "metadata": {
      "needs_background": "light"
     },
     "output_type": "display_data"
    },
    {
     "data": {
      "image/png": "[encoded data removed]",
      "text/plain": [
       "<Figure size 720x504 with 1 Axes>"
      ]
     },
     "metadata": {
      "needs_background": "light"
     },
     "output_type": "display_data"
    },
    {
     "data": {
      "image/png": "[encoded data removed]",
      "text/plain": [
       "<Figure size 720x504 with 1 Axes>"
      ]
     },
     "metadata": {
      "needs_background": "light"
     },
     "output_type": "display_data"
    },
    {
     "data": {
      "image/png": "[encoded data removed]",
      "text/plain": [
       "<Figure size 720x504 with 1 Axes>"
      ]
     },
     "metadata": {
      "needs_background": "light"
     },
     "output_type": "display_data"
    },
    {
     "data": {
      "image/png": "[encoded data removed]",
      "text/plain": [
       "<Figure size 720x504 with 1 Axes>"
      ]
     },
     "metadata": {
      "needs_background": "light"
     },
     "output_type": "display_data"
    }
   ],
   "source": [
    "list = ['purchaseid', 'item_id', 'customerid', 'sum_item', 'quantity']\n",
    "\n",
    "for i in list:\n",
    "    my_plot('shopid', i, shops_without0, (10, 7))"
   ]
  },
  {
   "cell_type": "markdown",
   "metadata": {},
   "source": [
    "#### Вывод\n",
    "\n",
    "В исходной таблице есть данные из 30 магазинов, после корректировки данных остались данные по 29 магазинам. Они рассматривались в данном пункте.\n",
    "\n",
    "Самый крупный из них по всем показателям - Shop 0. Выручка за изучаемый период тут составила 1 577 827 р. В этом же магазине максимальное количество покупок по программе лояльности.\n",
    "\n",
    "В остальных магазинах выручка гораздо ниже. По выручке выделяется Shop 3: 101 963р, здесь же было продано большее количество товаров(кроме Shop 0).\n",
    "\n",
    "Так же выделяются Shop 6, Shop 4, Shop 1. В них выручка находится в пределах 48-51,5 тыс.р. Количество проданных товаров - 17-18тыс.шт. Они же отличаются разнообразностью проданных товаров. Больше чеков и покупателей с ID в Shop 4, Shop 1.\n",
    "\n",
    "Покупатели приобретали товары по программе лояльности в 4 магазинах: Shop 0, Shop 8(34 покупки), Shop 19(48),Shop 28(30).\n",
    "\n",
    "Есть 6 магазинов, в которых была совершена всего 1 покупка за весь анализируемый период. И эта покупка приходилась на конец января(с 24.01)-февраль. Возможно новые магазины."
   ]
  },
  {
   "cell_type": "markdown",
   "metadata": {},
   "source": [
    "### Анализ товара и его количества"
   ]
  },
  {
   "cell_type": "code",
   "execution_count": 17,
   "metadata": {
    "scrolled": true
   },
   "outputs": [
    {
     "data": {
      "text/html": [
       "<div>\n",
       "<style scoped>\n",
       "    .dataframe tbody tr th:only-of-type {\n",
       "        vertical-align: middle;\n",
       "    }\n",
       "\n",
       "    .dataframe tbody tr th {\n",
       "        vertical-align: top;\n",
       "    }\n",
       "\n",
       "    .dataframe thead th {\n",
       "        text-align: right;\n",
       "    }\n",
       "</style>\n",
       "<table border=\"1\" class=\"dataframe\">\n",
       "  <thead>\n",
       "    <tr style=\"text-align: right;\">\n",
       "      <th></th>\n",
       "      <th>item_id</th>\n",
       "      <th>quantity</th>\n",
       "      <th>sum_item</th>\n",
       "    </tr>\n",
       "  </thead>\n",
       "  <tbody>\n",
       "    <tr>\n",
       "      <th>2053</th>\n",
       "      <td>84077</td>\n",
       "      <td>10023</td>\n",
       "      <td>2906.670</td>\n",
       "    </tr>\n",
       "    <tr>\n",
       "      <th>2396</th>\n",
       "      <td>85123A</td>\n",
       "      <td>9849</td>\n",
       "      <td>30482.655</td>\n",
       "    </tr>\n",
       "    <tr>\n",
       "      <th>371</th>\n",
       "      <td>21212</td>\n",
       "      <td>8565</td>\n",
       "      <td>10706.250</td>\n",
       "    </tr>\n",
       "    <tr>\n",
       "      <th>2383</th>\n",
       "      <td>85099B</td>\n",
       "      <td>7256</td>\n",
       "      <td>14149.200</td>\n",
       "    </tr>\n",
       "    <tr>\n",
       "      <th>1446</th>\n",
       "      <td>22693</td>\n",
       "      <td>6830</td>\n",
       "      <td>7239.800</td>\n",
       "    </tr>\n",
       "  </tbody>\n",
       "</table>\n",
       "</div>"
      ],
      "text/plain": [
       "     item_id  quantity   sum_item\n",
       "2053   84077     10023   2906.670\n",
       "2396  85123A      9849  30482.655\n",
       "371    21212      8565  10706.250\n",
       "2383  85099B      7256  14149.200\n",
       "1446   22693      6830   7239.800"
      ]
     },
     "execution_count": 17,
     "metadata": {},
     "output_type": "execute_result"
    }
   ],
   "source": [
    "# Сгруппирую данные по товару и суммирую их количество\n",
    "\n",
    "item = data_new.groupby(['item_id']).agg({'quantity':'sum', 'sum_item' : 'sum'}).reset_index()\n",
    "item = item.sort_values('quantity', ascending=False)\n",
    "item.head()"
   ]
  },
  {
   "cell_type": "code",
   "execution_count": 18,
   "metadata": {},
   "outputs": [
    {
     "data": {
      "text/html": [
       "<div>\n",
       "<style scoped>\n",
       "    .dataframe tbody tr th:only-of-type {\n",
       "        vertical-align: middle;\n",
       "    }\n",
       "\n",
       "    .dataframe tbody tr th {\n",
       "        vertical-align: top;\n",
       "    }\n",
       "\n",
       "    .dataframe thead th {\n",
       "        text-align: right;\n",
       "    }\n",
       "</style>\n",
       "<table border=\"1\" class=\"dataframe\">\n",
       "  <thead>\n",
       "    <tr style=\"text-align: right;\">\n",
       "      <th></th>\n",
       "      <th>item_id</th>\n",
       "      <th>quantity</th>\n",
       "      <th>sum_item</th>\n",
       "    </tr>\n",
       "  </thead>\n",
       "  <tbody>\n",
       "    <tr>\n",
       "      <th>1192</th>\n",
       "      <td>22423</td>\n",
       "      <td>2720</td>\n",
       "      <td>34639.200</td>\n",
       "    </tr>\n",
       "    <tr>\n",
       "      <th>2396</th>\n",
       "      <td>85123A</td>\n",
       "      <td>9849</td>\n",
       "      <td>30482.655</td>\n",
       "    </tr>\n",
       "    <tr>\n",
       "      <th>590</th>\n",
       "      <td>21623</td>\n",
       "      <td>2070</td>\n",
       "      <td>19095.750</td>\n",
       "    </tr>\n",
       "    <tr>\n",
       "      <th>2005</th>\n",
       "      <td>79321</td>\n",
       "      <td>3234</td>\n",
       "      <td>18595.500</td>\n",
       "    </tr>\n",
       "    <tr>\n",
       "      <th>1235</th>\n",
       "      <td>22469</td>\n",
       "      <td>5281</td>\n",
       "      <td>17374.490</td>\n",
       "    </tr>\n",
       "  </tbody>\n",
       "</table>\n",
       "</div>"
      ],
      "text/plain": [
       "     item_id  quantity   sum_item\n",
       "1192   22423      2720  34639.200\n",
       "2396  85123A      9849  30482.655\n",
       "590    21623      2070  19095.750\n",
       "2005   79321      3234  18595.500\n",
       "1235   22469      5281  17374.490"
      ]
     },
     "execution_count": 18,
     "metadata": {},
     "output_type": "execute_result"
    }
   ],
   "source": [
    "item.sort_values('sum_item', ascending=False).head()"
   ]
  },
  {
   "cell_type": "code",
   "execution_count": 19,
   "metadata": {},
   "outputs": [
    {
     "data": {
      "text/html": [
       "<div>\n",
       "<style scoped>\n",
       "    .dataframe tbody tr th:only-of-type {\n",
       "        vertical-align: middle;\n",
       "    }\n",
       "\n",
       "    .dataframe tbody tr th {\n",
       "        vertical-align: top;\n",
       "    }\n",
       "\n",
       "    .dataframe thead th {\n",
       "        text-align: right;\n",
       "    }\n",
       "</style>\n",
       "<table border=\"1\" class=\"dataframe\">\n",
       "  <thead>\n",
       "    <tr style=\"text-align: right;\">\n",
       "      <th></th>\n",
       "      <th>quantity</th>\n",
       "      <th>sum_item</th>\n",
       "    </tr>\n",
       "  </thead>\n",
       "  <tbody>\n",
       "    <tr>\n",
       "      <th>count</th>\n",
       "      <td>2603.000000</td>\n",
       "      <td>2603.000000</td>\n",
       "    </tr>\n",
       "    <tr>\n",
       "      <th>mean</th>\n",
       "      <td>291.759124</td>\n",
       "      <td>765.483917</td>\n",
       "    </tr>\n",
       "    <tr>\n",
       "      <th>std</th>\n",
       "      <td>676.242059</td>\n",
       "      <td>1943.320654</td>\n",
       "    </tr>\n",
       "    <tr>\n",
       "      <th>min</th>\n",
       "      <td>-7589.000000</td>\n",
       "      <td>-28496.695000</td>\n",
       "    </tr>\n",
       "    <tr>\n",
       "      <th>25%</th>\n",
       "      <td>14.000000</td>\n",
       "      <td>36.590000</td>\n",
       "    </tr>\n",
       "    <tr>\n",
       "      <th>50%</th>\n",
       "      <td>80.000000</td>\n",
       "      <td>193.800000</td>\n",
       "    </tr>\n",
       "    <tr>\n",
       "      <th>75%</th>\n",
       "      <td>289.000000</td>\n",
       "      <td>690.790000</td>\n",
       "    </tr>\n",
       "    <tr>\n",
       "      <th>max</th>\n",
       "      <td>10023.000000</td>\n",
       "      <td>34639.200000</td>\n",
       "    </tr>\n",
       "  </tbody>\n",
       "</table>\n",
       "</div>"
      ],
      "text/plain": [
       "           quantity      sum_item\n",
       "count   2603.000000   2603.000000\n",
       "mean     291.759124    765.483917\n",
       "std      676.242059   1943.320654\n",
       "min    -7589.000000 -28496.695000\n",
       "25%       14.000000     36.590000\n",
       "50%       80.000000    193.800000\n",
       "75%      289.000000    690.790000\n",
       "max    10023.000000  34639.200000"
      ]
     },
     "execution_count": 19,
     "metadata": {},
     "output_type": "execute_result"
    }
   ],
   "source": [
    "# ознакомлюсь с общей статистической информацией\n",
    "\n",
    "item.describe()"
   ]
  },
  {
   "cell_type": "code",
   "execution_count": 20,
   "metadata": {},
   "outputs": [
    {
     "data": {
      "text/plain": [
       "(-500.0, 2000.0)"
      ]
     },
     "execution_count": 20,
     "metadata": {},
     "output_type": "execute_result"
    },
    {
     "data": {
      "image/png": "[encoded data removed]",
      "text/plain": [
       "<Figure size 576x432 with 1 Axes>"
      ]
     },
     "metadata": {
      "needs_background": "light"
     },
     "output_type": "display_data"
    }
   ],
   "source": [
    "# построю боксплот, чтобы посмотреть размах данных.\n",
    "# ограничила ось y для более удобного просмотра\n",
    "\n",
    "item.boxplot(column=['quantity', 'sum_item'], figsize = (8,6))\n",
    "plt.ylim([-500, 2000])\n"
   ]
  },
  {
   "cell_type": "code",
   "execution_count": 21,
   "metadata": {},
   "outputs": [
    {
     "data": {
      "text/plain": [
       "array([1.0000e+00, 1.8908e+03])"
      ]
     },
     "execution_count": 21,
     "metadata": {},
     "output_type": "execute_result"
    }
   ],
   "source": [
    "# рассчитаю границы значений, встречающихся только в 5% случаев\n",
    "\n",
    "np.quantile(item['quantity'], q=[0.025,0.975])"
   ]
  },
  {
   "cell_type": "code",
   "execution_count": 22,
   "metadata": {
    "scrolled": true
   },
   "outputs": [
    {
     "name": "stdout",
     "output_type": "stream",
     "text": [
      "240\n",
      "213136\n",
      "0.28064557330380313\n"
     ]
    }
   ],
   "source": [
    "# узнаю, сколько значений выходят за эти границы\n",
    "\n",
    "drop_quantity = item.query(\"quantity <= 1.0000e+00 or quantity >= 1.8908e+03\")\n",
    "print(drop_quantity['quantity'].count())\n",
    "print(drop_quantity['quantity'].sum())\n",
    "print(drop_quantity['quantity'].sum()/item['quantity'].sum())"
   ]
  },
  {
   "cell_type": "code",
   "execution_count": 23,
   "metadata": {},
   "outputs": [
    {
     "data": {
      "text/plain": [
       "array([4.3025000e-01, 5.4724595e+03])"
      ]
     },
     "execution_count": 23,
     "metadata": {},
     "output_type": "execute_result"
    }
   ],
   "source": [
    "# рассчитаю границы значений, встречающихся только в 5% случаев\n",
    "\n",
    "np.quantile(item['sum_item'], q=[0.025,0.975])"
   ]
  },
  {
   "cell_type": "code",
   "execution_count": 24,
   "metadata": {},
   "outputs": [
    {
     "name": "stdout",
     "output_type": "stream",
     "text": [
      "132\n",
      "595505.48\n",
      "0.2988653181898825\n"
     ]
    }
   ],
   "source": [
    "# узнаю, сколько значений выходят за эти границы\n",
    "\n",
    "drop_sum = item.query(\"sum_item <= 4.3025000e-01 or sum_item >= 5.4724595e+03\")\n",
    "print(drop_sum['sum_item'].count())\n",
    "print(drop_sum['sum_item'].sum().round(2))\n",
    "print(drop_sum['sum_item'].sum()/item['sum_item'].sum())"
   ]
  },
  {
   "cell_type": "markdown",
   "metadata": {},
   "source": [
    "#### Вывод\n",
    "\n",
    "Всего мы рассматриваем 2603 товарных позиции.\n",
    "\n",
    "Больше всего по количеству были куплены товары:\n",
    "2053 - 10023шт (2906р)\n",
    "2396 - 9849шт (30483р)\n",
    "371 - 8565шт (10706р)\n",
    "2383 - 7256шт (14149р)\n",
    "1446 - 6830шт (7240р)\n",
    "\n",
    "На большую сумму приобрели следующие товары:\n",
    "1192 - 34639р (2720шт)\n",
    "2396 - 30483р (9849шт)\n",
    "590 - 19096р (2070шт)\n",
    "2005 - 18596р (3234шт)\n",
    "1235 - 17374р (5281шт)\n",
    "\n",
    "Боксплот показал, что 75% товаров было продано в количестве до 289 шт. и на сумму - до 691р.\n",
    "\n",
    "Медианные значения количества и суммы продажи равно 80 шт и 194 р соответственно.\n",
    "\n",
    "Есть аномальные значения. Они встречаются реже, чем в 5% случаев. При этом вес этих аномальных товаров по обеим метрикам составляет примерно 30% от всего товара. Это достаточно большой объем. Без него считаю, что исследовательский анализ будет не верен. \n",
    "\n",
    "Не удаляю эти строки. Получилось, что это выбросы, но ведь с другой стороны получается, что это просто те товары, которые больше покупают люди и удалять их, на мой взгляд, неправильно."
   ]
  },
  {
   "cell_type": "markdown",
   "metadata": {},
   "source": [
    "### Период, за который есть данные по покупкам"
   ]
  },
  {
   "cell_type": "code",
   "execution_count": 25,
   "metadata": {
    "scrolled": false
   },
   "outputs": [
    {
     "data": {
      "text/plain": [
       "<AxesSubplot:title={'center':'Анализ количества покупок по датам'}, xlabel='purchasedate', ylabel='Count'>"
      ]
     },
     "execution_count": 25,
     "metadata": {},
     "output_type": "execute_result"
    },
    {
     "data": {
      "image/png": "[encoded data removed]",
      "text/plain": [
       "<Figure size 1080x432 with 1 Axes>"
      ]
     },
     "metadata": {
      "needs_background": "light"
     },
     "output_type": "display_data"
    }
   ],
   "source": [
    "fig, test = plt.subplots(figsize=(15,6))\n",
    "test.set_title('Анализ количества покупок по датам') \n",
    "sns.histplot(data_new['purchasedate'], kde = True, bins = 90)"
   ]
  },
  {
   "cell_type": "code",
   "execution_count": 26,
   "metadata": {},
   "outputs": [
    {
     "data": {
      "text/html": [
       "<div>\n",
       "<style scoped>\n",
       "    .dataframe tbody tr th:only-of-type {\n",
       "        vertical-align: middle;\n",
       "    }\n",
       "\n",
       "    .dataframe tbody tr th {\n",
       "        vertical-align: top;\n",
       "    }\n",
       "\n",
       "    .dataframe thead th {\n",
       "        text-align: right;\n",
       "    }\n",
       "</style>\n",
       "<table border=\"1\" class=\"dataframe\">\n",
       "  <thead>\n",
       "    <tr style=\"text-align: right;\">\n",
       "      <th></th>\n",
       "      <th>purchaseid</th>\n",
       "    </tr>\n",
       "    <tr>\n",
       "      <th>purchasedate</th>\n",
       "      <th></th>\n",
       "    </tr>\n",
       "  </thead>\n",
       "  <tbody>\n",
       "    <tr>\n",
       "      <th>2016-12-02</th>\n",
       "      <td>157</td>\n",
       "    </tr>\n",
       "    <tr>\n",
       "      <th>2016-12-16</th>\n",
       "      <td>141</td>\n",
       "    </tr>\n",
       "    <tr>\n",
       "      <th>2016-12-08</th>\n",
       "      <td>133</td>\n",
       "    </tr>\n",
       "    <tr>\n",
       "      <th>2016-12-09</th>\n",
       "      <td>131</td>\n",
       "    </tr>\n",
       "    <tr>\n",
       "      <th>2016-12-14</th>\n",
       "      <td>130</td>\n",
       "    </tr>\n",
       "    <tr>\n",
       "      <th>2016-12-01</th>\n",
       "      <td>126</td>\n",
       "    </tr>\n",
       "    <tr>\n",
       "      <th>2016-12-06</th>\n",
       "      <td>111</td>\n",
       "    </tr>\n",
       "    <tr>\n",
       "      <th>2016-12-05</th>\n",
       "      <td>93</td>\n",
       "    </tr>\n",
       "    <tr>\n",
       "      <th>2016-12-15</th>\n",
       "      <td>92</td>\n",
       "    </tr>\n",
       "    <tr>\n",
       "      <th>2017-02-11</th>\n",
       "      <td>81</td>\n",
       "    </tr>\n",
       "    <tr>\n",
       "      <th>2016-12-07</th>\n",
       "      <td>79</td>\n",
       "    </tr>\n",
       "    <tr>\n",
       "      <th>2017-01-25</th>\n",
       "      <td>78</td>\n",
       "    </tr>\n",
       "    <tr>\n",
       "      <th>2017-01-31</th>\n",
       "      <td>78</td>\n",
       "    </tr>\n",
       "    <tr>\n",
       "      <th>2016-12-10</th>\n",
       "      <td>77</td>\n",
       "    </tr>\n",
       "    <tr>\n",
       "      <th>2016-12-20</th>\n",
       "      <td>76</td>\n",
       "    </tr>\n",
       "    <tr>\n",
       "      <th>2016-12-13</th>\n",
       "      <td>73</td>\n",
       "    </tr>\n",
       "    <tr>\n",
       "      <th>2017-01-11</th>\n",
       "      <td>72</td>\n",
       "    </tr>\n",
       "    <tr>\n",
       "      <th>2017-01-06</th>\n",
       "      <td>71</td>\n",
       "    </tr>\n",
       "    <tr>\n",
       "      <th>2017-02-01</th>\n",
       "      <td>70</td>\n",
       "    </tr>\n",
       "    <tr>\n",
       "      <th>2017-01-27</th>\n",
       "      <td>68</td>\n",
       "    </tr>\n",
       "  </tbody>\n",
       "</table>\n",
       "</div>"
      ],
      "text/plain": [
       "              purchaseid\n",
       "purchasedate            \n",
       "2016-12-02           157\n",
       "2016-12-16           141\n",
       "2016-12-08           133\n",
       "2016-12-09           131\n",
       "2016-12-14           130\n",
       "2016-12-01           126\n",
       "2016-12-06           111\n",
       "2016-12-05            93\n",
       "2016-12-15            92\n",
       "2017-02-11            81\n",
       "2016-12-07            79\n",
       "2017-01-25            78\n",
       "2017-01-31            78\n",
       "2016-12-10            77\n",
       "2016-12-20            76\n",
       "2016-12-13            73\n",
       "2017-01-11            72\n",
       "2017-01-06            71\n",
       "2017-02-01            70\n",
       "2017-01-27            68"
      ]
     },
     "execution_count": 26,
     "metadata": {},
     "output_type": "execute_result"
    }
   ],
   "source": [
    "# выведу, в какие даты было больше всего покупок. первые 20 значений\n",
    "\n",
    "data_new.groupby('purchasedate').agg({'purchaseid': 'nunique'}).sort_values('purchaseid', ascending = False).head(20)"
   ]
  },
  {
   "cell_type": "markdown",
   "metadata": {},
   "source": [
    "#### Вывод\n",
    "\n",
    "Изучаемый период - с 01.12.2016 по 28.02.2017. Воскресенье - нерабочий день.\n",
    "Пик продаж пришелся на первую половину декабря - до 16.12.22. Вообще не было продаж последнюю неделю декабря - первую неделю января. Возможно, это связано с тем, что магазин не работал."
   ]
  },
  {
   "cell_type": "markdown",
   "metadata": {},
   "source": [
    "### Анализ покупателей по количеству покупок и сумме чеков"
   ]
  },
  {
   "cell_type": "code",
   "execution_count": 27,
   "metadata": {
    "scrolled": true
   },
   "outputs": [
    {
     "data": {
      "text/html": [
       "<div>\n",
       "<style scoped>\n",
       "    .dataframe tbody tr th:only-of-type {\n",
       "        vertical-align: middle;\n",
       "    }\n",
       "\n",
       "    .dataframe tbody tr th {\n",
       "        vertical-align: top;\n",
       "    }\n",
       "\n",
       "    .dataframe thead th {\n",
       "        text-align: right;\n",
       "    }\n",
       "</style>\n",
       "<table border=\"1\" class=\"dataframe\">\n",
       "  <thead>\n",
       "    <tr style=\"text-align: right;\">\n",
       "      <th></th>\n",
       "      <th>customerid</th>\n",
       "      <th>purchaseid</th>\n",
       "      <th>item_id</th>\n",
       "      <th>quantity</th>\n",
       "      <th>shopid</th>\n",
       "      <th>purchasedate_min</th>\n",
       "      <th>purchasedate_max</th>\n",
       "      <th>loyalty</th>\n",
       "      <th>sum_item</th>\n",
       "    </tr>\n",
       "  </thead>\n",
       "  <tbody>\n",
       "    <tr>\n",
       "      <th>0</th>\n",
       "      <td>20325.0</td>\n",
       "      <td>11</td>\n",
       "      <td>281</td>\n",
       "      <td>42817</td>\n",
       "      <td>1</td>\n",
       "      <td>2016-12-20</td>\n",
       "      <td>2017-02-22</td>\n",
       "      <td>0</td>\n",
       "      <td>101301.125</td>\n",
       "    </tr>\n",
       "    <tr>\n",
       "      <th>1</th>\n",
       "      <td>23781.0</td>\n",
       "      <td>6</td>\n",
       "      <td>10</td>\n",
       "      <td>9099</td>\n",
       "      <td>1</td>\n",
       "      <td>2016-12-07</td>\n",
       "      <td>2017-02-07</td>\n",
       "      <td>1</td>\n",
       "      <td>55970.180</td>\n",
       "    </tr>\n",
       "    <tr>\n",
       "      <th>2</th>\n",
       "      <td>18094.0</td>\n",
       "      <td>3</td>\n",
       "      <td>114</td>\n",
       "      <td>13026</td>\n",
       "      <td>1</td>\n",
       "      <td>2017-01-06</td>\n",
       "      <td>2017-02-15</td>\n",
       "      <td>0</td>\n",
       "      <td>34452.210</td>\n",
       "    </tr>\n",
       "    <tr>\n",
       "      <th>3</th>\n",
       "      <td>19835.0</td>\n",
       "      <td>9</td>\n",
       "      <td>251</td>\n",
       "      <td>11035</td>\n",
       "      <td>1</td>\n",
       "      <td>2016-12-02</td>\n",
       "      <td>2017-02-25</td>\n",
       "      <td>0</td>\n",
       "      <td>34001.575</td>\n",
       "    </tr>\n",
       "    <tr>\n",
       "      <th>4</th>\n",
       "      <td>20740.0</td>\n",
       "      <td>19</td>\n",
       "      <td>54</td>\n",
       "      <td>10662</td>\n",
       "      <td>1</td>\n",
       "      <td>2016-12-02</td>\n",
       "      <td>2017-02-11</td>\n",
       "      <td>0</td>\n",
       "      <td>33967.175</td>\n",
       "    </tr>\n",
       "  </tbody>\n",
       "</table>\n",
       "</div>"
      ],
      "text/plain": [
       "   customerid  purchaseid  item_id  quantity  shopid purchasedate_min  \\\n",
       "0     20325.0          11      281     42817       1       2016-12-20   \n",
       "1     23781.0           6       10      9099       1       2016-12-07   \n",
       "2     18094.0           3      114     13026       1       2017-01-06   \n",
       "3     19835.0           9      251     11035       1       2016-12-02   \n",
       "4     20740.0          19       54     10662       1       2016-12-02   \n",
       "\n",
       "  purchasedate_max  loyalty    sum_item  \n",
       "0       2017-02-22        0  101301.125  \n",
       "1       2017-02-07        1   55970.180  \n",
       "2       2017-02-15        0   34452.210  \n",
       "3       2017-02-25        0   34001.575  \n",
       "4       2017-02-11        0   33967.175  "
      ]
     },
     "execution_count": 27,
     "metadata": {},
     "output_type": "execute_result"
    }
   ],
   "source": [
    "# сгруппирую таблицу по покупателям(у кого есть id) и изучу данные\n",
    "\n",
    "customers = data_new.groupby('customerid').agg({'purchaseid': 'nunique', 'item_id': 'nunique', \n",
    "                                        'quantity': 'sum', 'shopid': 'nunique', \n",
    "                                        'purchasedate': ['min', 'max'], 'loyalty_program': 'max', \n",
    "                                        'sum_item': 'sum'})\n",
    "customers.columns = customers.columns.map('_'.join)\n",
    "customers = customers.sort_values('sum_item_sum', ascending = False).reset_index()\n",
    "customers = customers.rename(columns={'purchaseid_nunique': 'purchaseid', 'item_id_nunique': 'item_id',\n",
    "                             'loyalty_program_max': 'loyalty', 'shopid_nunique': 'shopid',\n",
    "                              'sum_item_sum': 'sum_item', 'quantity_sum': 'quantity'})\n",
    "\n",
    "customers.head(5)"
   ]
  },
  {
   "cell_type": "code",
   "execution_count": 28,
   "metadata": {
    "scrolled": true
   },
   "outputs": [
    {
     "data": {
      "text/html": [
       "<div>\n",
       "<style scoped>\n",
       "    .dataframe tbody tr th:only-of-type {\n",
       "        vertical-align: middle;\n",
       "    }\n",
       "\n",
       "    .dataframe tbody tr th {\n",
       "        vertical-align: top;\n",
       "    }\n",
       "\n",
       "    .dataframe thead th {\n",
       "        text-align: right;\n",
       "    }\n",
       "</style>\n",
       "<table border=\"1\" class=\"dataframe\">\n",
       "  <thead>\n",
       "    <tr style=\"text-align: right;\">\n",
       "      <th></th>\n",
       "      <th>customerid</th>\n",
       "      <th>purchaseid</th>\n",
       "      <th>item_id</th>\n",
       "      <th>quantity</th>\n",
       "      <th>shopid</th>\n",
       "      <th>loyalty</th>\n",
       "      <th>sum_item</th>\n",
       "    </tr>\n",
       "  </thead>\n",
       "  <tbody>\n",
       "    <tr>\n",
       "      <th>count</th>\n",
       "      <td>1740.000000</td>\n",
       "      <td>1740.000000</td>\n",
       "      <td>1740.000000</td>\n",
       "      <td>1740.000000</td>\n",
       "      <td>1740.000000</td>\n",
       "      <td>1740.000000</td>\n",
       "      <td>1740.000000</td>\n",
       "    </tr>\n",
       "    <tr>\n",
       "      <th>mean</th>\n",
       "      <td>20972.990805</td>\n",
       "      <td>2.350575</td>\n",
       "      <td>27.331034</td>\n",
       "      <td>436.464943</td>\n",
       "      <td>1.001149</td>\n",
       "      <td>0.335632</td>\n",
       "      <td>1145.146342</td>\n",
       "    </tr>\n",
       "    <tr>\n",
       "      <th>std</th>\n",
       "      <td>1749.146474</td>\n",
       "      <td>2.872021</td>\n",
       "      <td>31.490328</td>\n",
       "      <td>1490.316871</td>\n",
       "      <td>0.033893</td>\n",
       "      <td>0.472347</td>\n",
       "      <td>3946.113280</td>\n",
       "    </tr>\n",
       "    <tr>\n",
       "      <th>min</th>\n",
       "      <td>18025.000000</td>\n",
       "      <td>1.000000</td>\n",
       "      <td>1.000000</td>\n",
       "      <td>-8666.000000</td>\n",
       "      <td>1.000000</td>\n",
       "      <td>0.000000</td>\n",
       "      <td>-32922.105000</td>\n",
       "    </tr>\n",
       "    <tr>\n",
       "      <th>25%</th>\n",
       "      <td>19469.750000</td>\n",
       "      <td>1.000000</td>\n",
       "      <td>9.000000</td>\n",
       "      <td>73.750000</td>\n",
       "      <td>1.000000</td>\n",
       "      <td>0.000000</td>\n",
       "      <td>205.631250</td>\n",
       "    </tr>\n",
       "    <tr>\n",
       "      <th>50%</th>\n",
       "      <td>20963.500000</td>\n",
       "      <td>1.000000</td>\n",
       "      <td>18.000000</td>\n",
       "      <td>164.000000</td>\n",
       "      <td>1.000000</td>\n",
       "      <td>0.000000</td>\n",
       "      <td>442.165000</td>\n",
       "    </tr>\n",
       "    <tr>\n",
       "      <th>75%</th>\n",
       "      <td>22540.500000</td>\n",
       "      <td>3.000000</td>\n",
       "      <td>35.000000</td>\n",
       "      <td>368.000000</td>\n",
       "      <td>1.000000</td>\n",
       "      <td>1.000000</td>\n",
       "      <td>934.515000</td>\n",
       "    </tr>\n",
       "    <tr>\n",
       "      <th>max</th>\n",
       "      <td>23962.000000</td>\n",
       "      <td>37.000000</td>\n",
       "      <td>395.000000</td>\n",
       "      <td>42817.000000</td>\n",
       "      <td>2.000000</td>\n",
       "      <td>1.000000</td>\n",
       "      <td>101301.125000</td>\n",
       "    </tr>\n",
       "  </tbody>\n",
       "</table>\n",
       "</div>"
      ],
      "text/plain": [
       "         customerid   purchaseid      item_id      quantity       shopid  \\\n",
       "count   1740.000000  1740.000000  1740.000000   1740.000000  1740.000000   \n",
       "mean   20972.990805     2.350575    27.331034    436.464943     1.001149   \n",
       "std     1749.146474     2.872021    31.490328   1490.316871     0.033893   \n",
       "min    18025.000000     1.000000     1.000000  -8666.000000     1.000000   \n",
       "25%    19469.750000     1.000000     9.000000     73.750000     1.000000   \n",
       "50%    20963.500000     1.000000    18.000000    164.000000     1.000000   \n",
       "75%    22540.500000     3.000000    35.000000    368.000000     1.000000   \n",
       "max    23962.000000    37.000000   395.000000  42817.000000     2.000000   \n",
       "\n",
       "           loyalty       sum_item  \n",
       "count  1740.000000    1740.000000  \n",
       "mean      0.335632    1145.146342  \n",
       "std       0.472347    3946.113280  \n",
       "min       0.000000  -32922.105000  \n",
       "25%       0.000000     205.631250  \n",
       "50%       0.000000     442.165000  \n",
       "75%       1.000000     934.515000  \n",
       "max       1.000000  101301.125000  "
      ]
     },
     "execution_count": 28,
     "metadata": {},
     "output_type": "execute_result"
    }
   ],
   "source": [
    "# посмотрим статистические показатели\n",
    "\n",
    "customers.describe()"
   ]
  },
  {
   "cell_type": "code",
   "execution_count": 29,
   "metadata": {},
   "outputs": [
    {
     "data": {
      "text/plain": [
       "(-2500.0, 4000.0)"
      ]
     },
     "execution_count": 29,
     "metadata": {},
     "output_type": "execute_result"
    },
    {
     "data": {
      "image/png": "[encoded data removed]",
      "text/plain": [
       "<Figure size 576x432 with 1 Axes>"
      ]
     },
     "metadata": {
      "needs_background": "light"
     },
     "output_type": "display_data"
    }
   ],
   "source": [
    "# и на боксплоте наглядно посмотрим данные\n",
    "\n",
    "customers.boxplot(column=['quantity', 'sum_item'], figsize = (8,6))\n",
    "plt.ylim([-2500, 4000])"
   ]
  },
  {
   "cell_type": "code",
   "execution_count": 30,
   "metadata": {
    "scrolled": false
   },
   "outputs": [
    {
     "data": {
      "text/plain": [
       "(-20.0, 90.0)"
      ]
     },
     "execution_count": 30,
     "metadata": {},
     "output_type": "execute_result"
    },
    {
     "data": {
      "image/png": "[encoded data removed]",
      "text/plain": [
       "<Figure size 576x432 with 1 Axes>"
      ]
     },
     "metadata": {
      "needs_background": "light"
     },
     "output_type": "display_data"
    }
   ],
   "source": [
    "customers.boxplot(column=['purchaseid', 'item_id'], figsize = (8,6))\n",
    "plt.ylim([-20,90])"
   ]
  },
  {
   "cell_type": "markdown",
   "metadata": {},
   "source": [
    "#### Вывод\n",
    "\n",
    "Есть 1740 покупателей, у кого определен ID.\n",
    "\n",
    "Количество чеков, приходящееся на каждого покупателя в 75% случаях составляет до 3 шт.\n",
    "\n",
    "По видам купленных товаров, на  1 покупателя приходтся  от 1 до 395 вида, в основном, до 35 видов.\n",
    "\n",
    "А по количеству товаров 75% значений  - менее 368шт., медианное значение - 164 шт.\n",
    "\n",
    "Чаще всего покупки совершались в 1 магазине.\n",
    "\n",
    "Сумма выручки от 1 человека обычно составляет до 934р.(с учетом возвратов)."
   ]
  },
  {
   "cell_type": "markdown",
   "metadata": {},
   "source": [
    "### Анализ чеков"
   ]
  },
  {
   "cell_type": "markdown",
   "metadata": {},
   "source": [
    "Выделила отдельным пукнктом, так как этот параметр хочу проанализировать без учета возвратов"
   ]
  },
  {
   "cell_type": "code",
   "execution_count": 31,
   "metadata": {
    "scrolled": true
   },
   "outputs": [
    {
     "data": {
      "text/html": [
       "<div>\n",
       "<style scoped>\n",
       "    .dataframe tbody tr th:only-of-type {\n",
       "        vertical-align: middle;\n",
       "    }\n",
       "\n",
       "    .dataframe tbody tr th {\n",
       "        vertical-align: top;\n",
       "    }\n",
       "\n",
       "    .dataframe thead th {\n",
       "        text-align: right;\n",
       "    }\n",
       "</style>\n",
       "<table border=\"1\" class=\"dataframe\">\n",
       "  <thead>\n",
       "    <tr style=\"text-align: right;\">\n",
       "      <th></th>\n",
       "      <th>purchaseid</th>\n",
       "      <th>item_id</th>\n",
       "      <th>quantity</th>\n",
       "      <th>shopid</th>\n",
       "      <th>purchasedate</th>\n",
       "      <th>loyalty_program</th>\n",
       "      <th>sum_item</th>\n",
       "    </tr>\n",
       "  </thead>\n",
       "  <tbody>\n",
       "    <tr>\n",
       "      <th>0</th>\n",
       "      <td>541431</td>\n",
       "      <td>1</td>\n",
       "      <td>74214</td>\n",
       "      <td>Shop 0</td>\n",
       "      <td>2017-01-18</td>\n",
       "      <td>0</td>\n",
       "      <td>77182.560</td>\n",
       "    </tr>\n",
       "    <tr>\n",
       "      <th>1</th>\n",
       "      <td>541220</td>\n",
       "      <td>39</td>\n",
       "      <td>6157</td>\n",
       "      <td>Shop 6</td>\n",
       "      <td>2017-01-14</td>\n",
       "      <td>0</td>\n",
       "      <td>26374.580</td>\n",
       "    </tr>\n",
       "    <tr>\n",
       "      <th>2</th>\n",
       "      <td>537659</td>\n",
       "      <td>9</td>\n",
       "      <td>3680</td>\n",
       "      <td>Shop 0</td>\n",
       "      <td>2016-12-07</td>\n",
       "      <td>1</td>\n",
       "      <td>23093.560</td>\n",
       "    </tr>\n",
       "    <tr>\n",
       "      <th>3</th>\n",
       "      <td>540815</td>\n",
       "      <td>3</td>\n",
       "      <td>7041</td>\n",
       "      <td>Shop 0</td>\n",
       "      <td>2017-01-11</td>\n",
       "      <td>0</td>\n",
       "      <td>22607.095</td>\n",
       "    </tr>\n",
       "    <tr>\n",
       "      <th>4</th>\n",
       "      <td>543989</td>\n",
       "      <td>69</td>\n",
       "      <td>8315</td>\n",
       "      <td>Shop 2</td>\n",
       "      <td>2017-02-15</td>\n",
       "      <td>0</td>\n",
       "      <td>22330.545</td>\n",
       "    </tr>\n",
       "  </tbody>\n",
       "</table>\n",
       "</div>"
      ],
      "text/plain": [
       "  purchaseid  item_id  quantity  shopid purchasedate  loyalty_program  \\\n",
       "0     541431        1     74214  Shop 0   2017-01-18                0   \n",
       "1     541220       39      6157  Shop 6   2017-01-14                0   \n",
       "2     537659        9      3680  Shop 0   2016-12-07                1   \n",
       "3     540815        3      7041  Shop 0   2017-01-11                0   \n",
       "4     543989       69      8315  Shop 2   2017-02-15                0   \n",
       "\n",
       "    sum_item  \n",
       "0  77182.560  \n",
       "1  26374.580  \n",
       "2  23093.560  \n",
       "3  22607.095  \n",
       "4  22330.545  "
      ]
     },
     "execution_count": 31,
     "metadata": {},
     "output_type": "execute_result"
    }
   ],
   "source": [
    "data_cheque = data_new[data_new['quantity'] > 0].copy(deep=True)\n",
    "data_cheque_1 = data_cheque.groupby('purchaseid').agg({'item_id': 'nunique', 'quantity': 'sum',\n",
    "                                        'shopid': 'max', \n",
    "                                        'purchasedate': 'max', 'loyalty_program': 'max', \n",
    "                                        'sum_item': 'sum'})\n",
    "data_cheque_1 = data_cheque_1.sort_values('sum_item', ascending = False).reset_index()\n",
    "data_cheque_1.head()"
   ]
  },
  {
   "cell_type": "code",
   "execution_count": 32,
   "metadata": {},
   "outputs": [
    {
     "data": {
      "text/html": [
       "<div>\n",
       "<style scoped>\n",
       "    .dataframe tbody tr th:only-of-type {\n",
       "        vertical-align: middle;\n",
       "    }\n",
       "\n",
       "    .dataframe tbody tr th {\n",
       "        vertical-align: top;\n",
       "    }\n",
       "\n",
       "    .dataframe thead th {\n",
       "        text-align: right;\n",
       "    }\n",
       "</style>\n",
       "<table border=\"1\" class=\"dataframe\">\n",
       "  <thead>\n",
       "    <tr style=\"text-align: right;\">\n",
       "      <th></th>\n",
       "      <th>item_id</th>\n",
       "      <th>quantity</th>\n",
       "      <th>loyalty_program</th>\n",
       "      <th>sum_item</th>\n",
       "    </tr>\n",
       "  </thead>\n",
       "  <tbody>\n",
       "    <tr>\n",
       "      <th>count</th>\n",
       "      <td>3329.000000</td>\n",
       "      <td>3329.000000</td>\n",
       "      <td>3329.000000</td>\n",
       "      <td>3329.000000</td>\n",
       "    </tr>\n",
       "    <tr>\n",
       "      <th>mean</th>\n",
       "      <td>16.113848</td>\n",
       "      <td>258.259237</td>\n",
       "      <td>0.336437</td>\n",
       "      <td>654.617926</td>\n",
       "    </tr>\n",
       "    <tr>\n",
       "      <th>std</th>\n",
       "      <td>15.576057</td>\n",
       "      <td>1382.155062</td>\n",
       "      <td>0.472561</td>\n",
       "      <td>1921.562078</td>\n",
       "    </tr>\n",
       "    <tr>\n",
       "      <th>min</th>\n",
       "      <td>1.000000</td>\n",
       "      <td>1.000000</td>\n",
       "      <td>0.000000</td>\n",
       "      <td>0.950000</td>\n",
       "    </tr>\n",
       "    <tr>\n",
       "      <th>25%</th>\n",
       "      <td>6.000000</td>\n",
       "      <td>53.000000</td>\n",
       "      <td>0.000000</td>\n",
       "      <td>166.295000</td>\n",
       "    </tr>\n",
       "    <tr>\n",
       "      <th>50%</th>\n",
       "      <td>12.000000</td>\n",
       "      <td>116.000000</td>\n",
       "      <td>0.000000</td>\n",
       "      <td>346.130000</td>\n",
       "    </tr>\n",
       "    <tr>\n",
       "      <th>75%</th>\n",
       "      <td>21.000000</td>\n",
       "      <td>235.000000</td>\n",
       "      <td>1.000000</td>\n",
       "      <td>619.225000</td>\n",
       "    </tr>\n",
       "    <tr>\n",
       "      <th>max</th>\n",
       "      <td>171.000000</td>\n",
       "      <td>74214.000000</td>\n",
       "      <td>1.000000</td>\n",
       "      <td>77182.560000</td>\n",
       "    </tr>\n",
       "  </tbody>\n",
       "</table>\n",
       "</div>"
      ],
      "text/plain": [
       "           item_id      quantity  loyalty_program      sum_item\n",
       "count  3329.000000   3329.000000      3329.000000   3329.000000\n",
       "mean     16.113848    258.259237         0.336437    654.617926\n",
       "std      15.576057   1382.155062         0.472561   1921.562078\n",
       "min       1.000000      1.000000         0.000000      0.950000\n",
       "25%       6.000000     53.000000         0.000000    166.295000\n",
       "50%      12.000000    116.000000         0.000000    346.130000\n",
       "75%      21.000000    235.000000         1.000000    619.225000\n",
       "max     171.000000  74214.000000         1.000000  77182.560000"
      ]
     },
     "execution_count": 32,
     "metadata": {},
     "output_type": "execute_result"
    }
   ],
   "source": [
    "data_cheque_1.describe()"
   ]
  },
  {
   "cell_type": "markdown",
   "metadata": {},
   "source": [
    "#### Вывод\n",
    "\n",
    "За изучаемый период вышло 3329 покупок.\n",
    "В чеке обычно до 21 позиции, количество товаров  - до 235шт., чаще чек пробивался без учета программы лояльности, \n",
    "Сумма чека в 75% случаев - до 619 р."
   ]
  },
  {
   "cell_type": "markdown",
   "metadata": {},
   "source": [
    "### Анализ возвратов"
   ]
  },
  {
   "cell_type": "code",
   "execution_count": 33,
   "metadata": {
    "scrolled": true
   },
   "outputs": [
    {
     "data": {
      "text/html": [
       "<div>\n",
       "<style scoped>\n",
       "    .dataframe tbody tr th:only-of-type {\n",
       "        vertical-align: middle;\n",
       "    }\n",
       "\n",
       "    .dataframe tbody tr th {\n",
       "        vertical-align: top;\n",
       "    }\n",
       "\n",
       "    .dataframe thead th {\n",
       "        text-align: right;\n",
       "    }\n",
       "</style>\n",
       "<table border=\"1\" class=\"dataframe\">\n",
       "  <thead>\n",
       "    <tr style=\"text-align: right;\">\n",
       "      <th></th>\n",
       "      <th>purchaseid</th>\n",
       "      <th>item_id</th>\n",
       "      <th>quantity</th>\n",
       "      <th>purchasedate</th>\n",
       "      <th>customerid</th>\n",
       "      <th>shopid</th>\n",
       "      <th>loyalty_program</th>\n",
       "      <th>price_per_one</th>\n",
       "      <th>sum_item</th>\n",
       "    </tr>\n",
       "  </thead>\n",
       "  <tbody>\n",
       "    <tr>\n",
       "      <th>43</th>\n",
       "      <td>C539944</td>\n",
       "      <td>22776</td>\n",
       "      <td>-2</td>\n",
       "      <td>2016-12-23</td>\n",
       "      <td>20239.0</td>\n",
       "      <td>Shop 0</td>\n",
       "      <td>0</td>\n",
       "      <td>14.955</td>\n",
       "      <td>-29.910</td>\n",
       "    </tr>\n",
       "    <tr>\n",
       "      <th>78</th>\n",
       "      <td>C542910</td>\n",
       "      <td>20726</td>\n",
       "      <td>-2</td>\n",
       "      <td>2017-02-01</td>\n",
       "      <td>23190.0</td>\n",
       "      <td>Shop 0</td>\n",
       "      <td>1</td>\n",
       "      <td>4.130</td>\n",
       "      <td>-8.260</td>\n",
       "    </tr>\n",
       "    <tr>\n",
       "      <th>80</th>\n",
       "      <td>C542426</td>\n",
       "      <td>22418</td>\n",
       "      <td>-25</td>\n",
       "      <td>2017-01-28</td>\n",
       "      <td>19825.0</td>\n",
       "      <td>Shop 0</td>\n",
       "      <td>0</td>\n",
       "      <td>1.645</td>\n",
       "      <td>-41.125</td>\n",
       "    </tr>\n",
       "    <tr>\n",
       "      <th>176</th>\n",
       "      <td>C539726</td>\n",
       "      <td>22791</td>\n",
       "      <td>-11</td>\n",
       "      <td>2016-12-21</td>\n",
       "      <td>22686.0</td>\n",
       "      <td>Shop 0</td>\n",
       "      <td>1</td>\n",
       "      <td>1.855</td>\n",
       "      <td>-20.405</td>\n",
       "    </tr>\n",
       "    <tr>\n",
       "      <th>242</th>\n",
       "      <td>C544034</td>\n",
       "      <td>21878</td>\n",
       "      <td>-2</td>\n",
       "      <td>2017-02-15</td>\n",
       "      <td>20380.0</td>\n",
       "      <td>Shop 0</td>\n",
       "      <td>0</td>\n",
       "      <td>1.240</td>\n",
       "      <td>-2.480</td>\n",
       "    </tr>\n",
       "    <tr>\n",
       "      <th>...</th>\n",
       "      <td>...</td>\n",
       "      <td>...</td>\n",
       "      <td>...</td>\n",
       "      <td>...</td>\n",
       "      <td>...</td>\n",
       "      <td>...</td>\n",
       "      <td>...</td>\n",
       "      <td>...</td>\n",
       "      <td>...</td>\n",
       "    </tr>\n",
       "    <tr>\n",
       "      <th>72086</th>\n",
       "      <td>C544397</td>\n",
       "      <td>22063</td>\n",
       "      <td>-2</td>\n",
       "      <td>2017-02-18</td>\n",
       "      <td>18141.0</td>\n",
       "      <td>Shop 8</td>\n",
       "      <td>0</td>\n",
       "      <td>5.790</td>\n",
       "      <td>-11.580</td>\n",
       "    </tr>\n",
       "    <tr>\n",
       "      <th>72167</th>\n",
       "      <td>C540246</td>\n",
       "      <td>79320</td>\n",
       "      <td>-2</td>\n",
       "      <td>2017-01-05</td>\n",
       "      <td>18760.0</td>\n",
       "      <td>Shop 0</td>\n",
       "      <td>0</td>\n",
       "      <td>4.950</td>\n",
       "      <td>-9.900</td>\n",
       "    </tr>\n",
       "    <tr>\n",
       "      <th>72193</th>\n",
       "      <td>C539467</td>\n",
       "      <td>22801</td>\n",
       "      <td>-2</td>\n",
       "      <td>2016-12-19</td>\n",
       "      <td>20723.0</td>\n",
       "      <td>Shop 0</td>\n",
       "      <td>0</td>\n",
       "      <td>5.605</td>\n",
       "      <td>-11.210</td>\n",
       "    </tr>\n",
       "    <tr>\n",
       "      <th>72217</th>\n",
       "      <td>C540847</td>\n",
       "      <td>22197</td>\n",
       "      <td>-3</td>\n",
       "      <td>2017-01-11</td>\n",
       "      <td>19137.0</td>\n",
       "      <td>Shop 0</td>\n",
       "      <td>0</td>\n",
       "      <td>1.240</td>\n",
       "      <td>-3.720</td>\n",
       "    </tr>\n",
       "    <tr>\n",
       "      <th>72255</th>\n",
       "      <td>C540164</td>\n",
       "      <td>21144</td>\n",
       "      <td>-13</td>\n",
       "      <td>2017-01-05</td>\n",
       "      <td>20590.0</td>\n",
       "      <td>Shop 6</td>\n",
       "      <td>0</td>\n",
       "      <td>1.870</td>\n",
       "      <td>-24.310</td>\n",
       "    </tr>\n",
       "  </tbody>\n",
       "</table>\n",
       "<p>1805 rows × 9 columns</p>\n",
       "</div>"
      ],
      "text/plain": [
       "      purchaseid item_id  quantity purchasedate customerid  shopid  \\\n",
       "43       C539944   22776        -2   2016-12-23    20239.0  Shop 0   \n",
       "78       C542910   20726        -2   2017-02-01    23190.0  Shop 0   \n",
       "80       C542426   22418       -25   2017-01-28    19825.0  Shop 0   \n",
       "176      C539726   22791       -11   2016-12-21    22686.0  Shop 0   \n",
       "242      C544034   21878        -2   2017-02-15    20380.0  Shop 0   \n",
       "...          ...     ...       ...          ...        ...     ...   \n",
       "72086    C544397   22063        -2   2017-02-18    18141.0  Shop 8   \n",
       "72167    C540246   79320        -2   2017-01-05    18760.0  Shop 0   \n",
       "72193    C539467   22801        -2   2016-12-19    20723.0  Shop 0   \n",
       "72217    C540847   22197        -3   2017-01-11    19137.0  Shop 0   \n",
       "72255    C540164   21144       -13   2017-01-05    20590.0  Shop 6   \n",
       "\n",
       "       loyalty_program  price_per_one  sum_item  \n",
       "43                   0         14.955   -29.910  \n",
       "78                   1          4.130    -8.260  \n",
       "80                   0          1.645   -41.125  \n",
       "176                  1          1.855   -20.405  \n",
       "242                  0          1.240    -2.480  \n",
       "...                ...            ...       ...  \n",
       "72086                0          5.790   -11.580  \n",
       "72167                0          4.950    -9.900  \n",
       "72193                0          5.605   -11.210  \n",
       "72217                0          1.240    -3.720  \n",
       "72255                0          1.870   -24.310  \n",
       "\n",
       "[1805 rows x 9 columns]"
      ]
     },
     "execution_count": 33,
     "metadata": {},
     "output_type": "execute_result"
    }
   ],
   "source": [
    "data_return = data_new[data_new['quantity'] < 0].copy(deep=True)\n",
    "data_return"
   ]
  },
  {
   "cell_type": "code",
   "execution_count": 34,
   "metadata": {},
   "outputs": [
    {
     "data": {
      "text/html": [
       "<div>\n",
       "<style scoped>\n",
       "    .dataframe tbody tr th:only-of-type {\n",
       "        vertical-align: middle;\n",
       "    }\n",
       "\n",
       "    .dataframe tbody tr th {\n",
       "        vertical-align: top;\n",
       "    }\n",
       "\n",
       "    .dataframe thead th {\n",
       "        text-align: right;\n",
       "    }\n",
       "</style>\n",
       "<table border=\"1\" class=\"dataframe\">\n",
       "  <thead>\n",
       "    <tr style=\"text-align: right;\">\n",
       "      <th></th>\n",
       "      <th>item_id</th>\n",
       "      <th>quantity</th>\n",
       "      <th>sum_item</th>\n",
       "    </tr>\n",
       "  </thead>\n",
       "  <tbody>\n",
       "    <tr>\n",
       "      <th>26</th>\n",
       "      <td>20733</td>\n",
       "      <td>-301</td>\n",
       "      <td>-249.83</td>\n",
       "    </tr>\n",
       "    <tr>\n",
       "      <th>751</th>\n",
       "      <td>85123A</td>\n",
       "      <td>-558</td>\n",
       "      <td>-1727.01</td>\n",
       "    </tr>\n",
       "    <tr>\n",
       "      <th>1</th>\n",
       "      <td>15036</td>\n",
       "      <td>-650</td>\n",
       "      <td>-650.00</td>\n",
       "    </tr>\n",
       "    <tr>\n",
       "      <th>673</th>\n",
       "      <td>84347</td>\n",
       "      <td>-9368</td>\n",
       "      <td>-35176.84</td>\n",
       "    </tr>\n",
       "    <tr>\n",
       "      <th>583</th>\n",
       "      <td>23166</td>\n",
       "      <td>-74216</td>\n",
       "      <td>-77184.64</td>\n",
       "    </tr>\n",
       "  </tbody>\n",
       "</table>\n",
       "</div>"
      ],
      "text/plain": [
       "    item_id  quantity  sum_item\n",
       "26    20733      -301   -249.83\n",
       "751  85123A      -558  -1727.01\n",
       "1     15036      -650   -650.00\n",
       "673   84347     -9368 -35176.84\n",
       "583   23166    -74216 -77184.64"
      ]
     },
     "execution_count": 34,
     "metadata": {},
     "output_type": "execute_result"
    }
   ],
   "source": [
    "item_return = data_return.groupby(['item_id']).agg({'quantity':'sum', 'sum_item' : 'sum'}).reset_index()\n",
    "item_return = item_return.sort_values('quantity', ascending=False)\n",
    "item_return.tail()"
   ]
  },
  {
   "cell_type": "code",
   "execution_count": 35,
   "metadata": {},
   "outputs": [
    {
     "data": {
      "text/html": [
       "<div>\n",
       "<style scoped>\n",
       "    .dataframe tbody tr th:only-of-type {\n",
       "        vertical-align: middle;\n",
       "    }\n",
       "\n",
       "    .dataframe tbody tr th {\n",
       "        vertical-align: top;\n",
       "    }\n",
       "\n",
       "    .dataframe thead th {\n",
       "        text-align: right;\n",
       "    }\n",
       "</style>\n",
       "<table border=\"1\" class=\"dataframe\">\n",
       "  <thead>\n",
       "    <tr style=\"text-align: right;\">\n",
       "      <th></th>\n",
       "      <th>item_id</th>\n",
       "      <th>quantity</th>\n",
       "      <th>sum_item</th>\n",
       "    </tr>\n",
       "  </thead>\n",
       "  <tbody>\n",
       "    <tr>\n",
       "      <th>510</th>\n",
       "      <td>22838</td>\n",
       "      <td>-106</td>\n",
       "      <td>-3092.02</td>\n",
       "    </tr>\n",
       "    <tr>\n",
       "      <th>348</th>\n",
       "      <td>22423</td>\n",
       "      <td>-284</td>\n",
       "      <td>-3616.74</td>\n",
       "    </tr>\n",
       "    <tr>\n",
       "      <th>779</th>\n",
       "      <td>M</td>\n",
       "      <td>-284</td>\n",
       "      <td>-3621.00</td>\n",
       "    </tr>\n",
       "    <tr>\n",
       "      <th>673</th>\n",
       "      <td>84347</td>\n",
       "      <td>-9368</td>\n",
       "      <td>-35176.84</td>\n",
       "    </tr>\n",
       "    <tr>\n",
       "      <th>583</th>\n",
       "      <td>23166</td>\n",
       "      <td>-74216</td>\n",
       "      <td>-77184.64</td>\n",
       "    </tr>\n",
       "  </tbody>\n",
       "</table>\n",
       "</div>"
      ],
      "text/plain": [
       "    item_id  quantity  sum_item\n",
       "510   22838      -106  -3092.02\n",
       "348   22423      -284  -3616.74\n",
       "779       M      -284  -3621.00\n",
       "673   84347     -9368 -35176.84\n",
       "583   23166    -74216 -77184.64"
      ]
     },
     "execution_count": 35,
     "metadata": {},
     "output_type": "execute_result"
    }
   ],
   "source": [
    "item_return.sort_values('sum_item', ascending=False).tail()"
   ]
  },
  {
   "cell_type": "code",
   "execution_count": 36,
   "metadata": {
    "scrolled": true
   },
   "outputs": [
    {
     "name": "stdout",
     "output_type": "stream",
     "text": [
      "Количество чеков с возвратами: 761\n",
      "Возвращено 781 видов товаров, общее количество - 100296 штук\n",
      "Число покупателей, оформивших возврат: 522 человека\n",
      "Общая сумма возвратов за анализируемый период: 186668.44 рублей\n",
      "Общая сумма поступлений: 2179223.07 рублей\n",
      "То есть доля возвратов составляет: 8.57 %\n"
     ]
    }
   ],
   "source": [
    "print('Количество чеков с возвратами:',len(data_return['purchaseid'].unique()))\n",
    "print('Возвращено', len(data_return['item_id'].unique()), 'видов товаров,',\n",
    "      'общее количество -', abs(data_return['quantity'].sum()),'штук')\n",
    "print('Число покупателей, оформивших возврат:',len(data_return['customerid'].unique()),'человека')\n",
    "print('Общая сумма возвратов за анализируемый период:',abs(data_return['sum_item'].sum()),'рублей')\n",
    "\n",
    "print('Общая сумма поступлений:',data_cheque['sum_item'].sum().round(2),'рублей')\n",
    "print('То есть доля возвратов составляет:',\n",
    "      abs(100 * (data_return['sum_item'].sum() / data_cheque_1['sum_item'].sum()).round(4)),'%')"
   ]
  },
  {
   "cell_type": "markdown",
   "metadata": {},
   "source": [
    "#### Вывод\n",
    "\n",
    "Основной вывод выше. Добавлю самые возвращаемые товары:\n",
    "\n",
    "84347\t- возвращено 9368шт на 35177р \n",
    "\n",
    "23166\t- возвращено 74216шт на\t77185р\n",
    "\n",
    "Посмотрела строки с оборотом этих товаров, были разовые крупные возвраты, поэтому такое количество. Скорее это частные случаи, чем какая-то закономерность."
   ]
  },
  {
   "cell_type": "markdown",
   "metadata": {},
   "source": [
    "## Анализ программы лояльности"
   ]
  },
  {
   "cell_type": "code",
   "execution_count": 37,
   "metadata": {},
   "outputs": [
    {
     "data": {
      "text/html": [
       "<div>\n",
       "<style scoped>\n",
       "    .dataframe tbody tr th:only-of-type {\n",
       "        vertical-align: middle;\n",
       "    }\n",
       "\n",
       "    .dataframe tbody tr th {\n",
       "        vertical-align: top;\n",
       "    }\n",
       "\n",
       "    .dataframe thead th {\n",
       "        text-align: right;\n",
       "    }\n",
       "</style>\n",
       "<table border=\"1\" class=\"dataframe\">\n",
       "  <thead>\n",
       "    <tr style=\"text-align: right;\">\n",
       "      <th></th>\n",
       "      <th>loyalty_program</th>\n",
       "      <th>customerid</th>\n",
       "      <th>%</th>\n",
       "    </tr>\n",
       "  </thead>\n",
       "  <tbody>\n",
       "    <tr>\n",
       "      <th>0</th>\n",
       "      <td>0</td>\n",
       "      <td>1156</td>\n",
       "      <td>66.44</td>\n",
       "    </tr>\n",
       "    <tr>\n",
       "      <th>1</th>\n",
       "      <td>1</td>\n",
       "      <td>584</td>\n",
       "      <td>33.56</td>\n",
       "    </tr>\n",
       "  </tbody>\n",
       "</table>\n",
       "</div>"
      ],
      "text/plain": [
       "   loyalty_program  customerid      %\n",
       "0                0        1156  66.44\n",
       "1                1         584  33.56"
      ]
     },
     "execution_count": 37,
     "metadata": {},
     "output_type": "execute_result"
    }
   ],
   "source": [
    "# найдем долю клиентов, которые участвуют в программе лояльности\n",
    "\n",
    "loyalty_customer = data_new.pivot_table(index = 'loyalty_program', values = 'customerid', \n",
    "                                        aggfunc = 'nunique').reset_index()\n",
    "loyalty_customer['%'] = (100 * loyalty_customer['customerid'] / loyalty_customer['customerid'].sum()).round(2)\n",
    "loyalty_customer"
   ]
  },
  {
   "cell_type": "code",
   "execution_count": 38,
   "metadata": {},
   "outputs": [],
   "source": [
    "# соберем данные только покупок, совершенных по программе лояльности, без учета возвратов\n",
    "\n",
    "loyalty = data_cheque[data_cheque['loyalty_program'] == 1].copy(deep=True)\n",
    "\n",
    "# возвраты участников программы лояльности\n",
    "loyalty_return = data_return[data_return['loyalty_program'] == 1].copy(deep=True)"
   ]
  },
  {
   "cell_type": "code",
   "execution_count": 39,
   "metadata": {},
   "outputs": [],
   "source": [
    "# соберем данные покупок, совершенных без использования програмы лояльности, без учета возвратов\n",
    "\n",
    "without_loyalty = data_cheque[data_cheque['loyalty_program'] == 0].copy(deep=True)\n",
    "\n",
    "# и возвраты\n",
    "without_loyalty_return = data_return[data_return['loyalty_program'] == 0].copy(deep=True)"
   ]
  },
  {
   "cell_type": "code",
   "execution_count": 40,
   "metadata": {},
   "outputs": [
    {
     "data": {
      "text/html": [
       "<div>\n",
       "<style scoped>\n",
       "    .dataframe tbody tr th:only-of-type {\n",
       "        vertical-align: middle;\n",
       "    }\n",
       "\n",
       "    .dataframe tbody tr th {\n",
       "        vertical-align: top;\n",
       "    }\n",
       "\n",
       "    .dataframe thead th {\n",
       "        text-align: right;\n",
       "    }\n",
       "</style>\n",
       "<table border=\"1\" class=\"dataframe\">\n",
       "  <thead>\n",
       "    <tr style=\"text-align: right;\">\n",
       "      <th></th>\n",
       "      <th>loyalty_program</th>\n",
       "      <th>shopid</th>\n",
       "      <th>customerid</th>\n",
       "    </tr>\n",
       "  </thead>\n",
       "  <tbody>\n",
       "    <tr>\n",
       "      <th>0</th>\n",
       "      <td>1</td>\n",
       "      <td>Shop 0</td>\n",
       "      <td>581</td>\n",
       "    </tr>\n",
       "    <tr>\n",
       "      <th>1</th>\n",
       "      <td>1</td>\n",
       "      <td>Shop 19</td>\n",
       "      <td>1</td>\n",
       "    </tr>\n",
       "    <tr>\n",
       "      <th>2</th>\n",
       "      <td>1</td>\n",
       "      <td>Shop 28</td>\n",
       "      <td>1</td>\n",
       "    </tr>\n",
       "    <tr>\n",
       "      <th>3</th>\n",
       "      <td>1</td>\n",
       "      <td>Shop 8</td>\n",
       "      <td>1</td>\n",
       "    </tr>\n",
       "  </tbody>\n",
       "</table>\n",
       "</div>"
      ],
      "text/plain": [
       "   loyalty_program   shopid  customerid\n",
       "0                1   Shop 0         581\n",
       "1                1  Shop 19           1\n",
       "2                1  Shop 28           1\n",
       "3                1   Shop 8           1"
      ]
     },
     "execution_count": 40,
     "metadata": {},
     "output_type": "execute_result"
    }
   ],
   "source": [
    "# сколько участников в каждом магазине сети\n",
    "\n",
    "loyalty_shops = data_new[data_new['loyalty_program'] == 1].pivot_table(index = ['loyalty_program', \n",
    "                                                                                'shopid'], values = 'customerid', \n",
    "                                                                       aggfunc = 'nunique').reset_index()\n",
    "loyalty_shops"
   ]
  },
  {
   "cell_type": "code",
   "execution_count": 41,
   "metadata": {
    "scrolled": true
   },
   "outputs": [
    {
     "data": {
      "text/html": [
       "<div>\n",
       "<style scoped>\n",
       "    .dataframe tbody tr th:only-of-type {\n",
       "        vertical-align: middle;\n",
       "    }\n",
       "\n",
       "    .dataframe tbody tr th {\n",
       "        vertical-align: top;\n",
       "    }\n",
       "\n",
       "    .dataframe thead th {\n",
       "        text-align: right;\n",
       "    }\n",
       "</style>\n",
       "<table border=\"1\" class=\"dataframe\">\n",
       "  <thead>\n",
       "    <tr style=\"text-align: right;\">\n",
       "      <th></th>\n",
       "      <th>loyalty_program</th>\n",
       "      <th>purchaseid</th>\n",
       "      <th>customerid</th>\n",
       "      <th>item_id</th>\n",
       "      <th>quantity</th>\n",
       "      <th>shopid</th>\n",
       "      <th>sum_item</th>\n",
       "      <th>mean_cheque</th>\n",
       "      <th>revenue_customer</th>\n",
       "      <th>customer_item</th>\n",
       "      <th>quantity_item</th>\n",
       "      <th>purchase_customer</th>\n",
       "    </tr>\n",
       "  </thead>\n",
       "  <tbody>\n",
       "    <tr>\n",
       "      <th>0</th>\n",
       "      <td>0</td>\n",
       "      <td>2209</td>\n",
       "      <td>1110</td>\n",
       "      <td>2410</td>\n",
       "      <td>625915</td>\n",
       "      <td>28</td>\n",
       "      <td>1586802.290</td>\n",
       "      <td>718.34</td>\n",
       "      <td>1429.55</td>\n",
       "      <td>2.17</td>\n",
       "      <td>563.89</td>\n",
       "      <td>1.99</td>\n",
       "    </tr>\n",
       "    <tr>\n",
       "      <th>1</th>\n",
       "      <td>1</td>\n",
       "      <td>1120</td>\n",
       "      <td>561</td>\n",
       "      <td>2166</td>\n",
       "      <td>233830</td>\n",
       "      <td>4</td>\n",
       "      <td>592420.785</td>\n",
       "      <td>528.95</td>\n",
       "      <td>1056.01</td>\n",
       "      <td>3.86</td>\n",
       "      <td>416.81</td>\n",
       "      <td>2.00</td>\n",
       "    </tr>\n",
       "  </tbody>\n",
       "</table>\n",
       "</div>"
      ],
      "text/plain": [
       "   loyalty_program  purchaseid  customerid  item_id  quantity  shopid  \\\n",
       "0                0        2209        1110     2410    625915      28   \n",
       "1                1        1120         561     2166    233830       4   \n",
       "\n",
       "      sum_item  mean_cheque  revenue_customer  customer_item  quantity_item  \\\n",
       "0  1586802.290       718.34           1429.55           2.17         563.89   \n",
       "1   592420.785       528.95           1056.01           3.86         416.81   \n",
       "\n",
       "   purchase_customer  \n",
       "0               1.99  \n",
       "1               2.00  "
      ]
     },
     "execution_count": 41,
     "metadata": {},
     "output_type": "execute_result"
    }
   ],
   "source": [
    "# Проанализируем клиентов, участвующих в программе и не участвующих( без учета возвратов)\n",
    "\n",
    "loyalty_all = data_cheque.groupby('loyalty_program').agg({'purchaseid': 'nunique','customerid': 'nunique','item_id': 'nunique', \n",
    "                                                       'quantity': 'sum','shopid': 'nunique', 'sum_item': 'sum'})\n",
    "loyalty_all = loyalty_all.reset_index()\n",
    "\n",
    "# средний чек\n",
    "loyalty_all['mean_cheque'] = (loyalty_all['sum_item'] / loyalty_all['purchaseid']).round(2) \n",
    "\n",
    "# средняя выручка с клиента\n",
    "loyalty_all['revenue_customer'] = (loyalty_all['sum_item'] / loyalty_all['customerid']).round(2) \n",
    "\n",
    "# сколько видов товаров в среднем покупает 1 клиент\n",
    "loyalty_all['customer_item'] = (loyalty_all['item_id'] / loyalty_all['customerid']).round(2)\n",
    "\n",
    "# какое количество товаров покупает в среднем 1 клиент\n",
    "loyalty_all['quantity_item'] = (loyalty_all['quantity'] / loyalty_all['customerid']).round(2)\n",
    "\n",
    "# сколько покупок в среднем приходится на 1 человека\n",
    "loyalty_all['purchase_customer'] = (loyalty_all['purchaseid'] / loyalty_all['customerid']).round(2)\n",
    "loyalty_all"
   ]
  },
  {
   "cell_type": "code",
   "execution_count": 42,
   "metadata": {
    "scrolled": true
   },
   "outputs": [
    {
     "data": {
      "image/png": "[encoded data removed]",
      "text/plain": [
       "<Figure size 288x288 with 1 Axes>"
      ]
     },
     "metadata": {
      "needs_background": "light"
     },
     "output_type": "display_data"
    },
    {
     "data": {
      "image/png": "[encoded data removed]",
      "text/plain": [
       "<Figure size 288x288 with 1 Axes>"
      ]
     },
     "metadata": {
      "needs_background": "light"
     },
     "output_type": "display_data"
    },
    {
     "data": {
      "image/png": "[encoded data removed]",
      "text/plain": [
       "<Figure size 288x288 with 1 Axes>"
      ]
     },
     "metadata": {
      "needs_background": "light"
     },
     "output_type": "display_data"
    },
    {
     "data": {
      "image/png": "[encoded data removed]",
      "text/plain": [
       "<Figure size 288x288 with 1 Axes>"
      ]
     },
     "metadata": {
      "needs_background": "light"
     },
     "output_type": "display_data"
    },
    {
     "data": {
      "image/png": "[encoded data removed]",
      "text/plain": [
       "<Figure size 288x288 with 1 Axes>"
      ]
     },
     "metadata": {
      "needs_background": "light"
     },
     "output_type": "display_data"
    }
   ],
   "source": [
    "# и посмотрим на графиках полученные значения\n",
    "\n",
    "list_2 = ['mean_cheque', 'revenue_customer', 'customer_item', 'quantity_item', 'purchase_customer']\n",
    "\n",
    "for i in list_2:\n",
    "    my_plot('loyalty_program', i, loyalty_all, (4, 4))"
   ]
  },
  {
   "cell_type": "code",
   "execution_count": 43,
   "metadata": {
    "scrolled": false
   },
   "outputs": [
    {
     "data": {
      "text/plain": [
       "<matplotlib.legend.Legend at 0x7f15ce702cd0>"
      ]
     },
     "execution_count": 43,
     "metadata": {},
     "output_type": "execute_result"
    },
    {
     "data": {
      "image/png": "[encoded data removed]",
      "text/plain": [
       "<Figure size 1080x432 with 1 Axes>"
      ]
     },
     "metadata": {
      "needs_background": "light"
     },
     "output_type": "display_data"
    }
   ],
   "source": [
    "# теперь хочу посмотреть, как распределялись покупки по датам, без учета возвратов\n",
    "# построю данные по всем покупкам в общем и по лояльным клиентам\n",
    "\n",
    "fig, test = plt.subplots(figsize=(15,6))\n",
    "test.set_title('Распределение количества покупок по датам,с учетом программы лояльности') \n",
    "sns.histplot(data_cheque['purchasedate'], bins = 90, color = 'lightblue', label='все покупки')\n",
    "sns.histplot(loyalty['purchasedate'], bins = 90, label='по программе лояльности')\n",
    "plt.legend()"
   ]
  },
  {
   "cell_type": "code",
   "execution_count": 44,
   "metadata": {
    "scrolled": true
   },
   "outputs": [
    {
     "data": {
      "text/html": [
       "<div>\n",
       "<style scoped>\n",
       "    .dataframe tbody tr th:only-of-type {\n",
       "        vertical-align: middle;\n",
       "    }\n",
       "\n",
       "    .dataframe tbody tr th {\n",
       "        vertical-align: top;\n",
       "    }\n",
       "\n",
       "    .dataframe thead th {\n",
       "        text-align: right;\n",
       "    }\n",
       "</style>\n",
       "<table border=\"1\" class=\"dataframe\">\n",
       "  <thead>\n",
       "    <tr style=\"text-align: right;\">\n",
       "      <th></th>\n",
       "      <th>loyalty_program</th>\n",
       "      <th>purchaseid</th>\n",
       "      <th>customerid</th>\n",
       "      <th>item_id</th>\n",
       "      <th>quantity</th>\n",
       "      <th>shopid</th>\n",
       "      <th>sum_item</th>\n",
       "    </tr>\n",
       "  </thead>\n",
       "  <tbody>\n",
       "    <tr>\n",
       "      <th>0</th>\n",
       "      <td>0</td>\n",
       "      <td>550</td>\n",
       "      <td>363</td>\n",
       "      <td>659</td>\n",
       "      <td>-95631</td>\n",
       "      <td>17</td>\n",
       "      <td>-168109.175</td>\n",
       "    </tr>\n",
       "    <tr>\n",
       "      <th>1</th>\n",
       "      <td>1</td>\n",
       "      <td>211</td>\n",
       "      <td>159</td>\n",
       "      <td>296</td>\n",
       "      <td>-4665</td>\n",
       "      <td>2</td>\n",
       "      <td>-18559.265</td>\n",
       "    </tr>\n",
       "  </tbody>\n",
       "</table>\n",
       "</div>"
      ],
      "text/plain": [
       "   loyalty_program  purchaseid  customerid  item_id  quantity  shopid  \\\n",
       "0                0         550         363      659    -95631      17   \n",
       "1                1         211         159      296     -4665       2   \n",
       "\n",
       "     sum_item  \n",
       "0 -168109.175  \n",
       "1  -18559.265  "
      ]
     },
     "execution_count": 44,
     "metadata": {},
     "output_type": "execute_result"
    }
   ],
   "source": [
    "# посмотрю возвраты\n",
    "\n",
    "loyalty_return_1= data_return.groupby('loyalty_program').agg({'purchaseid': 'nunique',\n",
    "                                                       'customerid': 'nunique','item_id': 'nunique', \n",
    "                                                       'quantity': 'sum','shopid': 'nunique', \n",
    "                                                       'sum_item': 'sum'})\n",
    "loyalty_return_1 = loyalty_return_1.reset_index()\n",
    "loyalty_return_1"
   ]
  },
  {
   "cell_type": "code",
   "execution_count": 45,
   "metadata": {},
   "outputs": [
    {
     "name": "stdout",
     "output_type": "stream",
     "text": [
      "Процент возврата товаров среди клиентов, не находящихся в программе лояльности: 10.59 %\n"
     ]
    }
   ],
   "source": [
    "print('Процент возврата товаров среди клиентов, не находящихся в программе лояльности:',\n",
    "      (100 * abs(loyalty_return_1.loc[0, 'sum_item'] / loyalty_all.loc[0, 'sum_item'])).round(2),'%')"
   ]
  },
  {
   "cell_type": "code",
   "execution_count": 46,
   "metadata": {},
   "outputs": [
    {
     "name": "stdout",
     "output_type": "stream",
     "text": [
      "Процент возврата товаров среди клиентов из программы лояльности: 3.13 %\n"
     ]
    }
   ],
   "source": [
    "print('Процент возврата товаров среди клиентов из программы лояльности:',\n",
    "      (100 * abs(loyalty_return_1.loc[1, 'sum_item'] / loyalty_all.loc[1, 'sum_item'])).round(2),'%')"
   ]
  },
  {
   "cell_type": "code",
   "execution_count": 47,
   "metadata": {
    "scrolled": true
   },
   "outputs": [],
   "source": [
    "# даты первых покупок в анализируемом периоде\n",
    "\n",
    "loyalty_mindata = loyalty.pivot_table(index = 'customerid', values = 'purchasedate', \n",
    "                                      aggfunc = 'min').reset_index()"
   ]
  },
  {
   "cell_type": "code",
   "execution_count": 48,
   "metadata": {},
   "outputs": [
    {
     "data": {
      "text/plain": [
       "<AxesSubplot:title={'center':'Распределение первой даты покупки'}, xlabel='purchasedate', ylabel='Count'>"
      ]
     },
     "execution_count": 48,
     "metadata": {},
     "output_type": "execute_result"
    },
    {
     "data": {
      "image/png": "[encoded data removed]",
      "text/plain": [
       "<Figure size 1080x432 with 1 Axes>"
      ]
     },
     "metadata": {
      "needs_background": "light"
     },
     "output_type": "display_data"
    }
   ],
   "source": [
    "# распределение первой даты покупки\n",
    "\n",
    "fig, test = plt.subplots(figsize=(15,6))\n",
    "test.set_title('Распределение первой даты покупки') \n",
    "sns.histplot(loyalty_mindata['purchasedate'], kde = True, bins = 90)"
   ]
  },
  {
   "cell_type": "markdown",
   "metadata": {},
   "source": [
    "### Вывод\n",
    "\n",
    "В программе лояльности участвует 33,56% покупателей, всего 584 человека.\n",
    "\n",
    "581 окупает в Shop 0 и по 1 в Shop 19, Shop 28 и Shop 8.\n",
    "\n",
    "Общий анализ показал, что средний чек среди покупателей из программы лояльности составляет 529р, а у обычных покупателей - 718р.\n",
    "\n",
    "Средняя выручка на клиента вышла 1056 и 1430р соответственно.\n",
    "\n",
    "Сколько видов товаров приходится на 1 клиента(округленно): из программы лояльности - 4, без программы - 2.\n",
    "\n",
    "Количество товаров, которое купил в среднем 1 клиент за изучаемый период: 417(лояльный) и 564(обычный).\n",
    "\n",
    "График распределения до датам не выявило ничего необычного. Примерно в одинаковом соотношении выглядят покупки.\n",
    "\n",
    "Процент возврата товаров среди клиентов, не находящихся в программе лояльности: 10.59 %\n",
    "\n",
    "Процент возврата товаров среди клиентов из программы лояльности: 3.13 %, то есть в 3 раза меньше.\n",
    "\n",
    "А если смотреть возвраты по количеству, то получается 15% возвратов у обычных клиентов и 2% у клиентов из программы.\n",
    "\n",
    "Анализ дат первых покупок не показал ничего интересного. Всплеск есть вначале, но это объясняется и соответствием общей картине, и тем, что это не обязательно первая покупка клиента в качестве лояльного, а может быть просто первая учтенная у нас в данных покупка."
   ]
  },
  {
   "cell_type": "markdown",
   "metadata": {},
   "source": [
    "## Проверка статистических гипотез."
   ]
  },
  {
   "cell_type": "markdown",
   "metadata": {},
   "source": [
    "### Корректировка выбросов"
   ]
  },
  {
   "cell_type": "markdown",
   "metadata": {},
   "source": [
    "Для проверки гиптез выбросы следует убрать. Подготовлю данные для работы."
   ]
  },
  {
   "cell_type": "code",
   "execution_count": 49,
   "metadata": {},
   "outputs": [
    {
     "data": {
      "text/plain": [
       "array([ 1., 71.])"
      ]
     },
     "execution_count": 49,
     "metadata": {},
     "output_type": "execute_result"
    }
   ],
   "source": [
    "# Выбросы количества товаров, купленных участниками программы лояльности\n",
    "\n",
    "np.quantile(loyalty['quantity'], q=[0.025,0.975])"
   ]
  },
  {
   "cell_type": "code",
   "execution_count": 50,
   "metadata": {},
   "outputs": [],
   "source": [
    "loyalty_t = loyalty.loc[loyalty['quantity'] > 1.]\n",
    "loyalty_t = loyalty_t.loc[loyalty_t['quantity'] < 71.]"
   ]
  },
  {
   "cell_type": "code",
   "execution_count": 51,
   "metadata": {},
   "outputs": [
    {
     "data": {
      "text/plain": [
       "array([ 1., 95.])"
      ]
     },
     "execution_count": 51,
     "metadata": {},
     "output_type": "execute_result"
    }
   ],
   "source": [
    "# Выбросы количества товаров, купленных обычными покупателями\n",
    "\n",
    "np.quantile(without_loyalty['quantity'], q=[0.025,0.975])"
   ]
  },
  {
   "cell_type": "code",
   "execution_count": 52,
   "metadata": {},
   "outputs": [],
   "source": [
    "without_loyalty_t = without_loyalty.loc[without_loyalty['quantity'] > 1.]\n",
    "without_loyalty_t = without_loyalty_t.loc[without_loyalty_t['quantity'] < 95.]"
   ]
  },
  {
   "cell_type": "code",
   "execution_count": 53,
   "metadata": {},
   "outputs": [
    {
     "data": {
      "text/plain": [
       "array([-298.69 ,   -2.855])"
      ]
     },
     "execution_count": 53,
     "metadata": {},
     "output_type": "execute_result"
    }
   ],
   "source": [
    "# Очистим от выбросов данные по возвратам по программе лояльности\n",
    "\n",
    "np.quantile(loyalty_return['sum_item'], q=[0.025,0.975])"
   ]
  },
  {
   "cell_type": "code",
   "execution_count": 54,
   "metadata": {},
   "outputs": [],
   "source": [
    "loyalty_return_t = loyalty_return.loc[loyalty_return['sum_item'] > -298.69]\n",
    "loyalty_return_t = loyalty_return_t.loc[loyalty_return_t['sum_item'] < -2.855]"
   ]
  },
  {
   "cell_type": "code",
   "execution_count": 55,
   "metadata": {},
   "outputs": [
    {
     "data": {
      "text/plain": [
       "array([-216.451125,   -3.1     ])"
      ]
     },
     "execution_count": 55,
     "metadata": {},
     "output_type": "execute_result"
    }
   ],
   "source": [
    "# Очистим данные по возвратам от обычных клиентов\n",
    "\n",
    "np.quantile(without_loyalty_return['sum_item'], q=[0.025,0.975])"
   ]
  },
  {
   "cell_type": "code",
   "execution_count": 56,
   "metadata": {},
   "outputs": [],
   "source": [
    "without_loyalty_return_t = without_loyalty_return.loc[without_loyalty_return['sum_item'] > -298.69]\n",
    "without_loyalty_return_t = without_loyalty_return_t.loc[without_loyalty_return_t['sum_item'] < -2.855]"
   ]
  },
  {
   "cell_type": "markdown",
   "metadata": {},
   "source": [
    "### Гипотеза 2: Участники программы лояльности возвращают товаров на сумму меньше, чем не из программы."
   ]
  },
  {
   "cell_type": "markdown",
   "metadata": {},
   "source": [
    "H0 Средняя сумма возвратов участников программы лояльности равна средней сумме возвратов других покупателей\n",
    "\n",
    "H1 Средняя сумма возвратов участников программы лояльности меньше средней суммы возврата других покупателей"
   ]
  },
  {
   "cell_type": "markdown",
   "metadata": {},
   "source": [
    "Односторонняя гипотеза."
   ]
  },
  {
   "cell_type": "code",
   "execution_count": 57,
   "metadata": {},
   "outputs": [
    {
     "name": "stdout",
     "output_type": "stream",
     "text": [
      "p-значение: 0.03567920587038016\n",
      "Отвергаем нулевую гипотезу\n"
     ]
    }
   ],
   "source": [
    "interested_value = without_loyalty_return_t['sum_item'].mean()\n",
    "\n",
    "alpha = 0.05 # уровень статистической значимости\n",
    "\n",
    "return_1 = loyalty_return_t['sum_item']\n",
    "return_0 = interested_value\n",
    "\n",
    "results = st.ttest_1samp(return_1, return_0)\n",
    "\n",
    "# тест односторонний: p-value будет в два раза меньше\n",
    "print('p-значение:', results.pvalue / 2)\n",
    "\n",
    "# тест односторонний влево:\n",
    "# отвергаем гипотезу только тогда, когда выборочное среднее значимо меньше предполагаемого значения\n",
    "# так как данные метрики отрицательные, то буду сравнивать по абсолютному значению \n",
    "if (results.pvalue / 2 < alpha) and (abs(return_1.mean()) < abs(return_0)):\n",
    "    print(\"Отвергаем нулевую гипотезу\")\n",
    "else:\n",
    "    print(\"Не отвергаем нулевую гипотезу\")"
   ]
  },
  {
   "cell_type": "markdown",
   "metadata": {},
   "source": [
    "#### Вывод\n",
    "\n",
    "Гипотезу отвергаем: Средняя сумма возвратов участников программы лояльности меньше средней суммы возвратов других покупателей."
   ]
  },
  {
   "cell_type": "markdown",
   "metadata": {},
   "source": [
    "### Гипотеза 3: Среднее количество купленных товаров за изучаемый период одинаково для всех покупателей."
   ]
  },
  {
   "cell_type": "markdown",
   "metadata": {},
   "source": [
    "H0 Количество товаров, купленных клиентами - участниками программы равно количеству товаров простых покупателей\n",
    "\n",
    "H1 Количество товаров, купленных клиентами - участниками программы не равно количеству товаров простых покупателей"
   ]
  },
  {
   "cell_type": "markdown",
   "metadata": {},
   "source": [
    "Это двусторонняя гипотеза. Для ее проверки буду использовать t-тест."
   ]
  },
  {
   "cell_type": "code",
   "execution_count": 58,
   "metadata": {},
   "outputs": [
    {
     "name": "stdout",
     "output_type": "stream",
     "text": [
      "p-значение:  3.513253651303071e-70\n",
      "Отвергаем нулевую гипотезу\n"
     ]
    }
   ],
   "source": [
    "alpha = .05 # критический уровень статистической значимости\n",
    "# если p-value окажется меньше него - отвегнем гипотезу\n",
    "\n",
    "quantity_mean_1 = loyalty_t['quantity']\n",
    "quantity_mean_0 = without_loyalty_t['quantity']\n",
    "\n",
    "results = st.ttest_ind(quantity_mean_0, quantity_mean_1, equal_var = False)\n",
    "print('p-значение: ', results.pvalue)\n",
    "\n",
    "if results.pvalue < alpha:\n",
    "    print(\"Отвергаем нулевую гипотезу\")\n",
    "else:\n",
    "    print(\"Не получилось отвергнуть нулевую гипотезу\")"
   ]
  },
  {
   "cell_type": "markdown",
   "metadata": {},
   "source": [
    "#### Вывод\n",
    "\n",
    "Гипотеза отвергнута. Значит, что количество товаров, купленных клиентами - участниками программы не равно количеству товаров, которые приобрели покупатели, не участвующие в программе."
   ]
  },
  {
   "cell_type": "markdown",
   "metadata": {},
   "source": [
    "## Общие выводы"
   ]
  },
  {
   "cell_type": "markdown",
   "metadata": {},
   "source": [
    "1. Изучаемый период - с 01.12.2016 по 28.02.2017. Пик продаж пришелся на первую половину декабря - до 16.12.22. Скорее всего это связано с предпраздничными покупками.\n",
    "2. Самый крупный из магазинов по всем показателям - Shop 0. Выручка за изучаемый период тут составила 1 577 827 р. В этом же магазине максимальное количество покупок по программе лояльности. В остальных магазинах выручка гораздо ниже.   \n",
    "   Можно выделить Shop 3: 101 963р, здесь же было продано большее количество товаров(кроме Shop 0). \n",
    "   Так же выделяются Shop 6, Shop 4, Shop 1. В них выручка находится в пределах 48-51,5 тыс.р. Количество проданных товаров - 17-18тыс.шт. Они же отличаются разнообразностью проданных товаров. Больше чеков и покупателей с ID в Shop 4, Shop 1.\n",
    "3. Покупатели приобретали товары по программе лояльности всего в 4 магазинах: Shop 0, Shop 8(34 покупки), Shop 19(48),Shop 28(30).\n",
    "4. Есть 6 магазинов, в которых была совершена всего 1 покупка за весь анализируемый период. И эта покупка приходилась на конец января(с 24.01)-февраль. Возможно, это новые магазины.\n",
    "5. Больше всего по количеству были куплены товары: \n",
    "* 2053 - 10023шт (2906р)\n",
    "* 2396 - 9849шт (30483р)\n",
    "* 371 - 8565шт (10706р)\n",
    "* 2383 - 7256шт (14149р)\n",
    "* 1446 - 6830шт (7240р)\n",
    "6. На наибольшую сумму приобрели следующие товары:\n",
    "* 1192 - 34639р (2720шт)\n",
    "* 2396 - 30483р (9849шт)\n",
    "* 590 - 19096р (2070шт)\n",
    "* 2005 - 18596р (3234шт)\n",
    "* 1235 - 17374р (5281шт)\n",
    "7. Количество чеков, приходящееся на каждого покупателя в 75% случаях составляет до 3 шт. \n",
    "8. По видам купленных товаров, на 1 покупателя приходится, в основном, до 35 видов.\n",
    "9. Чаще всего покупатель совершает покупки в 1 магазине\n",
    "10. Сумма выручки от 1 человека составила в большинстве случаев до 934р.(с учетом возвратов).\n",
    "11. За изучаемый период вышло 3329 покупок. В чеке обычно до 21 позиции, количество товаров - до 235шт., чаще чек пробивался без учета программы лояльности, Сумма чека в 75% случаев - до 619 р.\n",
    "12. Количество чеков с возвратами: 761\n",
    "* Возвращено 781 видов товаров, общее количество - 100296 штук\n",
    "* Число покупателей, оформивших возврат: 522 человека\n",
    "* Общая сумма возвратов за анализируемый период: 186 668.44 рублей, общая сумма поступлений: 2 179 223.07 рублей. То есть доля возвратов составляет: 8.57 %\n",
    "\n",
    "  Анализ программы лояльности показал:\n",
    "1. В программе лояльности участвует 33,56% покупателей, всего 584 человека.\n",
    "2. Из них 581 окупает в Shop 0 и по 1 в Shop 19, Shop 28 и Shop 8.\n",
    "3. Средний чек среди покупателей из программы лояльности составляет 718р, а у обычных покупателей - 529р.\n",
    "4. 1 клиент из программы лояльности покупает в среднем 4 вида товаров, без программы - 2.\n",
    "5. Количество товаров, которое купил в среднем 1 клиент за изучаемый период: 417(лояльный) и 564(обычный).\n",
    "6. График распределения до датам показал, что примерно 30% покупок каждый рабочий день приходится на лояльных покупателей. Это соответствует общей доле таких клиентов.\n",
    "7. Процент возврата товаров среди клиентов, не находящихся в программе лояльности: 10.59%, процент возврата товаров среди клиентов из программы лояльности: 3.13 %, то есть в 3 раза меньше.\n",
    "   Если смотреть возвраты по количеству, то получается 15% возвратов у обычных клиентов и 2% у клиентов из программы.\n",
    "   Средняя сумма возвратов участников программы лояльности также меньше средней суммы возврата других покупателей"
   ]
  },
  {
   "cell_type": "markdown",
   "metadata": {},
   "source": [
    "   **Общие рекомендации:**\n",
    "1. Проанализировать финансовую деятельность всех магазинов. Сделать выводы, возможно ли их дальнейшее развитие или, возможно, часть точек можно сократить и больше заниматься развитием остальных.\n",
    "2. Следует расширить анализируемые параметры для оценки эффективности программы лояльности: добавить информацию о подарках, скидках и прочих привилегия; затраты на программу.\n",
    "   \n",
    "   По результатам анализа тех данных, которые были предоставлены, можно сделать вывод, что, несмотря на то, что средние рассчитанные показатели за анализируемый период: средняя выручка, чек - выше у покупателей, не участвующих в программе лояльности, но есть и положительные характеристики: возвратов среди клиентов, участвующих в программе, гораздо меньше, в 3 раза, если смотреть по сумме покупок. Кроме того, лояльные клиенты покупают более широкий ассортимент товаров."
   ]
  }
 ],
 "metadata": {
  "ExecuteTimeLog": [
   {
    "duration": 422,
    "start_time": "2022-05-16T13:54:05.482Z"
   },
   {
    "duration": 136,
    "start_time": "2022-05-16T13:55:09.774Z"
   },
   {
    "duration": 69,
    "start_time": "2022-05-16T14:00:13.794Z"
   },
   {
    "duration": 12,
    "start_time": "2022-05-16T14:02:45.387Z"
   },
   {
    "duration": 169,
    "start_time": "2022-05-16T14:03:09.488Z"
   },
   {
    "duration": 114,
    "start_time": "2022-05-16T14:03:19.765Z"
   },
   {
    "duration": 106,
    "start_time": "2022-05-16T14:04:42.675Z"
   },
   {
    "duration": 4,
    "start_time": "2022-05-16T14:05:31.300Z"
   },
   {
    "duration": 4,
    "start_time": "2022-05-16T14:06:00.076Z"
   },
   {
    "duration": 4,
    "start_time": "2022-05-16T14:06:19.904Z"
   },
   {
    "duration": 176,
    "start_time": "2022-05-16T14:06:20.851Z"
   },
   {
    "duration": 5,
    "start_time": "2022-05-16T14:08:55.306Z"
   },
   {
    "duration": 5,
    "start_time": "2022-05-16T14:19:57.701Z"
   },
   {
    "duration": 111,
    "start_time": "2022-05-16T14:20:00.149Z"
   },
   {
    "duration": 5,
    "start_time": "2022-05-16T14:20:18.340Z"
   },
   {
    "duration": 5,
    "start_time": "2022-05-16T14:21:16.847Z"
   },
   {
    "duration": 176,
    "start_time": "2022-05-16T14:21:18.377Z"
   },
   {
    "duration": 5,
    "start_time": "2022-05-16T14:22:17.411Z"
   },
   {
    "duration": 183,
    "start_time": "2022-05-16T14:22:18.812Z"
   },
   {
    "duration": 29,
    "start_time": "2022-05-16T14:24:13.120Z"
   },
   {
    "duration": 4,
    "start_time": "2022-05-16T14:25:11.118Z"
   },
   {
    "duration": 3,
    "start_time": "2022-05-16T14:29:35.428Z"
   },
   {
    "duration": 96,
    "start_time": "2022-05-16T14:29:38.467Z"
   },
   {
    "duration": 54,
    "start_time": "2022-05-16T14:41:45.375Z"
   },
   {
    "duration": 90,
    "start_time": "2022-05-16T14:42:03.131Z"
   },
   {
    "duration": 32,
    "start_time": "2022-05-16T14:44:58.984Z"
   },
   {
    "duration": 4,
    "start_time": "2022-05-16T14:46:55.728Z"
   },
   {
    "duration": 159,
    "start_time": "2022-05-16T14:47:00.539Z"
   },
   {
    "duration": 120,
    "start_time": "2022-05-16T14:47:09.750Z"
   },
   {
    "duration": 3,
    "start_time": "2022-05-16T14:47:46.251Z"
   },
   {
    "duration": 104,
    "start_time": "2022-05-16T14:47:48.738Z"
   },
   {
    "duration": 6,
    "start_time": "2022-05-16T15:27:21.413Z"
   },
   {
    "duration": 9,
    "start_time": "2022-05-16T15:27:38.441Z"
   },
   {
    "duration": 24,
    "start_time": "2022-05-16T15:27:47.799Z"
   },
   {
    "duration": 12,
    "start_time": "2022-05-16T15:28:16.906Z"
   },
   {
    "duration": 975,
    "start_time": "2022-05-16T15:32:57.715Z"
   },
   {
    "duration": 18,
    "start_time": "2022-05-16T15:41:25.108Z"
   },
   {
    "duration": 74,
    "start_time": "2022-05-16T15:41:38.948Z"
   },
   {
    "duration": 36,
    "start_time": "2022-05-16T15:41:53.387Z"
   },
   {
    "duration": 16,
    "start_time": "2022-05-16T15:43:12.522Z"
   },
   {
    "duration": 2254,
    "start_time": "2022-05-16T15:49:11.616Z"
   },
   {
    "duration": 510,
    "start_time": "2022-05-16T15:49:52.171Z"
   },
   {
    "duration": 400,
    "start_time": "2022-05-16T15:50:35.164Z"
   },
   {
    "duration": 109,
    "start_time": "2022-05-16T15:50:35.566Z"
   },
   {
    "duration": 4,
    "start_time": "2022-05-16T15:50:35.677Z"
   },
   {
    "duration": 123,
    "start_time": "2022-05-16T15:50:35.688Z"
   },
   {
    "duration": 101,
    "start_time": "2022-05-16T15:50:35.812Z"
   },
   {
    "duration": 2071,
    "start_time": "2022-05-16T15:50:35.915Z"
   },
   {
    "duration": 0,
    "start_time": "2022-05-16T15:50:37.988Z"
   },
   {
    "duration": 0,
    "start_time": "2022-05-16T15:50:37.990Z"
   },
   {
    "duration": 2260,
    "start_time": "2022-05-16T15:52:00.658Z"
   },
   {
    "duration": 26,
    "start_time": "2022-05-16T15:52:41.482Z"
   },
   {
    "duration": 38,
    "start_time": "2022-05-16T15:53:01.187Z"
   },
   {
    "duration": 18,
    "start_time": "2022-05-16T15:54:08.669Z"
   },
   {
    "duration": 3,
    "start_time": "2022-05-16T15:54:22.055Z"
   },
   {
    "duration": 425,
    "start_time": "2022-05-16T19:01:11.089Z"
   },
   {
    "duration": 490,
    "start_time": "2022-05-16T19:01:11.516Z"
   },
   {
    "duration": 5,
    "start_time": "2022-05-16T19:01:12.012Z"
   },
   {
    "duration": 120,
    "start_time": "2022-05-16T19:01:12.021Z"
   },
   {
    "duration": 105,
    "start_time": "2022-05-16T19:01:12.143Z"
   },
   {
    "duration": 40,
    "start_time": "2022-05-16T19:01:12.250Z"
   },
   {
    "duration": 17,
    "start_time": "2022-05-16T19:01:12.292Z"
   },
   {
    "duration": 10,
    "start_time": "2022-05-16T19:01:12.312Z"
   },
   {
    "duration": 96,
    "start_time": "2022-05-16T19:06:05.218Z"
   },
   {
    "duration": 25,
    "start_time": "2022-05-16T19:08:37.935Z"
   },
   {
    "duration": 58,
    "start_time": "2022-05-17T06:39:45.570Z"
   },
   {
    "duration": 398,
    "start_time": "2022-05-17T06:39:58.110Z"
   },
   {
    "duration": 989,
    "start_time": "2022-05-17T06:39:58.511Z"
   },
   {
    "duration": 4,
    "start_time": "2022-05-17T06:39:59.502Z"
   },
   {
    "duration": 132,
    "start_time": "2022-05-17T06:39:59.508Z"
   },
   {
    "duration": 45,
    "start_time": "2022-05-17T06:39:59.642Z"
   },
   {
    "duration": 28,
    "start_time": "2022-05-17T06:39:59.688Z"
   },
   {
    "duration": 4048,
    "start_time": "2022-05-17T06:39:59.718Z"
   },
   {
    "duration": 171,
    "start_time": "2022-05-17T06:40:55.598Z"
   },
   {
    "duration": 7,
    "start_time": "2022-05-17T06:43:29.086Z"
   },
   {
    "duration": 2814,
    "start_time": "2022-05-17T06:44:21.979Z"
   },
   {
    "duration": 3489,
    "start_time": "2022-05-17T06:44:49.972Z"
   },
   {
    "duration": 32,
    "start_time": "2022-05-17T06:45:02.540Z"
   },
   {
    "duration": 5,
    "start_time": "2022-05-17T06:58:40.386Z"
   },
   {
    "duration": 16,
    "start_time": "2022-05-17T07:00:18.645Z"
   },
   {
    "duration": 20,
    "start_time": "2022-05-17T07:00:58.564Z"
   },
   {
    "duration": 6,
    "start_time": "2022-05-17T07:01:25.736Z"
   },
   {
    "duration": 6,
    "start_time": "2022-05-17T07:02:01.567Z"
   },
   {
    "duration": 5,
    "start_time": "2022-05-17T07:02:45.236Z"
   },
   {
    "duration": 15,
    "start_time": "2022-05-17T07:04:26.395Z"
   },
   {
    "duration": 6,
    "start_time": "2022-05-17T07:05:06.373Z"
   },
   {
    "duration": 5,
    "start_time": "2022-05-17T07:05:27.146Z"
   },
   {
    "duration": 16,
    "start_time": "2022-05-17T07:05:57.108Z"
   },
   {
    "duration": 22,
    "start_time": "2022-05-17T07:06:07.151Z"
   },
   {
    "duration": 16,
    "start_time": "2022-05-17T07:11:16.151Z"
   },
   {
    "duration": 9,
    "start_time": "2022-05-17T07:16:17.181Z"
   },
   {
    "duration": 16,
    "start_time": "2022-05-17T07:16:31.980Z"
   },
   {
    "duration": 16,
    "start_time": "2022-05-17T07:22:27.751Z"
   },
   {
    "duration": 16,
    "start_time": "2022-05-17T07:22:37.698Z"
   },
   {
    "duration": 24,
    "start_time": "2022-05-17T07:25:56.184Z"
   },
   {
    "duration": 11,
    "start_time": "2022-05-17T07:26:26.964Z"
   },
   {
    "duration": 14,
    "start_time": "2022-05-17T07:27:00.504Z"
   },
   {
    "duration": 412,
    "start_time": "2022-05-17T07:29:48.219Z"
   },
   {
    "duration": 133,
    "start_time": "2022-05-17T07:29:48.633Z"
   },
   {
    "duration": 5,
    "start_time": "2022-05-17T07:29:48.768Z"
   },
   {
    "duration": 126,
    "start_time": "2022-05-17T07:29:48.776Z"
   },
   {
    "duration": 62,
    "start_time": "2022-05-17T07:29:48.904Z"
   },
   {
    "duration": 26,
    "start_time": "2022-05-17T07:29:48.968Z"
   },
   {
    "duration": 5,
    "start_time": "2022-05-17T07:29:48.996Z"
   },
   {
    "duration": 17,
    "start_time": "2022-05-17T07:29:49.003Z"
   },
   {
    "duration": 56,
    "start_time": "2022-05-17T07:29:49.022Z"
   },
   {
    "duration": 11,
    "start_time": "2022-05-17T07:29:49.080Z"
   },
   {
    "duration": 92,
    "start_time": "2022-05-17T07:29:49.092Z"
   },
   {
    "duration": 3,
    "start_time": "2022-05-17T07:32:09.778Z"
   },
   {
    "duration": 46,
    "start_time": "2022-05-17T07:32:39.854Z"
   },
   {
    "duration": 45,
    "start_time": "2022-05-17T07:32:49.943Z"
   },
   {
    "duration": 44,
    "start_time": "2022-05-17T07:39:13.932Z"
   },
   {
    "duration": 81,
    "start_time": "2022-05-17T07:40:50.222Z"
   },
   {
    "duration": 58,
    "start_time": "2022-05-17T07:42:08.523Z"
   },
   {
    "duration": 11,
    "start_time": "2022-05-17T07:42:14.396Z"
   },
   {
    "duration": 12,
    "start_time": "2022-05-17T07:42:30.835Z"
   },
   {
    "duration": 13,
    "start_time": "2022-05-17T07:42:40.818Z"
   },
   {
    "duration": 397,
    "start_time": "2022-05-17T07:43:14.595Z"
   },
   {
    "duration": 133,
    "start_time": "2022-05-17T07:43:14.995Z"
   },
   {
    "duration": 4,
    "start_time": "2022-05-17T07:43:15.130Z"
   },
   {
    "duration": 127,
    "start_time": "2022-05-17T07:43:15.136Z"
   },
   {
    "duration": 46,
    "start_time": "2022-05-17T07:43:15.265Z"
   },
   {
    "duration": 54,
    "start_time": "2022-05-17T07:43:15.313Z"
   },
   {
    "duration": 6,
    "start_time": "2022-05-17T07:43:15.368Z"
   },
   {
    "duration": 17,
    "start_time": "2022-05-17T07:43:15.376Z"
   },
   {
    "duration": 24,
    "start_time": "2022-05-17T07:43:15.395Z"
   },
   {
    "duration": 43,
    "start_time": "2022-05-17T07:43:15.422Z"
   },
   {
    "duration": 95,
    "start_time": "2022-05-17T07:43:15.467Z"
   },
   {
    "duration": 0,
    "start_time": "2022-05-17T07:43:15.564Z"
   },
   {
    "duration": 454,
    "start_time": "2022-05-17T07:43:38.454Z"
   },
   {
    "duration": 129,
    "start_time": "2022-05-17T07:43:38.910Z"
   },
   {
    "duration": 4,
    "start_time": "2022-05-17T07:43:39.041Z"
   },
   {
    "duration": 131,
    "start_time": "2022-05-17T07:43:39.047Z"
   },
   {
    "duration": 46,
    "start_time": "2022-05-17T07:43:39.180Z"
   },
   {
    "duration": 45,
    "start_time": "2022-05-17T07:43:39.228Z"
   },
   {
    "duration": 5,
    "start_time": "2022-05-17T07:43:39.275Z"
   },
   {
    "duration": 16,
    "start_time": "2022-05-17T07:43:39.282Z"
   },
   {
    "duration": 24,
    "start_time": "2022-05-17T07:43:39.300Z"
   },
   {
    "duration": 12,
    "start_time": "2022-05-17T07:43:39.357Z"
   },
   {
    "duration": 8,
    "start_time": "2022-05-17T07:43:39.370Z"
   },
   {
    "duration": 57,
    "start_time": "2022-05-17T07:43:39.380Z"
   },
   {
    "duration": 48,
    "start_time": "2022-05-17T07:43:56.903Z"
   },
   {
    "duration": 48,
    "start_time": "2022-05-17T07:46:40.692Z"
   },
   {
    "duration": 71,
    "start_time": "2022-05-17T07:46:47.297Z"
   },
   {
    "duration": 71,
    "start_time": "2022-05-17T07:46:48.250Z"
   },
   {
    "duration": 73,
    "start_time": "2022-05-17T07:46:48.984Z"
   },
   {
    "duration": 451,
    "start_time": "2022-05-17T07:47:03.440Z"
   },
   {
    "duration": 128,
    "start_time": "2022-05-17T07:47:03.893Z"
   },
   {
    "duration": 4,
    "start_time": "2022-05-17T07:47:04.023Z"
   },
   {
    "duration": 128,
    "start_time": "2022-05-17T07:47:04.029Z"
   },
   {
    "duration": 49,
    "start_time": "2022-05-17T07:47:04.159Z"
   },
   {
    "duration": 48,
    "start_time": "2022-05-17T07:47:04.210Z"
   },
   {
    "duration": 6,
    "start_time": "2022-05-17T07:47:04.260Z"
   },
   {
    "duration": 22,
    "start_time": "2022-05-17T07:47:04.268Z"
   },
   {
    "duration": 24,
    "start_time": "2022-05-17T07:47:04.292Z"
   },
   {
    "duration": 46,
    "start_time": "2022-05-17T07:47:04.319Z"
   },
   {
    "duration": 53,
    "start_time": "2022-05-17T07:47:04.367Z"
   },
   {
    "duration": 52,
    "start_time": "2022-05-17T07:47:24.976Z"
   },
   {
    "duration": 481,
    "start_time": "2022-05-17T07:47:33.447Z"
   },
   {
    "duration": 129,
    "start_time": "2022-05-17T07:47:33.930Z"
   },
   {
    "duration": 5,
    "start_time": "2022-05-17T07:47:34.060Z"
   },
   {
    "duration": 130,
    "start_time": "2022-05-17T07:47:34.067Z"
   },
   {
    "duration": 44,
    "start_time": "2022-05-17T07:47:34.199Z"
   },
   {
    "duration": 36,
    "start_time": "2022-05-17T07:47:34.245Z"
   },
   {
    "duration": 6,
    "start_time": "2022-05-17T07:47:34.283Z"
   },
   {
    "duration": 20,
    "start_time": "2022-05-17T07:47:34.290Z"
   },
   {
    "duration": 54,
    "start_time": "2022-05-17T07:47:34.311Z"
   },
   {
    "duration": 11,
    "start_time": "2022-05-17T07:47:34.367Z"
   },
   {
    "duration": 54,
    "start_time": "2022-05-17T07:47:34.380Z"
   },
   {
    "duration": 49,
    "start_time": "2022-05-17T07:47:37.904Z"
   },
   {
    "duration": 44,
    "start_time": "2022-05-17T07:47:52.062Z"
   },
   {
    "duration": 84,
    "start_time": "2022-05-17T07:52:09.354Z"
   },
   {
    "duration": 453,
    "start_time": "2022-05-17T07:52:15.778Z"
   },
   {
    "duration": 129,
    "start_time": "2022-05-17T07:52:16.233Z"
   },
   {
    "duration": 4,
    "start_time": "2022-05-17T07:52:16.364Z"
   },
   {
    "duration": 137,
    "start_time": "2022-05-17T07:52:16.371Z"
   },
   {
    "duration": 66,
    "start_time": "2022-05-17T07:52:16.509Z"
   },
   {
    "duration": 28,
    "start_time": "2022-05-17T07:52:16.577Z"
   },
   {
    "duration": 6,
    "start_time": "2022-05-17T07:52:16.607Z"
   },
   {
    "duration": 45,
    "start_time": "2022-05-17T07:52:16.615Z"
   },
   {
    "duration": 28,
    "start_time": "2022-05-17T07:52:16.662Z"
   },
   {
    "duration": 12,
    "start_time": "2022-05-17T07:52:16.693Z"
   },
   {
    "duration": 68,
    "start_time": "2022-05-17T07:52:16.707Z"
   },
   {
    "duration": 803,
    "start_time": "2022-05-17T07:53:03.638Z"
   },
   {
    "duration": 410,
    "start_time": "2022-05-17T07:53:35.013Z"
   },
   {
    "duration": 138,
    "start_time": "2022-05-17T07:53:35.425Z"
   },
   {
    "duration": 7,
    "start_time": "2022-05-17T07:53:35.566Z"
   },
   {
    "duration": 133,
    "start_time": "2022-05-17T07:53:35.575Z"
   },
   {
    "duration": 66,
    "start_time": "2022-05-17T07:53:35.710Z"
   },
   {
    "duration": 29,
    "start_time": "2022-05-17T07:53:35.778Z"
   },
   {
    "duration": 6,
    "start_time": "2022-05-17T07:53:35.809Z"
   },
   {
    "duration": 42,
    "start_time": "2022-05-17T07:53:35.817Z"
   },
   {
    "duration": 54,
    "start_time": "2022-05-17T07:53:35.861Z"
   },
   {
    "duration": 73,
    "start_time": "2022-05-17T07:56:10.091Z"
   },
   {
    "duration": 44,
    "start_time": "2022-05-17T07:56:14.761Z"
   },
   {
    "duration": 37,
    "start_time": "2022-05-17T07:56:24.983Z"
   },
   {
    "duration": 45,
    "start_time": "2022-05-17T07:56:30.633Z"
   },
   {
    "duration": 35,
    "start_time": "2022-05-17T08:00:13.716Z"
   },
   {
    "duration": 45,
    "start_time": "2022-05-17T08:00:18.814Z"
   },
   {
    "duration": 90,
    "start_time": "2022-05-17T08:00:30.585Z"
   },
   {
    "duration": 44,
    "start_time": "2022-05-17T08:00:49.057Z"
   },
   {
    "duration": 44,
    "start_time": "2022-05-17T08:00:54.184Z"
   },
   {
    "duration": 44,
    "start_time": "2022-05-17T08:03:09.656Z"
   },
   {
    "duration": 26,
    "start_time": "2022-05-17T08:03:21.492Z"
   },
   {
    "duration": 38,
    "start_time": "2022-05-17T08:05:18.416Z"
   },
   {
    "duration": 9,
    "start_time": "2022-05-17T08:18:33.171Z"
   },
   {
    "duration": 22,
    "start_time": "2022-05-17T08:18:42.585Z"
   },
   {
    "duration": 1870,
    "start_time": "2022-05-17T08:41:26.280Z"
   },
   {
    "duration": 11,
    "start_time": "2022-05-17T08:42:27.413Z"
   },
   {
    "duration": 42334,
    "start_time": "2022-05-17T08:49:15.597Z"
   },
   {
    "duration": 3,
    "start_time": "2022-05-17T09:09:56.430Z"
   },
   {
    "duration": 40636,
    "start_time": "2022-05-17T09:11:32.327Z"
   },
   {
    "duration": 0,
    "start_time": "2022-05-17T09:12:12.965Z"
   },
   {
    "duration": 1246,
    "start_time": "2022-05-17T09:12:17.429Z"
   },
   {
    "duration": 125,
    "start_time": "2022-05-17T09:12:18.677Z"
   },
   {
    "duration": 4,
    "start_time": "2022-05-17T09:12:18.804Z"
   },
   {
    "duration": 122,
    "start_time": "2022-05-17T09:12:18.810Z"
   },
   {
    "duration": 60,
    "start_time": "2022-05-17T09:12:18.934Z"
   },
   {
    "duration": 26,
    "start_time": "2022-05-17T09:12:18.996Z"
   },
   {
    "duration": 6,
    "start_time": "2022-05-17T09:12:19.024Z"
   },
   {
    "duration": 14,
    "start_time": "2022-05-17T09:12:19.057Z"
   },
   {
    "duration": 46,
    "start_time": "2022-05-17T09:12:19.073Z"
   },
   {
    "duration": 0,
    "start_time": "2022-05-17T09:13:41.467Z"
   },
   {
    "duration": 1330,
    "start_time": "2022-05-17T09:13:52.843Z"
   },
   {
    "duration": 132,
    "start_time": "2022-05-17T09:13:54.175Z"
   },
   {
    "duration": 4,
    "start_time": "2022-05-17T09:13:54.309Z"
   },
   {
    "duration": 122,
    "start_time": "2022-05-17T09:13:54.316Z"
   },
   {
    "duration": 64,
    "start_time": "2022-05-17T09:13:54.439Z"
   },
   {
    "duration": 53,
    "start_time": "2022-05-17T09:13:54.505Z"
   },
   {
    "duration": 7,
    "start_time": "2022-05-17T09:13:54.559Z"
   },
   {
    "duration": 18,
    "start_time": "2022-05-17T09:13:54.568Z"
   },
   {
    "duration": 48,
    "start_time": "2022-05-17T09:13:54.587Z"
   },
   {
    "duration": 44058,
    "start_time": "2022-05-17T09:13:54.637Z"
   },
   {
    "duration": 46789,
    "start_time": "2022-05-17T09:19:06.798Z"
   },
   {
    "duration": 5291,
    "start_time": "2022-05-17T09:32:04.100Z"
   },
   {
    "duration": 44709,
    "start_time": "2022-05-17T09:32:25.905Z"
   },
   {
    "duration": 45639,
    "start_time": "2022-05-17T09:33:24.080Z"
   },
   {
    "duration": 43470,
    "start_time": "2022-05-17T09:34:49.082Z"
   },
   {
    "duration": 43,
    "start_time": "2022-05-17T09:40:06.446Z"
   },
   {
    "duration": 9,
    "start_time": "2022-05-17T09:40:34.786Z"
   },
   {
    "duration": 25,
    "start_time": "2022-05-17T09:40:43.838Z"
   },
   {
    "duration": 27,
    "start_time": "2022-05-17T09:41:36.124Z"
   },
   {
    "duration": 27,
    "start_time": "2022-05-17T09:41:51.302Z"
   },
   {
    "duration": 28,
    "start_time": "2022-05-17T09:42:18.795Z"
   },
   {
    "duration": 28,
    "start_time": "2022-05-17T09:42:48.820Z"
   },
   {
    "duration": 32,
    "start_time": "2022-05-17T09:42:57.421Z"
   },
   {
    "duration": 28,
    "start_time": "2022-05-17T09:43:07.038Z"
   },
   {
    "duration": 10,
    "start_time": "2022-05-17T09:45:10.859Z"
   },
   {
    "duration": 984,
    "start_time": "2022-05-17T11:37:56.017Z"
   },
   {
    "duration": 859,
    "start_time": "2022-05-17T11:38:48.804Z"
   },
   {
    "duration": 32,
    "start_time": "2022-05-17T12:57:52.068Z"
   },
   {
    "duration": 221,
    "start_time": "2022-05-17T12:58:42.626Z"
   },
   {
    "duration": 38,
    "start_time": "2022-05-17T12:58:53.778Z"
   },
   {
    "duration": 29,
    "start_time": "2022-05-17T12:59:39.722Z"
   },
   {
    "duration": 67,
    "start_time": "2022-05-17T13:00:20.239Z"
   },
   {
    "duration": 86,
    "start_time": "2022-05-17T13:01:28.216Z"
   },
   {
    "duration": 2929,
    "start_time": "2022-05-17T13:02:54.560Z"
   },
   {
    "duration": 92,
    "start_time": "2022-05-17T13:05:50.848Z"
   },
   {
    "duration": 97,
    "start_time": "2022-05-17T13:06:20.645Z"
   },
   {
    "duration": 5,
    "start_time": "2022-05-17T13:08:33.741Z"
   },
   {
    "duration": 98,
    "start_time": "2022-05-17T13:09:23.732Z"
   },
   {
    "duration": 93,
    "start_time": "2022-05-17T13:09:32.945Z"
   },
   {
    "duration": 107,
    "start_time": "2022-05-17T13:10:22.657Z"
   },
   {
    "duration": 117,
    "start_time": "2022-05-17T13:13:04.760Z"
   },
   {
    "duration": 92,
    "start_time": "2022-05-17T13:13:52.348Z"
   },
   {
    "duration": 9,
    "start_time": "2022-05-17T13:15:32.136Z"
   },
   {
    "duration": 19,
    "start_time": "2022-05-17T13:15:57.490Z"
   },
   {
    "duration": 16,
    "start_time": "2022-05-17T13:16:16.838Z"
   },
   {
    "duration": 18,
    "start_time": "2022-05-17T13:16:34.604Z"
   },
   {
    "duration": 24,
    "start_time": "2022-05-17T13:17:22.598Z"
   },
   {
    "duration": 15,
    "start_time": "2022-05-17T13:18:19.563Z"
   },
   {
    "duration": 15,
    "start_time": "2022-05-17T13:18:27.469Z"
   },
   {
    "duration": 22,
    "start_time": "2022-05-17T13:18:31.879Z"
   },
   {
    "duration": 24,
    "start_time": "2022-05-17T13:18:53.309Z"
   },
   {
    "duration": 23,
    "start_time": "2022-05-17T13:18:54.795Z"
   },
   {
    "duration": 24,
    "start_time": "2022-05-17T13:18:55.736Z"
   },
   {
    "duration": 24,
    "start_time": "2022-05-17T13:18:56.661Z"
   },
   {
    "duration": 23,
    "start_time": "2022-05-17T13:19:12.577Z"
   },
   {
    "duration": 20,
    "start_time": "2022-05-17T13:19:22.095Z"
   },
   {
    "duration": 23,
    "start_time": "2022-05-17T13:19:29.057Z"
   },
   {
    "duration": 23,
    "start_time": "2022-05-17T13:19:33.212Z"
   },
   {
    "duration": 23,
    "start_time": "2022-05-17T13:19:43.174Z"
   },
   {
    "duration": 21,
    "start_time": "2022-05-17T13:19:51.173Z"
   },
   {
    "duration": 23,
    "start_time": "2022-05-17T13:20:03.285Z"
   },
   {
    "duration": 15,
    "start_time": "2022-05-17T13:21:36.088Z"
   },
   {
    "duration": 19,
    "start_time": "2022-05-17T13:22:13.327Z"
   },
   {
    "duration": 20,
    "start_time": "2022-05-17T13:23:02.700Z"
   },
   {
    "duration": 25,
    "start_time": "2022-05-17T13:24:11.765Z"
   },
   {
    "duration": 21,
    "start_time": "2022-05-17T13:24:26.255Z"
   },
   {
    "duration": 21,
    "start_time": "2022-05-17T13:24:52.419Z"
   },
   {
    "duration": 21,
    "start_time": "2022-05-17T13:24:56.003Z"
   },
   {
    "duration": 16,
    "start_time": "2022-05-17T13:25:07.964Z"
   },
   {
    "duration": 17,
    "start_time": "2022-05-17T13:25:28.647Z"
   },
   {
    "duration": 19,
    "start_time": "2022-05-17T13:26:34.486Z"
   },
   {
    "duration": 255,
    "start_time": "2022-05-17T13:27:42.163Z"
   },
   {
    "duration": 263,
    "start_time": "2022-05-17T13:28:06.268Z"
   },
   {
    "duration": 262,
    "start_time": "2022-05-17T13:28:14.191Z"
   },
   {
    "duration": 3287,
    "start_time": "2022-05-17T13:28:34.784Z"
   },
   {
    "duration": 15,
    "start_time": "2022-05-17T13:29:07.580Z"
   },
   {
    "duration": 15,
    "start_time": "2022-05-17T13:29:14.904Z"
   },
   {
    "duration": 25,
    "start_time": "2022-05-17T13:30:12.840Z"
   },
   {
    "duration": 27,
    "start_time": "2022-05-17T13:30:21.992Z"
   },
   {
    "duration": 22,
    "start_time": "2022-05-17T13:30:28.426Z"
   },
   {
    "duration": 23,
    "start_time": "2022-05-17T13:30:32.707Z"
   },
   {
    "duration": 25,
    "start_time": "2022-05-17T13:30:36.522Z"
   },
   {
    "duration": 22,
    "start_time": "2022-05-17T13:30:44.028Z"
   },
   {
    "duration": 19,
    "start_time": "2022-05-17T13:35:24.169Z"
   },
   {
    "duration": 23,
    "start_time": "2022-05-17T13:36:09.802Z"
   },
   {
    "duration": 19,
    "start_time": "2022-05-17T13:36:29.390Z"
   },
   {
    "duration": 20,
    "start_time": "2022-05-17T13:36:48.503Z"
   },
   {
    "duration": 22,
    "start_time": "2022-05-17T13:37:00.432Z"
   },
   {
    "duration": 21,
    "start_time": "2022-05-17T13:37:09.253Z"
   },
   {
    "duration": 21,
    "start_time": "2022-05-17T13:37:25.334Z"
   },
   {
    "duration": 22,
    "start_time": "2022-05-17T13:37:38.681Z"
   },
   {
    "duration": 22,
    "start_time": "2022-05-17T13:37:47.908Z"
   },
   {
    "duration": 20,
    "start_time": "2022-05-17T13:37:53.939Z"
   },
   {
    "duration": 86,
    "start_time": "2022-05-17T13:45:38.773Z"
   },
   {
    "duration": 1107,
    "start_time": "2022-05-17T13:47:20.837Z"
   },
   {
    "duration": 9,
    "start_time": "2022-05-17T13:49:36.420Z"
   },
   {
    "duration": 21,
    "start_time": "2022-05-17T13:49:42.511Z"
   },
   {
    "duration": 19,
    "start_time": "2022-05-17T13:50:43.999Z"
   },
   {
    "duration": 641,
    "start_time": "2022-05-17T13:50:45.126Z"
   },
   {
    "duration": 29,
    "start_time": "2022-05-17T13:53:12.991Z"
   },
   {
    "duration": 38,
    "start_time": "2022-05-17T13:53:24.632Z"
   },
   {
    "duration": 10,
    "start_time": "2022-05-17T13:54:35.903Z"
   },
   {
    "duration": 83,
    "start_time": "2022-05-17T13:54:56.321Z"
   },
   {
    "duration": 81,
    "start_time": "2022-05-17T14:30:16.122Z"
   },
   {
    "duration": 83,
    "start_time": "2022-05-17T14:31:10.797Z"
   },
   {
    "duration": 88,
    "start_time": "2022-05-17T14:41:31.660Z"
   },
   {
    "duration": 87,
    "start_time": "2022-05-17T14:43:18.206Z"
   },
   {
    "duration": 91,
    "start_time": "2022-05-17T14:43:31.307Z"
   },
   {
    "duration": 89,
    "start_time": "2022-05-17T14:43:48.020Z"
   },
   {
    "duration": 87,
    "start_time": "2022-05-17T14:44:03.617Z"
   },
   {
    "duration": 85,
    "start_time": "2022-05-17T14:44:25.158Z"
   },
   {
    "duration": 85,
    "start_time": "2022-05-17T14:44:41.541Z"
   },
   {
    "duration": 86,
    "start_time": "2022-05-17T14:47:49.577Z"
   },
   {
    "duration": 86,
    "start_time": "2022-05-17T14:49:42.811Z"
   },
   {
    "duration": 168,
    "start_time": "2022-05-17T14:53:22.325Z"
   },
   {
    "duration": 106,
    "start_time": "2022-05-17T14:53:28.497Z"
   },
   {
    "duration": 84,
    "start_time": "2022-05-17T14:53:47.582Z"
   },
   {
    "duration": 90,
    "start_time": "2022-05-17T14:54:01.116Z"
   },
   {
    "duration": 89,
    "start_time": "2022-05-17T14:54:07.444Z"
   },
   {
    "duration": 79,
    "start_time": "2022-05-17T14:54:45.305Z"
   },
   {
    "duration": 75,
    "start_time": "2022-05-17T14:55:08.137Z"
   },
   {
    "duration": 85,
    "start_time": "2022-05-17T14:55:31.877Z"
   },
   {
    "duration": 88,
    "start_time": "2022-05-17T14:55:45.272Z"
   },
   {
    "duration": 85,
    "start_time": "2022-05-17T14:58:28.135Z"
   },
   {
    "duration": 86,
    "start_time": "2022-05-17T14:58:50.641Z"
   },
   {
    "duration": 82,
    "start_time": "2022-05-17T15:01:07.431Z"
   },
   {
    "duration": 1338,
    "start_time": "2022-05-17T15:02:23.355Z"
   },
   {
    "duration": 132,
    "start_time": "2022-05-17T15:02:24.695Z"
   },
   {
    "duration": 5,
    "start_time": "2022-05-17T15:02:24.829Z"
   },
   {
    "duration": 120,
    "start_time": "2022-05-17T15:02:24.837Z"
   },
   {
    "duration": 57,
    "start_time": "2022-05-17T15:02:24.960Z"
   },
   {
    "duration": 57,
    "start_time": "2022-05-17T15:02:25.019Z"
   },
   {
    "duration": 8,
    "start_time": "2022-05-17T15:02:25.078Z"
   },
   {
    "duration": 131,
    "start_time": "2022-05-17T15:02:25.088Z"
   },
   {
    "duration": 0,
    "start_time": "2022-05-17T15:02:25.222Z"
   },
   {
    "duration": 0,
    "start_time": "2022-05-17T15:02:25.223Z"
   },
   {
    "duration": 0,
    "start_time": "2022-05-17T15:02:25.225Z"
   },
   {
    "duration": 0,
    "start_time": "2022-05-17T15:02:25.226Z"
   },
   {
    "duration": 0,
    "start_time": "2022-05-17T15:02:25.228Z"
   },
   {
    "duration": 0,
    "start_time": "2022-05-17T15:02:25.230Z"
   },
   {
    "duration": 0,
    "start_time": "2022-05-17T15:02:25.231Z"
   },
   {
    "duration": 11,
    "start_time": "2022-05-17T15:03:32.188Z"
   },
   {
    "duration": 10,
    "start_time": "2022-05-17T15:04:27.038Z"
   },
   {
    "duration": 1349,
    "start_time": "2022-05-17T15:04:45.241Z"
   },
   {
    "duration": 128,
    "start_time": "2022-05-17T15:04:46.593Z"
   },
   {
    "duration": 5,
    "start_time": "2022-05-17T15:04:46.723Z"
   },
   {
    "duration": 127,
    "start_time": "2022-05-17T15:04:46.731Z"
   },
   {
    "duration": 57,
    "start_time": "2022-05-17T15:04:46.860Z"
   },
   {
    "duration": 51,
    "start_time": "2022-05-17T15:04:46.919Z"
   },
   {
    "duration": 5,
    "start_time": "2022-05-17T15:04:46.972Z"
   },
   {
    "duration": 12,
    "start_time": "2022-05-17T15:04:46.979Z"
   },
   {
    "duration": 127,
    "start_time": "2022-05-17T15:04:46.993Z"
   },
   {
    "duration": 0,
    "start_time": "2022-05-17T15:04:47.122Z"
   },
   {
    "duration": 0,
    "start_time": "2022-05-17T15:04:47.123Z"
   },
   {
    "duration": 0,
    "start_time": "2022-05-17T15:04:47.124Z"
   },
   {
    "duration": 0,
    "start_time": "2022-05-17T15:04:47.126Z"
   },
   {
    "duration": 0,
    "start_time": "2022-05-17T15:04:47.127Z"
   },
   {
    "duration": 0,
    "start_time": "2022-05-17T15:04:47.128Z"
   },
   {
    "duration": 0,
    "start_time": "2022-05-17T15:04:47.129Z"
   },
   {
    "duration": 10,
    "start_time": "2022-05-17T15:06:06.117Z"
   },
   {
    "duration": 13,
    "start_time": "2022-05-17T15:06:09.893Z"
   },
   {
    "duration": 14,
    "start_time": "2022-05-17T15:06:10.806Z"
   },
   {
    "duration": 15,
    "start_time": "2022-05-17T15:06:14.222Z"
   },
   {
    "duration": 18,
    "start_time": "2022-05-17T15:06:16.040Z"
   },
   {
    "duration": 16,
    "start_time": "2022-05-17T15:06:28.086Z"
   },
   {
    "duration": 11,
    "start_time": "2022-05-17T15:06:54.345Z"
   },
   {
    "duration": 18,
    "start_time": "2022-05-17T15:07:12.681Z"
   },
   {
    "duration": 49,
    "start_time": "2022-05-17T15:07:18.647Z"
   },
   {
    "duration": 1342,
    "start_time": "2022-05-17T15:07:52.252Z"
   },
   {
    "duration": 139,
    "start_time": "2022-05-17T15:07:53.597Z"
   },
   {
    "duration": 5,
    "start_time": "2022-05-17T15:07:53.738Z"
   },
   {
    "duration": 137,
    "start_time": "2022-05-17T15:07:53.745Z"
   },
   {
    "duration": 59,
    "start_time": "2022-05-17T15:07:53.884Z"
   },
   {
    "duration": 28,
    "start_time": "2022-05-17T15:07:53.956Z"
   },
   {
    "duration": 6,
    "start_time": "2022-05-17T15:07:53.986Z"
   },
   {
    "duration": 27,
    "start_time": "2022-05-17T15:07:53.994Z"
   },
   {
    "duration": 73,
    "start_time": "2022-05-17T15:07:54.023Z"
   },
   {
    "duration": 114,
    "start_time": "2022-05-17T15:07:54.098Z"
   },
   {
    "duration": 29,
    "start_time": "2022-05-17T15:07:54.213Z"
   },
   {
    "duration": 754,
    "start_time": "2022-05-17T15:07:54.256Z"
   },
   {
    "duration": 259,
    "start_time": "2022-05-17T15:07:55.013Z"
   },
   {
    "duration": 0,
    "start_time": "2022-05-17T15:07:55.274Z"
   },
   {
    "duration": 0,
    "start_time": "2022-05-17T15:07:55.275Z"
   },
   {
    "duration": 0,
    "start_time": "2022-05-17T15:07:55.276Z"
   },
   {
    "duration": 108,
    "start_time": "2022-05-17T15:11:26.181Z"
   },
   {
    "duration": 48,
    "start_time": "2022-05-17T15:12:45.826Z"
   },
   {
    "duration": 22,
    "start_time": "2022-05-17T15:48:27.940Z"
   },
   {
    "duration": 126,
    "start_time": "2022-05-17T15:55:19.691Z"
   },
   {
    "duration": 19,
    "start_time": "2022-05-17T15:55:35.377Z"
   },
   {
    "duration": 12,
    "start_time": "2022-05-17T15:56:48.247Z"
   },
   {
    "duration": 4,
    "start_time": "2022-05-17T15:57:27.460Z"
   },
   {
    "duration": 137,
    "start_time": "2022-05-17T15:58:35.552Z"
   },
   {
    "duration": 315,
    "start_time": "2022-05-17T16:02:42.300Z"
   },
   {
    "duration": 344,
    "start_time": "2022-05-17T16:03:05.939Z"
   },
   {
    "duration": 416,
    "start_time": "2022-05-17T16:03:20.124Z"
   },
   {
    "duration": 332,
    "start_time": "2022-05-17T16:05:10.584Z"
   },
   {
    "duration": 356,
    "start_time": "2022-05-17T16:05:29.521Z"
   },
   {
    "duration": 4,
    "start_time": "2022-05-17T16:08:34.589Z"
   },
   {
    "duration": 4,
    "start_time": "2022-05-17T16:12:25.517Z"
   },
   {
    "duration": 1615,
    "start_time": "2022-05-17T16:12:26.969Z"
   },
   {
    "duration": 1480,
    "start_time": "2022-05-17T16:12:49.147Z"
   },
   {
    "duration": 5,
    "start_time": "2022-05-17T16:13:34.726Z"
   },
   {
    "duration": 389,
    "start_time": "2022-05-17T16:13:36.470Z"
   },
   {
    "duration": 4,
    "start_time": "2022-05-17T16:13:58.065Z"
   },
   {
    "duration": 1336,
    "start_time": "2022-05-17T16:13:59.037Z"
   },
   {
    "duration": 4,
    "start_time": "2022-05-17T16:14:18.825Z"
   },
   {
    "duration": 1451,
    "start_time": "2022-05-17T16:14:19.757Z"
   },
   {
    "duration": 55,
    "start_time": "2022-05-18T12:27:05.476Z"
   },
   {
    "duration": 1254,
    "start_time": "2022-05-18T12:27:14.272Z"
   },
   {
    "duration": 605,
    "start_time": "2022-05-18T12:27:15.528Z"
   },
   {
    "duration": 4,
    "start_time": "2022-05-18T12:27:16.135Z"
   },
   {
    "duration": 118,
    "start_time": "2022-05-18T12:27:16.141Z"
   },
   {
    "duration": 55,
    "start_time": "2022-05-18T12:27:16.261Z"
   },
   {
    "duration": 22,
    "start_time": "2022-05-18T12:27:16.317Z"
   },
   {
    "duration": 9,
    "start_time": "2022-05-18T12:27:16.368Z"
   },
   {
    "duration": 13,
    "start_time": "2022-05-18T12:27:16.378Z"
   },
   {
    "duration": 37,
    "start_time": "2022-05-18T12:27:16.392Z"
   },
   {
    "duration": 63,
    "start_time": "2022-05-18T12:27:16.432Z"
   },
   {
    "duration": 8,
    "start_time": "2022-05-18T12:27:16.497Z"
   },
   {
    "duration": 19,
    "start_time": "2022-05-18T12:27:16.506Z"
   },
   {
    "duration": 50,
    "start_time": "2022-05-18T12:27:16.526Z"
   },
   {
    "duration": 16,
    "start_time": "2022-05-18T12:27:16.577Z"
   },
   {
    "duration": 17,
    "start_time": "2022-05-18T12:27:16.594Z"
   },
   {
    "duration": 22,
    "start_time": "2022-05-18T12:27:16.612Z"
   },
   {
    "duration": 16,
    "start_time": "2022-05-18T12:27:16.636Z"
   },
   {
    "duration": 91,
    "start_time": "2022-05-18T12:27:16.658Z"
   },
   {
    "duration": 3,
    "start_time": "2022-05-18T12:27:16.750Z"
   },
   {
    "duration": 13,
    "start_time": "2022-05-18T12:27:16.758Z"
   },
   {
    "duration": 1645,
    "start_time": "2022-05-18T12:27:16.772Z"
   },
   {
    "duration": 22,
    "start_time": "2022-05-18T12:27:18.419Z"
   },
   {
    "duration": 35,
    "start_time": "2022-05-18T12:27:18.442Z"
   },
   {
    "duration": 212,
    "start_time": "2022-05-18T12:27:18.478Z"
   },
   {
    "duration": 1109,
    "start_time": "2022-05-18T12:27:18.692Z"
   },
   {
    "duration": 1366,
    "start_time": "2022-05-18T12:27:38.205Z"
   },
   {
    "duration": 168,
    "start_time": "2022-05-18T12:27:45.616Z"
   },
   {
    "duration": 298,
    "start_time": "2022-05-18T12:27:54.173Z"
   },
   {
    "duration": 256,
    "start_time": "2022-05-18T12:28:18.722Z"
   },
   {
    "duration": 107,
    "start_time": "2022-05-18T12:28:33.437Z"
   },
   {
    "duration": 213,
    "start_time": "2022-05-18T12:29:38.590Z"
   },
   {
    "duration": 129,
    "start_time": "2022-05-18T12:30:08.397Z"
   },
   {
    "duration": 119,
    "start_time": "2022-05-18T12:30:54.913Z"
   },
   {
    "duration": 48,
    "start_time": "2022-05-18T12:31:07.198Z"
   },
   {
    "duration": 133,
    "start_time": "2022-05-18T12:31:15.764Z"
   },
   {
    "duration": 10,
    "start_time": "2022-05-18T12:33:12.597Z"
   },
   {
    "duration": 3,
    "start_time": "2022-05-18T12:33:42.666Z"
   },
   {
    "duration": 6,
    "start_time": "2022-05-18T12:33:50.237Z"
   },
   {
    "duration": 6,
    "start_time": "2022-05-18T12:35:44.330Z"
   },
   {
    "duration": 7,
    "start_time": "2022-05-18T12:36:21.469Z"
   },
   {
    "duration": 4,
    "start_time": "2022-05-18T12:37:46.198Z"
   },
   {
    "duration": 106,
    "start_time": "2022-05-18T12:41:13.713Z"
   },
   {
    "duration": 118,
    "start_time": "2022-05-18T12:41:21.957Z"
   },
   {
    "duration": 104,
    "start_time": "2022-05-18T12:42:18.449Z"
   },
   {
    "duration": 101,
    "start_time": "2022-05-18T12:42:36.852Z"
   },
   {
    "duration": 111,
    "start_time": "2022-05-18T13:07:20.450Z"
   },
   {
    "duration": 122,
    "start_time": "2022-05-18T13:07:40.097Z"
   },
   {
    "duration": 111,
    "start_time": "2022-05-18T13:07:44.514Z"
   },
   {
    "duration": 123,
    "start_time": "2022-05-18T13:07:59.758Z"
   },
   {
    "duration": 114,
    "start_time": "2022-05-18T13:08:16.997Z"
   },
   {
    "duration": 108,
    "start_time": "2022-05-18T13:08:22.653Z"
   },
   {
    "duration": 125,
    "start_time": "2022-05-18T13:08:36.697Z"
   },
   {
    "duration": 19,
    "start_time": "2022-05-18T13:21:33.226Z"
   },
   {
    "duration": 6,
    "start_time": "2022-05-18T13:26:15.917Z"
   },
   {
    "duration": 7,
    "start_time": "2022-05-18T13:26:25.008Z"
   },
   {
    "duration": 13,
    "start_time": "2022-05-18T13:26:31.408Z"
   },
   {
    "duration": 7,
    "start_time": "2022-05-18T13:26:37.021Z"
   },
   {
    "duration": 10,
    "start_time": "2022-05-18T13:26:48.121Z"
   },
   {
    "duration": 40,
    "start_time": "2022-05-18T13:27:32.400Z"
   },
   {
    "duration": 155,
    "start_time": "2022-05-18T13:27:42.950Z"
   },
   {
    "duration": 3,
    "start_time": "2022-05-18T13:28:23.431Z"
   },
   {
    "duration": 9,
    "start_time": "2022-05-18T13:28:39.519Z"
   },
   {
    "duration": 12,
    "start_time": "2022-05-18T13:28:51.268Z"
   },
   {
    "duration": 9,
    "start_time": "2022-05-18T13:29:14.399Z"
   },
   {
    "duration": 11,
    "start_time": "2022-05-18T13:31:34.861Z"
   },
   {
    "duration": 8,
    "start_time": "2022-05-18T13:32:00.016Z"
   },
   {
    "duration": 49,
    "start_time": "2022-05-18T13:33:24.820Z"
   },
   {
    "duration": 10,
    "start_time": "2022-05-18T13:33:35.556Z"
   },
   {
    "duration": 4,
    "start_time": "2022-05-18T13:33:42.007Z"
   },
   {
    "duration": 5,
    "start_time": "2022-05-18T13:33:55.902Z"
   },
   {
    "duration": 5,
    "start_time": "2022-05-18T13:34:02.661Z"
   },
   {
    "duration": 12,
    "start_time": "2022-05-18T13:34:21.206Z"
   },
   {
    "duration": 12,
    "start_time": "2022-05-18T13:34:41.111Z"
   },
   {
    "duration": 4,
    "start_time": "2022-05-18T13:36:34.713Z"
   },
   {
    "duration": 8,
    "start_time": "2022-05-18T13:37:40.628Z"
   },
   {
    "duration": 4,
    "start_time": "2022-05-18T13:40:05.915Z"
   },
   {
    "duration": 5,
    "start_time": "2022-05-18T13:40:58.762Z"
   },
   {
    "duration": 4,
    "start_time": "2022-05-18T13:41:16.527Z"
   },
   {
    "duration": 5,
    "start_time": "2022-05-18T13:41:17.398Z"
   },
   {
    "duration": 7,
    "start_time": "2022-05-18T13:41:23.855Z"
   },
   {
    "duration": 10,
    "start_time": "2022-05-18T13:41:40.022Z"
   },
   {
    "duration": 10,
    "start_time": "2022-05-18T13:48:44.906Z"
   },
   {
    "duration": 8,
    "start_time": "2022-05-18T13:49:04.708Z"
   },
   {
    "duration": 14,
    "start_time": "2022-05-18T13:49:40.104Z"
   },
   {
    "duration": 11,
    "start_time": "2022-05-18T13:49:51.255Z"
   },
   {
    "duration": 13,
    "start_time": "2022-05-18T13:50:18.693Z"
   },
   {
    "duration": 18,
    "start_time": "2022-05-18T13:52:06.893Z"
   },
   {
    "duration": 14,
    "start_time": "2022-05-18T13:52:25.856Z"
   },
   {
    "duration": 10,
    "start_time": "2022-05-18T13:52:42.049Z"
   },
   {
    "duration": 6,
    "start_time": "2022-05-18T13:52:58.362Z"
   },
   {
    "duration": 16,
    "start_time": "2022-05-18T13:55:00.120Z"
   },
   {
    "duration": 13,
    "start_time": "2022-05-18T13:55:01.662Z"
   },
   {
    "duration": 6,
    "start_time": "2022-05-18T13:56:10.390Z"
   },
   {
    "duration": 109,
    "start_time": "2022-05-18T13:56:34.045Z"
   },
   {
    "duration": 6,
    "start_time": "2022-05-18T13:56:42.914Z"
   },
   {
    "duration": 7,
    "start_time": "2022-05-18T13:56:50.952Z"
   },
   {
    "duration": 7,
    "start_time": "2022-05-18T13:56:53.149Z"
   },
   {
    "duration": 6,
    "start_time": "2022-05-18T13:56:53.906Z"
   },
   {
    "duration": 6,
    "start_time": "2022-05-18T13:56:59.540Z"
   },
   {
    "duration": 16,
    "start_time": "2022-05-18T13:58:11.122Z"
   },
   {
    "duration": 12,
    "start_time": "2022-05-18T13:58:14.002Z"
   },
   {
    "duration": 120,
    "start_time": "2022-05-18T13:59:05.094Z"
   },
   {
    "duration": 103,
    "start_time": "2022-05-18T13:59:16.365Z"
   },
   {
    "duration": 114,
    "start_time": "2022-05-18T13:59:30.198Z"
   },
   {
    "duration": 5,
    "start_time": "2022-05-18T14:00:33.425Z"
   },
   {
    "duration": 7,
    "start_time": "2022-05-18T14:01:39.554Z"
   },
   {
    "duration": 15,
    "start_time": "2022-05-18T14:02:56.858Z"
   },
   {
    "duration": 7,
    "start_time": "2022-05-18T14:04:06.553Z"
   },
   {
    "duration": 14,
    "start_time": "2022-05-18T14:12:45.419Z"
   },
   {
    "duration": 44,
    "start_time": "2022-05-18T14:13:18.868Z"
   },
   {
    "duration": 43,
    "start_time": "2022-05-18T14:14:59.467Z"
   },
   {
    "duration": 42,
    "start_time": "2022-05-18T14:15:00.660Z"
   },
   {
    "duration": 24,
    "start_time": "2022-05-18T14:15:29.643Z"
   },
   {
    "duration": 41,
    "start_time": "2022-05-18T14:15:37.372Z"
   },
   {
    "duration": 16,
    "start_time": "2022-05-18T14:20:35.999Z"
   },
   {
    "duration": 22,
    "start_time": "2022-05-18T14:20:59.515Z"
   },
   {
    "duration": 9,
    "start_time": "2022-05-18T14:21:11.510Z"
   },
   {
    "duration": 6,
    "start_time": "2022-05-18T14:21:28.113Z"
   },
   {
    "duration": 5,
    "start_time": "2022-05-18T14:21:44.491Z"
   },
   {
    "duration": 10,
    "start_time": "2022-05-18T14:21:54.403Z"
   },
   {
    "duration": 4,
    "start_time": "2022-05-18T14:22:01.562Z"
   },
   {
    "duration": 2,
    "start_time": "2022-05-18T14:22:35.105Z"
   },
   {
    "duration": 3,
    "start_time": "2022-05-18T14:22:36.257Z"
   },
   {
    "duration": 4,
    "start_time": "2022-05-18T14:22:42.528Z"
   },
   {
    "duration": 19,
    "start_time": "2022-05-18T14:23:14.906Z"
   },
   {
    "duration": 20,
    "start_time": "2022-05-18T14:23:16.249Z"
   },
   {
    "duration": 987,
    "start_time": "2022-05-18T14:23:22.695Z"
   },
   {
    "duration": 303,
    "start_time": "2022-05-18T14:23:23.685Z"
   },
   {
    "duration": 3,
    "start_time": "2022-05-18T14:23:23.990Z"
   },
   {
    "duration": 102,
    "start_time": "2022-05-18T14:23:23.995Z"
   },
   {
    "duration": 60,
    "start_time": "2022-05-18T14:23:24.099Z"
   },
   {
    "duration": 22,
    "start_time": "2022-05-18T14:23:24.161Z"
   },
   {
    "duration": 5,
    "start_time": "2022-05-18T14:23:24.184Z"
   },
   {
    "duration": 22,
    "start_time": "2022-05-18T14:23:24.190Z"
   },
   {
    "duration": 54,
    "start_time": "2022-05-18T14:23:24.214Z"
   },
   {
    "duration": 40,
    "start_time": "2022-05-18T14:23:24.270Z"
   },
   {
    "duration": 7,
    "start_time": "2022-05-18T14:23:24.312Z"
   },
   {
    "duration": 36,
    "start_time": "2022-05-18T14:23:24.320Z"
   },
   {
    "duration": 28,
    "start_time": "2022-05-18T14:23:24.358Z"
   },
   {
    "duration": 14,
    "start_time": "2022-05-18T14:23:24.387Z"
   },
   {
    "duration": 34,
    "start_time": "2022-05-18T14:23:24.402Z"
   },
   {
    "duration": 44,
    "start_time": "2022-05-18T14:23:24.437Z"
   },
   {
    "duration": 21,
    "start_time": "2022-05-18T14:23:24.483Z"
   },
   {
    "duration": 91,
    "start_time": "2022-05-18T14:23:24.506Z"
   },
   {
    "duration": 4,
    "start_time": "2022-05-18T14:23:24.599Z"
   },
   {
    "duration": 28,
    "start_time": "2022-05-18T14:23:24.604Z"
   },
   {
    "duration": 1642,
    "start_time": "2022-05-18T14:23:24.633Z"
   },
   {
    "duration": 16,
    "start_time": "2022-05-18T14:23:26.277Z"
   },
   {
    "duration": 12,
    "start_time": "2022-05-18T14:23:26.295Z"
   },
   {
    "duration": 141,
    "start_time": "2022-05-18T14:23:26.308Z"
   },
   {
    "duration": 12,
    "start_time": "2022-05-18T14:23:26.450Z"
   },
   {
    "duration": 7,
    "start_time": "2022-05-18T14:23:26.463Z"
   },
   {
    "duration": 5,
    "start_time": "2022-05-18T14:23:26.472Z"
   },
   {
    "duration": 7,
    "start_time": "2022-05-18T14:23:26.480Z"
   },
   {
    "duration": 116,
    "start_time": "2022-05-18T14:23:26.488Z"
   },
   {
    "duration": 0,
    "start_time": "2022-05-18T14:23:26.605Z"
   },
   {
    "duration": 0,
    "start_time": "2022-05-18T14:23:26.606Z"
   },
   {
    "duration": 42,
    "start_time": "2022-05-18T14:23:35.447Z"
   },
   {
    "duration": 30,
    "start_time": "2022-05-18T14:24:57.277Z"
   },
   {
    "duration": 26,
    "start_time": "2022-05-18T14:25:55.450Z"
   },
   {
    "duration": 59,
    "start_time": "2022-05-18T14:26:18.036Z"
   },
   {
    "duration": 5,
    "start_time": "2022-05-18T14:26:30.437Z"
   },
   {
    "duration": 24,
    "start_time": "2022-05-18T14:28:28.419Z"
   },
   {
    "duration": 1112,
    "start_time": "2022-05-18T14:28:48.972Z"
   },
   {
    "duration": 126,
    "start_time": "2022-05-18T14:28:50.086Z"
   },
   {
    "duration": 4,
    "start_time": "2022-05-18T14:28:50.214Z"
   },
   {
    "duration": 132,
    "start_time": "2022-05-18T14:28:50.219Z"
   },
   {
    "duration": 45,
    "start_time": "2022-05-18T14:28:50.360Z"
   },
   {
    "duration": 21,
    "start_time": "2022-05-18T14:28:50.407Z"
   },
   {
    "duration": 4,
    "start_time": "2022-05-18T14:28:50.430Z"
   },
   {
    "duration": 33,
    "start_time": "2022-05-18T14:28:50.435Z"
   },
   {
    "duration": 38,
    "start_time": "2022-05-18T14:28:50.470Z"
   },
   {
    "duration": 53,
    "start_time": "2022-05-18T14:28:50.511Z"
   },
   {
    "duration": 7,
    "start_time": "2022-05-18T14:28:50.566Z"
   },
   {
    "duration": 21,
    "start_time": "2022-05-18T14:28:50.574Z"
   },
   {
    "duration": 21,
    "start_time": "2022-05-18T14:28:50.596Z"
   },
   {
    "duration": 14,
    "start_time": "2022-05-18T14:28:50.619Z"
   },
   {
    "duration": 38,
    "start_time": "2022-05-18T14:28:50.634Z"
   },
   {
    "duration": 18,
    "start_time": "2022-05-18T14:28:50.674Z"
   },
   {
    "duration": 14,
    "start_time": "2022-05-18T14:28:50.693Z"
   },
   {
    "duration": 106,
    "start_time": "2022-05-18T14:28:50.709Z"
   },
   {
    "duration": 3,
    "start_time": "2022-05-18T14:28:50.817Z"
   },
   {
    "duration": 6,
    "start_time": "2022-05-18T14:28:50.821Z"
   },
   {
    "duration": 1666,
    "start_time": "2022-05-18T14:28:50.828Z"
   },
   {
    "duration": 19,
    "start_time": "2022-05-18T14:28:52.495Z"
   },
   {
    "duration": 13,
    "start_time": "2022-05-18T14:28:52.515Z"
   },
   {
    "duration": 143,
    "start_time": "2022-05-18T14:28:52.530Z"
   },
   {
    "duration": 5,
    "start_time": "2022-05-18T14:28:52.675Z"
   },
   {
    "duration": 12,
    "start_time": "2022-05-18T14:28:52.681Z"
   },
   {
    "duration": 9,
    "start_time": "2022-05-18T14:28:52.694Z"
   },
   {
    "duration": 7,
    "start_time": "2022-05-18T14:28:52.705Z"
   },
   {
    "duration": 53,
    "start_time": "2022-05-18T14:28:52.714Z"
   },
   {
    "duration": 972,
    "start_time": "2022-05-18T14:28:52.769Z"
   },
   {
    "duration": 10,
    "start_time": "2022-05-18T14:30:16.797Z"
   },
   {
    "duration": 1111,
    "start_time": "2022-05-18T14:32:14.561Z"
   },
   {
    "duration": 129,
    "start_time": "2022-05-18T14:32:15.673Z"
   },
   {
    "duration": 4,
    "start_time": "2022-05-18T14:32:15.803Z"
   },
   {
    "duration": 177,
    "start_time": "2022-05-18T14:32:15.810Z"
   },
   {
    "duration": 50,
    "start_time": "2022-05-18T14:32:15.989Z"
   },
   {
    "duration": 39,
    "start_time": "2022-05-18T14:32:16.040Z"
   },
   {
    "duration": 5,
    "start_time": "2022-05-18T14:32:16.081Z"
   },
   {
    "duration": 20,
    "start_time": "2022-05-18T14:32:16.087Z"
   },
   {
    "duration": 57,
    "start_time": "2022-05-18T14:32:16.108Z"
   },
   {
    "duration": 39,
    "start_time": "2022-05-18T14:32:16.167Z"
   },
   {
    "duration": 7,
    "start_time": "2022-05-18T14:32:16.208Z"
   },
   {
    "duration": 49,
    "start_time": "2022-05-18T14:32:16.217Z"
   },
   {
    "duration": 50,
    "start_time": "2022-05-18T14:32:16.269Z"
   },
   {
    "duration": 20,
    "start_time": "2022-05-18T14:32:16.321Z"
   },
   {
    "duration": 23,
    "start_time": "2022-05-18T14:32:16.343Z"
   },
   {
    "duration": 41,
    "start_time": "2022-05-18T14:32:16.368Z"
   },
   {
    "duration": 15,
    "start_time": "2022-05-18T14:32:16.411Z"
   },
   {
    "duration": 97,
    "start_time": "2022-05-18T14:32:16.427Z"
   },
   {
    "duration": 4,
    "start_time": "2022-05-18T14:32:16.525Z"
   },
   {
    "duration": 17,
    "start_time": "2022-05-18T14:32:16.530Z"
   },
   {
    "duration": 1510,
    "start_time": "2022-05-18T14:32:16.549Z"
   },
   {
    "duration": 24,
    "start_time": "2022-05-18T14:32:18.061Z"
   },
   {
    "duration": 24,
    "start_time": "2022-05-18T14:32:18.087Z"
   },
   {
    "duration": 187,
    "start_time": "2022-05-18T14:32:18.114Z"
   },
   {
    "duration": 5,
    "start_time": "2022-05-18T14:32:18.303Z"
   },
   {
    "duration": 41,
    "start_time": "2022-05-18T14:32:18.310Z"
   },
   {
    "duration": 48,
    "start_time": "2022-05-18T14:32:18.353Z"
   },
   {
    "duration": 24,
    "start_time": "2022-05-18T14:32:18.403Z"
   },
   {
    "duration": 43,
    "start_time": "2022-05-18T14:32:18.429Z"
   },
   {
    "duration": 20,
    "start_time": "2022-05-18T14:32:18.474Z"
   },
   {
    "duration": 1123,
    "start_time": "2022-05-18T14:32:18.496Z"
   },
   {
    "duration": 21,
    "start_time": "2022-05-18T14:35:15.125Z"
   },
   {
    "duration": 16,
    "start_time": "2022-05-18T14:35:54.390Z"
   },
   {
    "duration": 19,
    "start_time": "2022-05-18T14:36:11.918Z"
   },
   {
    "duration": 5,
    "start_time": "2022-05-18T14:36:46.198Z"
   },
   {
    "duration": 103,
    "start_time": "2022-05-18T14:37:06.959Z"
   },
   {
    "duration": 7,
    "start_time": "2022-05-18T14:37:25.471Z"
   },
   {
    "duration": 17,
    "start_time": "2022-05-18T14:37:29.863Z"
   },
   {
    "duration": 1569,
    "start_time": "2022-05-18T19:17:47.183Z"
   },
   {
    "duration": 400,
    "start_time": "2022-05-18T19:17:48.755Z"
   },
   {
    "duration": 9,
    "start_time": "2022-05-18T19:17:49.157Z"
   },
   {
    "duration": 223,
    "start_time": "2022-05-18T19:17:49.183Z"
   },
   {
    "duration": 100,
    "start_time": "2022-05-18T19:17:49.413Z"
   },
   {
    "duration": 39,
    "start_time": "2022-05-18T19:17:49.516Z"
   },
   {
    "duration": 8,
    "start_time": "2022-05-18T19:17:49.557Z"
   },
   {
    "duration": 49,
    "start_time": "2022-05-18T19:17:49.572Z"
   },
   {
    "duration": 49,
    "start_time": "2022-05-18T19:17:49.622Z"
   },
   {
    "duration": 49,
    "start_time": "2022-05-18T19:17:49.672Z"
   },
   {
    "duration": 10,
    "start_time": "2022-05-18T19:17:49.724Z"
   },
   {
    "duration": 49,
    "start_time": "2022-05-18T19:17:49.736Z"
   },
   {
    "duration": 43,
    "start_time": "2022-05-18T19:17:49.787Z"
   },
   {
    "duration": 16,
    "start_time": "2022-05-18T19:17:49.833Z"
   },
   {
    "duration": 29,
    "start_time": "2022-05-18T19:17:49.851Z"
   },
   {
    "duration": 48,
    "start_time": "2022-05-18T19:17:49.882Z"
   },
   {
    "duration": 22,
    "start_time": "2022-05-18T19:17:49.932Z"
   },
   {
    "duration": 120,
    "start_time": "2022-05-18T19:17:49.956Z"
   },
   {
    "duration": 16,
    "start_time": "2022-05-18T19:17:50.080Z"
   },
   {
    "duration": 8,
    "start_time": "2022-05-18T19:17:50.099Z"
   },
   {
    "duration": 2541,
    "start_time": "2022-05-18T19:17:50.109Z"
   },
   {
    "duration": 30,
    "start_time": "2022-05-18T19:17:52.652Z"
   },
   {
    "duration": 36,
    "start_time": "2022-05-18T19:17:52.685Z"
   },
   {
    "duration": 220,
    "start_time": "2022-05-18T19:17:52.724Z"
   },
   {
    "duration": 6,
    "start_time": "2022-05-18T19:17:52.947Z"
   },
   {
    "duration": 17,
    "start_time": "2022-05-18T19:17:52.955Z"
   },
   {
    "duration": 46,
    "start_time": "2022-05-18T19:17:52.974Z"
   },
   {
    "duration": 11,
    "start_time": "2022-05-18T19:17:53.023Z"
   },
   {
    "duration": 17,
    "start_time": "2022-05-18T19:17:53.037Z"
   },
   {
    "duration": 9,
    "start_time": "2022-05-18T19:17:53.056Z"
   },
   {
    "duration": 0,
    "start_time": "2022-05-18T19:17:53.067Z"
   },
   {
    "duration": 1,
    "start_time": "2022-05-18T19:17:53.068Z"
   },
   {
    "duration": 214,
    "start_time": "2022-05-18T19:18:27.347Z"
   },
   {
    "duration": 323,
    "start_time": "2022-05-18T19:18:39.688Z"
   },
   {
    "duration": 34,
    "start_time": "2022-05-18T19:22:35.648Z"
   },
   {
    "duration": 1632,
    "start_time": "2022-05-18T19:24:56.203Z"
   },
   {
    "duration": 274,
    "start_time": "2022-05-18T19:24:57.837Z"
   },
   {
    "duration": 10,
    "start_time": "2022-05-18T19:24:58.113Z"
   },
   {
    "duration": 324,
    "start_time": "2022-05-18T19:24:58.129Z"
   },
   {
    "duration": 109,
    "start_time": "2022-05-18T19:24:58.455Z"
   },
   {
    "duration": 60,
    "start_time": "2022-05-18T19:24:58.571Z"
   },
   {
    "duration": 33,
    "start_time": "2022-05-18T19:24:58.637Z"
   },
   {
    "duration": 154,
    "start_time": "2022-05-18T19:24:58.675Z"
   },
   {
    "duration": 106,
    "start_time": "2022-05-18T19:24:58.846Z"
   },
   {
    "duration": 70,
    "start_time": "2022-05-18T19:24:58.956Z"
   },
   {
    "duration": 43,
    "start_time": "2022-05-18T19:24:59.029Z"
   },
   {
    "duration": 129,
    "start_time": "2022-05-18T19:24:59.074Z"
   },
   {
    "duration": 176,
    "start_time": "2022-05-18T19:24:59.212Z"
   },
   {
    "duration": 114,
    "start_time": "2022-05-18T19:24:59.396Z"
   },
   {
    "duration": 201,
    "start_time": "2022-05-18T19:24:59.523Z"
   },
   {
    "duration": 118,
    "start_time": "2022-05-18T19:24:59.736Z"
   },
   {
    "duration": 106,
    "start_time": "2022-05-18T19:24:59.861Z"
   },
   {
    "duration": 300,
    "start_time": "2022-05-18T19:24:59.974Z"
   },
   {
    "duration": 7,
    "start_time": "2022-05-18T19:25:00.281Z"
   },
   {
    "duration": 135,
    "start_time": "2022-05-18T19:25:00.294Z"
   },
   {
    "duration": 3314,
    "start_time": "2022-05-18T19:25:00.437Z"
   },
   {
    "duration": 77,
    "start_time": "2022-05-18T19:25:03.758Z"
   },
   {
    "duration": 114,
    "start_time": "2022-05-18T19:25:03.843Z"
   },
   {
    "duration": 547,
    "start_time": "2022-05-18T19:25:03.972Z"
   },
   {
    "duration": 0,
    "start_time": "2022-05-18T19:25:04.527Z"
   },
   {
    "duration": 0,
    "start_time": "2022-05-18T19:25:04.532Z"
   },
   {
    "duration": 0,
    "start_time": "2022-05-18T19:25:04.537Z"
   },
   {
    "duration": 0,
    "start_time": "2022-05-18T19:25:04.542Z"
   },
   {
    "duration": 0,
    "start_time": "2022-05-18T19:25:04.548Z"
   },
   {
    "duration": 0,
    "start_time": "2022-05-18T19:25:04.551Z"
   },
   {
    "duration": 0,
    "start_time": "2022-05-18T19:25:04.554Z"
   },
   {
    "duration": 323,
    "start_time": "2022-05-18T19:25:32.671Z"
   },
   {
    "duration": 8,
    "start_time": "2022-05-18T19:25:41.407Z"
   },
   {
    "duration": 22,
    "start_time": "2022-05-18T19:25:42.531Z"
   },
   {
    "duration": 2017,
    "start_time": "2022-05-18T19:25:44.041Z"
   },
   {
    "duration": 365,
    "start_time": "2022-05-18T19:27:54.672Z"
   },
   {
    "duration": 182,
    "start_time": "2022-05-18T19:28:04.093Z"
   },
   {
    "duration": 2586,
    "start_time": "2022-05-18T19:35:53.741Z"
   },
   {
    "duration": 48,
    "start_time": "2022-05-18T19:38:29.759Z"
   },
   {
    "duration": 22,
    "start_time": "2022-05-18T19:41:04.394Z"
   },
   {
    "duration": 402,
    "start_time": "2022-05-18T19:46:36.656Z"
   },
   {
    "duration": 232,
    "start_time": "2022-05-18T19:46:49.430Z"
   },
   {
    "duration": 274,
    "start_time": "2022-05-18T19:47:35.063Z"
   },
   {
    "duration": 173,
    "start_time": "2022-05-18T19:48:22.007Z"
   },
   {
    "duration": 26,
    "start_time": "2022-05-18T19:49:44.692Z"
   },
   {
    "duration": 202,
    "start_time": "2022-05-18T19:50:23.724Z"
   },
   {
    "duration": 27,
    "start_time": "2022-05-18T19:50:39.113Z"
   },
   {
    "duration": 242,
    "start_time": "2022-05-18T19:50:46.811Z"
   },
   {
    "duration": 225,
    "start_time": "2022-05-18T19:51:51.871Z"
   },
   {
    "duration": 227,
    "start_time": "2022-05-18T19:52:07.454Z"
   },
   {
    "duration": 198,
    "start_time": "2022-05-18T19:52:21.955Z"
   },
   {
    "duration": 197,
    "start_time": "2022-05-18T19:53:33.102Z"
   },
   {
    "duration": 255,
    "start_time": "2022-05-18T19:53:59.971Z"
   },
   {
    "duration": 226,
    "start_time": "2022-05-18T19:54:11.596Z"
   },
   {
    "duration": 213,
    "start_time": "2022-05-18T19:57:15.551Z"
   },
   {
    "duration": 172,
    "start_time": "2022-05-18T19:57:34.213Z"
   },
   {
    "duration": 193,
    "start_time": "2022-05-18T19:57:40.939Z"
   },
   {
    "duration": 186,
    "start_time": "2022-05-18T19:57:49.325Z"
   },
   {
    "duration": 1951,
    "start_time": "2022-05-18T20:05:30.571Z"
   },
   {
    "duration": 233,
    "start_time": "2022-05-18T20:05:32.529Z"
   },
   {
    "duration": 13,
    "start_time": "2022-05-18T20:05:32.772Z"
   },
   {
    "duration": 339,
    "start_time": "2022-05-18T20:05:32.791Z"
   },
   {
    "duration": 101,
    "start_time": "2022-05-18T20:05:33.133Z"
   },
   {
    "duration": 44,
    "start_time": "2022-05-18T20:05:33.240Z"
   },
   {
    "duration": 29,
    "start_time": "2022-05-18T20:05:33.289Z"
   },
   {
    "duration": 44,
    "start_time": "2022-05-18T20:05:33.319Z"
   },
   {
    "duration": 126,
    "start_time": "2022-05-18T20:05:33.365Z"
   },
   {
    "duration": 70,
    "start_time": "2022-05-18T20:05:33.493Z"
   },
   {
    "duration": 21,
    "start_time": "2022-05-18T20:05:33.570Z"
   },
   {
    "duration": 123,
    "start_time": "2022-05-18T20:05:33.601Z"
   },
   {
    "duration": 173,
    "start_time": "2022-05-18T20:05:33.732Z"
   },
   {
    "duration": 141,
    "start_time": "2022-05-18T20:05:33.916Z"
   },
   {
    "duration": 129,
    "start_time": "2022-05-18T20:05:34.064Z"
   },
   {
    "duration": 77,
    "start_time": "2022-05-18T20:05:34.207Z"
   },
   {
    "duration": 28,
    "start_time": "2022-05-18T20:05:34.289Z"
   },
   {
    "duration": 243,
    "start_time": "2022-05-18T20:05:34.323Z"
   },
   {
    "duration": 15,
    "start_time": "2022-05-18T20:05:34.570Z"
   },
   {
    "duration": 150,
    "start_time": "2022-05-18T20:05:34.587Z"
   },
   {
    "duration": 2546,
    "start_time": "2022-05-18T20:05:34.744Z"
   },
   {
    "duration": 35,
    "start_time": "2022-05-18T20:05:37.295Z"
   },
   {
    "duration": 47,
    "start_time": "2022-05-18T20:05:37.335Z"
   },
   {
    "duration": 260,
    "start_time": "2022-05-18T20:05:37.386Z"
   },
   {
    "duration": 9,
    "start_time": "2022-05-18T20:05:37.653Z"
   },
   {
    "duration": 49,
    "start_time": "2022-05-18T20:05:37.668Z"
   },
   {
    "duration": 2001,
    "start_time": "2022-05-18T20:05:37.723Z"
   },
   {
    "duration": 30,
    "start_time": "2022-05-18T20:05:39.731Z"
   },
   {
    "duration": 276,
    "start_time": "2022-05-18T20:05:39.766Z"
   },
   {
    "duration": 49,
    "start_time": "2022-05-18T20:06:40.346Z"
   },
   {
    "duration": 253,
    "start_time": "2022-05-18T20:09:07.692Z"
   },
   {
    "duration": 257,
    "start_time": "2022-05-18T20:09:37.415Z"
   },
   {
    "duration": 322,
    "start_time": "2022-05-18T20:09:46.365Z"
   },
   {
    "duration": 203,
    "start_time": "2022-05-18T20:09:56.691Z"
   },
   {
    "duration": 228,
    "start_time": "2022-05-18T20:10:18.004Z"
   },
   {
    "duration": 232,
    "start_time": "2022-05-18T20:10:34.353Z"
   },
   {
    "duration": 207,
    "start_time": "2022-05-18T20:10:43.119Z"
   },
   {
    "duration": 240,
    "start_time": "2022-05-18T20:11:58.438Z"
   },
   {
    "duration": 513,
    "start_time": "2022-05-18T20:12:22.222Z"
   },
   {
    "duration": 276,
    "start_time": "2022-05-18T20:12:30.040Z"
   },
   {
    "duration": 255,
    "start_time": "2022-05-18T20:12:46.050Z"
   },
   {
    "duration": 380,
    "start_time": "2022-05-18T20:12:52.346Z"
   },
   {
    "duration": 164,
    "start_time": "2022-05-18T20:13:20.625Z"
   },
   {
    "duration": 54,
    "start_time": "2022-05-19T07:28:55.622Z"
   },
   {
    "duration": 1200,
    "start_time": "2022-05-19T07:29:07.360Z"
   },
   {
    "duration": 473,
    "start_time": "2022-05-19T07:29:08.563Z"
   },
   {
    "duration": 4,
    "start_time": "2022-05-19T07:29:09.038Z"
   },
   {
    "duration": 98,
    "start_time": "2022-05-19T07:29:09.044Z"
   },
   {
    "duration": 49,
    "start_time": "2022-05-19T07:29:09.145Z"
   },
   {
    "duration": 35,
    "start_time": "2022-05-19T07:29:09.195Z"
   },
   {
    "duration": 5,
    "start_time": "2022-05-19T07:29:09.231Z"
   },
   {
    "duration": 15,
    "start_time": "2022-05-19T07:29:09.237Z"
   },
   {
    "duration": 60,
    "start_time": "2022-05-19T07:29:09.253Z"
   },
   {
    "duration": 38,
    "start_time": "2022-05-19T07:29:09.315Z"
   },
   {
    "duration": 6,
    "start_time": "2022-05-19T07:29:09.354Z"
   },
   {
    "duration": 19,
    "start_time": "2022-05-19T07:29:09.362Z"
   },
   {
    "duration": 49,
    "start_time": "2022-05-19T07:29:09.383Z"
   },
   {
    "duration": 14,
    "start_time": "2022-05-19T07:29:09.433Z"
   },
   {
    "duration": 23,
    "start_time": "2022-05-19T07:29:09.449Z"
   },
   {
    "duration": 30,
    "start_time": "2022-05-19T07:29:09.474Z"
   },
   {
    "duration": 14,
    "start_time": "2022-05-19T07:29:09.512Z"
   },
   {
    "duration": 94,
    "start_time": "2022-05-19T07:29:09.528Z"
   },
   {
    "duration": 4,
    "start_time": "2022-05-19T07:29:09.623Z"
   },
   {
    "duration": 20,
    "start_time": "2022-05-19T07:29:09.628Z"
   },
   {
    "duration": 1537,
    "start_time": "2022-05-19T07:29:09.649Z"
   },
   {
    "duration": 24,
    "start_time": "2022-05-19T07:29:11.188Z"
   },
   {
    "duration": 11,
    "start_time": "2022-05-19T07:29:11.213Z"
   },
   {
    "duration": 120,
    "start_time": "2022-05-19T07:29:11.226Z"
   },
   {
    "duration": 5,
    "start_time": "2022-05-19T07:29:11.348Z"
   },
   {
    "duration": 20,
    "start_time": "2022-05-19T07:29:11.354Z"
   },
   {
    "duration": 1134,
    "start_time": "2022-05-19T07:29:11.375Z"
   },
   {
    "duration": 90,
    "start_time": "2022-05-19T07:29:12.512Z"
   },
   {
    "duration": 21,
    "start_time": "2022-05-19T07:29:12.603Z"
   },
   {
    "duration": 29,
    "start_time": "2022-05-19T07:29:12.626Z"
   },
   {
    "duration": 142,
    "start_time": "2022-05-19T07:29:12.657Z"
   },
   {
    "duration": 133,
    "start_time": "2022-05-19T07:29:12.801Z"
   },
   {
    "duration": 13,
    "start_time": "2022-05-19T07:29:42.153Z"
   },
   {
    "duration": 108,
    "start_time": "2022-05-19T07:29:48.521Z"
   },
   {
    "duration": 9,
    "start_time": "2022-05-19T07:30:03.642Z"
   },
   {
    "duration": 22,
    "start_time": "2022-05-19T07:32:28.897Z"
   },
   {
    "duration": 23,
    "start_time": "2022-05-19T07:32:32.379Z"
   },
   {
    "duration": 33,
    "start_time": "2022-05-19T07:34:19.707Z"
   },
   {
    "duration": 98,
    "start_time": "2022-05-19T07:35:40.654Z"
   },
   {
    "duration": 100,
    "start_time": "2022-05-19T07:36:16.577Z"
   },
   {
    "duration": 11,
    "start_time": "2022-05-19T07:36:55.495Z"
   },
   {
    "duration": 16,
    "start_time": "2022-05-19T07:37:10.180Z"
   },
   {
    "duration": 9,
    "start_time": "2022-05-19T07:37:25.354Z"
   },
   {
    "duration": 8,
    "start_time": "2022-05-19T07:37:34.085Z"
   },
   {
    "duration": 11,
    "start_time": "2022-05-19T07:37:44.028Z"
   },
   {
    "duration": 12,
    "start_time": "2022-05-19T07:38:04.362Z"
   },
   {
    "duration": 10,
    "start_time": "2022-05-19T07:38:28.093Z"
   },
   {
    "duration": 15,
    "start_time": "2022-05-19T07:39:49.663Z"
   },
   {
    "duration": 22,
    "start_time": "2022-05-19T07:40:09.667Z"
   },
   {
    "duration": 38,
    "start_time": "2022-05-19T07:42:12.391Z"
   },
   {
    "duration": 39,
    "start_time": "2022-05-19T07:42:40.985Z"
   },
   {
    "duration": 37,
    "start_time": "2022-05-19T07:42:51.936Z"
   },
   {
    "duration": 51,
    "start_time": "2022-05-19T07:43:17.451Z"
   },
   {
    "duration": 34,
    "start_time": "2022-05-19T07:43:26.672Z"
   },
   {
    "duration": 39,
    "start_time": "2022-05-19T07:43:35.332Z"
   },
   {
    "duration": 56,
    "start_time": "2022-05-19T07:43:38.797Z"
   },
   {
    "duration": 70,
    "start_time": "2022-05-19T10:10:56.486Z"
   },
   {
    "duration": 1411,
    "start_time": "2022-05-19T10:11:08.009Z"
   },
   {
    "duration": 894,
    "start_time": "2022-05-19T10:11:09.422Z"
   },
   {
    "duration": 4,
    "start_time": "2022-05-19T10:11:10.318Z"
   },
   {
    "duration": 141,
    "start_time": "2022-05-19T10:11:10.325Z"
   },
   {
    "duration": 59,
    "start_time": "2022-05-19T10:11:10.468Z"
   },
   {
    "duration": 32,
    "start_time": "2022-05-19T10:11:10.545Z"
   },
   {
    "duration": 6,
    "start_time": "2022-05-19T10:11:10.579Z"
   },
   {
    "duration": 18,
    "start_time": "2022-05-19T10:11:10.587Z"
   },
   {
    "duration": 86,
    "start_time": "2022-05-19T10:11:10.607Z"
   },
   {
    "duration": 59,
    "start_time": "2022-05-19T10:11:10.696Z"
   },
   {
    "duration": 9,
    "start_time": "2022-05-19T10:11:10.757Z"
   },
   {
    "duration": 31,
    "start_time": "2022-05-19T10:11:10.768Z"
   },
   {
    "duration": 48,
    "start_time": "2022-05-19T10:11:10.801Z"
   },
   {
    "duration": 27,
    "start_time": "2022-05-19T10:11:10.850Z"
   },
   {
    "duration": 23,
    "start_time": "2022-05-19T10:11:10.882Z"
   },
   {
    "duration": 48,
    "start_time": "2022-05-19T10:11:10.907Z"
   },
   {
    "duration": 16,
    "start_time": "2022-05-19T10:11:10.957Z"
   },
   {
    "duration": 123,
    "start_time": "2022-05-19T10:11:10.976Z"
   },
   {
    "duration": 6,
    "start_time": "2022-05-19T10:11:11.101Z"
   },
   {
    "duration": 14,
    "start_time": "2022-05-19T10:11:11.110Z"
   },
   {
    "duration": 1934,
    "start_time": "2022-05-19T10:11:11.126Z"
   },
   {
    "duration": 17,
    "start_time": "2022-05-19T10:11:13.062Z"
   },
   {
    "duration": 13,
    "start_time": "2022-05-19T10:11:13.082Z"
   },
   {
    "duration": 166,
    "start_time": "2022-05-19T10:11:13.096Z"
   },
   {
    "duration": 6,
    "start_time": "2022-05-19T10:11:13.264Z"
   },
   {
    "duration": 16,
    "start_time": "2022-05-19T10:11:13.272Z"
   },
   {
    "duration": 1294,
    "start_time": "2022-05-19T10:11:13.290Z"
   },
   {
    "duration": 120,
    "start_time": "2022-05-19T10:11:14.588Z"
   },
   {
    "duration": 47,
    "start_time": "2022-05-19T10:11:14.710Z"
   },
   {
    "duration": 190,
    "start_time": "2022-05-19T10:11:14.759Z"
   },
   {
    "duration": 174,
    "start_time": "2022-05-19T10:11:14.951Z"
   },
   {
    "duration": 57,
    "start_time": "2022-05-19T10:11:15.128Z"
   },
   {
    "duration": 26,
    "start_time": "2022-05-19T10:11:15.187Z"
   },
   {
    "duration": 77,
    "start_time": "2022-05-19T12:35:39.356Z"
   },
   {
    "duration": 2729,
    "start_time": "2022-05-19T12:35:48.949Z"
   },
   {
    "duration": 571,
    "start_time": "2022-05-19T12:35:51.681Z"
   },
   {
    "duration": 4,
    "start_time": "2022-05-19T12:35:52.254Z"
   },
   {
    "duration": 124,
    "start_time": "2022-05-19T12:35:52.260Z"
   },
   {
    "duration": 62,
    "start_time": "2022-05-19T12:35:52.385Z"
   },
   {
    "duration": 32,
    "start_time": "2022-05-19T12:35:52.449Z"
   },
   {
    "duration": 7,
    "start_time": "2022-05-19T12:35:52.483Z"
   },
   {
    "duration": 61,
    "start_time": "2022-05-19T12:35:52.491Z"
   },
   {
    "duration": 47,
    "start_time": "2022-05-19T12:35:52.554Z"
   },
   {
    "duration": 51,
    "start_time": "2022-05-19T12:35:52.604Z"
   },
   {
    "duration": 7,
    "start_time": "2022-05-19T12:35:52.657Z"
   },
   {
    "duration": 20,
    "start_time": "2022-05-19T12:35:52.666Z"
   },
   {
    "duration": 52,
    "start_time": "2022-05-19T12:35:52.688Z"
   },
   {
    "duration": 16,
    "start_time": "2022-05-19T12:35:52.741Z"
   },
   {
    "duration": 19,
    "start_time": "2022-05-19T12:35:52.758Z"
   },
   {
    "duration": 60,
    "start_time": "2022-05-19T12:35:52.778Z"
   },
   {
    "duration": 20,
    "start_time": "2022-05-19T12:35:52.839Z"
   },
   {
    "duration": 114,
    "start_time": "2022-05-19T12:35:52.861Z"
   },
   {
    "duration": 4,
    "start_time": "2022-05-19T12:35:52.977Z"
   },
   {
    "duration": 5,
    "start_time": "2022-05-19T12:35:52.982Z"
   },
   {
    "duration": 1965,
    "start_time": "2022-05-19T12:35:52.989Z"
   },
   {
    "duration": 17,
    "start_time": "2022-05-19T12:35:54.956Z"
   },
   {
    "duration": 14,
    "start_time": "2022-05-19T12:35:54.975Z"
   },
   {
    "duration": 165,
    "start_time": "2022-05-19T12:35:54.991Z"
   },
   {
    "duration": 5,
    "start_time": "2022-05-19T12:35:55.158Z"
   },
   {
    "duration": 11,
    "start_time": "2022-05-19T12:35:55.165Z"
   },
   {
    "duration": 1564,
    "start_time": "2022-05-19T12:35:55.178Z"
   },
   {
    "duration": 117,
    "start_time": "2022-05-19T12:35:56.745Z"
   },
   {
    "duration": 137,
    "start_time": "2022-05-19T12:35:56.863Z"
   },
   {
    "duration": 0,
    "start_time": "2022-05-19T12:35:57.002Z"
   },
   {
    "duration": 0,
    "start_time": "2022-05-19T12:35:57.003Z"
   },
   {
    "duration": 0,
    "start_time": "2022-05-19T12:35:57.004Z"
   },
   {
    "duration": 0,
    "start_time": "2022-05-19T12:35:57.005Z"
   },
   {
    "duration": 12,
    "start_time": "2022-05-19T12:36:17.632Z"
   },
   {
    "duration": 38,
    "start_time": "2022-05-19T12:36:34.835Z"
   },
   {
    "duration": 39,
    "start_time": "2022-05-19T12:36:40.995Z"
   },
   {
    "duration": 17,
    "start_time": "2022-05-19T12:37:01.426Z"
   },
   {
    "duration": 31,
    "start_time": "2022-05-19T12:37:06.446Z"
   },
   {
    "duration": 198,
    "start_time": "2022-05-19T12:37:18.694Z"
   },
   {
    "duration": 131,
    "start_time": "2022-05-19T12:37:23.966Z"
   },
   {
    "duration": 60,
    "start_time": "2022-05-19T12:37:28.393Z"
   },
   {
    "duration": 23,
    "start_time": "2022-05-19T12:37:31.773Z"
   },
   {
    "duration": 106,
    "start_time": "2022-05-19T12:37:55.341Z"
   },
   {
    "duration": 9,
    "start_time": "2022-05-19T12:41:04.617Z"
   },
   {
    "duration": 1217,
    "start_time": "2022-05-19T12:41:38.304Z"
   },
   {
    "duration": 447,
    "start_time": "2022-05-19T12:41:39.523Z"
   },
   {
    "duration": 4,
    "start_time": "2022-05-19T12:41:39.972Z"
   },
   {
    "duration": 147,
    "start_time": "2022-05-19T12:41:39.978Z"
   },
   {
    "duration": 58,
    "start_time": "2022-05-19T12:41:40.127Z"
   },
   {
    "duration": 114,
    "start_time": "2022-05-19T12:41:40.187Z"
   },
   {
    "duration": 0,
    "start_time": "2022-05-19T12:41:40.304Z"
   },
   {
    "duration": 0,
    "start_time": "2022-05-19T12:41:40.311Z"
   },
   {
    "duration": 0,
    "start_time": "2022-05-19T12:41:40.312Z"
   },
   {
    "duration": 0,
    "start_time": "2022-05-19T12:41:40.313Z"
   },
   {
    "duration": 0,
    "start_time": "2022-05-19T12:41:40.315Z"
   },
   {
    "duration": 0,
    "start_time": "2022-05-19T12:41:40.316Z"
   },
   {
    "duration": 0,
    "start_time": "2022-05-19T12:41:40.317Z"
   },
   {
    "duration": 0,
    "start_time": "2022-05-19T12:41:40.319Z"
   },
   {
    "duration": 0,
    "start_time": "2022-05-19T12:41:40.320Z"
   },
   {
    "duration": 0,
    "start_time": "2022-05-19T12:41:40.321Z"
   },
   {
    "duration": 0,
    "start_time": "2022-05-19T12:41:40.322Z"
   },
   {
    "duration": 0,
    "start_time": "2022-05-19T12:41:40.325Z"
   },
   {
    "duration": 0,
    "start_time": "2022-05-19T12:41:40.325Z"
   },
   {
    "duration": 0,
    "start_time": "2022-05-19T12:41:40.326Z"
   },
   {
    "duration": 0,
    "start_time": "2022-05-19T12:41:40.327Z"
   },
   {
    "duration": 0,
    "start_time": "2022-05-19T12:41:40.328Z"
   },
   {
    "duration": 0,
    "start_time": "2022-05-19T12:41:40.329Z"
   },
   {
    "duration": 0,
    "start_time": "2022-05-19T12:41:40.330Z"
   },
   {
    "duration": 0,
    "start_time": "2022-05-19T12:41:40.331Z"
   },
   {
    "duration": 0,
    "start_time": "2022-05-19T12:41:40.333Z"
   },
   {
    "duration": 0,
    "start_time": "2022-05-19T12:41:40.334Z"
   },
   {
    "duration": 0,
    "start_time": "2022-05-19T12:41:40.335Z"
   },
   {
    "duration": 0,
    "start_time": "2022-05-19T12:41:40.336Z"
   },
   {
    "duration": 0,
    "start_time": "2022-05-19T12:41:40.337Z"
   },
   {
    "duration": 0,
    "start_time": "2022-05-19T12:41:40.338Z"
   },
   {
    "duration": 0,
    "start_time": "2022-05-19T12:41:40.339Z"
   },
   {
    "duration": 0,
    "start_time": "2022-05-19T12:41:40.339Z"
   },
   {
    "duration": 0,
    "start_time": "2022-05-19T12:41:40.340Z"
   },
   {
    "duration": 1293,
    "start_time": "2022-05-19T12:42:58.917Z"
   },
   {
    "duration": 122,
    "start_time": "2022-05-19T12:43:00.212Z"
   },
   {
    "duration": 4,
    "start_time": "2022-05-19T12:43:00.336Z"
   },
   {
    "duration": 124,
    "start_time": "2022-05-19T12:43:00.342Z"
   },
   {
    "duration": 61,
    "start_time": "2022-05-19T12:43:00.467Z"
   },
   {
    "duration": 22,
    "start_time": "2022-05-19T12:43:00.530Z"
   },
   {
    "duration": 25,
    "start_time": "2022-05-19T12:43:00.554Z"
   },
   {
    "duration": 6,
    "start_time": "2022-05-19T12:43:00.580Z"
   },
   {
    "duration": 15,
    "start_time": "2022-05-19T12:43:00.612Z"
   },
   {
    "duration": 33,
    "start_time": "2022-05-19T12:43:00.630Z"
   },
   {
    "duration": 49,
    "start_time": "2022-05-19T12:43:00.664Z"
   },
   {
    "duration": 7,
    "start_time": "2022-05-19T12:43:00.715Z"
   },
   {
    "duration": 24,
    "start_time": "2022-05-19T12:43:00.723Z"
   },
   {
    "duration": 46,
    "start_time": "2022-05-19T12:43:00.749Z"
   },
   {
    "duration": 17,
    "start_time": "2022-05-19T12:43:00.796Z"
   },
   {
    "duration": 17,
    "start_time": "2022-05-19T12:43:00.815Z"
   },
   {
    "duration": 48,
    "start_time": "2022-05-19T12:43:00.834Z"
   },
   {
    "duration": 19,
    "start_time": "2022-05-19T12:43:00.884Z"
   },
   {
    "duration": 78,
    "start_time": "2022-05-19T12:43:00.904Z"
   },
   {
    "duration": 3,
    "start_time": "2022-05-19T12:43:00.983Z"
   },
   {
    "duration": 17,
    "start_time": "2022-05-19T12:43:00.988Z"
   },
   {
    "duration": 1721,
    "start_time": "2022-05-19T12:43:01.007Z"
   },
   {
    "duration": 14,
    "start_time": "2022-05-19T12:43:02.729Z"
   },
   {
    "duration": 15,
    "start_time": "2022-05-19T12:43:02.745Z"
   },
   {
    "duration": 127,
    "start_time": "2022-05-19T12:43:02.761Z"
   },
   {
    "duration": 5,
    "start_time": "2022-05-19T12:43:02.889Z"
   },
   {
    "duration": 20,
    "start_time": "2022-05-19T12:43:02.896Z"
   },
   {
    "duration": 951,
    "start_time": "2022-05-19T12:43:02.920Z"
   },
   {
    "duration": 79,
    "start_time": "2022-05-19T12:43:03.873Z"
   },
   {
    "duration": 32,
    "start_time": "2022-05-19T12:43:03.954Z"
   },
   {
    "duration": 153,
    "start_time": "2022-05-19T12:43:03.988Z"
   },
   {
    "duration": 125,
    "start_time": "2022-05-19T12:43:04.143Z"
   },
   {
    "duration": 29,
    "start_time": "2022-05-19T12:43:04.269Z"
   },
   {
    "duration": 33,
    "start_time": "2022-05-19T12:43:04.300Z"
   },
   {
    "duration": 121,
    "start_time": "2022-05-19T12:51:54.593Z"
   },
   {
    "duration": 138,
    "start_time": "2022-05-19T12:52:07.158Z"
   },
   {
    "duration": 121,
    "start_time": "2022-05-19T12:52:15.050Z"
   },
   {
    "duration": 124,
    "start_time": "2022-05-19T12:52:20.288Z"
   },
   {
    "duration": 25,
    "start_time": "2022-05-19T12:54:18.658Z"
   },
   {
    "duration": 8,
    "start_time": "2022-05-19T13:00:29.705Z"
   },
   {
    "duration": 11,
    "start_time": "2022-05-19T13:00:36.827Z"
   },
   {
    "duration": 8,
    "start_time": "2022-05-19T13:00:48.478Z"
   },
   {
    "duration": 23,
    "start_time": "2022-05-19T13:01:15.665Z"
   },
   {
    "duration": 25,
    "start_time": "2022-05-19T13:02:31.898Z"
   },
   {
    "duration": 15,
    "start_time": "2022-05-19T13:04:19.742Z"
   },
   {
    "duration": 17,
    "start_time": "2022-05-19T13:05:34.577Z"
   },
   {
    "duration": 49,
    "start_time": "2022-05-19T13:05:39.391Z"
   },
   {
    "duration": 21,
    "start_time": "2022-05-19T13:06:11.246Z"
   },
   {
    "duration": 36,
    "start_time": "2022-05-19T13:06:31.012Z"
   },
   {
    "duration": 99,
    "start_time": "2022-05-19T13:29:01.716Z"
   },
   {
    "duration": 36,
    "start_time": "2022-05-19T13:29:05.206Z"
   },
   {
    "duration": 124,
    "start_time": "2022-05-19T13:29:11.231Z"
   },
   {
    "duration": 28,
    "start_time": "2022-05-19T13:29:19.929Z"
   },
   {
    "duration": 16,
    "start_time": "2022-05-19T13:30:27.758Z"
   },
   {
    "duration": 22,
    "start_time": "2022-05-19T13:33:56.607Z"
   },
   {
    "duration": 79,
    "start_time": "2022-05-19T13:43:18.900Z"
   },
   {
    "duration": 61,
    "start_time": "2022-05-19T13:43:40.919Z"
   },
   {
    "duration": 334,
    "start_time": "2022-05-19T13:43:57.042Z"
   },
   {
    "duration": 311,
    "start_time": "2022-05-19T13:44:48.419Z"
   },
   {
    "duration": 297,
    "start_time": "2022-05-19T13:45:00.802Z"
   },
   {
    "duration": 20,
    "start_time": "2022-05-19T13:55:12.638Z"
   },
   {
    "duration": 17,
    "start_time": "2022-05-19T14:22:07.503Z"
   },
   {
    "duration": 22,
    "start_time": "2022-05-19T14:22:56.408Z"
   },
   {
    "duration": 12,
    "start_time": "2022-05-19T14:23:04.185Z"
   },
   {
    "duration": 15,
    "start_time": "2022-05-19T14:23:13.375Z"
   },
   {
    "duration": 18,
    "start_time": "2022-05-19T15:26:24.785Z"
   },
   {
    "duration": 21,
    "start_time": "2022-05-19T15:27:10.197Z"
   },
   {
    "duration": 121,
    "start_time": "2022-05-19T15:31:21.642Z"
   },
   {
    "duration": 1164,
    "start_time": "2022-05-19T15:33:18.782Z"
   },
   {
    "duration": 126,
    "start_time": "2022-05-19T15:33:19.948Z"
   },
   {
    "duration": 4,
    "start_time": "2022-05-19T15:33:20.075Z"
   },
   {
    "duration": 170,
    "start_time": "2022-05-19T15:33:20.081Z"
   },
   {
    "duration": 47,
    "start_time": "2022-05-19T15:33:20.252Z"
   },
   {
    "duration": 46,
    "start_time": "2022-05-19T15:33:20.300Z"
   },
   {
    "duration": 37,
    "start_time": "2022-05-19T15:33:20.347Z"
   },
   {
    "duration": 4,
    "start_time": "2022-05-19T15:33:20.386Z"
   },
   {
    "duration": 41,
    "start_time": "2022-05-19T15:33:20.392Z"
   },
   {
    "duration": 52,
    "start_time": "2022-05-19T15:33:20.437Z"
   },
   {
    "duration": 34,
    "start_time": "2022-05-19T15:33:20.490Z"
   },
   {
    "duration": 13,
    "start_time": "2022-05-19T15:33:20.526Z"
   },
   {
    "duration": 39,
    "start_time": "2022-05-19T15:33:20.541Z"
   },
   {
    "duration": 59,
    "start_time": "2022-05-19T15:33:20.582Z"
   },
   {
    "duration": 15,
    "start_time": "2022-05-19T15:33:20.643Z"
   },
   {
    "duration": 57,
    "start_time": "2022-05-19T15:33:20.659Z"
   },
   {
    "duration": 59,
    "start_time": "2022-05-19T15:33:20.718Z"
   },
   {
    "duration": 32,
    "start_time": "2022-05-19T15:33:20.780Z"
   },
   {
    "duration": 99,
    "start_time": "2022-05-19T15:33:20.814Z"
   },
   {
    "duration": 4,
    "start_time": "2022-05-19T15:33:20.915Z"
   },
   {
    "duration": 43,
    "start_time": "2022-05-19T15:33:20.920Z"
   },
   {
    "duration": 1715,
    "start_time": "2022-05-19T15:33:20.965Z"
   },
   {
    "duration": 14,
    "start_time": "2022-05-19T15:33:22.682Z"
   },
   {
    "duration": 28,
    "start_time": "2022-05-19T15:33:22.698Z"
   },
   {
    "duration": 120,
    "start_time": "2022-05-19T15:33:22.728Z"
   },
   {
    "duration": 5,
    "start_time": "2022-05-19T15:33:22.850Z"
   },
   {
    "duration": 27,
    "start_time": "2022-05-19T15:33:22.857Z"
   },
   {
    "duration": 1087,
    "start_time": "2022-05-19T15:33:22.888Z"
   },
   {
    "duration": 83,
    "start_time": "2022-05-19T15:33:23.977Z"
   },
   {
    "duration": 30,
    "start_time": "2022-05-19T15:33:24.062Z"
   },
   {
    "duration": 146,
    "start_time": "2022-05-19T15:33:24.093Z"
   },
   {
    "duration": 132,
    "start_time": "2022-05-19T15:33:24.240Z"
   },
   {
    "duration": 39,
    "start_time": "2022-05-19T15:33:24.374Z"
   },
   {
    "duration": 24,
    "start_time": "2022-05-19T15:33:24.414Z"
   },
   {
    "duration": 326,
    "start_time": "2022-05-19T15:33:24.439Z"
   },
   {
    "duration": 21,
    "start_time": "2022-05-19T15:33:24.766Z"
   },
   {
    "duration": 131,
    "start_time": "2022-05-19T15:33:24.789Z"
   },
   {
    "duration": 2,
    "start_time": "2022-05-19T15:33:24.921Z"
   },
   {
    "duration": 99,
    "start_time": "2022-05-19T15:33:32.497Z"
   },
   {
    "duration": 117,
    "start_time": "2022-05-19T15:34:24.718Z"
   },
   {
    "duration": 9,
    "start_time": "2022-05-19T15:34:36.630Z"
   },
   {
    "duration": 15,
    "start_time": "2022-05-19T15:34:44.891Z"
   },
   {
    "duration": 330,
    "start_time": "2022-05-19T15:35:07.685Z"
   },
   {
    "duration": 99,
    "start_time": "2022-05-19T15:35:17.931Z"
   },
   {
    "duration": 5,
    "start_time": "2022-05-19T15:36:06.681Z"
   },
   {
    "duration": 20,
    "start_time": "2022-05-19T15:36:18.805Z"
   },
   {
    "duration": 134,
    "start_time": "2022-05-19T15:36:47.109Z"
   },
   {
    "duration": 15,
    "start_time": "2022-05-19T15:37:00.591Z"
   },
   {
    "duration": 346,
    "start_time": "2022-05-19T15:37:31.226Z"
   },
   {
    "duration": 20,
    "start_time": "2022-05-19T15:38:36.871Z"
   },
   {
    "duration": 19,
    "start_time": "2022-05-19T15:38:54.176Z"
   },
   {
    "duration": 12,
    "start_time": "2022-05-19T15:39:54.682Z"
   },
   {
    "duration": 23,
    "start_time": "2022-05-19T15:40:04.398Z"
   },
   {
    "duration": 17,
    "start_time": "2022-05-19T15:40:18.798Z"
   },
   {
    "duration": 15,
    "start_time": "2022-05-19T15:40:27.763Z"
   },
   {
    "duration": 97,
    "start_time": "2022-05-19T15:40:47.596Z"
   },
   {
    "duration": 117,
    "start_time": "2022-05-19T15:41:44.396Z"
   },
   {
    "duration": 109,
    "start_time": "2022-05-19T15:42:09.845Z"
   },
   {
    "duration": 152,
    "start_time": "2022-05-19T15:42:23.803Z"
   },
   {
    "duration": 124,
    "start_time": "2022-05-19T15:42:38.866Z"
   },
   {
    "duration": 14,
    "start_time": "2022-05-19T15:42:57.675Z"
   },
   {
    "duration": 17,
    "start_time": "2022-05-19T15:44:14.694Z"
   },
   {
    "duration": 96,
    "start_time": "2022-05-19T15:45:04.978Z"
   },
   {
    "duration": 142,
    "start_time": "2022-05-19T15:46:21.704Z"
   },
   {
    "duration": 108,
    "start_time": "2022-05-19T15:46:26.975Z"
   },
   {
    "duration": 6,
    "start_time": "2022-05-19T15:46:43.104Z"
   },
   {
    "duration": 24,
    "start_time": "2022-05-19T15:47:40.191Z"
   },
   {
    "duration": 19,
    "start_time": "2022-05-19T15:47:58.362Z"
   },
   {
    "duration": 233,
    "start_time": "2022-05-19T15:48:41.933Z"
   },
   {
    "duration": 323,
    "start_time": "2022-05-19T15:50:16.590Z"
   },
   {
    "duration": 21,
    "start_time": "2022-05-19T15:50:20.599Z"
   },
   {
    "duration": 202,
    "start_time": "2022-05-19T15:53:21.049Z"
   },
   {
    "duration": 3,
    "start_time": "2022-05-19T15:57:07.773Z"
   },
   {
    "duration": 22,
    "start_time": "2022-05-19T15:57:15.334Z"
   },
   {
    "duration": 189,
    "start_time": "2022-05-19T16:03:37.690Z"
   },
   {
    "duration": 183,
    "start_time": "2022-05-19T16:03:53.043Z"
   },
   {
    "duration": 100,
    "start_time": "2022-05-19T16:26:59.663Z"
   },
   {
    "duration": 9,
    "start_time": "2022-05-19T16:28:15.411Z"
   },
   {
    "duration": 22,
    "start_time": "2022-05-19T16:28:30.147Z"
   },
   {
    "duration": 12,
    "start_time": "2022-05-19T16:28:51.792Z"
   },
   {
    "duration": 12,
    "start_time": "2022-05-19T16:29:00.241Z"
   },
   {
    "duration": 16,
    "start_time": "2022-05-19T16:29:08.499Z"
   },
   {
    "duration": 9,
    "start_time": "2022-05-19T16:32:24.855Z"
   },
   {
    "duration": 7,
    "start_time": "2022-05-19T16:35:04.283Z"
   },
   {
    "duration": 33,
    "start_time": "2022-05-19T16:42:02.218Z"
   },
   {
    "duration": 22,
    "start_time": "2022-05-19T16:42:43.464Z"
   },
   {
    "duration": 31,
    "start_time": "2022-05-19T16:43:11.051Z"
   },
   {
    "duration": 22,
    "start_time": "2022-05-19T16:46:53.392Z"
   },
   {
    "duration": 36,
    "start_time": "2022-05-19T16:47:57.254Z"
   },
   {
    "duration": 94,
    "start_time": "2022-05-19T16:48:06.671Z"
   },
   {
    "duration": 20,
    "start_time": "2022-05-19T16:50:12.079Z"
   },
   {
    "duration": 74,
    "start_time": "2022-05-19T16:53:58.699Z"
   },
   {
    "duration": 753,
    "start_time": "2022-05-19T17:02:35.998Z"
   },
   {
    "duration": 12,
    "start_time": "2022-05-19T17:02:52.085Z"
   },
   {
    "duration": 8,
    "start_time": "2022-05-19T17:03:52.966Z"
   },
   {
    "duration": 13,
    "start_time": "2022-05-19T17:05:02.672Z"
   },
   {
    "duration": 1187,
    "start_time": "2022-05-19T17:21:30.416Z"
   },
   {
    "duration": 144,
    "start_time": "2022-05-19T17:21:31.606Z"
   },
   {
    "duration": 3,
    "start_time": "2022-05-19T17:21:31.752Z"
   },
   {
    "duration": 117,
    "start_time": "2022-05-19T17:21:31.757Z"
   },
   {
    "duration": 65,
    "start_time": "2022-05-19T17:21:31.876Z"
   },
   {
    "duration": 25,
    "start_time": "2022-05-19T17:21:31.943Z"
   },
   {
    "duration": 25,
    "start_time": "2022-05-19T17:21:31.971Z"
   },
   {
    "duration": 6,
    "start_time": "2022-05-19T17:21:32.012Z"
   },
   {
    "duration": 26,
    "start_time": "2022-05-19T17:21:32.020Z"
   },
   {
    "duration": 33,
    "start_time": "2022-05-19T17:21:32.048Z"
   },
   {
    "duration": 50,
    "start_time": "2022-05-19T17:21:32.083Z"
   },
   {
    "duration": 8,
    "start_time": "2022-05-19T17:21:32.134Z"
   },
   {
    "duration": 21,
    "start_time": "2022-05-19T17:21:32.144Z"
   },
   {
    "duration": 27,
    "start_time": "2022-05-19T17:21:32.167Z"
   },
   {
    "duration": 28,
    "start_time": "2022-05-19T17:21:32.195Z"
   },
   {
    "duration": 18,
    "start_time": "2022-05-19T17:21:32.225Z"
   },
   {
    "duration": 20,
    "start_time": "2022-05-19T17:21:32.245Z"
   },
   {
    "duration": 15,
    "start_time": "2022-05-19T17:21:32.266Z"
   },
   {
    "duration": 105,
    "start_time": "2022-05-19T17:21:32.282Z"
   },
   {
    "duration": 4,
    "start_time": "2022-05-19T17:21:32.389Z"
   },
   {
    "duration": 17,
    "start_time": "2022-05-19T17:21:32.395Z"
   },
   {
    "duration": 1666,
    "start_time": "2022-05-19T17:21:32.414Z"
   },
   {
    "duration": 14,
    "start_time": "2022-05-19T17:21:34.081Z"
   },
   {
    "duration": 22,
    "start_time": "2022-05-19T17:21:34.096Z"
   },
   {
    "duration": 131,
    "start_time": "2022-05-19T17:21:34.120Z"
   },
   {
    "duration": 5,
    "start_time": "2022-05-19T17:21:34.253Z"
   },
   {
    "duration": 9,
    "start_time": "2022-05-19T17:21:34.260Z"
   },
   {
    "duration": 998,
    "start_time": "2022-05-19T17:21:34.273Z"
   },
   {
    "duration": 77,
    "start_time": "2022-05-19T17:21:35.273Z"
   },
   {
    "duration": 28,
    "start_time": "2022-05-19T17:21:35.352Z"
   },
   {
    "duration": 137,
    "start_time": "2022-05-19T17:21:35.382Z"
   },
   {
    "duration": 126,
    "start_time": "2022-05-19T17:21:35.521Z"
   },
   {
    "duration": 25,
    "start_time": "2022-05-19T17:21:35.649Z"
   },
   {
    "duration": 21,
    "start_time": "2022-05-19T17:21:35.675Z"
   },
   {
    "duration": 302,
    "start_time": "2022-05-19T17:21:35.711Z"
   },
   {
    "duration": 19,
    "start_time": "2022-05-19T17:21:36.015Z"
   },
   {
    "duration": 15,
    "start_time": "2022-05-19T17:21:36.036Z"
   },
   {
    "duration": 110,
    "start_time": "2022-05-19T17:21:36.053Z"
   },
   {
    "duration": 17,
    "start_time": "2022-05-19T17:21:36.165Z"
   },
   {
    "duration": 41,
    "start_time": "2022-05-19T17:21:36.185Z"
   },
   {
    "duration": 84,
    "start_time": "2022-05-19T17:21:36.228Z"
   },
   {
    "duration": 16,
    "start_time": "2022-05-19T17:21:36.314Z"
   },
   {
    "duration": 191,
    "start_time": "2022-05-19T17:21:36.331Z"
   },
   {
    "duration": 2,
    "start_time": "2022-05-19T17:21:36.524Z"
   },
   {
    "duration": 83,
    "start_time": "2022-05-19T17:22:52.175Z"
   },
   {
    "duration": 15,
    "start_time": "2022-05-19T17:23:45.551Z"
   },
   {
    "duration": 7,
    "start_time": "2022-05-19T17:31:47.978Z"
   },
   {
    "duration": 16,
    "start_time": "2022-05-19T17:43:59.565Z"
   },
   {
    "duration": 1247,
    "start_time": "2022-05-19T17:44:11.252Z"
   },
   {
    "duration": 128,
    "start_time": "2022-05-19T17:44:12.501Z"
   },
   {
    "duration": 4,
    "start_time": "2022-05-19T17:44:12.631Z"
   },
   {
    "duration": 130,
    "start_time": "2022-05-19T17:44:12.637Z"
   },
   {
    "duration": 58,
    "start_time": "2022-05-19T17:44:12.769Z"
   },
   {
    "duration": 30,
    "start_time": "2022-05-19T17:44:12.829Z"
   },
   {
    "duration": 9,
    "start_time": "2022-05-19T17:44:12.861Z"
   },
   {
    "duration": 51,
    "start_time": "2022-05-19T17:44:12.872Z"
   },
   {
    "duration": 8,
    "start_time": "2022-05-19T17:44:12.925Z"
   },
   {
    "duration": 24,
    "start_time": "2022-05-19T17:44:12.936Z"
   },
   {
    "duration": 50,
    "start_time": "2022-05-19T17:44:12.962Z"
   },
   {
    "duration": 34,
    "start_time": "2022-05-19T17:44:13.014Z"
   },
   {
    "duration": 9,
    "start_time": "2022-05-19T17:44:13.050Z"
   },
   {
    "duration": 18,
    "start_time": "2022-05-19T17:44:13.061Z"
   },
   {
    "duration": 49,
    "start_time": "2022-05-19T17:44:13.081Z"
   },
   {
    "duration": 14,
    "start_time": "2022-05-19T17:44:13.133Z"
   },
   {
    "duration": 12,
    "start_time": "2022-05-19T17:44:13.149Z"
   },
   {
    "duration": 16,
    "start_time": "2022-05-19T17:44:13.163Z"
   },
   {
    "duration": 40,
    "start_time": "2022-05-19T17:44:13.181Z"
   },
   {
    "duration": 98,
    "start_time": "2022-05-19T17:44:13.223Z"
   },
   {
    "duration": 4,
    "start_time": "2022-05-19T17:44:13.322Z"
   },
   {
    "duration": 10,
    "start_time": "2022-05-19T17:44:13.328Z"
   },
   {
    "duration": 1610,
    "start_time": "2022-05-19T17:44:13.341Z"
   },
   {
    "duration": 14,
    "start_time": "2022-05-19T17:44:14.952Z"
   },
   {
    "duration": 11,
    "start_time": "2022-05-19T17:44:14.967Z"
   },
   {
    "duration": 146,
    "start_time": "2022-05-19T17:44:14.980Z"
   },
   {
    "duration": 7,
    "start_time": "2022-05-19T17:44:15.128Z"
   },
   {
    "duration": 10,
    "start_time": "2022-05-19T17:44:15.140Z"
   },
   {
    "duration": 1097,
    "start_time": "2022-05-19T17:44:15.151Z"
   },
   {
    "duration": 72,
    "start_time": "2022-05-19T17:44:16.250Z"
   },
   {
    "duration": 28,
    "start_time": "2022-05-19T17:44:16.324Z"
   },
   {
    "duration": 145,
    "start_time": "2022-05-19T17:44:16.354Z"
   },
   {
    "duration": 233,
    "start_time": "2022-05-19T17:44:16.501Z"
   },
   {
    "duration": 17,
    "start_time": "2022-05-19T17:44:16.735Z"
   },
   {
    "duration": 22,
    "start_time": "2022-05-19T17:44:16.754Z"
   },
   {
    "duration": 306,
    "start_time": "2022-05-19T17:44:16.777Z"
   },
   {
    "duration": 28,
    "start_time": "2022-05-19T17:44:17.085Z"
   },
   {
    "duration": 5,
    "start_time": "2022-05-19T17:44:17.115Z"
   },
   {
    "duration": 127,
    "start_time": "2022-05-19T17:44:17.121Z"
   },
   {
    "duration": 13,
    "start_time": "2022-05-19T17:44:17.250Z"
   },
   {
    "duration": 19,
    "start_time": "2022-05-19T17:44:17.269Z"
   },
   {
    "duration": 37,
    "start_time": "2022-05-19T17:44:17.289Z"
   },
   {
    "duration": 18,
    "start_time": "2022-05-19T17:44:17.329Z"
   },
   {
    "duration": 1192,
    "start_time": "2022-05-19T17:51:38.474Z"
   },
   {
    "duration": 135,
    "start_time": "2022-05-19T17:51:39.668Z"
   },
   {
    "duration": 4,
    "start_time": "2022-05-19T17:51:39.804Z"
   },
   {
    "duration": 149,
    "start_time": "2022-05-19T17:51:39.809Z"
   },
   {
    "duration": 67,
    "start_time": "2022-05-19T17:51:39.960Z"
   },
   {
    "duration": 6,
    "start_time": "2022-05-19T17:51:40.031Z"
   },
   {
    "duration": 3,
    "start_time": "2022-05-19T17:51:40.039Z"
   },
   {
    "duration": 35,
    "start_time": "2022-05-19T17:51:40.044Z"
   },
   {
    "duration": 24,
    "start_time": "2022-05-19T17:51:40.081Z"
   },
   {
    "duration": 11,
    "start_time": "2022-05-19T17:51:40.107Z"
   },
   {
    "duration": 39,
    "start_time": "2022-05-19T17:51:40.120Z"
   },
   {
    "duration": 31,
    "start_time": "2022-05-19T17:51:40.161Z"
   },
   {
    "duration": 54,
    "start_time": "2022-05-19T17:51:40.194Z"
   },
   {
    "duration": 8,
    "start_time": "2022-05-19T17:51:40.251Z"
   },
   {
    "duration": 22,
    "start_time": "2022-05-19T17:51:40.261Z"
   },
   {
    "duration": 24,
    "start_time": "2022-05-19T17:51:40.284Z"
   },
   {
    "duration": 14,
    "start_time": "2022-05-19T17:51:40.310Z"
   },
   {
    "duration": 42,
    "start_time": "2022-05-19T17:51:40.329Z"
   },
   {
    "duration": 20,
    "start_time": "2022-05-19T17:51:40.372Z"
   },
   {
    "duration": 12,
    "start_time": "2022-05-19T17:51:40.393Z"
   },
   {
    "duration": 82,
    "start_time": "2022-05-19T17:51:40.407Z"
   },
   {
    "duration": 4,
    "start_time": "2022-05-19T17:51:40.490Z"
   },
   {
    "duration": 6,
    "start_time": "2022-05-19T17:51:40.495Z"
   },
   {
    "duration": 1846,
    "start_time": "2022-05-19T17:51:40.502Z"
   },
   {
    "duration": 14,
    "start_time": "2022-05-19T17:51:42.350Z"
   },
   {
    "duration": 12,
    "start_time": "2022-05-19T17:51:42.366Z"
   },
   {
    "duration": 162,
    "start_time": "2022-05-19T17:51:42.380Z"
   },
   {
    "duration": 6,
    "start_time": "2022-05-19T17:51:42.545Z"
   },
   {
    "duration": 9,
    "start_time": "2022-05-19T17:51:42.552Z"
   },
   {
    "duration": 1156,
    "start_time": "2022-05-19T17:51:42.562Z"
   },
   {
    "duration": 82,
    "start_time": "2022-05-19T17:51:43.720Z"
   },
   {
    "duration": 37,
    "start_time": "2022-05-19T17:51:43.804Z"
   },
   {
    "duration": 141,
    "start_time": "2022-05-19T17:51:43.845Z"
   },
   {
    "duration": 129,
    "start_time": "2022-05-19T17:51:43.988Z"
   },
   {
    "duration": 34,
    "start_time": "2022-05-19T17:51:44.119Z"
   },
   {
    "duration": 22,
    "start_time": "2022-05-19T17:51:44.155Z"
   },
   {
    "duration": 371,
    "start_time": "2022-05-19T17:51:44.179Z"
   },
   {
    "duration": 20,
    "start_time": "2022-05-19T17:51:44.551Z"
   },
   {
    "duration": 4,
    "start_time": "2022-05-19T17:51:44.573Z"
   },
   {
    "duration": 122,
    "start_time": "2022-05-19T17:51:44.578Z"
   },
   {
    "duration": 36,
    "start_time": "2022-05-19T17:51:44.701Z"
   },
   {
    "duration": 29,
    "start_time": "2022-05-19T17:51:44.739Z"
   },
   {
    "duration": 95,
    "start_time": "2022-05-19T17:51:44.770Z"
   },
   {
    "duration": 18,
    "start_time": "2022-05-19T17:51:44.867Z"
   },
   {
    "duration": 16,
    "start_time": "2022-05-19T17:52:58.342Z"
   },
   {
    "duration": 29,
    "start_time": "2022-05-19T17:53:02.543Z"
   },
   {
    "duration": 37,
    "start_time": "2022-05-19T17:53:18.992Z"
   },
   {
    "duration": 30,
    "start_time": "2022-05-19T17:53:22.681Z"
   },
   {
    "duration": 27,
    "start_time": "2022-05-19T17:53:34.130Z"
   },
   {
    "duration": 83,
    "start_time": "2022-05-19T17:54:21.835Z"
   },
   {
    "duration": 43,
    "start_time": "2022-05-19T17:54:35.331Z"
   },
   {
    "duration": 1258,
    "start_time": "2022-05-19T17:54:51.493Z"
   },
   {
    "duration": 141,
    "start_time": "2022-05-19T17:54:52.753Z"
   },
   {
    "duration": 4,
    "start_time": "2022-05-19T17:54:52.896Z"
   },
   {
    "duration": 143,
    "start_time": "2022-05-19T17:54:52.902Z"
   },
   {
    "duration": 50,
    "start_time": "2022-05-19T17:54:53.047Z"
   },
   {
    "duration": 68,
    "start_time": "2022-05-19T17:54:53.099Z"
   },
   {
    "duration": 102,
    "start_time": "2022-05-19T17:54:53.169Z"
   },
   {
    "duration": 2,
    "start_time": "2022-05-19T17:54:53.273Z"
   },
   {
    "duration": 24,
    "start_time": "2022-05-19T17:54:53.277Z"
   },
   {
    "duration": 31,
    "start_time": "2022-05-19T17:54:53.304Z"
   },
   {
    "duration": 19,
    "start_time": "2022-05-19T17:54:53.337Z"
   },
   {
    "duration": 13,
    "start_time": "2022-05-19T17:54:53.357Z"
   },
   {
    "duration": 45,
    "start_time": "2022-05-19T17:54:53.372Z"
   },
   {
    "duration": 43,
    "start_time": "2022-05-19T17:54:53.424Z"
   },
   {
    "duration": 8,
    "start_time": "2022-05-19T17:54:53.468Z"
   },
   {
    "duration": 19,
    "start_time": "2022-05-19T17:54:53.477Z"
   },
   {
    "duration": 36,
    "start_time": "2022-05-19T17:54:53.498Z"
   },
   {
    "duration": 22,
    "start_time": "2022-05-19T17:54:53.536Z"
   },
   {
    "duration": 16,
    "start_time": "2022-05-19T17:54:53.560Z"
   },
   {
    "duration": 18,
    "start_time": "2022-05-19T17:54:53.577Z"
   },
   {
    "duration": 23,
    "start_time": "2022-05-19T17:54:53.596Z"
   },
   {
    "duration": 79,
    "start_time": "2022-05-19T17:54:53.624Z"
   },
   {
    "duration": 14,
    "start_time": "2022-05-19T17:54:53.705Z"
   },
   {
    "duration": 42,
    "start_time": "2022-05-19T17:54:53.724Z"
   },
   {
    "duration": 1828,
    "start_time": "2022-05-19T17:54:53.768Z"
   },
   {
    "duration": 17,
    "start_time": "2022-05-19T17:54:55.598Z"
   },
   {
    "duration": 28,
    "start_time": "2022-05-19T17:54:55.616Z"
   },
   {
    "duration": 141,
    "start_time": "2022-05-19T17:54:55.648Z"
   },
   {
    "duration": 5,
    "start_time": "2022-05-19T17:54:55.791Z"
   },
   {
    "duration": 25,
    "start_time": "2022-05-19T17:54:55.797Z"
   },
   {
    "duration": 1191,
    "start_time": "2022-05-19T17:54:55.824Z"
   },
   {
    "duration": 104,
    "start_time": "2022-05-19T17:54:57.020Z"
   },
   {
    "duration": 39,
    "start_time": "2022-05-19T17:54:57.138Z"
   },
   {
    "duration": 180,
    "start_time": "2022-05-19T17:54:57.179Z"
   },
   {
    "duration": 151,
    "start_time": "2022-05-19T17:54:57.361Z"
   },
   {
    "duration": 46,
    "start_time": "2022-05-19T17:54:57.515Z"
   },
   {
    "duration": 33,
    "start_time": "2022-05-19T17:54:57.563Z"
   },
   {
    "duration": 385,
    "start_time": "2022-05-19T17:54:57.598Z"
   },
   {
    "duration": 47,
    "start_time": "2022-05-19T17:54:57.985Z"
   },
   {
    "duration": 12,
    "start_time": "2022-05-19T17:54:58.036Z"
   },
   {
    "duration": 115,
    "start_time": "2022-05-19T17:54:58.050Z"
   },
   {
    "duration": 21,
    "start_time": "2022-05-19T17:54:58.167Z"
   },
   {
    "duration": 31,
    "start_time": "2022-05-19T17:54:58.190Z"
   },
   {
    "duration": 127,
    "start_time": "2022-05-19T17:54:58.223Z"
   },
   {
    "duration": 19,
    "start_time": "2022-05-19T17:54:58.352Z"
   },
   {
    "duration": 83,
    "start_time": "2022-05-19T17:55:32.300Z"
   },
   {
    "duration": 1206,
    "start_time": "2022-05-19T17:57:54.999Z"
   },
   {
    "duration": 147,
    "start_time": "2022-05-19T17:57:56.207Z"
   },
   {
    "duration": 6,
    "start_time": "2022-05-19T17:57:56.355Z"
   },
   {
    "duration": 113,
    "start_time": "2022-05-19T17:57:56.363Z"
   },
   {
    "duration": 69,
    "start_time": "2022-05-19T17:57:56.477Z"
   },
   {
    "duration": 45,
    "start_time": "2022-05-19T17:57:56.547Z"
   },
   {
    "duration": 51,
    "start_time": "2022-05-19T17:57:56.594Z"
   },
   {
    "duration": 135,
    "start_time": "2022-05-19T17:57:56.646Z"
   },
   {
    "duration": 2,
    "start_time": "2022-05-19T17:57:56.783Z"
   },
   {
    "duration": 30,
    "start_time": "2022-05-19T17:57:56.788Z"
   },
   {
    "duration": 44,
    "start_time": "2022-05-19T17:57:56.820Z"
   },
   {
    "duration": 7,
    "start_time": "2022-05-19T17:57:56.866Z"
   },
   {
    "duration": 36,
    "start_time": "2022-05-19T17:57:56.874Z"
   },
   {
    "duration": 54,
    "start_time": "2022-05-19T17:57:56.912Z"
   },
   {
    "duration": 53,
    "start_time": "2022-05-19T17:57:56.968Z"
   },
   {
    "duration": 9,
    "start_time": "2022-05-19T17:57:57.026Z"
   },
   {
    "duration": 22,
    "start_time": "2022-05-19T17:57:57.037Z"
   },
   {
    "duration": 21,
    "start_time": "2022-05-19T17:57:57.061Z"
   },
   {
    "duration": 12,
    "start_time": "2022-05-19T17:57:57.083Z"
   },
   {
    "duration": 31,
    "start_time": "2022-05-19T17:57:57.116Z"
   },
   {
    "duration": 19,
    "start_time": "2022-05-19T17:57:57.149Z"
   },
   {
    "duration": 13,
    "start_time": "2022-05-19T17:57:57.170Z"
   },
   {
    "duration": 99,
    "start_time": "2022-05-19T17:57:57.185Z"
   },
   {
    "duration": 6,
    "start_time": "2022-05-19T17:57:57.286Z"
   },
   {
    "duration": 14,
    "start_time": "2022-05-19T17:57:57.293Z"
   },
   {
    "duration": 1720,
    "start_time": "2022-05-19T17:57:57.309Z"
   },
   {
    "duration": 15,
    "start_time": "2022-05-19T17:57:59.033Z"
   },
   {
    "duration": 11,
    "start_time": "2022-05-19T17:57:59.051Z"
   },
   {
    "duration": 127,
    "start_time": "2022-05-19T17:57:59.064Z"
   },
   {
    "duration": 5,
    "start_time": "2022-05-19T17:57:59.193Z"
   },
   {
    "duration": 43,
    "start_time": "2022-05-19T17:57:59.199Z"
   },
   {
    "duration": 1128,
    "start_time": "2022-05-19T17:57:59.244Z"
   },
   {
    "duration": 86,
    "start_time": "2022-05-19T17:58:00.374Z"
   },
   {
    "duration": 28,
    "start_time": "2022-05-19T17:58:00.461Z"
   },
   {
    "duration": 154,
    "start_time": "2022-05-19T17:58:00.491Z"
   },
   {
    "duration": 137,
    "start_time": "2022-05-19T17:58:00.647Z"
   },
   {
    "duration": 42,
    "start_time": "2022-05-19T17:58:00.786Z"
   },
   {
    "duration": 34,
    "start_time": "2022-05-19T17:58:00.830Z"
   },
   {
    "duration": 368,
    "start_time": "2022-05-19T17:58:00.866Z"
   },
   {
    "duration": 26,
    "start_time": "2022-05-19T17:58:01.235Z"
   },
   {
    "duration": 28,
    "start_time": "2022-05-19T17:58:01.263Z"
   },
   {
    "duration": 122,
    "start_time": "2022-05-19T17:58:01.292Z"
   },
   {
    "duration": 25,
    "start_time": "2022-05-19T17:58:01.416Z"
   },
   {
    "duration": 26,
    "start_time": "2022-05-19T17:58:01.443Z"
   },
   {
    "duration": 134,
    "start_time": "2022-05-19T17:58:01.471Z"
   },
   {
    "duration": 38,
    "start_time": "2022-05-19T17:58:01.607Z"
   },
   {
    "duration": 150,
    "start_time": "2022-05-19T17:59:52.103Z"
   },
   {
    "duration": 1205,
    "start_time": "2022-05-19T18:04:10.934Z"
   },
   {
    "duration": 129,
    "start_time": "2022-05-19T18:04:12.141Z"
   },
   {
    "duration": 3,
    "start_time": "2022-05-19T18:04:12.272Z"
   },
   {
    "duration": 105,
    "start_time": "2022-05-19T18:04:12.277Z"
   },
   {
    "duration": 55,
    "start_time": "2022-05-19T18:04:12.383Z"
   },
   {
    "duration": 30,
    "start_time": "2022-05-19T18:04:12.440Z"
   },
   {
    "duration": 46,
    "start_time": "2022-05-19T18:04:12.472Z"
   },
   {
    "duration": 6,
    "start_time": "2022-05-19T18:04:12.519Z"
   },
   {
    "duration": 27,
    "start_time": "2022-05-19T18:04:12.527Z"
   },
   {
    "duration": 56,
    "start_time": "2022-05-19T18:04:12.558Z"
   },
   {
    "duration": 138,
    "start_time": "2022-05-19T18:04:12.616Z"
   },
   {
    "duration": 0,
    "start_time": "2022-05-19T18:04:12.756Z"
   },
   {
    "duration": 0,
    "start_time": "2022-05-19T18:04:12.758Z"
   },
   {
    "duration": 0,
    "start_time": "2022-05-19T18:04:12.760Z"
   },
   {
    "duration": 0,
    "start_time": "2022-05-19T18:04:12.761Z"
   },
   {
    "duration": 0,
    "start_time": "2022-05-19T18:04:12.763Z"
   },
   {
    "duration": 0,
    "start_time": "2022-05-19T18:04:12.767Z"
   },
   {
    "duration": 0,
    "start_time": "2022-05-19T18:04:12.769Z"
   },
   {
    "duration": 0,
    "start_time": "2022-05-19T18:04:12.771Z"
   },
   {
    "duration": 0,
    "start_time": "2022-05-19T18:04:12.773Z"
   },
   {
    "duration": 0,
    "start_time": "2022-05-19T18:04:12.775Z"
   },
   {
    "duration": 0,
    "start_time": "2022-05-19T18:04:12.776Z"
   },
   {
    "duration": 0,
    "start_time": "2022-05-19T18:04:12.778Z"
   },
   {
    "duration": 0,
    "start_time": "2022-05-19T18:04:12.779Z"
   },
   {
    "duration": 0,
    "start_time": "2022-05-19T18:04:12.811Z"
   },
   {
    "duration": 0,
    "start_time": "2022-05-19T18:04:12.813Z"
   },
   {
    "duration": 0,
    "start_time": "2022-05-19T18:04:12.814Z"
   },
   {
    "duration": 0,
    "start_time": "2022-05-19T18:04:12.816Z"
   },
   {
    "duration": 0,
    "start_time": "2022-05-19T18:04:12.817Z"
   },
   {
    "duration": 0,
    "start_time": "2022-05-19T18:04:12.819Z"
   },
   {
    "duration": 0,
    "start_time": "2022-05-19T18:04:12.820Z"
   },
   {
    "duration": 0,
    "start_time": "2022-05-19T18:04:12.821Z"
   },
   {
    "duration": 0,
    "start_time": "2022-05-19T18:04:12.822Z"
   },
   {
    "duration": 0,
    "start_time": "2022-05-19T18:04:12.824Z"
   },
   {
    "duration": 0,
    "start_time": "2022-05-19T18:04:12.826Z"
   },
   {
    "duration": 0,
    "start_time": "2022-05-19T18:04:12.827Z"
   },
   {
    "duration": 0,
    "start_time": "2022-05-19T18:04:12.828Z"
   },
   {
    "duration": 0,
    "start_time": "2022-05-19T18:04:12.829Z"
   },
   {
    "duration": 0,
    "start_time": "2022-05-19T18:04:12.830Z"
   },
   {
    "duration": 0,
    "start_time": "2022-05-19T18:04:12.832Z"
   },
   {
    "duration": 0,
    "start_time": "2022-05-19T18:04:12.833Z"
   },
   {
    "duration": 0,
    "start_time": "2022-05-19T18:04:12.835Z"
   },
   {
    "duration": 0,
    "start_time": "2022-05-19T18:04:12.836Z"
   },
   {
    "duration": 0,
    "start_time": "2022-05-19T18:04:12.838Z"
   },
   {
    "duration": 0,
    "start_time": "2022-05-19T18:04:12.839Z"
   },
   {
    "duration": 0,
    "start_time": "2022-05-19T18:04:12.841Z"
   },
   {
    "duration": 1096,
    "start_time": "2022-05-19T18:05:03.756Z"
   },
   {
    "duration": 127,
    "start_time": "2022-05-19T18:05:04.854Z"
   },
   {
    "duration": 4,
    "start_time": "2022-05-19T18:05:04.982Z"
   },
   {
    "duration": 135,
    "start_time": "2022-05-19T18:05:04.989Z"
   },
   {
    "duration": 94,
    "start_time": "2022-05-19T18:05:05.126Z"
   },
   {
    "duration": 24,
    "start_time": "2022-05-19T18:05:05.223Z"
   },
   {
    "duration": 26,
    "start_time": "2022-05-19T18:05:05.249Z"
   },
   {
    "duration": 37,
    "start_time": "2022-05-19T18:05:05.276Z"
   },
   {
    "duration": 13,
    "start_time": "2022-05-19T18:05:05.314Z"
   },
   {
    "duration": 33,
    "start_time": "2022-05-19T18:05:05.329Z"
   },
   {
    "duration": 68,
    "start_time": "2022-05-19T18:05:05.363Z"
   },
   {
    "duration": 30,
    "start_time": "2022-05-19T18:05:05.432Z"
   },
   {
    "duration": 106,
    "start_time": "2022-05-19T18:05:05.465Z"
   },
   {
    "duration": 3,
    "start_time": "2022-05-19T18:05:05.573Z"
   },
   {
    "duration": 50,
    "start_time": "2022-05-19T18:05:05.578Z"
   },
   {
    "duration": 8,
    "start_time": "2022-05-19T18:05:05.630Z"
   },
   {
    "duration": 22,
    "start_time": "2022-05-19T18:05:05.640Z"
   },
   {
    "duration": 21,
    "start_time": "2022-05-19T18:05:05.663Z"
   },
   {
    "duration": 32,
    "start_time": "2022-05-19T18:05:05.686Z"
   },
   {
    "duration": 16,
    "start_time": "2022-05-19T18:05:05.720Z"
   },
   {
    "duration": 20,
    "start_time": "2022-05-19T18:05:05.738Z"
   },
   {
    "duration": 16,
    "start_time": "2022-05-19T18:05:05.761Z"
   },
   {
    "duration": 105,
    "start_time": "2022-05-19T18:05:05.780Z"
   },
   {
    "duration": 4,
    "start_time": "2022-05-19T18:05:05.886Z"
   },
   {
    "duration": 7,
    "start_time": "2022-05-19T18:05:05.891Z"
   },
   {
    "duration": 1669,
    "start_time": "2022-05-19T18:05:05.913Z"
   },
   {
    "duration": 14,
    "start_time": "2022-05-19T18:05:07.584Z"
   },
   {
    "duration": 21,
    "start_time": "2022-05-19T18:05:07.602Z"
   },
   {
    "duration": 125,
    "start_time": "2022-05-19T18:05:07.624Z"
   },
   {
    "duration": 5,
    "start_time": "2022-05-19T18:05:07.750Z"
   },
   {
    "duration": 8,
    "start_time": "2022-05-19T18:05:07.757Z"
   },
   {
    "duration": 988,
    "start_time": "2022-05-19T18:05:07.767Z"
   },
   {
    "duration": 76,
    "start_time": "2022-05-19T18:05:08.758Z"
   },
   {
    "duration": 29,
    "start_time": "2022-05-19T18:05:08.835Z"
   },
   {
    "duration": 148,
    "start_time": "2022-05-19T18:05:08.866Z"
   },
   {
    "duration": 122,
    "start_time": "2022-05-19T18:05:09.016Z"
   },
   {
    "duration": 25,
    "start_time": "2022-05-19T18:05:09.140Z"
   },
   {
    "duration": 22,
    "start_time": "2022-05-19T18:05:09.167Z"
   },
   {
    "duration": 305,
    "start_time": "2022-05-19T18:05:09.211Z"
   },
   {
    "duration": 20,
    "start_time": "2022-05-19T18:05:09.517Z"
   },
   {
    "duration": 5,
    "start_time": "2022-05-19T18:05:09.538Z"
   },
   {
    "duration": 132,
    "start_time": "2022-05-19T18:05:09.545Z"
   },
   {
    "duration": 17,
    "start_time": "2022-05-19T18:05:09.679Z"
   },
   {
    "duration": 16,
    "start_time": "2022-05-19T18:05:09.712Z"
   },
   {
    "duration": 90,
    "start_time": "2022-05-19T18:05:09.729Z"
   },
   {
    "duration": 21,
    "start_time": "2022-05-19T18:05:09.821Z"
   },
   {
    "duration": 34,
    "start_time": "2022-05-19T18:05:44.060Z"
   },
   {
    "duration": 87,
    "start_time": "2022-05-19T18:06:41.422Z"
   },
   {
    "duration": 115,
    "start_time": "2022-05-19T18:07:32.124Z"
   },
   {
    "duration": 20,
    "start_time": "2022-05-19T18:07:58.728Z"
   },
   {
    "duration": 24,
    "start_time": "2022-05-19T18:08:09.203Z"
   },
   {
    "duration": 32,
    "start_time": "2022-05-19T18:08:11.162Z"
   },
   {
    "duration": 32,
    "start_time": "2022-05-19T18:08:24.778Z"
   },
   {
    "duration": 27,
    "start_time": "2022-05-19T18:08:41.245Z"
   },
   {
    "duration": 18,
    "start_time": "2022-05-19T18:09:05.848Z"
   },
   {
    "duration": 1180,
    "start_time": "2022-05-19T18:20:27.602Z"
   },
   {
    "duration": 124,
    "start_time": "2022-05-19T18:20:28.784Z"
   },
   {
    "duration": 3,
    "start_time": "2022-05-19T18:20:28.910Z"
   },
   {
    "duration": 117,
    "start_time": "2022-05-19T18:20:28.915Z"
   },
   {
    "duration": 57,
    "start_time": "2022-05-19T18:20:29.034Z"
   },
   {
    "duration": 41,
    "start_time": "2022-05-19T18:20:29.093Z"
   },
   {
    "duration": 26,
    "start_time": "2022-05-19T18:20:29.136Z"
   },
   {
    "duration": 6,
    "start_time": "2022-05-19T18:20:29.163Z"
   },
   {
    "duration": 16,
    "start_time": "2022-05-19T18:20:29.170Z"
   },
   {
    "duration": 32,
    "start_time": "2022-05-19T18:20:29.211Z"
   },
   {
    "duration": 36,
    "start_time": "2022-05-19T18:20:29.245Z"
   },
   {
    "duration": 45,
    "start_time": "2022-05-19T18:20:29.282Z"
   },
   {
    "duration": 12,
    "start_time": "2022-05-19T18:20:29.329Z"
   },
   {
    "duration": 81,
    "start_time": "2022-05-19T18:20:29.343Z"
   },
   {
    "duration": 3,
    "start_time": "2022-05-19T18:20:29.425Z"
   },
   {
    "duration": 30,
    "start_time": "2022-05-19T18:20:29.429Z"
   },
   {
    "duration": 8,
    "start_time": "2022-05-19T18:20:29.461Z"
   },
   {
    "duration": 26,
    "start_time": "2022-05-19T18:20:29.470Z"
   },
   {
    "duration": 28,
    "start_time": "2022-05-19T18:20:29.513Z"
   },
   {
    "duration": 12,
    "start_time": "2022-05-19T18:20:29.543Z"
   },
   {
    "duration": 18,
    "start_time": "2022-05-19T18:20:29.556Z"
   },
   {
    "duration": 47,
    "start_time": "2022-05-19T18:20:29.576Z"
   },
   {
    "duration": 17,
    "start_time": "2022-05-19T18:20:29.624Z"
   },
   {
    "duration": 93,
    "start_time": "2022-05-19T18:20:29.643Z"
   },
   {
    "duration": 4,
    "start_time": "2022-05-19T18:20:29.738Z"
   },
   {
    "duration": 7,
    "start_time": "2022-05-19T18:20:29.743Z"
   },
   {
    "duration": 1673,
    "start_time": "2022-05-19T18:20:29.751Z"
   },
   {
    "duration": 22,
    "start_time": "2022-05-19T18:20:31.429Z"
   },
   {
    "duration": 18,
    "start_time": "2022-05-19T18:20:31.453Z"
   },
   {
    "duration": 169,
    "start_time": "2022-05-19T18:20:31.473Z"
   },
   {
    "duration": 7,
    "start_time": "2022-05-19T18:20:31.644Z"
   },
   {
    "duration": 22,
    "start_time": "2022-05-19T18:20:31.653Z"
   },
   {
    "duration": 1115,
    "start_time": "2022-05-19T18:20:31.677Z"
   },
   {
    "duration": 86,
    "start_time": "2022-05-19T18:20:32.794Z"
   },
   {
    "duration": 36,
    "start_time": "2022-05-19T18:20:32.882Z"
   },
   {
    "duration": 144,
    "start_time": "2022-05-19T18:20:32.919Z"
   },
   {
    "duration": 134,
    "start_time": "2022-05-19T18:20:33.065Z"
   },
   {
    "duration": 33,
    "start_time": "2022-05-19T18:20:33.201Z"
   },
   {
    "duration": 25,
    "start_time": "2022-05-19T18:20:33.236Z"
   },
   {
    "duration": 368,
    "start_time": "2022-05-19T18:20:33.264Z"
   },
   {
    "duration": 21,
    "start_time": "2022-05-19T18:20:33.634Z"
   },
   {
    "duration": 5,
    "start_time": "2022-05-19T18:20:33.656Z"
   },
   {
    "duration": 127,
    "start_time": "2022-05-19T18:20:33.663Z"
   },
   {
    "duration": 22,
    "start_time": "2022-05-19T18:20:33.792Z"
   },
   {
    "duration": 18,
    "start_time": "2022-05-19T18:20:33.816Z"
   },
   {
    "duration": 101,
    "start_time": "2022-05-19T18:20:33.835Z"
   },
   {
    "duration": 17,
    "start_time": "2022-05-19T18:20:33.937Z"
   },
   {
    "duration": 115,
    "start_time": "2022-05-19T18:21:38.060Z"
   },
   {
    "duration": 1252,
    "start_time": "2022-05-19T18:26:06.995Z"
   },
   {
    "duration": 170,
    "start_time": "2022-05-19T18:26:08.250Z"
   },
   {
    "duration": 6,
    "start_time": "2022-05-19T18:26:08.422Z"
   },
   {
    "duration": 179,
    "start_time": "2022-05-19T18:26:08.430Z"
   },
   {
    "duration": 83,
    "start_time": "2022-05-19T18:26:08.611Z"
   },
   {
    "duration": 42,
    "start_time": "2022-05-19T18:26:08.696Z"
   },
   {
    "duration": 32,
    "start_time": "2022-05-19T18:26:08.741Z"
   },
   {
    "duration": 8,
    "start_time": "2022-05-19T18:26:08.774Z"
   },
   {
    "duration": 44,
    "start_time": "2022-05-19T18:26:08.783Z"
   },
   {
    "duration": 45,
    "start_time": "2022-05-19T18:26:08.830Z"
   },
   {
    "duration": 67,
    "start_time": "2022-05-19T18:26:08.878Z"
   },
   {
    "duration": 31,
    "start_time": "2022-05-19T18:26:08.947Z"
   },
   {
    "duration": 41,
    "start_time": "2022-05-19T18:26:08.980Z"
   },
   {
    "duration": 75,
    "start_time": "2022-05-19T18:26:09.023Z"
   },
   {
    "duration": 3,
    "start_time": "2022-05-19T18:26:09.100Z"
   },
   {
    "duration": 44,
    "start_time": "2022-05-19T18:26:09.111Z"
   },
   {
    "duration": 8,
    "start_time": "2022-05-19T18:26:09.157Z"
   },
   {
    "duration": 21,
    "start_time": "2022-05-19T18:26:09.167Z"
   },
   {
    "duration": 36,
    "start_time": "2022-05-19T18:26:09.190Z"
   },
   {
    "duration": 6,
    "start_time": "2022-05-19T18:26:09.227Z"
   },
   {
    "duration": 28,
    "start_time": "2022-05-19T18:26:09.235Z"
   },
   {
    "duration": 19,
    "start_time": "2022-05-19T18:26:09.265Z"
   },
   {
    "duration": 2,
    "start_time": "2022-05-19T18:26:09.286Z"
   },
   {
    "duration": 71,
    "start_time": "2022-05-19T18:26:09.313Z"
   },
   {
    "duration": 4,
    "start_time": "2022-05-19T18:26:09.385Z"
   },
   {
    "duration": 30,
    "start_time": "2022-05-19T18:26:09.391Z"
   },
   {
    "duration": 1618,
    "start_time": "2022-05-19T18:26:09.424Z"
   },
   {
    "duration": 14,
    "start_time": "2022-05-19T18:26:11.045Z"
   },
   {
    "duration": 11,
    "start_time": "2022-05-19T18:26:11.061Z"
   },
   {
    "duration": 168,
    "start_time": "2022-05-19T18:26:11.074Z"
   },
   {
    "duration": 7,
    "start_time": "2022-05-19T18:26:11.244Z"
   },
   {
    "duration": 13,
    "start_time": "2022-05-19T18:26:11.253Z"
   },
   {
    "duration": 1079,
    "start_time": "2022-05-19T18:26:11.268Z"
   },
   {
    "duration": 88,
    "start_time": "2022-05-19T18:26:12.349Z"
   },
   {
    "duration": 29,
    "start_time": "2022-05-19T18:26:12.439Z"
   },
   {
    "duration": 147,
    "start_time": "2022-05-19T18:26:12.470Z"
   },
   {
    "duration": 129,
    "start_time": "2022-05-19T18:26:12.618Z"
   },
   {
    "duration": 27,
    "start_time": "2022-05-19T18:26:12.749Z"
   },
   {
    "duration": 45,
    "start_time": "2022-05-19T18:26:12.778Z"
   },
   {
    "duration": 393,
    "start_time": "2022-05-19T18:26:12.825Z"
   },
   {
    "duration": 26,
    "start_time": "2022-05-19T18:26:13.220Z"
   },
   {
    "duration": 6,
    "start_time": "2022-05-19T18:26:13.248Z"
   },
   {
    "duration": 185,
    "start_time": "2022-05-19T18:26:13.256Z"
   },
   {
    "duration": 22,
    "start_time": "2022-05-19T18:26:13.443Z"
   },
   {
    "duration": 32,
    "start_time": "2022-05-19T18:26:13.467Z"
   },
   {
    "duration": 110,
    "start_time": "2022-05-19T18:26:13.501Z"
   },
   {
    "duration": 21,
    "start_time": "2022-05-19T18:26:13.613Z"
   },
   {
    "duration": 106,
    "start_time": "2022-05-19T18:27:01.277Z"
   },
   {
    "duration": 31,
    "start_time": "2022-05-19T18:27:35.574Z"
   },
   {
    "duration": 28,
    "start_time": "2022-05-19T18:29:04.810Z"
   },
   {
    "duration": 26,
    "start_time": "2022-05-19T18:29:25.802Z"
   },
   {
    "duration": 31,
    "start_time": "2022-05-19T18:29:49.442Z"
   },
   {
    "duration": 8,
    "start_time": "2022-05-19T18:30:53.467Z"
   },
   {
    "duration": 13,
    "start_time": "2022-05-19T18:30:59.498Z"
   },
   {
    "duration": 16,
    "start_time": "2022-05-19T18:31:31.079Z"
   },
   {
    "duration": 15,
    "start_time": "2022-05-19T18:32:19.721Z"
   },
   {
    "duration": 26,
    "start_time": "2022-05-19T18:33:08.151Z"
   },
   {
    "duration": 15,
    "start_time": "2022-05-19T18:33:09.706Z"
   },
   {
    "duration": 28,
    "start_time": "2022-05-19T18:39:23.214Z"
   },
   {
    "duration": 23,
    "start_time": "2022-05-19T18:40:17.959Z"
   },
   {
    "duration": 15,
    "start_time": "2022-05-19T18:46:34.953Z"
   },
   {
    "duration": 24,
    "start_time": "2022-05-19T18:46:38.319Z"
   },
   {
    "duration": 9,
    "start_time": "2022-05-19T18:46:55.007Z"
   },
   {
    "duration": 13,
    "start_time": "2022-05-19T18:47:00.946Z"
   },
   {
    "duration": 1269,
    "start_time": "2022-05-19T18:47:20.887Z"
   },
   {
    "duration": 129,
    "start_time": "2022-05-19T18:47:22.158Z"
   },
   {
    "duration": 4,
    "start_time": "2022-05-19T18:47:22.288Z"
   },
   {
    "duration": 125,
    "start_time": "2022-05-19T18:47:22.294Z"
   },
   {
    "duration": 50,
    "start_time": "2022-05-19T18:47:22.420Z"
   },
   {
    "duration": 44,
    "start_time": "2022-05-19T18:47:22.472Z"
   },
   {
    "duration": 25,
    "start_time": "2022-05-19T18:47:22.518Z"
   },
   {
    "duration": 6,
    "start_time": "2022-05-19T18:47:22.544Z"
   },
   {
    "duration": 22,
    "start_time": "2022-05-19T18:47:22.552Z"
   },
   {
    "duration": 60,
    "start_time": "2022-05-19T18:47:22.578Z"
   },
   {
    "duration": 39,
    "start_time": "2022-05-19T18:47:22.640Z"
   },
   {
    "duration": 37,
    "start_time": "2022-05-19T18:47:22.681Z"
   },
   {
    "duration": 23,
    "start_time": "2022-05-19T18:47:22.720Z"
   },
   {
    "duration": 7,
    "start_time": "2022-05-19T18:47:22.745Z"
   },
   {
    "duration": 12,
    "start_time": "2022-05-19T18:47:22.754Z"
   },
   {
    "duration": 13,
    "start_time": "2022-05-19T18:47:22.768Z"
   },
   {
    "duration": 35,
    "start_time": "2022-05-19T18:47:22.782Z"
   },
   {
    "duration": 13,
    "start_time": "2022-05-19T18:47:22.818Z"
   },
   {
    "duration": 13,
    "start_time": "2022-05-19T18:47:22.833Z"
   },
   {
    "duration": 2,
    "start_time": "2022-05-19T18:47:22.848Z"
   },
   {
    "duration": 85,
    "start_time": "2022-05-19T18:47:22.852Z"
   },
   {
    "duration": 3,
    "start_time": "2022-05-19T18:47:22.939Z"
   },
   {
    "duration": 7,
    "start_time": "2022-05-19T18:47:22.943Z"
   },
   {
    "duration": 1529,
    "start_time": "2022-05-19T18:47:22.952Z"
   },
   {
    "duration": 12,
    "start_time": "2022-05-19T18:47:24.482Z"
   },
   {
    "duration": 18,
    "start_time": "2022-05-19T18:47:24.495Z"
   },
   {
    "duration": 128,
    "start_time": "2022-05-19T18:47:24.514Z"
   },
   {
    "duration": 6,
    "start_time": "2022-05-19T18:47:24.646Z"
   },
   {
    "duration": 15,
    "start_time": "2022-05-19T18:47:24.653Z"
   },
   {
    "duration": 864,
    "start_time": "2022-05-19T18:47:24.670Z"
   },
   {
    "duration": 63,
    "start_time": "2022-05-19T18:47:25.535Z"
   },
   {
    "duration": 37,
    "start_time": "2022-05-19T18:47:25.600Z"
   },
   {
    "duration": 136,
    "start_time": "2022-05-19T18:47:25.639Z"
   },
   {
    "duration": 198,
    "start_time": "2022-05-19T18:47:25.777Z"
   },
   {
    "duration": 16,
    "start_time": "2022-05-19T18:47:25.977Z"
   },
   {
    "duration": 32,
    "start_time": "2022-05-19T18:47:25.995Z"
   },
   {
    "duration": 289,
    "start_time": "2022-05-19T18:47:26.029Z"
   },
   {
    "duration": 19,
    "start_time": "2022-05-19T18:47:26.319Z"
   },
   {
    "duration": 5,
    "start_time": "2022-05-19T18:47:26.339Z"
   },
   {
    "duration": 102,
    "start_time": "2022-05-19T18:47:26.345Z"
   },
   {
    "duration": 9,
    "start_time": "2022-05-19T18:47:26.448Z"
   },
   {
    "duration": 11,
    "start_time": "2022-05-19T18:47:26.458Z"
   },
   {
    "duration": 29,
    "start_time": "2022-05-19T18:47:26.470Z"
   },
   {
    "duration": 17,
    "start_time": "2022-05-19T18:47:26.512Z"
   },
   {
    "duration": 1137,
    "start_time": "2022-05-19T18:50:50.113Z"
   },
   {
    "duration": 124,
    "start_time": "2022-05-19T18:50:51.251Z"
   },
   {
    "duration": 3,
    "start_time": "2022-05-19T18:50:51.376Z"
   },
   {
    "duration": 149,
    "start_time": "2022-05-19T18:50:51.381Z"
   },
   {
    "duration": 63,
    "start_time": "2022-05-19T18:50:51.531Z"
   },
   {
    "duration": 29,
    "start_time": "2022-05-19T18:50:51.611Z"
   },
   {
    "duration": 31,
    "start_time": "2022-05-19T18:50:51.642Z"
   },
   {
    "duration": 7,
    "start_time": "2022-05-19T18:50:51.674Z"
   },
   {
    "duration": 51,
    "start_time": "2022-05-19T18:50:51.683Z"
   },
   {
    "duration": 31,
    "start_time": "2022-05-19T18:50:51.738Z"
   },
   {
    "duration": 44,
    "start_time": "2022-05-19T18:50:51.771Z"
   },
   {
    "duration": 2,
    "start_time": "2022-05-19T18:50:51.817Z"
   },
   {
    "duration": 37,
    "start_time": "2022-05-19T18:50:51.821Z"
   },
   {
    "duration": 8,
    "start_time": "2022-05-19T18:50:51.860Z"
   },
   {
    "duration": 17,
    "start_time": "2022-05-19T18:50:51.869Z"
   },
   {
    "duration": 41,
    "start_time": "2022-05-19T18:50:51.888Z"
   },
   {
    "duration": 3,
    "start_time": "2022-05-19T18:50:51.931Z"
   },
   {
    "duration": 17,
    "start_time": "2022-05-19T18:50:51.936Z"
   },
   {
    "duration": 17,
    "start_time": "2022-05-19T18:50:51.954Z"
   },
   {
    "duration": 2,
    "start_time": "2022-05-19T18:50:51.972Z"
   },
   {
    "duration": 90,
    "start_time": "2022-05-19T18:50:51.976Z"
   },
   {
    "duration": 3,
    "start_time": "2022-05-19T18:50:52.068Z"
   },
   {
    "duration": 8,
    "start_time": "2022-05-19T18:50:52.072Z"
   },
   {
    "duration": 1556,
    "start_time": "2022-05-19T18:50:52.081Z"
   },
   {
    "duration": 13,
    "start_time": "2022-05-19T18:50:53.639Z"
   },
   {
    "duration": 12,
    "start_time": "2022-05-19T18:50:53.653Z"
   },
   {
    "duration": 129,
    "start_time": "2022-05-19T18:50:53.667Z"
   },
   {
    "duration": 15,
    "start_time": "2022-05-19T18:50:53.799Z"
   },
   {
    "duration": 7,
    "start_time": "2022-05-19T18:50:53.815Z"
   },
   {
    "duration": 1030,
    "start_time": "2022-05-19T18:50:53.823Z"
   },
   {
    "duration": 79,
    "start_time": "2022-05-19T18:50:54.855Z"
   },
   {
    "duration": 26,
    "start_time": "2022-05-19T18:50:54.936Z"
   },
   {
    "duration": 137,
    "start_time": "2022-05-19T18:50:54.964Z"
   },
   {
    "duration": 132,
    "start_time": "2022-05-19T18:50:55.103Z"
   },
   {
    "duration": 27,
    "start_time": "2022-05-19T18:50:55.237Z"
   },
   {
    "duration": 22,
    "start_time": "2022-05-19T18:50:55.266Z"
   },
   {
    "duration": 345,
    "start_time": "2022-05-19T18:50:55.290Z"
   },
   {
    "duration": 18,
    "start_time": "2022-05-19T18:50:55.637Z"
   },
   {
    "duration": 4,
    "start_time": "2022-05-19T18:50:55.657Z"
   },
   {
    "duration": 115,
    "start_time": "2022-05-19T18:50:55.662Z"
   },
   {
    "duration": 16,
    "start_time": "2022-05-19T18:50:55.778Z"
   },
   {
    "duration": 26,
    "start_time": "2022-05-19T18:50:55.796Z"
   },
   {
    "duration": 82,
    "start_time": "2022-05-19T18:50:55.823Z"
   },
   {
    "duration": 16,
    "start_time": "2022-05-19T18:50:55.912Z"
   },
   {
    "duration": 17,
    "start_time": "2022-05-19T18:51:22.649Z"
   },
   {
    "duration": 12,
    "start_time": "2022-05-19T18:56:25.690Z"
   },
   {
    "duration": 5,
    "start_time": "2022-05-19T18:58:05.791Z"
   },
   {
    "duration": 8,
    "start_time": "2022-05-19T18:58:41.564Z"
   },
   {
    "duration": 11,
    "start_time": "2022-05-19T18:58:42.658Z"
   },
   {
    "duration": 5,
    "start_time": "2022-05-19T18:59:54.730Z"
   },
   {
    "duration": 5,
    "start_time": "2022-05-19T19:00:30.085Z"
   },
   {
    "duration": 1156,
    "start_time": "2022-05-19T19:01:12.997Z"
   },
   {
    "duration": 126,
    "start_time": "2022-05-19T19:01:14.155Z"
   },
   {
    "duration": 4,
    "start_time": "2022-05-19T19:01:14.282Z"
   },
   {
    "duration": 109,
    "start_time": "2022-05-19T19:01:14.288Z"
   },
   {
    "duration": 51,
    "start_time": "2022-05-19T19:01:14.399Z"
   },
   {
    "duration": 22,
    "start_time": "2022-05-19T19:01:14.452Z"
   },
   {
    "duration": 48,
    "start_time": "2022-05-19T19:01:14.476Z"
   },
   {
    "duration": 6,
    "start_time": "2022-05-19T19:01:14.525Z"
   },
   {
    "duration": 18,
    "start_time": "2022-05-19T19:01:14.532Z"
   },
   {
    "duration": 34,
    "start_time": "2022-05-19T19:01:14.552Z"
   },
   {
    "duration": 48,
    "start_time": "2022-05-19T19:01:14.588Z"
   },
   {
    "duration": 11,
    "start_time": "2022-05-19T19:01:14.638Z"
   },
   {
    "duration": 21,
    "start_time": "2022-05-19T19:01:14.651Z"
   },
   {
    "duration": 2,
    "start_time": "2022-05-19T19:01:14.673Z"
   },
   {
    "duration": 36,
    "start_time": "2022-05-19T19:01:14.677Z"
   },
   {
    "duration": 11,
    "start_time": "2022-05-19T19:01:14.714Z"
   },
   {
    "duration": 6,
    "start_time": "2022-05-19T19:01:14.727Z"
   },
   {
    "duration": 64,
    "start_time": "2022-05-19T19:01:14.734Z"
   },
   {
    "duration": 15,
    "start_time": "2022-05-19T19:01:14.799Z"
   },
   {
    "duration": 5,
    "start_time": "2022-05-19T19:01:14.816Z"
   },
   {
    "duration": 1497,
    "start_time": "2022-05-19T19:01:14.822Z"
   },
   {
    "duration": 11,
    "start_time": "2022-05-19T19:01:16.321Z"
   },
   {
    "duration": 25,
    "start_time": "2022-05-19T19:01:16.334Z"
   },
   {
    "duration": 121,
    "start_time": "2022-05-19T19:01:16.361Z"
   },
   {
    "duration": 4,
    "start_time": "2022-05-19T19:01:16.484Z"
   },
   {
    "duration": 18,
    "start_time": "2022-05-19T19:01:16.490Z"
   },
   {
    "duration": 883,
    "start_time": "2022-05-19T19:01:16.510Z"
   },
   {
    "duration": 64,
    "start_time": "2022-05-19T19:01:17.396Z"
   },
   {
    "duration": 28,
    "start_time": "2022-05-19T19:01:17.462Z"
   },
   {
    "duration": 148,
    "start_time": "2022-05-19T19:01:17.492Z"
   },
   {
    "duration": 191,
    "start_time": "2022-05-19T19:01:17.641Z"
   },
   {
    "duration": 15,
    "start_time": "2022-05-19T19:01:17.833Z"
   },
   {
    "duration": 23,
    "start_time": "2022-05-19T19:01:17.850Z"
   },
   {
    "duration": 307,
    "start_time": "2022-05-19T19:01:17.875Z"
   },
   {
    "duration": 34,
    "start_time": "2022-05-19T19:01:18.183Z"
   },
   {
    "duration": 5,
    "start_time": "2022-05-19T19:01:18.219Z"
   },
   {
    "duration": 73,
    "start_time": "2022-05-19T19:01:18.225Z"
   },
   {
    "duration": 20,
    "start_time": "2022-05-19T19:01:18.300Z"
   },
   {
    "duration": 16,
    "start_time": "2022-05-19T19:01:18.321Z"
   },
   {
    "duration": 22,
    "start_time": "2022-05-19T19:01:18.339Z"
   },
   {
    "duration": 16,
    "start_time": "2022-05-19T19:01:18.363Z"
   },
   {
    "duration": 26,
    "start_time": "2022-05-19T19:06:34.654Z"
   },
   {
    "duration": 123,
    "start_time": "2022-05-19T19:07:06.549Z"
   },
   {
    "duration": 161,
    "start_time": "2022-05-19T19:07:21.531Z"
   },
   {
    "duration": 150,
    "start_time": "2022-05-19T19:07:32.482Z"
   },
   {
    "duration": 125,
    "start_time": "2022-05-19T19:07:44.550Z"
   },
   {
    "duration": 213,
    "start_time": "2022-05-19T19:07:51.067Z"
   },
   {
    "duration": 129,
    "start_time": "2022-05-19T19:08:08.774Z"
   },
   {
    "duration": 22,
    "start_time": "2022-05-19T19:11:27.413Z"
   },
   {
    "duration": 29,
    "start_time": "2022-05-19T19:12:39.189Z"
   },
   {
    "duration": 15,
    "start_time": "2022-05-19T19:12:46.540Z"
   },
   {
    "duration": 167,
    "start_time": "2022-05-19T19:13:01.680Z"
   },
   {
    "duration": 132,
    "start_time": "2022-05-19T19:13:10.983Z"
   },
   {
    "duration": 130,
    "start_time": "2022-05-19T19:13:17.911Z"
   },
   {
    "duration": 6,
    "start_time": "2022-05-19T19:13:28.351Z"
   },
   {
    "duration": 5,
    "start_time": "2022-05-19T19:13:29.327Z"
   },
   {
    "duration": 17,
    "start_time": "2022-05-19T19:19:28.621Z"
   },
   {
    "duration": 15,
    "start_time": "2022-05-19T19:20:23.048Z"
   },
   {
    "duration": 13,
    "start_time": "2022-05-19T19:20:58.106Z"
   },
   {
    "duration": 12,
    "start_time": "2022-05-19T19:21:18.411Z"
   },
   {
    "duration": 5,
    "start_time": "2022-05-19T19:25:03.649Z"
   },
   {
    "duration": 8,
    "start_time": "2022-05-19T19:25:21.012Z"
   },
   {
    "duration": 5,
    "start_time": "2022-05-19T19:26:07.056Z"
   },
   {
    "duration": 7,
    "start_time": "2022-05-19T19:26:34.818Z"
   },
   {
    "duration": 5,
    "start_time": "2022-05-19T19:27:00.382Z"
   },
   {
    "duration": 5,
    "start_time": "2022-05-19T19:27:36.812Z"
   },
   {
    "duration": 8,
    "start_time": "2022-05-19T19:27:38.768Z"
   },
   {
    "duration": 7,
    "start_time": "2022-05-19T19:27:50.728Z"
   },
   {
    "duration": 7,
    "start_time": "2022-05-19T19:27:59.528Z"
   },
   {
    "duration": 7,
    "start_time": "2022-05-19T19:28:08.645Z"
   },
   {
    "duration": 62,
    "start_time": "2022-05-19T19:34:31.271Z"
   },
   {
    "duration": 31,
    "start_time": "2022-05-19T19:34:34.880Z"
   },
   {
    "duration": 132,
    "start_time": "2022-05-19T19:34:38.781Z"
   },
   {
    "duration": 127,
    "start_time": "2022-05-19T19:34:43.452Z"
   },
   {
    "duration": 217,
    "start_time": "2022-05-19T19:34:50.918Z"
   },
   {
    "duration": 113,
    "start_time": "2022-05-19T19:34:56.974Z"
   },
   {
    "duration": 306,
    "start_time": "2022-05-19T19:36:15.202Z"
   },
   {
    "duration": 300,
    "start_time": "2022-05-19T19:36:34.819Z"
   },
   {
    "duration": 25,
    "start_time": "2022-05-19T19:37:17.425Z"
   },
   {
    "duration": 6,
    "start_time": "2022-05-19T19:39:58.363Z"
   },
   {
    "duration": 78,
    "start_time": "2022-05-19T19:39:59.851Z"
   },
   {
    "duration": 5,
    "start_time": "2022-05-19T19:54:16.382Z"
   },
   {
    "duration": 17,
    "start_time": "2022-05-19T19:54:17.406Z"
   },
   {
    "duration": 142,
    "start_time": "2022-05-19T19:54:47.350Z"
   },
   {
    "duration": 8,
    "start_time": "2022-05-19T19:55:01.768Z"
   },
   {
    "duration": 7,
    "start_time": "2022-05-19T19:55:10.613Z"
   },
   {
    "duration": 10,
    "start_time": "2022-05-19T19:55:18.421Z"
   },
   {
    "duration": 4,
    "start_time": "2022-05-19T19:56:20.729Z"
   },
   {
    "duration": 48,
    "start_time": "2022-05-19T19:56:59.578Z"
   },
   {
    "duration": 4,
    "start_time": "2022-05-19T19:57:09.157Z"
   },
   {
    "duration": 5,
    "start_time": "2022-05-19T19:59:22.392Z"
   },
   {
    "duration": 32,
    "start_time": "2022-05-19T19:59:36.156Z"
   },
   {
    "duration": 5,
    "start_time": "2022-05-19T19:59:44.200Z"
   },
   {
    "duration": 8,
    "start_time": "2022-05-19T20:00:22.506Z"
   },
   {
    "duration": 6,
    "start_time": "2022-05-19T20:01:18.118Z"
   },
   {
    "duration": 7,
    "start_time": "2022-05-19T20:01:27.808Z"
   },
   {
    "duration": 5,
    "start_time": "2022-05-19T20:02:42.453Z"
   },
   {
    "duration": 6,
    "start_time": "2022-05-19T20:02:52.193Z"
   },
   {
    "duration": 5,
    "start_time": "2022-05-19T20:03:04.085Z"
   },
   {
    "duration": 6,
    "start_time": "2022-05-19T20:03:49.621Z"
   },
   {
    "duration": 6,
    "start_time": "2022-05-19T20:04:15.590Z"
   },
   {
    "duration": 6,
    "start_time": "2022-05-19T20:04:25.966Z"
   },
   {
    "duration": 5,
    "start_time": "2022-05-19T20:04:35.451Z"
   },
   {
    "duration": 5,
    "start_time": "2022-05-19T20:04:46.157Z"
   },
   {
    "duration": 6,
    "start_time": "2022-05-19T20:05:30.221Z"
   },
   {
    "duration": 7,
    "start_time": "2022-05-19T20:05:45.353Z"
   },
   {
    "duration": 7,
    "start_time": "2022-05-19T20:09:15.658Z"
   },
   {
    "duration": 10,
    "start_time": "2022-05-19T20:12:09.391Z"
   },
   {
    "duration": 8,
    "start_time": "2022-05-19T20:12:33.810Z"
   },
   {
    "duration": 9,
    "start_time": "2022-05-19T20:14:15.592Z"
   },
   {
    "duration": 10,
    "start_time": "2022-05-19T20:14:41.188Z"
   },
   {
    "duration": 9,
    "start_time": "2022-05-19T20:14:59.648Z"
   },
   {
    "duration": 9,
    "start_time": "2022-05-19T20:15:57.222Z"
   },
   {
    "duration": 46,
    "start_time": "2022-05-19T20:17:26.186Z"
   },
   {
    "duration": 41,
    "start_time": "2022-05-19T20:18:02.208Z"
   },
   {
    "duration": 9,
    "start_time": "2022-05-19T20:18:10.696Z"
   },
   {
    "duration": 8,
    "start_time": "2022-05-19T20:18:26.703Z"
   },
   {
    "duration": 23,
    "start_time": "2022-05-19T20:21:21.306Z"
   },
   {
    "duration": 12,
    "start_time": "2022-05-19T20:21:53.947Z"
   },
   {
    "duration": 127,
    "start_time": "2022-05-19T20:22:10.992Z"
   },
   {
    "duration": 155,
    "start_time": "2022-05-19T20:22:20.602Z"
   },
   {
    "duration": 177,
    "start_time": "2022-05-19T20:22:27.354Z"
   },
   {
    "duration": 144,
    "start_time": "2022-05-19T20:22:33.859Z"
   },
   {
    "duration": 130,
    "start_time": "2022-05-19T20:22:38.386Z"
   },
   {
    "duration": 135,
    "start_time": "2022-05-19T20:22:44.729Z"
   },
   {
    "duration": 141,
    "start_time": "2022-05-19T20:24:11.071Z"
   },
   {
    "duration": 10,
    "start_time": "2022-05-19T20:24:20.266Z"
   },
   {
    "duration": 135,
    "start_time": "2022-05-19T20:25:46.926Z"
   },
   {
    "duration": 189,
    "start_time": "2022-05-19T20:26:27.209Z"
   },
   {
    "duration": 183,
    "start_time": "2022-05-19T20:29:27.198Z"
   },
   {
    "duration": 148,
    "start_time": "2022-05-19T20:29:44.064Z"
   },
   {
    "duration": 21,
    "start_time": "2022-05-19T20:31:49.462Z"
   },
   {
    "duration": 2,
    "start_time": "2022-05-19T20:34:31.927Z"
   },
   {
    "duration": 20,
    "start_time": "2022-05-19T20:38:19.414Z"
   },
   {
    "duration": 11,
    "start_time": "2022-05-19T20:39:00.479Z"
   },
   {
    "duration": 32,
    "start_time": "2022-05-19T20:39:09.641Z"
   },
   {
    "duration": 25,
    "start_time": "2022-05-19T20:41:03.662Z"
   },
   {
    "duration": 24,
    "start_time": "2022-05-19T20:41:15.200Z"
   },
   {
    "duration": 29,
    "start_time": "2022-05-19T20:42:04.372Z"
   },
   {
    "duration": 30,
    "start_time": "2022-05-19T20:42:21.914Z"
   },
   {
    "duration": 27,
    "start_time": "2022-05-19T20:42:30.617Z"
   },
   {
    "duration": 150,
    "start_time": "2022-05-19T20:47:16.337Z"
   },
   {
    "duration": 19,
    "start_time": "2022-05-19T20:49:35.917Z"
   },
   {
    "duration": 15,
    "start_time": "2022-05-19T20:49:40.602Z"
   },
   {
    "duration": 22,
    "start_time": "2022-05-19T20:49:48.015Z"
   },
   {
    "duration": 23,
    "start_time": "2022-05-19T20:54:35.645Z"
   },
   {
    "duration": 35,
    "start_time": "2022-05-19T20:57:54.134Z"
   },
   {
    "duration": 49,
    "start_time": "2022-05-19T20:58:39.590Z"
   },
   {
    "duration": 50,
    "start_time": "2022-05-19T20:58:43.643Z"
   },
   {
    "duration": 241,
    "start_time": "2022-05-19T21:00:04.113Z"
   },
   {
    "duration": 227,
    "start_time": "2022-05-19T21:00:23.816Z"
   },
   {
    "duration": 520,
    "start_time": "2022-05-19T21:00:42.071Z"
   },
   {
    "duration": 4,
    "start_time": "2022-05-19T21:01:45.871Z"
   },
   {
    "duration": 1509,
    "start_time": "2022-05-19T21:01:47.935Z"
   },
   {
    "duration": 537,
    "start_time": "2022-05-19T21:02:16.831Z"
   },
   {
    "duration": 534,
    "start_time": "2022-05-19T21:02:34.866Z"
   },
   {
    "duration": 41,
    "start_time": "2022-05-19T21:04:32.427Z"
   },
   {
    "duration": 35,
    "start_time": "2022-05-19T21:04:56.660Z"
   },
   {
    "duration": 35,
    "start_time": "2022-05-19T21:05:09.923Z"
   },
   {
    "duration": 36,
    "start_time": "2022-05-19T21:05:14.586Z"
   },
   {
    "duration": 44,
    "start_time": "2022-05-19T21:05:19.464Z"
   },
   {
    "duration": 661,
    "start_time": "2022-05-19T21:05:35.809Z"
   },
   {
    "duration": 523,
    "start_time": "2022-05-19T21:07:00.845Z"
   },
   {
    "duration": 47,
    "start_time": "2022-05-19T21:10:18.931Z"
   },
   {
    "duration": 59,
    "start_time": "2022-05-19T21:10:30.303Z"
   },
   {
    "duration": 51,
    "start_time": "2022-05-19T21:10:52.512Z"
   },
   {
    "duration": 47,
    "start_time": "2022-05-19T21:11:15.950Z"
   },
   {
    "duration": 50,
    "start_time": "2022-05-19T21:11:54.312Z"
   },
   {
    "duration": 75,
    "start_time": "2022-05-19T21:12:53.142Z"
   },
   {
    "duration": 49,
    "start_time": "2022-05-19T21:13:59.048Z"
   },
   {
    "duration": 47,
    "start_time": "2022-05-19T21:14:17.634Z"
   },
   {
    "duration": 62,
    "start_time": "2022-05-19T21:15:45.293Z"
   },
   {
    "duration": 21,
    "start_time": "2022-05-19T21:17:26.373Z"
   },
   {
    "duration": 398,
    "start_time": "2022-05-19T21:18:05.531Z"
   },
   {
    "duration": 53,
    "start_time": "2022-05-19T21:25:52.952Z"
   },
   {
    "duration": 470,
    "start_time": "2022-05-19T21:25:55.047Z"
   },
   {
    "duration": 27,
    "start_time": "2022-05-19T21:26:23.331Z"
   },
   {
    "duration": 28,
    "start_time": "2022-05-19T21:26:42.752Z"
   },
   {
    "duration": 24,
    "start_time": "2022-05-19T21:28:21.327Z"
   },
   {
    "duration": 13,
    "start_time": "2022-05-19T21:29:35.316Z"
   },
   {
    "duration": 15,
    "start_time": "2022-05-19T21:29:56.469Z"
   },
   {
    "duration": 16,
    "start_time": "2022-05-19T21:30:28.449Z"
   },
   {
    "duration": 5,
    "start_time": "2022-05-19T21:33:24.568Z"
   },
   {
    "duration": 622,
    "start_time": "2022-05-19T21:34:02.323Z"
   },
   {
    "duration": 0,
    "start_time": "2022-05-19T21:35:12.498Z"
   },
   {
    "duration": 6,
    "start_time": "2022-05-19T21:36:10.413Z"
   },
   {
    "duration": 6,
    "start_time": "2022-05-19T21:36:41.421Z"
   },
   {
    "duration": 6,
    "start_time": "2022-05-19T21:37:15.955Z"
   },
   {
    "duration": 1263,
    "start_time": "2022-05-19T21:37:27.794Z"
   },
   {
    "duration": 132,
    "start_time": "2022-05-19T21:37:29.059Z"
   },
   {
    "duration": 4,
    "start_time": "2022-05-19T21:37:29.192Z"
   },
   {
    "duration": 137,
    "start_time": "2022-05-19T21:37:29.198Z"
   },
   {
    "duration": 51,
    "start_time": "2022-05-19T21:37:29.337Z"
   },
   {
    "duration": 41,
    "start_time": "2022-05-19T21:37:29.390Z"
   },
   {
    "duration": 34,
    "start_time": "2022-05-19T21:37:29.433Z"
   },
   {
    "duration": 6,
    "start_time": "2022-05-19T21:37:29.470Z"
   },
   {
    "duration": 47,
    "start_time": "2022-05-19T21:37:29.478Z"
   },
   {
    "duration": 34,
    "start_time": "2022-05-19T21:37:29.532Z"
   },
   {
    "duration": 57,
    "start_time": "2022-05-19T21:37:29.568Z"
   },
   {
    "duration": 18,
    "start_time": "2022-05-19T21:37:29.630Z"
   },
   {
    "duration": 89,
    "start_time": "2022-05-19T21:37:29.650Z"
   },
   {
    "duration": 4,
    "start_time": "2022-05-19T21:37:29.741Z"
   },
   {
    "duration": 13,
    "start_time": "2022-05-19T21:37:29.747Z"
   },
   {
    "duration": 1695,
    "start_time": "2022-05-19T21:37:29.761Z"
   },
   {
    "duration": 28,
    "start_time": "2022-05-19T21:37:31.458Z"
   },
   {
    "duration": 30,
    "start_time": "2022-05-19T21:37:31.488Z"
   },
   {
    "duration": 181,
    "start_time": "2022-05-19T21:37:31.521Z"
   },
   {
    "duration": 7,
    "start_time": "2022-05-19T21:37:31.705Z"
   },
   {
    "duration": 46,
    "start_time": "2022-05-19T21:37:31.714Z"
   },
   {
    "duration": 46,
    "start_time": "2022-05-19T21:37:31.762Z"
   },
   {
    "duration": 40,
    "start_time": "2022-05-19T21:37:31.811Z"
   },
   {
    "duration": 1122,
    "start_time": "2022-05-19T21:37:31.853Z"
   },
   {
    "duration": 86,
    "start_time": "2022-05-19T21:37:32.977Z"
   },
   {
    "duration": 32,
    "start_time": "2022-05-19T21:37:33.064Z"
   },
   {
    "duration": 175,
    "start_time": "2022-05-19T21:37:33.097Z"
   },
   {
    "duration": 252,
    "start_time": "2022-05-19T21:37:33.278Z"
   },
   {
    "duration": 368,
    "start_time": "2022-05-19T21:37:33.532Z"
   },
   {
    "duration": 37,
    "start_time": "2022-05-19T21:37:33.901Z"
   },
   {
    "duration": 31,
    "start_time": "2022-05-19T21:37:33.941Z"
   },
   {
    "duration": 13,
    "start_time": "2022-05-19T21:37:33.974Z"
   },
   {
    "duration": 57,
    "start_time": "2022-05-19T21:37:33.989Z"
   },
   {
    "duration": 7,
    "start_time": "2022-05-19T21:37:34.048Z"
   },
   {
    "duration": 26,
    "start_time": "2022-05-19T21:37:34.058Z"
   },
   {
    "duration": 79,
    "start_time": "2022-05-19T21:37:34.086Z"
   },
   {
    "duration": 404,
    "start_time": "2022-05-19T21:37:34.167Z"
   },
   {
    "duration": 550,
    "start_time": "2022-05-19T21:37:34.573Z"
   },
   {
    "duration": 21,
    "start_time": "2022-05-19T21:37:35.124Z"
   },
   {
    "duration": 5,
    "start_time": "2022-05-19T21:37:35.147Z"
   },
   {
    "duration": 7,
    "start_time": "2022-05-19T21:37:35.153Z"
   },
   {
    "duration": 51,
    "start_time": "2022-05-19T21:37:35.162Z"
   },
   {
    "duration": 30,
    "start_time": "2022-05-19T21:37:35.223Z"
   },
   {
    "duration": 5,
    "start_time": "2022-05-19T21:37:35.255Z"
   },
   {
    "duration": 13,
    "start_time": "2022-05-19T21:38:02.535Z"
   },
   {
    "duration": 5,
    "start_time": "2022-05-19T21:38:16.378Z"
   },
   {
    "duration": 6,
    "start_time": "2022-05-19T21:38:31.064Z"
   },
   {
    "duration": 4,
    "start_time": "2022-05-19T21:39:30.730Z"
   },
   {
    "duration": 4,
    "start_time": "2022-05-19T21:40:19.143Z"
   },
   {
    "duration": 27,
    "start_time": "2022-05-19T21:43:06.499Z"
   },
   {
    "duration": 108,
    "start_time": "2022-05-19T21:44:36.093Z"
   },
   {
    "duration": 23,
    "start_time": "2022-05-19T21:45:08.101Z"
   },
   {
    "duration": 23,
    "start_time": "2022-05-19T21:45:47.147Z"
   },
   {
    "duration": 21,
    "start_time": "2022-05-19T21:45:55.880Z"
   },
   {
    "duration": 23,
    "start_time": "2022-05-19T21:46:20.938Z"
   },
   {
    "duration": 17,
    "start_time": "2022-05-19T21:46:27.427Z"
   },
   {
    "duration": 320,
    "start_time": "2022-05-19T21:46:38.644Z"
   },
   {
    "duration": 1172,
    "start_time": "2022-05-19T21:48:08.523Z"
   },
   {
    "duration": 585,
    "start_time": "2022-05-19T21:48:22.695Z"
   },
   {
    "duration": 642,
    "start_time": "2022-05-19T21:48:59.550Z"
   },
   {
    "duration": 571,
    "start_time": "2022-05-19T21:49:16.409Z"
   },
   {
    "duration": 53,
    "start_time": "2022-05-19T21:51:50.025Z"
   },
   {
    "duration": 596,
    "start_time": "2022-05-19T21:52:16.719Z"
   },
   {
    "duration": 48,
    "start_time": "2022-05-19T21:53:55.246Z"
   },
   {
    "duration": 28,
    "start_time": "2022-05-19T21:54:07.701Z"
   },
   {
    "duration": 22,
    "start_time": "2022-05-19T21:54:08.945Z"
   },
   {
    "duration": 354,
    "start_time": "2022-05-19T21:54:48.659Z"
   },
   {
    "duration": 27,
    "start_time": "2022-05-19T21:54:54.479Z"
   },
   {
    "duration": 9,
    "start_time": "2022-05-19T21:55:07.547Z"
   },
   {
    "duration": 8,
    "start_time": "2022-05-19T21:55:54.461Z"
   },
   {
    "duration": 22,
    "start_time": "2022-05-19T21:56:00.880Z"
   },
   {
    "duration": 20,
    "start_time": "2022-05-19T21:56:03.942Z"
   },
   {
    "duration": 21,
    "start_time": "2022-05-19T21:56:40.399Z"
   },
   {
    "duration": 32,
    "start_time": "2022-05-19T21:57:18.676Z"
   },
   {
    "duration": 24,
    "start_time": "2022-05-19T21:57:37.528Z"
   },
   {
    "duration": 23,
    "start_time": "2022-05-19T21:58:17.996Z"
   },
   {
    "duration": 48,
    "start_time": "2022-05-19T21:58:32.097Z"
   },
   {
    "duration": 56,
    "start_time": "2022-05-19T21:59:15.497Z"
   },
   {
    "duration": 502,
    "start_time": "2022-05-19T21:59:20.045Z"
   },
   {
    "duration": 551,
    "start_time": "2022-05-19T21:59:52.279Z"
   },
   {
    "duration": 18,
    "start_time": "2022-05-19T22:00:20.345Z"
   },
   {
    "duration": 231,
    "start_time": "2022-05-19T22:00:24.899Z"
   },
   {
    "duration": 226,
    "start_time": "2022-05-19T22:00:29.869Z"
   },
   {
    "duration": 28,
    "start_time": "2022-05-19T22:00:38.009Z"
   },
   {
    "duration": 24,
    "start_time": "2022-05-19T22:00:39.269Z"
   },
   {
    "duration": 5,
    "start_time": "2022-05-19T22:00:48.405Z"
   },
   {
    "duration": 5,
    "start_time": "2022-05-19T22:00:49.945Z"
   },
   {
    "duration": 1149,
    "start_time": "2022-05-19T22:02:17.588Z"
   },
   {
    "duration": 129,
    "start_time": "2022-05-19T22:02:18.739Z"
   },
   {
    "duration": 4,
    "start_time": "2022-05-19T22:02:18.869Z"
   },
   {
    "duration": 103,
    "start_time": "2022-05-19T22:02:18.875Z"
   },
   {
    "duration": 57,
    "start_time": "2022-05-19T22:02:18.980Z"
   },
   {
    "duration": 24,
    "start_time": "2022-05-19T22:02:19.039Z"
   },
   {
    "duration": 24,
    "start_time": "2022-05-19T22:02:19.065Z"
   },
   {
    "duration": 6,
    "start_time": "2022-05-19T22:02:19.111Z"
   },
   {
    "duration": 13,
    "start_time": "2022-05-19T22:02:19.119Z"
   },
   {
    "duration": 31,
    "start_time": "2022-05-19T22:02:19.135Z"
   },
   {
    "duration": 65,
    "start_time": "2022-05-19T22:02:19.168Z"
   },
   {
    "duration": 12,
    "start_time": "2022-05-19T22:02:19.234Z"
   },
   {
    "duration": 69,
    "start_time": "2022-05-19T22:02:19.247Z"
   },
   {
    "duration": 3,
    "start_time": "2022-05-19T22:02:19.318Z"
   },
   {
    "duration": 6,
    "start_time": "2022-05-19T22:02:19.322Z"
   },
   {
    "duration": 1521,
    "start_time": "2022-05-19T22:02:19.330Z"
   },
   {
    "duration": 19,
    "start_time": "2022-05-19T22:02:20.852Z"
   },
   {
    "duration": 12,
    "start_time": "2022-05-19T22:02:20.873Z"
   },
   {
    "duration": 136,
    "start_time": "2022-05-19T22:02:20.886Z"
   },
   {
    "duration": 5,
    "start_time": "2022-05-19T22:02:21.023Z"
   },
   {
    "duration": 11,
    "start_time": "2022-05-19T22:02:21.029Z"
   },
   {
    "duration": 5,
    "start_time": "2022-05-19T22:02:21.041Z"
   },
   {
    "duration": 8,
    "start_time": "2022-05-19T22:02:21.047Z"
   },
   {
    "duration": 885,
    "start_time": "2022-05-19T22:02:21.057Z"
   },
   {
    "duration": 69,
    "start_time": "2022-05-19T22:02:21.944Z"
   },
   {
    "duration": 27,
    "start_time": "2022-05-19T22:02:22.014Z"
   },
   {
    "duration": 133,
    "start_time": "2022-05-19T22:02:22.042Z"
   },
   {
    "duration": 192,
    "start_time": "2022-05-19T22:02:22.180Z"
   },
   {
    "duration": 263,
    "start_time": "2022-05-19T22:02:22.373Z"
   },
   {
    "duration": 19,
    "start_time": "2022-05-19T22:02:22.638Z"
   },
   {
    "duration": 16,
    "start_time": "2022-05-19T22:02:22.658Z"
   },
   {
    "duration": 9,
    "start_time": "2022-05-19T22:02:22.675Z"
   },
   {
    "duration": 57,
    "start_time": "2022-05-19T22:02:22.685Z"
   },
   {
    "duration": 4,
    "start_time": "2022-05-19T22:02:22.744Z"
   },
   {
    "duration": 22,
    "start_time": "2022-05-19T22:02:22.749Z"
   },
   {
    "duration": 65,
    "start_time": "2022-05-19T22:02:22.772Z"
   },
   {
    "duration": 476,
    "start_time": "2022-05-19T22:02:22.838Z"
   },
   {
    "duration": 513,
    "start_time": "2022-05-19T22:02:23.316Z"
   },
   {
    "duration": 14,
    "start_time": "2022-05-19T22:02:23.830Z"
   },
   {
    "duration": 3,
    "start_time": "2022-05-19T22:02:23.846Z"
   },
   {
    "duration": 6,
    "start_time": "2022-05-19T22:02:23.851Z"
   },
   {
    "duration": 19,
    "start_time": "2022-05-19T22:02:23.859Z"
   },
   {
    "duration": 250,
    "start_time": "2022-05-19T22:02:23.879Z"
   },
   {
    "duration": 28,
    "start_time": "2022-05-19T22:02:24.131Z"
   },
   {
    "duration": 21,
    "start_time": "2022-05-19T22:02:24.161Z"
   },
   {
    "duration": 26,
    "start_time": "2022-05-19T22:07:37.957Z"
   },
   {
    "duration": 103,
    "start_time": "2022-05-19T22:14:32.091Z"
   },
   {
    "duration": 10,
    "start_time": "2022-05-19T22:14:50.651Z"
   },
   {
    "duration": 16,
    "start_time": "2022-05-19T22:15:56.459Z"
   },
   {
    "duration": 50,
    "start_time": "2022-05-20T07:27:30.362Z"
   },
   {
    "duration": 1264,
    "start_time": "2022-05-20T07:27:40.120Z"
   },
   {
    "duration": 500,
    "start_time": "2022-05-20T07:27:41.385Z"
   },
   {
    "duration": 5,
    "start_time": "2022-05-20T07:27:41.887Z"
   },
   {
    "duration": 104,
    "start_time": "2022-05-20T07:27:41.895Z"
   },
   {
    "duration": 45,
    "start_time": "2022-05-20T07:27:42.000Z"
   },
   {
    "duration": 27,
    "start_time": "2022-05-20T07:27:42.059Z"
   },
   {
    "duration": 23,
    "start_time": "2022-05-20T07:27:42.088Z"
   },
   {
    "duration": 4,
    "start_time": "2022-05-20T07:27:42.113Z"
   },
   {
    "duration": 44,
    "start_time": "2022-05-20T07:27:42.119Z"
   },
   {
    "duration": 29,
    "start_time": "2022-05-20T07:27:42.166Z"
   },
   {
    "duration": 34,
    "start_time": "2022-05-20T07:27:42.196Z"
   },
   {
    "duration": 32,
    "start_time": "2022-05-20T07:27:42.232Z"
   },
   {
    "duration": 58,
    "start_time": "2022-05-20T07:27:42.265Z"
   },
   {
    "duration": 4,
    "start_time": "2022-05-20T07:27:42.325Z"
   },
   {
    "duration": 6,
    "start_time": "2022-05-20T07:27:42.330Z"
   },
   {
    "duration": 1341,
    "start_time": "2022-05-20T07:27:42.337Z"
   },
   {
    "duration": 19,
    "start_time": "2022-05-20T07:27:43.679Z"
   },
   {
    "duration": 30,
    "start_time": "2022-05-20T07:27:43.700Z"
   },
   {
    "duration": 110,
    "start_time": "2022-05-20T07:27:43.732Z"
   },
   {
    "duration": 16,
    "start_time": "2022-05-20T07:27:43.844Z"
   },
   {
    "duration": 17,
    "start_time": "2022-05-20T07:27:43.862Z"
   },
   {
    "duration": 30,
    "start_time": "2022-05-20T07:27:43.881Z"
   },
   {
    "duration": 21,
    "start_time": "2022-05-20T07:27:43.912Z"
   },
   {
    "duration": 838,
    "start_time": "2022-05-20T07:27:43.934Z"
   },
   {
    "duration": 62,
    "start_time": "2022-05-20T07:27:44.774Z"
   },
   {
    "duration": 37,
    "start_time": "2022-05-20T07:27:44.838Z"
   },
   {
    "duration": 128,
    "start_time": "2022-05-20T07:27:44.876Z"
   },
   {
    "duration": 192,
    "start_time": "2022-05-20T07:27:45.007Z"
   },
   {
    "duration": 252,
    "start_time": "2022-05-20T07:27:45.200Z"
   },
   {
    "duration": 23,
    "start_time": "2022-05-20T07:27:45.454Z"
   },
   {
    "duration": 23,
    "start_time": "2022-05-20T07:27:45.479Z"
   },
   {
    "duration": 12,
    "start_time": "2022-05-20T07:27:45.504Z"
   },
   {
    "duration": 68,
    "start_time": "2022-05-20T07:27:45.518Z"
   },
   {
    "duration": 4,
    "start_time": "2022-05-20T07:27:45.588Z"
   },
   {
    "duration": 23,
    "start_time": "2022-05-20T07:27:45.594Z"
   },
   {
    "duration": 61,
    "start_time": "2022-05-20T07:27:45.619Z"
   },
   {
    "duration": 423,
    "start_time": "2022-05-20T07:27:45.682Z"
   },
   {
    "duration": 487,
    "start_time": "2022-05-20T07:27:46.107Z"
   },
   {
    "duration": 13,
    "start_time": "2022-05-20T07:27:46.595Z"
   },
   {
    "duration": 15,
    "start_time": "2022-05-20T07:27:46.610Z"
   },
   {
    "duration": 15,
    "start_time": "2022-05-20T07:27:46.626Z"
   },
   {
    "duration": 48,
    "start_time": "2022-05-20T07:27:46.643Z"
   },
   {
    "duration": 206,
    "start_time": "2022-05-20T07:27:46.692Z"
   },
   {
    "duration": 23,
    "start_time": "2022-05-20T07:27:46.899Z"
   },
   {
    "duration": 23,
    "start_time": "2022-05-20T07:27:46.923Z"
   },
   {
    "duration": 113,
    "start_time": "2022-05-20T07:27:46.948Z"
   },
   {
    "duration": 9,
    "start_time": "2022-05-20T07:29:34.758Z"
   },
   {
    "duration": 11,
    "start_time": "2022-05-20T07:29:55.238Z"
   },
   {
    "duration": 11,
    "start_time": "2022-05-20T07:30:39.026Z"
   },
   {
    "duration": 9,
    "start_time": "2022-05-20T07:31:40.803Z"
   },
   {
    "duration": 1043,
    "start_time": "2022-05-20T07:35:34.341Z"
   },
   {
    "duration": 121,
    "start_time": "2022-05-20T07:35:35.386Z"
   },
   {
    "duration": 4,
    "start_time": "2022-05-20T07:35:35.508Z"
   },
   {
    "duration": 98,
    "start_time": "2022-05-20T07:35:35.513Z"
   },
   {
    "duration": 47,
    "start_time": "2022-05-20T07:35:35.613Z"
   },
   {
    "duration": 21,
    "start_time": "2022-05-20T07:35:35.662Z"
   },
   {
    "duration": 29,
    "start_time": "2022-05-20T07:35:35.684Z"
   },
   {
    "duration": 7,
    "start_time": "2022-05-20T07:35:35.715Z"
   },
   {
    "duration": 28,
    "start_time": "2022-05-20T07:35:35.723Z"
   },
   {
    "duration": 46,
    "start_time": "2022-05-20T07:35:35.753Z"
   },
   {
    "duration": 38,
    "start_time": "2022-05-20T07:35:35.800Z"
   },
   {
    "duration": 11,
    "start_time": "2022-05-20T07:35:35.840Z"
   },
   {
    "duration": 78,
    "start_time": "2022-05-20T07:35:35.853Z"
   },
   {
    "duration": 4,
    "start_time": "2022-05-20T07:35:35.933Z"
   },
   {
    "duration": 31,
    "start_time": "2022-05-20T07:35:35.938Z"
   },
   {
    "duration": 1343,
    "start_time": "2022-05-20T07:35:35.970Z"
   },
   {
    "duration": 17,
    "start_time": "2022-05-20T07:35:37.315Z"
   },
   {
    "duration": 38,
    "start_time": "2022-05-20T07:35:37.333Z"
   },
   {
    "duration": 110,
    "start_time": "2022-05-20T07:35:37.372Z"
   },
   {
    "duration": 4,
    "start_time": "2022-05-20T07:35:37.484Z"
   },
   {
    "duration": 31,
    "start_time": "2022-05-20T07:35:37.489Z"
   },
   {
    "duration": 19,
    "start_time": "2022-05-20T07:35:37.521Z"
   },
   {
    "duration": 22,
    "start_time": "2022-05-20T07:35:37.541Z"
   },
   {
    "duration": 883,
    "start_time": "2022-05-20T07:35:37.564Z"
   },
   {
    "duration": 61,
    "start_time": "2022-05-20T07:35:38.449Z"
   },
   {
    "duration": 24,
    "start_time": "2022-05-20T07:35:38.512Z"
   },
   {
    "duration": 123,
    "start_time": "2022-05-20T07:35:38.537Z"
   },
   {
    "duration": 168,
    "start_time": "2022-05-20T07:35:38.663Z"
   },
   {
    "duration": 259,
    "start_time": "2022-05-20T07:35:38.833Z"
   },
   {
    "duration": 16,
    "start_time": "2022-05-20T07:35:39.094Z"
   },
   {
    "duration": 19,
    "start_time": "2022-05-20T07:35:39.112Z"
   },
   {
    "duration": 20,
    "start_time": "2022-05-20T07:35:39.133Z"
   },
   {
    "duration": 40,
    "start_time": "2022-05-20T07:35:39.160Z"
   },
   {
    "duration": 5,
    "start_time": "2022-05-20T07:35:39.202Z"
   },
   {
    "duration": 35,
    "start_time": "2022-05-20T07:35:39.208Z"
   },
   {
    "duration": 48,
    "start_time": "2022-05-20T07:35:39.245Z"
   },
   {
    "duration": 427,
    "start_time": "2022-05-20T07:35:39.295Z"
   },
   {
    "duration": 475,
    "start_time": "2022-05-20T07:35:39.724Z"
   },
   {
    "duration": 13,
    "start_time": "2022-05-20T07:35:40.200Z"
   },
   {
    "duration": 25,
    "start_time": "2022-05-20T07:35:40.214Z"
   },
   {
    "duration": 25,
    "start_time": "2022-05-20T07:35:40.240Z"
   },
   {
    "duration": 28,
    "start_time": "2022-05-20T07:35:40.267Z"
   },
   {
    "duration": 210,
    "start_time": "2022-05-20T07:35:40.296Z"
   },
   {
    "duration": 23,
    "start_time": "2022-05-20T07:35:40.507Z"
   },
   {
    "duration": 33,
    "start_time": "2022-05-20T07:35:40.532Z"
   },
   {
    "duration": 105,
    "start_time": "2022-05-20T07:35:40.566Z"
   },
   {
    "duration": 13,
    "start_time": "2022-05-20T07:35:56.689Z"
   },
   {
    "duration": 23,
    "start_time": "2022-05-20T07:36:08.689Z"
   },
   {
    "duration": 276,
    "start_time": "2022-05-20T07:48:31.932Z"
   },
   {
    "duration": 249,
    "start_time": "2022-05-20T07:48:35.477Z"
   },
   {
    "duration": 20,
    "start_time": "2022-05-20T07:48:53.490Z"
   },
   {
    "duration": 28,
    "start_time": "2022-05-20T07:48:54.575Z"
   },
   {
    "duration": 1203,
    "start_time": "2022-05-20T07:49:15.060Z"
   },
   {
    "duration": 124,
    "start_time": "2022-05-20T07:49:16.265Z"
   },
   {
    "duration": 3,
    "start_time": "2022-05-20T07:49:16.391Z"
   },
   {
    "duration": 115,
    "start_time": "2022-05-20T07:49:16.397Z"
   },
   {
    "duration": 87,
    "start_time": "2022-05-20T07:49:16.514Z"
   },
   {
    "duration": 28,
    "start_time": "2022-05-20T07:49:16.603Z"
   },
   {
    "duration": 38,
    "start_time": "2022-05-20T07:49:16.633Z"
   },
   {
    "duration": 5,
    "start_time": "2022-05-20T07:49:16.673Z"
   },
   {
    "duration": 14,
    "start_time": "2022-05-20T07:49:16.679Z"
   },
   {
    "duration": 30,
    "start_time": "2022-05-20T07:49:16.695Z"
   },
   {
    "duration": 60,
    "start_time": "2022-05-20T07:49:16.727Z"
   },
   {
    "duration": 11,
    "start_time": "2022-05-20T07:49:16.789Z"
   },
   {
    "duration": 77,
    "start_time": "2022-05-20T07:49:16.802Z"
   },
   {
    "duration": 3,
    "start_time": "2022-05-20T07:49:16.880Z"
   },
   {
    "duration": 6,
    "start_time": "2022-05-20T07:49:16.885Z"
   },
   {
    "duration": 1468,
    "start_time": "2022-05-20T07:49:16.893Z"
   },
   {
    "duration": 19,
    "start_time": "2022-05-20T07:49:18.363Z"
   },
   {
    "duration": 13,
    "start_time": "2022-05-20T07:49:18.384Z"
   },
   {
    "duration": 133,
    "start_time": "2022-05-20T07:49:18.398Z"
   },
   {
    "duration": 5,
    "start_time": "2022-05-20T07:49:18.533Z"
   },
   {
    "duration": 22,
    "start_time": "2022-05-20T07:49:18.539Z"
   },
   {
    "duration": 14,
    "start_time": "2022-05-20T07:49:18.562Z"
   },
   {
    "duration": 8,
    "start_time": "2022-05-20T07:49:18.578Z"
   },
   {
    "duration": 895,
    "start_time": "2022-05-20T07:49:18.587Z"
   },
   {
    "duration": 109,
    "start_time": "2022-05-20T07:49:19.483Z"
   },
   {
    "duration": 76,
    "start_time": "2022-05-20T07:49:19.593Z"
   },
   {
    "duration": 192,
    "start_time": "2022-05-20T07:49:19.670Z"
   },
   {
    "duration": 208,
    "start_time": "2022-05-20T07:49:19.865Z"
   },
   {
    "duration": 255,
    "start_time": "2022-05-20T07:49:20.075Z"
   },
   {
    "duration": 17,
    "start_time": "2022-05-20T07:49:20.332Z"
   },
   {
    "duration": 16,
    "start_time": "2022-05-20T07:49:20.359Z"
   },
   {
    "duration": 9,
    "start_time": "2022-05-20T07:49:20.377Z"
   },
   {
    "duration": 25,
    "start_time": "2022-05-20T07:49:20.387Z"
   },
   {
    "duration": 6,
    "start_time": "2022-05-20T07:49:20.413Z"
   },
   {
    "duration": 49,
    "start_time": "2022-05-20T07:49:20.420Z"
   },
   {
    "duration": 48,
    "start_time": "2022-05-20T07:49:20.471Z"
   },
   {
    "duration": 484,
    "start_time": "2022-05-20T07:49:20.521Z"
   },
   {
    "duration": 513,
    "start_time": "2022-05-20T07:49:21.006Z"
   },
   {
    "duration": 15,
    "start_time": "2022-05-20T07:49:21.520Z"
   },
   {
    "duration": 17,
    "start_time": "2022-05-20T07:49:21.537Z"
   },
   {
    "duration": 20,
    "start_time": "2022-05-20T07:49:21.559Z"
   },
   {
    "duration": 23,
    "start_time": "2022-05-20T07:49:21.581Z"
   },
   {
    "duration": 281,
    "start_time": "2022-05-20T07:49:21.606Z"
   },
   {
    "duration": 33,
    "start_time": "2022-05-20T07:49:21.888Z"
   },
   {
    "duration": 38,
    "start_time": "2022-05-20T07:49:21.922Z"
   },
   {
    "duration": 20,
    "start_time": "2022-05-20T07:49:21.962Z"
   },
   {
    "duration": 293,
    "start_time": "2022-05-20T07:52:28.076Z"
   },
   {
    "duration": 25,
    "start_time": "2022-05-20T07:52:35.633Z"
   },
   {
    "duration": 18,
    "start_time": "2022-05-20T07:52:36.545Z"
   },
   {
    "duration": 1062,
    "start_time": "2022-05-20T07:52:43.449Z"
   },
   {
    "duration": 115,
    "start_time": "2022-05-20T07:52:44.513Z"
   },
   {
    "duration": 4,
    "start_time": "2022-05-20T07:52:44.630Z"
   },
   {
    "duration": 108,
    "start_time": "2022-05-20T07:52:44.636Z"
   },
   {
    "duration": 56,
    "start_time": "2022-05-20T07:52:44.745Z"
   },
   {
    "duration": 21,
    "start_time": "2022-05-20T07:52:44.803Z"
   },
   {
    "duration": 41,
    "start_time": "2022-05-20T07:52:44.826Z"
   },
   {
    "duration": 5,
    "start_time": "2022-05-20T07:52:44.868Z"
   },
   {
    "duration": 34,
    "start_time": "2022-05-20T07:52:44.875Z"
   },
   {
    "duration": 69,
    "start_time": "2022-05-20T07:52:44.912Z"
   },
   {
    "duration": 36,
    "start_time": "2022-05-20T07:52:44.982Z"
   },
   {
    "duration": 13,
    "start_time": "2022-05-20T07:52:45.019Z"
   },
   {
    "duration": 74,
    "start_time": "2022-05-20T07:52:45.033Z"
   },
   {
    "duration": 3,
    "start_time": "2022-05-20T07:52:45.108Z"
   },
   {
    "duration": 23,
    "start_time": "2022-05-20T07:52:45.113Z"
   },
   {
    "duration": 1355,
    "start_time": "2022-05-20T07:52:45.138Z"
   },
   {
    "duration": 19,
    "start_time": "2022-05-20T07:52:46.494Z"
   },
   {
    "duration": 12,
    "start_time": "2022-05-20T07:52:46.514Z"
   },
   {
    "duration": 124,
    "start_time": "2022-05-20T07:52:46.528Z"
   },
   {
    "duration": 5,
    "start_time": "2022-05-20T07:52:46.659Z"
   },
   {
    "duration": 16,
    "start_time": "2022-05-20T07:52:46.666Z"
   },
   {
    "duration": 22,
    "start_time": "2022-05-20T07:52:46.683Z"
   },
   {
    "duration": 20,
    "start_time": "2022-05-20T07:52:46.706Z"
   },
   {
    "duration": 817,
    "start_time": "2022-05-20T07:52:46.727Z"
   },
   {
    "duration": 60,
    "start_time": "2022-05-20T07:52:47.546Z"
   },
   {
    "duration": 25,
    "start_time": "2022-05-20T07:52:47.607Z"
   },
   {
    "duration": 155,
    "start_time": "2022-05-20T07:52:47.633Z"
   },
   {
    "duration": 262,
    "start_time": "2022-05-20T07:52:47.792Z"
   },
   {
    "duration": 262,
    "start_time": "2022-05-20T07:52:48.056Z"
   },
   {
    "duration": 18,
    "start_time": "2022-05-20T07:52:48.320Z"
   },
   {
    "duration": 36,
    "start_time": "2022-05-20T07:52:48.339Z"
   },
   {
    "duration": 8,
    "start_time": "2022-05-20T07:52:48.376Z"
   },
   {
    "duration": 27,
    "start_time": "2022-05-20T07:52:48.386Z"
   },
   {
    "duration": 5,
    "start_time": "2022-05-20T07:52:48.414Z"
   },
   {
    "duration": 43,
    "start_time": "2022-05-20T07:52:48.420Z"
   },
   {
    "duration": 47,
    "start_time": "2022-05-20T07:52:48.464Z"
   },
   {
    "duration": 466,
    "start_time": "2022-05-20T07:52:48.512Z"
   },
   {
    "duration": 522,
    "start_time": "2022-05-20T07:52:48.980Z"
   },
   {
    "duration": 13,
    "start_time": "2022-05-20T07:52:49.504Z"
   },
   {
    "duration": 25,
    "start_time": "2022-05-20T07:52:49.519Z"
   },
   {
    "duration": 15,
    "start_time": "2022-05-20T07:52:49.545Z"
   },
   {
    "duration": 39,
    "start_time": "2022-05-20T07:52:49.561Z"
   },
   {
    "duration": 206,
    "start_time": "2022-05-20T07:52:49.601Z"
   },
   {
    "duration": 24,
    "start_time": "2022-05-20T07:52:49.809Z"
   },
   {
    "duration": 39,
    "start_time": "2022-05-20T07:52:49.835Z"
   },
   {
    "duration": 27,
    "start_time": "2022-05-20T07:52:49.876Z"
   },
   {
    "duration": 25,
    "start_time": "2022-05-20T07:53:51.984Z"
   },
   {
    "duration": 285,
    "start_time": "2022-05-20T07:59:51.251Z"
   },
   {
    "duration": 20,
    "start_time": "2022-05-20T07:59:56.712Z"
   },
   {
    "duration": 248,
    "start_time": "2022-05-20T08:00:14.466Z"
   },
   {
    "duration": 21,
    "start_time": "2022-05-20T08:00:25.051Z"
   },
   {
    "duration": 28,
    "start_time": "2022-05-20T08:00:37.831Z"
   },
   {
    "duration": 24,
    "start_time": "2022-05-20T08:01:06.089Z"
   },
   {
    "duration": 22,
    "start_time": "2022-05-20T08:01:47.201Z"
   },
   {
    "duration": 222,
    "start_time": "2022-05-20T08:02:50.011Z"
   },
   {
    "duration": 274,
    "start_time": "2022-05-20T08:03:10.387Z"
   },
   {
    "duration": 156,
    "start_time": "2022-05-20T08:03:19.217Z"
   },
   {
    "duration": 149,
    "start_time": "2022-05-20T08:03:25.512Z"
   },
   {
    "duration": 151,
    "start_time": "2022-05-20T08:03:34.024Z"
   },
   {
    "duration": 6,
    "start_time": "2022-05-20T08:04:16.420Z"
   },
   {
    "duration": 155,
    "start_time": "2022-05-20T08:04:43.229Z"
   },
   {
    "duration": 7,
    "start_time": "2022-05-20T08:05:00.791Z"
   },
   {
    "duration": 181,
    "start_time": "2022-05-20T08:05:20.045Z"
   },
   {
    "duration": 192,
    "start_time": "2022-05-20T08:06:03.377Z"
   },
   {
    "duration": 189,
    "start_time": "2022-05-20T08:06:19.980Z"
   },
   {
    "duration": 395,
    "start_time": "2022-05-20T08:06:33.494Z"
   },
   {
    "duration": 357,
    "start_time": "2022-05-20T08:06:56.119Z"
   },
   {
    "duration": 372,
    "start_time": "2022-05-20T08:07:08.656Z"
   },
   {
    "duration": 311,
    "start_time": "2022-05-20T08:09:54.704Z"
   },
   {
    "duration": 1003,
    "start_time": "2022-05-20T10:04:28.580Z"
   },
   {
    "duration": 119,
    "start_time": "2022-05-20T10:04:29.585Z"
   },
   {
    "duration": 4,
    "start_time": "2022-05-20T10:04:29.706Z"
   },
   {
    "duration": 116,
    "start_time": "2022-05-20T10:04:29.711Z"
   },
   {
    "duration": 54,
    "start_time": "2022-05-20T10:04:29.829Z"
   },
   {
    "duration": 21,
    "start_time": "2022-05-20T10:04:29.885Z"
   },
   {
    "duration": 22,
    "start_time": "2022-05-20T10:04:29.908Z"
   },
   {
    "duration": 4,
    "start_time": "2022-05-20T10:04:29.932Z"
   },
   {
    "duration": 30,
    "start_time": "2022-05-20T10:04:29.938Z"
   },
   {
    "duration": 33,
    "start_time": "2022-05-20T10:04:29.970Z"
   },
   {
    "duration": 34,
    "start_time": "2022-05-20T10:04:30.005Z"
   },
   {
    "duration": 25,
    "start_time": "2022-05-20T10:04:30.041Z"
   },
   {
    "duration": 71,
    "start_time": "2022-05-20T10:04:30.067Z"
   },
   {
    "duration": 4,
    "start_time": "2022-05-20T10:04:30.139Z"
   },
   {
    "duration": 21,
    "start_time": "2022-05-20T10:04:30.144Z"
   },
   {
    "duration": 1395,
    "start_time": "2022-05-20T10:04:30.166Z"
   },
   {
    "duration": 20,
    "start_time": "2022-05-20T10:04:31.562Z"
   },
   {
    "duration": 37,
    "start_time": "2022-05-20T10:04:31.583Z"
   },
   {
    "duration": 132,
    "start_time": "2022-05-20T10:04:31.622Z"
   },
   {
    "duration": 4,
    "start_time": "2022-05-20T10:04:31.759Z"
   },
   {
    "duration": 25,
    "start_time": "2022-05-20T10:04:31.765Z"
   },
   {
    "duration": 10,
    "start_time": "2022-05-20T10:04:31.791Z"
   },
   {
    "duration": 13,
    "start_time": "2022-05-20T10:04:31.803Z"
   },
   {
    "duration": 829,
    "start_time": "2022-05-20T10:04:31.817Z"
   },
   {
    "duration": 60,
    "start_time": "2022-05-20T10:04:32.648Z"
   },
   {
    "duration": 25,
    "start_time": "2022-05-20T10:04:32.709Z"
   },
   {
    "duration": 129,
    "start_time": "2022-05-20T10:04:32.735Z"
   },
   {
    "duration": 177,
    "start_time": "2022-05-20T10:04:32.867Z"
   },
   {
    "duration": 256,
    "start_time": "2022-05-20T10:04:33.046Z"
   },
   {
    "duration": 18,
    "start_time": "2022-05-20T10:04:33.304Z"
   },
   {
    "duration": 17,
    "start_time": "2022-05-20T10:04:33.323Z"
   },
   {
    "duration": 27,
    "start_time": "2022-05-20T10:04:33.342Z"
   },
   {
    "duration": 47,
    "start_time": "2022-05-20T10:04:33.370Z"
   },
   {
    "duration": 5,
    "start_time": "2022-05-20T10:04:33.419Z"
   },
   {
    "duration": 69,
    "start_time": "2022-05-20T10:04:33.425Z"
   },
   {
    "duration": 47,
    "start_time": "2022-05-20T10:04:33.496Z"
   },
   {
    "duration": 424,
    "start_time": "2022-05-20T10:04:33.544Z"
   },
   {
    "duration": 489,
    "start_time": "2022-05-20T10:04:33.970Z"
   },
   {
    "duration": 13,
    "start_time": "2022-05-20T10:04:34.461Z"
   },
   {
    "duration": 4,
    "start_time": "2022-05-20T10:04:34.475Z"
   },
   {
    "duration": 10,
    "start_time": "2022-05-20T10:04:34.480Z"
   },
   {
    "duration": 24,
    "start_time": "2022-05-20T10:04:34.491Z"
   },
   {
    "duration": 212,
    "start_time": "2022-05-20T10:04:34.517Z"
   },
   {
    "duration": 79,
    "start_time": "2022-05-20T17:26:39.413Z"
   },
   {
    "duration": 1090,
    "start_time": "2022-05-20T17:29:30.120Z"
   },
   {
    "duration": 120,
    "start_time": "2022-05-20T17:29:31.212Z"
   },
   {
    "duration": 3,
    "start_time": "2022-05-20T17:29:31.334Z"
   },
   {
    "duration": 106,
    "start_time": "2022-05-20T17:29:31.339Z"
   },
   {
    "duration": 56,
    "start_time": "2022-05-20T17:29:31.447Z"
   },
   {
    "duration": 23,
    "start_time": "2022-05-20T17:29:31.504Z"
   },
   {
    "duration": 23,
    "start_time": "2022-05-20T17:29:31.529Z"
   },
   {
    "duration": 23,
    "start_time": "2022-05-20T17:29:31.553Z"
   },
   {
    "duration": 16,
    "start_time": "2022-05-20T17:29:31.577Z"
   },
   {
    "duration": 30,
    "start_time": "2022-05-20T17:29:31.595Z"
   },
   {
    "duration": 56,
    "start_time": "2022-05-20T17:29:31.626Z"
   },
   {
    "duration": 13,
    "start_time": "2022-05-20T17:29:31.683Z"
   },
   {
    "duration": 60,
    "start_time": "2022-05-20T17:29:31.698Z"
   },
   {
    "duration": 4,
    "start_time": "2022-05-20T17:29:31.776Z"
   },
   {
    "duration": 5,
    "start_time": "2022-05-20T17:29:31.782Z"
   },
   {
    "duration": 1528,
    "start_time": "2022-05-20T17:29:31.789Z"
   },
   {
    "duration": 21,
    "start_time": "2022-05-20T17:29:33.318Z"
   },
   {
    "duration": 12,
    "start_time": "2022-05-20T17:29:33.341Z"
   },
   {
    "duration": 136,
    "start_time": "2022-05-20T17:29:33.354Z"
   },
   {
    "duration": 5,
    "start_time": "2022-05-20T17:29:33.491Z"
   },
   {
    "duration": 8,
    "start_time": "2022-05-20T17:29:33.497Z"
   },
   {
    "duration": 5,
    "start_time": "2022-05-20T17:29:33.506Z"
   },
   {
    "duration": 8,
    "start_time": "2022-05-20T17:29:33.513Z"
   },
   {
    "duration": 861,
    "start_time": "2022-05-20T17:29:33.522Z"
   },
   {
    "duration": 59,
    "start_time": "2022-05-20T17:29:34.385Z"
   },
   {
    "duration": 41,
    "start_time": "2022-05-20T17:29:34.446Z"
   },
   {
    "duration": 125,
    "start_time": "2022-05-20T17:29:34.488Z"
   },
   {
    "duration": 181,
    "start_time": "2022-05-20T17:29:34.617Z"
   },
   {
    "duration": 308,
    "start_time": "2022-05-20T17:29:34.800Z"
   },
   {
    "duration": 20,
    "start_time": "2022-05-20T17:29:35.109Z"
   },
   {
    "duration": 23,
    "start_time": "2022-05-20T17:29:35.130Z"
   },
   {
    "duration": 12,
    "start_time": "2022-05-20T17:29:35.175Z"
   },
   {
    "duration": 27,
    "start_time": "2022-05-20T17:29:35.188Z"
   },
   {
    "duration": 6,
    "start_time": "2022-05-20T17:29:35.216Z"
   },
   {
    "duration": 26,
    "start_time": "2022-05-20T17:29:35.223Z"
   },
   {
    "duration": 70,
    "start_time": "2022-05-20T17:29:35.250Z"
   },
   {
    "duration": 478,
    "start_time": "2022-05-20T17:29:35.321Z"
   },
   {
    "duration": 522,
    "start_time": "2022-05-20T17:29:35.801Z"
   },
   {
    "duration": 14,
    "start_time": "2022-05-20T17:29:36.325Z"
   },
   {
    "duration": 5,
    "start_time": "2022-05-20T17:29:36.340Z"
   },
   {
    "duration": 5,
    "start_time": "2022-05-20T17:29:36.346Z"
   },
   {
    "duration": 38,
    "start_time": "2022-05-20T17:29:36.352Z"
   },
   {
    "duration": 227,
    "start_time": "2022-05-20T17:29:36.392Z"
   },
   {
    "duration": 5,
    "start_time": "2022-05-20T17:29:36.620Z"
   },
   {
    "duration": 0,
    "start_time": "2022-05-20T17:29:36.626Z"
   },
   {
    "duration": 23,
    "start_time": "2022-05-20T17:29:52.781Z"
   },
   {
    "duration": 4,
    "start_time": "2022-05-20T17:30:06.385Z"
   },
   {
    "duration": 3,
    "start_time": "2022-05-20T17:30:11.563Z"
   },
   {
    "duration": 15,
    "start_time": "2022-05-20T17:30:17.061Z"
   },
   {
    "duration": 16,
    "start_time": "2022-05-20T17:32:13.683Z"
   },
   {
    "duration": 6,
    "start_time": "2022-05-20T17:33:59.515Z"
   },
   {
    "duration": 12,
    "start_time": "2022-05-20T17:34:33.349Z"
   },
   {
    "duration": 104,
    "start_time": "2022-05-20T17:35:38.887Z"
   },
   {
    "duration": 3,
    "start_time": "2022-05-20T17:36:08.199Z"
   },
   {
    "duration": 7,
    "start_time": "2022-05-20T17:36:11.117Z"
   },
   {
    "duration": 5,
    "start_time": "2022-05-20T17:36:41.209Z"
   },
   {
    "duration": 4,
    "start_time": "2022-05-20T17:37:05.339Z"
   },
   {
    "duration": 7,
    "start_time": "2022-05-20T17:37:12.713Z"
   },
   {
    "duration": 7,
    "start_time": "2022-05-20T17:37:14.653Z"
   },
   {
    "duration": 7,
    "start_time": "2022-05-20T17:37:15.441Z"
   },
   {
    "duration": 7,
    "start_time": "2022-05-20T17:37:16.255Z"
   },
   {
    "duration": 444,
    "start_time": "2022-05-20T17:38:00.497Z"
   },
   {
    "duration": 491,
    "start_time": "2022-05-20T17:38:13.577Z"
   },
   {
    "duration": 360,
    "start_time": "2022-05-20T17:38:41.203Z"
   },
   {
    "duration": 6,
    "start_time": "2022-05-20T17:39:41.088Z"
   },
   {
    "duration": 7,
    "start_time": "2022-05-20T17:40:38.013Z"
   },
   {
    "duration": 16,
    "start_time": "2022-05-20T17:40:52.023Z"
   },
   {
    "duration": 382,
    "start_time": "2022-05-20T17:41:04.047Z"
   },
   {
    "duration": 14,
    "start_time": "2022-05-20T17:41:47.125Z"
   },
   {
    "duration": 6,
    "start_time": "2022-05-20T17:44:33.168Z"
   },
   {
    "duration": 24,
    "start_time": "2022-05-20T17:50:35.134Z"
   },
   {
    "duration": 9,
    "start_time": "2022-05-20T17:52:18.684Z"
   },
   {
    "duration": 13,
    "start_time": "2022-05-20T17:52:20.194Z"
   },
   {
    "duration": 18,
    "start_time": "2022-05-20T17:53:26.205Z"
   },
   {
    "duration": 31,
    "start_time": "2022-05-20T17:56:08.182Z"
   },
   {
    "duration": 12,
    "start_time": "2022-05-20T17:56:19.000Z"
   },
   {
    "duration": 19,
    "start_time": "2022-05-20T17:56:25.809Z"
   },
   {
    "duration": 19,
    "start_time": "2022-05-20T17:59:25.141Z"
   },
   {
    "duration": 6,
    "start_time": "2022-05-20T18:01:43.254Z"
   },
   {
    "duration": 7,
    "start_time": "2022-05-20T18:02:01.886Z"
   },
   {
    "duration": 5,
    "start_time": "2022-05-20T18:02:12.039Z"
   },
   {
    "duration": 15,
    "start_time": "2022-05-20T18:07:29.340Z"
   },
   {
    "duration": 15,
    "start_time": "2022-05-20T18:07:53.429Z"
   },
   {
    "duration": 11,
    "start_time": "2022-05-20T18:08:14.974Z"
   },
   {
    "duration": 11,
    "start_time": "2022-05-20T18:08:55.905Z"
   },
   {
    "duration": 5,
    "start_time": "2022-05-20T18:09:08.433Z"
   },
   {
    "duration": 7,
    "start_time": "2022-05-20T18:12:49.075Z"
   },
   {
    "duration": 7,
    "start_time": "2022-05-20T18:12:50.638Z"
   },
   {
    "duration": 7,
    "start_time": "2022-05-20T18:12:55.442Z"
   },
   {
    "duration": 7,
    "start_time": "2022-05-20T18:12:58.990Z"
   },
   {
    "duration": 8,
    "start_time": "2022-05-20T18:13:03.946Z"
   },
   {
    "duration": 7,
    "start_time": "2022-05-20T18:13:08.657Z"
   },
   {
    "duration": 5,
    "start_time": "2022-05-20T18:13:43.807Z"
   },
   {
    "duration": 6,
    "start_time": "2022-05-20T18:13:53.639Z"
   },
   {
    "duration": 109,
    "start_time": "2022-05-20T18:15:41.771Z"
   },
   {
    "duration": 93,
    "start_time": "2022-05-20T18:15:50.721Z"
   },
   {
    "duration": 120,
    "start_time": "2022-05-20T18:15:55.576Z"
   },
   {
    "duration": 114,
    "start_time": "2022-05-20T18:16:02.341Z"
   },
   {
    "duration": 8,
    "start_time": "2022-05-20T18:16:49.781Z"
   },
   {
    "duration": 7,
    "start_time": "2022-05-20T18:18:08.600Z"
   },
   {
    "duration": 12,
    "start_time": "2022-05-20T18:18:51.990Z"
   },
   {
    "duration": 6,
    "start_time": "2022-05-20T18:22:10.173Z"
   },
   {
    "duration": 7,
    "start_time": "2022-05-20T18:25:00.001Z"
   },
   {
    "duration": 5,
    "start_time": "2022-05-20T18:25:42.703Z"
   },
   {
    "duration": 6,
    "start_time": "2022-05-20T18:27:05.958Z"
   },
   {
    "duration": 6,
    "start_time": "2022-05-20T18:27:08.932Z"
   },
   {
    "duration": 5,
    "start_time": "2022-05-20T18:27:16.796Z"
   },
   {
    "duration": 6,
    "start_time": "2022-05-20T18:27:29.402Z"
   },
   {
    "duration": 5,
    "start_time": "2022-05-20T18:27:34.811Z"
   },
   {
    "duration": 5,
    "start_time": "2022-05-20T18:44:28.596Z"
   },
   {
    "duration": 5,
    "start_time": "2022-05-20T18:44:30.212Z"
   },
   {
    "duration": 4,
    "start_time": "2022-05-20T18:44:54.287Z"
   },
   {
    "duration": 4,
    "start_time": "2022-05-20T18:44:55.684Z"
   },
   {
    "duration": 16,
    "start_time": "2022-05-20T18:45:06.599Z"
   },
   {
    "duration": 7,
    "start_time": "2022-05-20T18:45:28.261Z"
   },
   {
    "duration": 8,
    "start_time": "2022-05-20T18:45:29.340Z"
   },
   {
    "duration": 4,
    "start_time": "2022-05-20T18:45:33.069Z"
   },
   {
    "duration": 7,
    "start_time": "2022-05-20T18:45:34.069Z"
   },
   {
    "duration": 4,
    "start_time": "2022-05-20T18:45:52.199Z"
   },
   {
    "duration": 4,
    "start_time": "2022-05-20T18:46:02.368Z"
   },
   {
    "duration": 5,
    "start_time": "2022-05-20T18:46:09.647Z"
   },
   {
    "duration": 6,
    "start_time": "2022-05-20T18:46:42.051Z"
   },
   {
    "duration": 6,
    "start_time": "2022-05-20T18:53:05.546Z"
   },
   {
    "duration": 26,
    "start_time": "2022-05-20T18:53:14.463Z"
   },
   {
    "duration": 7,
    "start_time": "2022-05-20T18:53:32.751Z"
   },
   {
    "duration": 17,
    "start_time": "2022-05-20T18:53:33.632Z"
   },
   {
    "duration": 19,
    "start_time": "2022-05-20T18:53:34.519Z"
   },
   {
    "duration": 6,
    "start_time": "2022-05-20T18:53:45.356Z"
   },
   {
    "duration": 6,
    "start_time": "2022-05-20T18:53:49.626Z"
   },
   {
    "duration": 49,
    "start_time": "2022-05-20T18:58:00.686Z"
   },
   {
    "duration": 620,
    "start_time": "2022-05-20T18:58:16.465Z"
   },
   {
    "duration": 10,
    "start_time": "2022-05-20T18:58:31.210Z"
   },
   {
    "duration": 6,
    "start_time": "2022-05-20T18:59:24.183Z"
   },
   {
    "duration": 4,
    "start_time": "2022-05-20T18:59:25.766Z"
   },
   {
    "duration": 19,
    "start_time": "2022-05-20T18:59:34.485Z"
   },
   {
    "duration": 21,
    "start_time": "2022-05-20T18:59:59.193Z"
   },
   {
    "duration": 20,
    "start_time": "2022-05-20T19:00:07.682Z"
   },
   {
    "duration": 7,
    "start_time": "2022-05-20T19:00:24.364Z"
   },
   {
    "duration": 6,
    "start_time": "2022-05-20T19:00:45.998Z"
   },
   {
    "duration": 5,
    "start_time": "2022-05-20T19:01:19.438Z"
   },
   {
    "duration": 5,
    "start_time": "2022-05-20T19:01:21.098Z"
   },
   {
    "duration": 13,
    "start_time": "2022-05-20T19:01:27.415Z"
   },
   {
    "duration": 7,
    "start_time": "2022-05-20T19:02:02.204Z"
   },
   {
    "duration": 6,
    "start_time": "2022-05-20T19:02:02.928Z"
   },
   {
    "duration": 6,
    "start_time": "2022-05-20T19:02:04.022Z"
   },
   {
    "duration": 21,
    "start_time": "2022-05-20T19:02:10.797Z"
   },
   {
    "duration": 7,
    "start_time": "2022-05-20T19:02:19.293Z"
   },
   {
    "duration": 7,
    "start_time": "2022-05-20T19:03:18.763Z"
   },
   {
    "duration": 11,
    "start_time": "2022-05-20T19:03:44.883Z"
   },
   {
    "duration": 5,
    "start_time": "2022-05-20T19:03:50.029Z"
   },
   {
    "duration": 6,
    "start_time": "2022-05-20T19:07:22.466Z"
   },
   {
    "duration": 5,
    "start_time": "2022-05-20T19:08:04.326Z"
   },
   {
    "duration": 7,
    "start_time": "2022-05-20T19:08:31.404Z"
   },
   {
    "duration": 10,
    "start_time": "2022-05-20T19:09:51.566Z"
   },
   {
    "duration": 7,
    "start_time": "2022-05-20T19:10:45.538Z"
   },
   {
    "duration": 17,
    "start_time": "2022-05-20T19:11:26.385Z"
   },
   {
    "duration": 6,
    "start_time": "2022-05-20T19:11:43.407Z"
   },
   {
    "duration": 25,
    "start_time": "2022-05-20T19:21:07.369Z"
   },
   {
    "duration": 21,
    "start_time": "2022-05-20T19:21:42.434Z"
   },
   {
    "duration": 8,
    "start_time": "2022-05-20T19:28:32.212Z"
   },
   {
    "duration": 6,
    "start_time": "2022-05-20T19:28:54.336Z"
   },
   {
    "duration": 6,
    "start_time": "2022-05-20T19:28:55.485Z"
   },
   {
    "duration": 7,
    "start_time": "2022-05-20T19:29:00.260Z"
   },
   {
    "duration": 109,
    "start_time": "2022-05-20T19:29:30.911Z"
   },
   {
    "duration": 12,
    "start_time": "2022-05-20T19:30:26.593Z"
   },
   {
    "duration": 1145,
    "start_time": "2022-05-20T19:31:14.025Z"
   },
   {
    "duration": 164,
    "start_time": "2022-05-20T19:31:15.172Z"
   },
   {
    "duration": 4,
    "start_time": "2022-05-20T19:31:15.338Z"
   },
   {
    "duration": 127,
    "start_time": "2022-05-20T19:31:15.344Z"
   },
   {
    "duration": 84,
    "start_time": "2022-05-20T19:31:15.475Z"
   },
   {
    "duration": 34,
    "start_time": "2022-05-20T19:31:15.561Z"
   },
   {
    "duration": 64,
    "start_time": "2022-05-20T19:31:15.598Z"
   },
   {
    "duration": 5,
    "start_time": "2022-05-20T19:31:15.664Z"
   },
   {
    "duration": 50,
    "start_time": "2022-05-20T19:31:15.671Z"
   },
   {
    "duration": 65,
    "start_time": "2022-05-20T19:31:15.724Z"
   },
   {
    "duration": 65,
    "start_time": "2022-05-20T19:31:15.795Z"
   },
   {
    "duration": 28,
    "start_time": "2022-05-20T19:31:15.862Z"
   },
   {
    "duration": 69,
    "start_time": "2022-05-20T19:31:15.896Z"
   },
   {
    "duration": 3,
    "start_time": "2022-05-20T19:31:15.967Z"
   },
   {
    "duration": 53,
    "start_time": "2022-05-20T19:31:15.972Z"
   },
   {
    "duration": 1757,
    "start_time": "2022-05-20T19:31:16.026Z"
   },
   {
    "duration": 36,
    "start_time": "2022-05-20T19:31:17.789Z"
   },
   {
    "duration": 16,
    "start_time": "2022-05-20T19:31:17.826Z"
   },
   {
    "duration": 163,
    "start_time": "2022-05-20T19:31:17.845Z"
   },
   {
    "duration": 11,
    "start_time": "2022-05-20T19:31:18.014Z"
   },
   {
    "duration": 16,
    "start_time": "2022-05-20T19:31:18.027Z"
   },
   {
    "duration": 14,
    "start_time": "2022-05-20T19:31:18.045Z"
   },
   {
    "duration": 12,
    "start_time": "2022-05-20T19:31:18.061Z"
   },
   {
    "duration": 1004,
    "start_time": "2022-05-20T19:31:18.074Z"
   },
   {
    "duration": 71,
    "start_time": "2022-05-20T19:31:19.079Z"
   },
   {
    "duration": 57,
    "start_time": "2022-05-20T19:31:19.152Z"
   },
   {
    "duration": 130,
    "start_time": "2022-05-20T19:31:19.211Z"
   },
   {
    "duration": 201,
    "start_time": "2022-05-20T19:31:19.345Z"
   },
   {
    "duration": 313,
    "start_time": "2022-05-20T19:31:19.548Z"
   },
   {
    "duration": 41,
    "start_time": "2022-05-20T19:31:19.863Z"
   },
   {
    "duration": 34,
    "start_time": "2022-05-20T19:31:19.905Z"
   },
   {
    "duration": 12,
    "start_time": "2022-05-20T19:31:19.941Z"
   },
   {
    "duration": 44,
    "start_time": "2022-05-20T19:31:19.955Z"
   },
   {
    "duration": 16,
    "start_time": "2022-05-20T19:31:20.001Z"
   },
   {
    "duration": 13,
    "start_time": "2022-05-20T19:31:20.019Z"
   },
   {
    "duration": 22,
    "start_time": "2022-05-20T19:31:20.033Z"
   },
   {
    "duration": 77,
    "start_time": "2022-05-20T19:31:20.056Z"
   },
   {
    "duration": 555,
    "start_time": "2022-05-20T19:31:20.135Z"
   },
   {
    "duration": 717,
    "start_time": "2022-05-20T19:31:20.691Z"
   },
   {
    "duration": 18,
    "start_time": "2022-05-20T19:31:21.409Z"
   },
   {
    "duration": 5,
    "start_time": "2022-05-20T19:31:21.429Z"
   },
   {
    "duration": 18,
    "start_time": "2022-05-20T19:31:21.436Z"
   },
   {
    "duration": 39,
    "start_time": "2022-05-20T19:31:21.456Z"
   },
   {
    "duration": 293,
    "start_time": "2022-05-20T19:31:21.497Z"
   },
   {
    "duration": 7,
    "start_time": "2022-05-20T19:31:21.791Z"
   },
   {
    "duration": 29,
    "start_time": "2022-05-20T19:31:21.799Z"
   },
   {
    "duration": 6,
    "start_time": "2022-05-20T19:31:21.830Z"
   },
   {
    "duration": 14,
    "start_time": "2022-05-20T19:31:21.838Z"
   },
   {
    "duration": 6,
    "start_time": "2022-05-20T19:31:21.855Z"
   },
   {
    "duration": 57,
    "start_time": "2022-05-20T19:31:21.863Z"
   },
   {
    "duration": 7,
    "start_time": "2022-05-20T19:31:21.922Z"
   },
   {
    "duration": 7,
    "start_time": "2022-05-20T19:31:21.931Z"
   },
   {
    "duration": 13,
    "start_time": "2022-05-20T19:31:21.940Z"
   },
   {
    "duration": 17,
    "start_time": "2022-05-20T19:31:21.955Z"
   },
   {
    "duration": 4,
    "start_time": "2022-05-20T19:33:37.260Z"
   },
   {
    "duration": 5,
    "start_time": "2022-05-20T19:33:48.540Z"
   },
   {
    "duration": 4,
    "start_time": "2022-05-20T19:33:56.617Z"
   },
   {
    "duration": 6,
    "start_time": "2022-05-20T19:34:35.730Z"
   },
   {
    "duration": 5,
    "start_time": "2022-05-20T19:34:39.290Z"
   },
   {
    "duration": 5,
    "start_time": "2022-05-20T19:34:55.155Z"
   },
   {
    "duration": 8,
    "start_time": "2022-05-20T19:35:03.944Z"
   },
   {
    "duration": 9,
    "start_time": "2022-05-20T19:35:26.081Z"
   },
   {
    "duration": 8,
    "start_time": "2022-05-20T19:35:31.288Z"
   },
   {
    "duration": 25,
    "start_time": "2022-05-20T19:36:06.574Z"
   },
   {
    "duration": 16,
    "start_time": "2022-05-20T19:36:50.645Z"
   },
   {
    "duration": 5,
    "start_time": "2022-05-20T19:37:10.209Z"
   },
   {
    "duration": 5,
    "start_time": "2022-05-20T19:37:11.903Z"
   },
   {
    "duration": 1153,
    "start_time": "2022-05-20T19:38:50.996Z"
   },
   {
    "duration": 142,
    "start_time": "2022-05-20T19:38:52.151Z"
   },
   {
    "duration": 8,
    "start_time": "2022-05-20T19:38:52.295Z"
   },
   {
    "duration": 152,
    "start_time": "2022-05-20T19:38:52.306Z"
   },
   {
    "duration": 74,
    "start_time": "2022-05-20T19:38:52.460Z"
   },
   {
    "duration": 28,
    "start_time": "2022-05-20T19:38:52.536Z"
   },
   {
    "duration": 32,
    "start_time": "2022-05-20T19:38:52.574Z"
   },
   {
    "duration": 6,
    "start_time": "2022-05-20T19:38:52.608Z"
   },
   {
    "duration": 15,
    "start_time": "2022-05-20T19:38:52.616Z"
   },
   {
    "duration": 61,
    "start_time": "2022-05-20T19:38:52.634Z"
   },
   {
    "duration": 45,
    "start_time": "2022-05-20T19:38:52.697Z"
   },
   {
    "duration": 35,
    "start_time": "2022-05-20T19:38:52.743Z"
   },
   {
    "duration": 111,
    "start_time": "2022-05-20T19:38:52.781Z"
   },
   {
    "duration": 6,
    "start_time": "2022-05-20T19:38:52.897Z"
   },
   {
    "duration": 15,
    "start_time": "2022-05-20T19:38:52.905Z"
   },
   {
    "duration": 1590,
    "start_time": "2022-05-20T19:38:52.922Z"
   },
   {
    "duration": 20,
    "start_time": "2022-05-20T19:38:54.514Z"
   },
   {
    "duration": 14,
    "start_time": "2022-05-20T19:38:54.536Z"
   },
   {
    "duration": 151,
    "start_time": "2022-05-20T19:38:54.552Z"
   },
   {
    "duration": 5,
    "start_time": "2022-05-20T19:38:54.705Z"
   },
   {
    "duration": 13,
    "start_time": "2022-05-20T19:38:54.711Z"
   },
   {
    "duration": 15,
    "start_time": "2022-05-20T19:38:54.725Z"
   },
   {
    "duration": 10,
    "start_time": "2022-05-20T19:38:54.741Z"
   },
   {
    "duration": 973,
    "start_time": "2022-05-20T19:38:54.752Z"
   },
   {
    "duration": 68,
    "start_time": "2022-05-20T19:38:55.727Z"
   },
   {
    "duration": 27,
    "start_time": "2022-05-20T19:38:55.797Z"
   },
   {
    "duration": 138,
    "start_time": "2022-05-20T19:38:55.826Z"
   },
   {
    "duration": 207,
    "start_time": "2022-05-20T19:38:55.967Z"
   },
   {
    "duration": 351,
    "start_time": "2022-05-20T19:38:56.180Z"
   },
   {
    "duration": 19,
    "start_time": "2022-05-20T19:38:56.533Z"
   },
   {
    "duration": 42,
    "start_time": "2022-05-20T19:38:56.553Z"
   },
   {
    "duration": 10,
    "start_time": "2022-05-20T19:38:56.597Z"
   },
   {
    "duration": 38,
    "start_time": "2022-05-20T19:38:56.609Z"
   },
   {
    "duration": 9,
    "start_time": "2022-05-20T19:38:56.649Z"
   },
   {
    "duration": 12,
    "start_time": "2022-05-20T19:38:56.675Z"
   },
   {
    "duration": 41,
    "start_time": "2022-05-20T19:38:56.691Z"
   },
   {
    "duration": 67,
    "start_time": "2022-05-20T19:38:56.734Z"
   },
   {
    "duration": 519,
    "start_time": "2022-05-20T19:38:56.803Z"
   },
   {
    "duration": 601,
    "start_time": "2022-05-20T19:38:57.323Z"
   },
   {
    "duration": 15,
    "start_time": "2022-05-20T19:38:57.926Z"
   },
   {
    "duration": 4,
    "start_time": "2022-05-20T19:38:57.942Z"
   },
   {
    "duration": 8,
    "start_time": "2022-05-20T19:38:57.948Z"
   },
   {
    "duration": 37,
    "start_time": "2022-05-20T19:38:57.957Z"
   },
   {
    "duration": 256,
    "start_time": "2022-05-20T19:38:57.996Z"
   },
   {
    "duration": 5,
    "start_time": "2022-05-20T19:38:58.254Z"
   },
   {
    "duration": 30,
    "start_time": "2022-05-20T19:38:58.261Z"
   },
   {
    "duration": 8,
    "start_time": "2022-05-20T19:38:58.295Z"
   },
   {
    "duration": 14,
    "start_time": "2022-05-20T19:38:58.305Z"
   },
   {
    "duration": 5,
    "start_time": "2022-05-20T19:38:58.321Z"
   },
   {
    "duration": 9,
    "start_time": "2022-05-20T19:38:58.327Z"
   },
   {
    "duration": 21,
    "start_time": "2022-05-20T19:38:58.338Z"
   },
   {
    "duration": 15,
    "start_time": "2022-05-20T19:38:58.361Z"
   },
   {
    "duration": 8,
    "start_time": "2022-05-20T19:38:58.383Z"
   },
   {
    "duration": 7,
    "start_time": "2022-05-20T19:38:58.393Z"
   },
   {
    "duration": 8,
    "start_time": "2022-05-20T19:38:58.401Z"
   },
   {
    "duration": 6,
    "start_time": "2022-05-20T19:38:58.410Z"
   },
   {
    "duration": 8,
    "start_time": "2022-05-20T19:38:58.417Z"
   },
   {
    "duration": 935,
    "start_time": "2022-05-20T19:40:54.562Z"
   },
   {
    "duration": 787,
    "start_time": "2022-05-20T19:42:39.506Z"
   },
   {
    "duration": 633,
    "start_time": "2022-05-20T19:42:50.990Z"
   },
   {
    "duration": 660,
    "start_time": "2022-05-20T19:42:56.525Z"
   },
   {
    "duration": 694,
    "start_time": "2022-05-20T19:43:10.724Z"
   },
   {
    "duration": 851,
    "start_time": "2022-05-20T19:43:21.055Z"
   },
   {
    "duration": 36,
    "start_time": "2022-05-20T19:43:29.228Z"
   },
   {
    "duration": 777,
    "start_time": "2022-05-20T19:43:38.022Z"
   },
   {
    "duration": 687,
    "start_time": "2022-05-20T19:44:57.793Z"
   },
   {
    "duration": 750,
    "start_time": "2022-05-20T19:45:41.953Z"
   },
   {
    "duration": 250,
    "start_time": "2022-05-20T19:46:46.913Z"
   },
   {
    "duration": 58,
    "start_time": "2022-05-21T20:58:25.234Z"
   },
   {
    "duration": 1444,
    "start_time": "2022-05-21T20:58:36.749Z"
   },
   {
    "duration": 545,
    "start_time": "2022-05-21T20:58:38.196Z"
   },
   {
    "duration": 4,
    "start_time": "2022-05-21T20:58:38.743Z"
   },
   {
    "duration": 111,
    "start_time": "2022-05-21T20:58:38.748Z"
   },
   {
    "duration": 90,
    "start_time": "2022-05-21T20:58:38.861Z"
   },
   {
    "duration": 45,
    "start_time": "2022-05-21T20:58:38.952Z"
   },
   {
    "duration": 26,
    "start_time": "2022-05-21T20:58:38.998Z"
   },
   {
    "duration": 5,
    "start_time": "2022-05-21T20:58:39.026Z"
   },
   {
    "duration": 13,
    "start_time": "2022-05-21T20:58:39.033Z"
   },
   {
    "duration": 60,
    "start_time": "2022-05-21T20:58:39.048Z"
   },
   {
    "duration": 48,
    "start_time": "2022-05-21T20:58:39.110Z"
   },
   {
    "duration": 35,
    "start_time": "2022-05-21T20:58:39.160Z"
   },
   {
    "duration": 96,
    "start_time": "2022-05-21T20:58:39.197Z"
   },
   {
    "duration": 3,
    "start_time": "2022-05-21T20:58:39.296Z"
   },
   {
    "duration": 9,
    "start_time": "2022-05-21T20:58:39.301Z"
   },
   {
    "duration": 1506,
    "start_time": "2022-05-21T20:58:39.312Z"
   },
   {
    "duration": 20,
    "start_time": "2022-05-21T20:58:40.819Z"
   },
   {
    "duration": 15,
    "start_time": "2022-05-21T20:58:40.841Z"
   },
   {
    "duration": 148,
    "start_time": "2022-05-21T20:58:40.858Z"
   },
   {
    "duration": 5,
    "start_time": "2022-05-21T20:58:41.008Z"
   },
   {
    "duration": 12,
    "start_time": "2022-05-21T20:58:41.015Z"
   },
   {
    "duration": 9,
    "start_time": "2022-05-21T20:58:41.028Z"
   },
   {
    "duration": 8,
    "start_time": "2022-05-21T20:58:41.039Z"
   },
   {
    "duration": 938,
    "start_time": "2022-05-21T20:58:41.049Z"
   },
   {
    "duration": 350,
    "start_time": "2022-05-21T20:58:41.989Z"
   },
   {
    "duration": 28,
    "start_time": "2022-05-21T20:58:42.341Z"
   },
   {
    "duration": 149,
    "start_time": "2022-05-21T20:58:42.370Z"
   },
   {
    "duration": 132,
    "start_time": "2022-05-21T20:58:42.520Z"
   },
   {
    "duration": 515,
    "start_time": "2022-05-21T20:58:42.653Z"
   },
   {
    "duration": 29,
    "start_time": "2022-05-21T20:58:43.170Z"
   },
   {
    "duration": 19,
    "start_time": "2022-05-21T20:58:43.200Z"
   },
   {
    "duration": 10,
    "start_time": "2022-05-21T20:58:43.220Z"
   },
   {
    "duration": 64,
    "start_time": "2022-05-21T20:58:43.231Z"
   },
   {
    "duration": 9,
    "start_time": "2022-05-21T20:58:43.296Z"
   },
   {
    "duration": 12,
    "start_time": "2022-05-21T20:58:43.306Z"
   },
   {
    "duration": 23,
    "start_time": "2022-05-21T20:58:43.320Z"
   },
   {
    "duration": 80,
    "start_time": "2022-05-21T20:58:43.344Z"
   },
   {
    "duration": 509,
    "start_time": "2022-05-21T20:58:43.425Z"
   },
   {
    "duration": 745,
    "start_time": "2022-05-21T20:58:43.935Z"
   },
   {
    "duration": 17,
    "start_time": "2022-05-21T20:58:44.684Z"
   },
   {
    "duration": 5,
    "start_time": "2022-05-21T20:58:44.705Z"
   },
   {
    "duration": 5,
    "start_time": "2022-05-21T20:58:44.713Z"
   },
   {
    "duration": 118,
    "start_time": "2022-05-21T20:58:44.720Z"
   },
   {
    "duration": 318,
    "start_time": "2022-05-21T20:58:44.840Z"
   },
   {
    "duration": 7,
    "start_time": "2022-05-21T20:58:45.160Z"
   },
   {
    "duration": 21,
    "start_time": "2022-05-21T20:58:45.169Z"
   },
   {
    "duration": 6,
    "start_time": "2022-05-21T20:58:45.192Z"
   },
   {
    "duration": 12,
    "start_time": "2022-05-21T20:58:45.200Z"
   },
   {
    "duration": 5,
    "start_time": "2022-05-21T20:58:45.214Z"
   },
   {
    "duration": 19,
    "start_time": "2022-05-21T20:58:45.221Z"
   },
   {
    "duration": 20,
    "start_time": "2022-05-21T20:58:45.242Z"
   },
   {
    "duration": 5,
    "start_time": "2022-05-21T20:58:45.283Z"
   },
   {
    "duration": 14,
    "start_time": "2022-05-21T20:58:45.290Z"
   },
   {
    "duration": 7,
    "start_time": "2022-05-21T20:58:45.306Z"
   },
   {
    "duration": 9,
    "start_time": "2022-05-21T20:58:45.315Z"
   },
   {
    "duration": 680,
    "start_time": "2022-05-21T20:59:38.800Z"
   },
   {
    "duration": 727,
    "start_time": "2022-05-21T20:59:45.148Z"
   },
   {
    "duration": 737,
    "start_time": "2022-05-21T20:59:53.636Z"
   },
   {
    "duration": 320,
    "start_time": "2022-05-21T21:00:23.568Z"
   },
   {
    "duration": 800,
    "start_time": "2022-05-21T21:00:42.349Z"
   },
   {
    "duration": 13,
    "start_time": "2022-05-21T21:03:10.078Z"
   },
   {
    "duration": 12,
    "start_time": "2022-05-21T21:04:06.654Z"
   },
   {
    "duration": 15,
    "start_time": "2022-05-21T21:04:17.486Z"
   },
   {
    "duration": 18,
    "start_time": "2022-05-21T21:06:14.143Z"
   },
   {
    "duration": 23,
    "start_time": "2022-05-21T21:09:14.119Z"
   },
   {
    "duration": 25,
    "start_time": "2022-05-21T21:11:44.790Z"
   },
   {
    "duration": 736,
    "start_time": "2022-05-21T21:23:03.047Z"
   },
   {
    "duration": 358,
    "start_time": "2022-05-21T21:25:32.917Z"
   },
   {
    "duration": 67,
    "start_time": "2022-05-21T21:26:05.573Z"
   },
   {
    "duration": 1201,
    "start_time": "2022-05-21T21:26:41.660Z"
   },
   {
    "duration": 136,
    "start_time": "2022-05-21T21:26:42.863Z"
   },
   {
    "duration": 4,
    "start_time": "2022-05-21T21:26:43.001Z"
   },
   {
    "duration": 104,
    "start_time": "2022-05-21T21:26:43.007Z"
   },
   {
    "duration": 95,
    "start_time": "2022-05-21T21:26:43.113Z"
   },
   {
    "duration": 25,
    "start_time": "2022-05-21T21:26:43.210Z"
   },
   {
    "duration": 25,
    "start_time": "2022-05-21T21:26:43.237Z"
   },
   {
    "duration": 24,
    "start_time": "2022-05-21T21:26:43.263Z"
   },
   {
    "duration": 16,
    "start_time": "2022-05-21T21:26:43.289Z"
   },
   {
    "duration": 33,
    "start_time": "2022-05-21T21:26:43.307Z"
   },
   {
    "duration": 61,
    "start_time": "2022-05-21T21:26:43.342Z"
   },
   {
    "duration": 14,
    "start_time": "2022-05-21T21:26:43.404Z"
   },
   {
    "duration": 82,
    "start_time": "2022-05-21T21:26:43.420Z"
   },
   {
    "duration": 4,
    "start_time": "2022-05-21T21:26:43.504Z"
   },
   {
    "duration": 6,
    "start_time": "2022-05-21T21:26:43.509Z"
   },
   {
    "duration": 1601,
    "start_time": "2022-05-21T21:26:43.517Z"
   },
   {
    "duration": 22,
    "start_time": "2022-05-21T21:26:45.119Z"
   },
   {
    "duration": 14,
    "start_time": "2022-05-21T21:26:45.143Z"
   },
   {
    "duration": 147,
    "start_time": "2022-05-21T21:26:45.159Z"
   },
   {
    "duration": 5,
    "start_time": "2022-05-21T21:26:45.308Z"
   },
   {
    "duration": 10,
    "start_time": "2022-05-21T21:26:45.314Z"
   },
   {
    "duration": 6,
    "start_time": "2022-05-21T21:26:45.325Z"
   },
   {
    "duration": 11,
    "start_time": "2022-05-21T21:26:45.332Z"
   },
   {
    "duration": 884,
    "start_time": "2022-05-21T21:26:45.345Z"
   },
   {
    "duration": 70,
    "start_time": "2022-05-21T21:26:46.231Z"
   },
   {
    "duration": 27,
    "start_time": "2022-05-21T21:26:46.303Z"
   },
   {
    "duration": 139,
    "start_time": "2022-05-21T21:26:46.331Z"
   },
   {
    "duration": 216,
    "start_time": "2022-05-21T21:26:46.483Z"
   },
   {
    "duration": 309,
    "start_time": "2022-05-21T21:26:46.701Z"
   },
   {
    "duration": 22,
    "start_time": "2022-05-21T21:26:47.012Z"
   },
   {
    "duration": 20,
    "start_time": "2022-05-21T21:26:47.036Z"
   },
   {
    "duration": 33,
    "start_time": "2022-05-21T21:26:47.058Z"
   },
   {
    "duration": 27,
    "start_time": "2022-05-21T21:26:47.093Z"
   },
   {
    "duration": 8,
    "start_time": "2022-05-21T21:26:47.122Z"
   },
   {
    "duration": 11,
    "start_time": "2022-05-21T21:26:47.132Z"
   },
   {
    "duration": 54,
    "start_time": "2022-05-21T21:26:47.145Z"
   },
   {
    "duration": 52,
    "start_time": "2022-05-21T21:26:47.201Z"
   },
   {
    "duration": 524,
    "start_time": "2022-05-21T21:26:47.254Z"
   },
   {
    "duration": 676,
    "start_time": "2022-05-21T21:26:47.783Z"
   },
   {
    "duration": 28,
    "start_time": "2022-05-21T21:26:48.461Z"
   },
   {
    "duration": 4,
    "start_time": "2022-05-21T21:26:48.491Z"
   },
   {
    "duration": 11,
    "start_time": "2022-05-21T21:26:48.497Z"
   },
   {
    "duration": 30,
    "start_time": "2022-05-21T21:26:48.509Z"
   },
   {
    "duration": 280,
    "start_time": "2022-05-21T21:26:48.540Z"
   },
   {
    "duration": 7,
    "start_time": "2022-05-21T21:26:48.822Z"
   },
   {
    "duration": 8,
    "start_time": "2022-05-21T21:26:48.831Z"
   },
   {
    "duration": 6,
    "start_time": "2022-05-21T21:26:48.841Z"
   },
   {
    "duration": 43,
    "start_time": "2022-05-21T21:26:48.849Z"
   },
   {
    "duration": 7,
    "start_time": "2022-05-21T21:26:48.894Z"
   },
   {
    "duration": 7,
    "start_time": "2022-05-21T21:26:48.903Z"
   },
   {
    "duration": 19,
    "start_time": "2022-05-21T21:26:48.912Z"
   },
   {
    "duration": 6,
    "start_time": "2022-05-21T21:26:48.932Z"
   },
   {
    "duration": 7,
    "start_time": "2022-05-21T21:26:48.939Z"
   },
   {
    "duration": 38,
    "start_time": "2022-05-21T21:26:48.947Z"
   },
   {
    "duration": 5,
    "start_time": "2022-05-21T21:26:48.987Z"
   },
   {
    "duration": 54,
    "start_time": "2022-05-22T08:36:07.807Z"
   },
   {
    "duration": 1203,
    "start_time": "2022-05-22T08:36:17.951Z"
   },
   {
    "duration": 472,
    "start_time": "2022-05-22T08:36:19.156Z"
   },
   {
    "duration": 3,
    "start_time": "2022-05-22T08:36:19.630Z"
   },
   {
    "duration": 114,
    "start_time": "2022-05-22T08:36:19.635Z"
   },
   {
    "duration": 115,
    "start_time": "2022-05-22T08:36:19.751Z"
   },
   {
    "duration": 21,
    "start_time": "2022-05-22T08:36:19.868Z"
   },
   {
    "duration": 38,
    "start_time": "2022-05-22T08:36:19.891Z"
   },
   {
    "duration": 15,
    "start_time": "2022-05-22T08:36:19.931Z"
   },
   {
    "duration": 37,
    "start_time": "2022-05-22T08:36:19.948Z"
   },
   {
    "duration": 48,
    "start_time": "2022-05-22T08:36:19.987Z"
   },
   {
    "duration": 39,
    "start_time": "2022-05-22T08:36:20.036Z"
   },
   {
    "duration": 12,
    "start_time": "2022-05-22T08:36:20.076Z"
   },
   {
    "duration": 79,
    "start_time": "2022-05-22T08:36:20.090Z"
   },
   {
    "duration": 3,
    "start_time": "2022-05-22T08:36:20.171Z"
   },
   {
    "duration": 6,
    "start_time": "2022-05-22T08:36:20.176Z"
   },
   {
    "duration": 1554,
    "start_time": "2022-05-22T08:36:20.184Z"
   },
   {
    "duration": 23,
    "start_time": "2022-05-22T08:36:21.741Z"
   },
   {
    "duration": 16,
    "start_time": "2022-05-22T08:36:21.766Z"
   },
   {
    "duration": 148,
    "start_time": "2022-05-22T08:36:21.784Z"
   },
   {
    "duration": 5,
    "start_time": "2022-05-22T08:36:21.934Z"
   },
   {
    "duration": 11,
    "start_time": "2022-05-22T08:36:21.940Z"
   },
   {
    "duration": 7,
    "start_time": "2022-05-22T08:36:21.952Z"
   },
   {
    "duration": 10,
    "start_time": "2022-05-22T08:36:21.960Z"
   },
   {
    "duration": 906,
    "start_time": "2022-05-22T08:36:21.971Z"
   },
   {
    "duration": 65,
    "start_time": "2022-05-22T08:36:22.879Z"
   },
   {
    "duration": 26,
    "start_time": "2022-05-22T08:36:22.945Z"
   },
   {
    "duration": 195,
    "start_time": "2022-05-22T08:36:22.972Z"
   },
   {
    "duration": 112,
    "start_time": "2022-05-22T08:36:23.171Z"
   },
   {
    "duration": 269,
    "start_time": "2022-05-22T08:36:23.285Z"
   },
   {
    "duration": 20,
    "start_time": "2022-05-22T08:36:23.556Z"
   },
   {
    "duration": 16,
    "start_time": "2022-05-22T08:36:23.578Z"
   },
   {
    "duration": 9,
    "start_time": "2022-05-22T08:36:23.612Z"
   },
   {
    "duration": 26,
    "start_time": "2022-05-22T08:36:23.623Z"
   },
   {
    "duration": 5,
    "start_time": "2022-05-22T08:36:23.651Z"
   },
   {
    "duration": 9,
    "start_time": "2022-05-22T08:36:23.658Z"
   },
   {
    "duration": 47,
    "start_time": "2022-05-22T08:36:23.668Z"
   },
   {
    "duration": 49,
    "start_time": "2022-05-22T08:36:23.717Z"
   },
   {
    "duration": 474,
    "start_time": "2022-05-22T08:36:23.768Z"
   },
   {
    "duration": 596,
    "start_time": "2022-05-22T08:36:24.244Z"
   },
   {
    "duration": 14,
    "start_time": "2022-05-22T08:36:24.842Z"
   },
   {
    "duration": 3,
    "start_time": "2022-05-22T08:36:24.858Z"
   },
   {
    "duration": 6,
    "start_time": "2022-05-22T08:36:24.863Z"
   },
   {
    "duration": 16,
    "start_time": "2022-05-22T08:36:24.871Z"
   },
   {
    "duration": 250,
    "start_time": "2022-05-22T08:36:24.912Z"
   },
   {
    "duration": 5,
    "start_time": "2022-05-22T08:36:25.164Z"
   },
   {
    "duration": 9,
    "start_time": "2022-05-22T08:36:25.171Z"
   },
   {
    "duration": 5,
    "start_time": "2022-05-22T08:36:25.182Z"
   },
   {
    "duration": 31,
    "start_time": "2022-05-22T08:36:25.188Z"
   },
   {
    "duration": 5,
    "start_time": "2022-05-22T08:36:25.221Z"
   },
   {
    "duration": 6,
    "start_time": "2022-05-22T08:36:25.227Z"
   },
   {
    "duration": 6,
    "start_time": "2022-05-22T08:36:25.235Z"
   },
   {
    "duration": 5,
    "start_time": "2022-05-22T08:36:25.242Z"
   },
   {
    "duration": 9,
    "start_time": "2022-05-22T08:36:25.248Z"
   },
   {
    "duration": 7,
    "start_time": "2022-05-22T08:36:25.258Z"
   },
   {
    "duration": 790,
    "start_time": "2022-05-22T08:39:06.142Z"
   },
   {
    "duration": 882,
    "start_time": "2022-05-22T08:39:28.609Z"
   },
   {
    "duration": 782,
    "start_time": "2022-05-22T08:40:02.230Z"
   },
   {
    "duration": 979,
    "start_time": "2022-05-22T08:40:20.983Z"
   },
   {
    "duration": 851,
    "start_time": "2022-05-22T08:40:30.401Z"
   },
   {
    "duration": 29,
    "start_time": "2022-05-22T08:42:20.153Z"
   },
   {
    "duration": 5,
    "start_time": "2022-05-22T08:42:49.734Z"
   },
   {
    "duration": 12,
    "start_time": "2022-05-22T08:43:12.516Z"
   },
   {
    "duration": 21,
    "start_time": "2022-05-22T08:43:51.828Z"
   },
   {
    "duration": 19,
    "start_time": "2022-05-22T08:44:24.054Z"
   },
   {
    "duration": 20,
    "start_time": "2022-05-22T08:44:41.301Z"
   },
   {
    "duration": 20,
    "start_time": "2022-05-22T08:44:50.411Z"
   },
   {
    "duration": 28,
    "start_time": "2022-05-22T08:45:11.532Z"
   },
   {
    "duration": 751,
    "start_time": "2022-05-22T08:52:05.162Z"
   },
   {
    "duration": 773,
    "start_time": "2022-05-22T08:52:14.279Z"
   },
   {
    "duration": 299,
    "start_time": "2022-05-22T08:52:28.180Z"
   },
   {
    "duration": 459,
    "start_time": "2022-05-22T08:52:33.994Z"
   },
   {
    "duration": 6,
    "start_time": "2022-05-22T08:54:52.722Z"
   },
   {
    "duration": 4,
    "start_time": "2022-05-22T08:55:03.876Z"
   },
   {
    "duration": 4,
    "start_time": "2022-05-22T08:55:12.725Z"
   },
   {
    "duration": 6,
    "start_time": "2022-05-22T08:56:18.318Z"
   },
   {
    "duration": 1344,
    "start_time": "2022-05-22T18:56:00.858Z"
   },
   {
    "duration": 203,
    "start_time": "2022-05-22T18:56:02.204Z"
   },
   {
    "duration": 4,
    "start_time": "2022-05-22T18:56:02.409Z"
   },
   {
    "duration": 133,
    "start_time": "2022-05-22T18:56:02.415Z"
   },
   {
    "duration": 108,
    "start_time": "2022-05-22T18:56:02.549Z"
   },
   {
    "duration": 28,
    "start_time": "2022-05-22T18:56:02.658Z"
   },
   {
    "duration": 43,
    "start_time": "2022-05-22T18:56:02.688Z"
   },
   {
    "duration": 8,
    "start_time": "2022-05-22T18:56:02.736Z"
   },
   {
    "duration": 20,
    "start_time": "2022-05-22T18:56:02.745Z"
   },
   {
    "duration": 28,
    "start_time": "2022-05-22T18:56:02.768Z"
   },
   {
    "duration": 55,
    "start_time": "2022-05-22T18:56:02.798Z"
   },
   {
    "duration": 12,
    "start_time": "2022-05-22T18:56:02.854Z"
   },
   {
    "duration": 74,
    "start_time": "2022-05-22T18:56:02.868Z"
   },
   {
    "duration": 5,
    "start_time": "2022-05-22T18:56:02.946Z"
   },
   {
    "duration": 8,
    "start_time": "2022-05-22T18:56:02.953Z"
   },
   {
    "duration": 1587,
    "start_time": "2022-05-22T18:56:02.963Z"
   },
   {
    "duration": 19,
    "start_time": "2022-05-22T18:56:04.552Z"
   },
   {
    "duration": 22,
    "start_time": "2022-05-22T18:56:04.572Z"
   },
   {
    "duration": 142,
    "start_time": "2022-05-22T18:56:04.595Z"
   },
   {
    "duration": 9,
    "start_time": "2022-05-22T18:56:04.741Z"
   },
   {
    "duration": 13,
    "start_time": "2022-05-22T18:56:04.751Z"
   },
   {
    "duration": 9,
    "start_time": "2022-05-22T18:56:04.766Z"
   },
   {
    "duration": 18,
    "start_time": "2022-05-22T18:56:04.777Z"
   },
   {
    "duration": 1021,
    "start_time": "2022-05-22T18:56:04.796Z"
   },
   {
    "duration": 30,
    "start_time": "2022-05-22T18:56:05.819Z"
   },
   {
    "duration": 67,
    "start_time": "2022-05-22T18:56:05.850Z"
   },
   {
    "duration": 118,
    "start_time": "2022-05-22T18:56:05.923Z"
   },
   {
    "duration": 139,
    "start_time": "2022-05-22T18:56:06.045Z"
   },
   {
    "duration": 149,
    "start_time": "2022-05-22T18:56:06.186Z"
   },
   {
    "duration": 350,
    "start_time": "2022-05-22T18:56:06.341Z"
   },
   {
    "duration": 19,
    "start_time": "2022-05-22T18:56:06.692Z"
   },
   {
    "duration": 31,
    "start_time": "2022-05-22T18:56:06.712Z"
   },
   {
    "duration": 12,
    "start_time": "2022-05-22T18:56:06.745Z"
   },
   {
    "duration": 34,
    "start_time": "2022-05-22T18:56:06.758Z"
   },
   {
    "duration": 8,
    "start_time": "2022-05-22T18:56:06.794Z"
   },
   {
    "duration": 38,
    "start_time": "2022-05-22T18:56:06.803Z"
   },
   {
    "duration": 38,
    "start_time": "2022-05-22T18:56:06.844Z"
   },
   {
    "duration": 60,
    "start_time": "2022-05-22T18:56:06.884Z"
   },
   {
    "duration": 493,
    "start_time": "2022-05-22T18:56:06.946Z"
   },
   {
    "duration": 865,
    "start_time": "2022-05-22T18:56:07.442Z"
   },
   {
    "duration": 36,
    "start_time": "2022-05-22T18:56:08.310Z"
   },
   {
    "duration": 5,
    "start_time": "2022-05-22T18:56:08.347Z"
   },
   {
    "duration": 6,
    "start_time": "2022-05-22T18:56:08.354Z"
   },
   {
    "duration": 28,
    "start_time": "2022-05-22T18:56:08.362Z"
   },
   {
    "duration": 337,
    "start_time": "2022-05-22T18:56:08.392Z"
   },
   {
    "duration": 5,
    "start_time": "2022-05-22T18:56:08.730Z"
   },
   {
    "duration": 29,
    "start_time": "2022-05-22T18:56:08.736Z"
   },
   {
    "duration": 5,
    "start_time": "2022-05-22T18:56:08.767Z"
   },
   {
    "duration": 12,
    "start_time": "2022-05-22T18:56:08.773Z"
   },
   {
    "duration": 9,
    "start_time": "2022-05-22T18:56:08.786Z"
   },
   {
    "duration": 10,
    "start_time": "2022-05-22T18:56:08.797Z"
   },
   {
    "duration": 31,
    "start_time": "2022-05-22T18:56:08.808Z"
   },
   {
    "duration": 26,
    "start_time": "2022-05-22T18:56:08.841Z"
   },
   {
    "duration": 10,
    "start_time": "2022-05-22T18:56:08.869Z"
   },
   {
    "duration": 12,
    "start_time": "2022-05-22T18:56:08.881Z"
   },
   {
    "duration": 17,
    "start_time": "2022-05-22T18:56:28.432Z"
   },
   {
    "duration": 23,
    "start_time": "2022-05-22T18:57:49.303Z"
   },
   {
    "duration": 4,
    "start_time": "2022-05-22T18:57:59.398Z"
   },
   {
    "duration": 10,
    "start_time": "2022-05-22T18:58:12.527Z"
   },
   {
    "duration": 18,
    "start_time": "2022-05-22T18:58:58.301Z"
   },
   {
    "duration": 12,
    "start_time": "2022-05-22T19:01:58.969Z"
   },
   {
    "duration": 11,
    "start_time": "2022-05-22T19:02:10.618Z"
   },
   {
    "duration": 17,
    "start_time": "2022-05-22T19:10:30.450Z"
   },
   {
    "duration": 8,
    "start_time": "2022-05-22T19:10:35.944Z"
   },
   {
    "duration": 19,
    "start_time": "2022-05-22T19:12:18.455Z"
   },
   {
    "duration": 15,
    "start_time": "2022-05-22T19:12:28.298Z"
   },
   {
    "duration": 13,
    "start_time": "2022-05-22T19:13:04.878Z"
   },
   {
    "duration": 31,
    "start_time": "2022-05-22T19:21:47.122Z"
   },
   {
    "duration": 38,
    "start_time": "2022-05-22T19:22:16.225Z"
   },
   {
    "duration": 22,
    "start_time": "2022-05-22T19:23:03.369Z"
   },
   {
    "duration": 14,
    "start_time": "2022-05-22T19:23:36.894Z"
   },
   {
    "duration": 36,
    "start_time": "2022-05-22T19:24:44.325Z"
   },
   {
    "duration": 35,
    "start_time": "2022-05-22T19:25:17.027Z"
   },
   {
    "duration": 1162,
    "start_time": "2022-05-22T21:08:34.107Z"
   },
   {
    "duration": 187,
    "start_time": "2022-05-22T21:08:35.270Z"
   },
   {
    "duration": 5,
    "start_time": "2022-05-22T21:08:35.458Z"
   },
   {
    "duration": 129,
    "start_time": "2022-05-22T21:08:35.464Z"
   },
   {
    "duration": 96,
    "start_time": "2022-05-22T21:08:35.594Z"
   },
   {
    "duration": 23,
    "start_time": "2022-05-22T21:08:35.692Z"
   },
   {
    "duration": 35,
    "start_time": "2022-05-22T21:08:35.716Z"
   },
   {
    "duration": 5,
    "start_time": "2022-05-22T21:08:35.753Z"
   },
   {
    "duration": 15,
    "start_time": "2022-05-22T21:08:35.760Z"
   },
   {
    "duration": 52,
    "start_time": "2022-05-22T21:08:35.777Z"
   },
   {
    "duration": 36,
    "start_time": "2022-05-22T21:08:35.831Z"
   },
   {
    "duration": 11,
    "start_time": "2022-05-22T21:08:35.869Z"
   },
   {
    "duration": 81,
    "start_time": "2022-05-22T21:08:35.882Z"
   },
   {
    "duration": 3,
    "start_time": "2022-05-22T21:08:35.964Z"
   },
   {
    "duration": 12,
    "start_time": "2022-05-22T21:08:35.968Z"
   },
   {
    "duration": 1616,
    "start_time": "2022-05-22T21:08:35.981Z"
   },
   {
    "duration": 16,
    "start_time": "2022-05-22T21:08:37.599Z"
   },
   {
    "duration": 8,
    "start_time": "2022-05-22T21:08:37.627Z"
   },
   {
    "duration": 13,
    "start_time": "2022-05-22T21:08:37.637Z"
   },
   {
    "duration": 129,
    "start_time": "2022-05-22T21:08:37.652Z"
   },
   {
    "duration": 5,
    "start_time": "2022-05-22T21:08:37.782Z"
   },
   {
    "duration": 11,
    "start_time": "2022-05-22T21:08:37.788Z"
   },
   {
    "duration": 7,
    "start_time": "2022-05-22T21:08:37.800Z"
   },
   {
    "duration": 7,
    "start_time": "2022-05-22T21:08:37.827Z"
   },
   {
    "duration": 879,
    "start_time": "2022-05-22T21:08:37.835Z"
   },
   {
    "duration": 24,
    "start_time": "2022-05-22T21:08:38.715Z"
   },
   {
    "duration": 60,
    "start_time": "2022-05-22T21:08:38.741Z"
   },
   {
    "duration": 125,
    "start_time": "2022-05-22T21:08:38.804Z"
   },
   {
    "duration": 133,
    "start_time": "2022-05-22T21:08:38.930Z"
   },
   {
    "duration": 121,
    "start_time": "2022-05-22T21:08:39.064Z"
   },
   {
    "duration": 479,
    "start_time": "2022-05-22T21:08:39.186Z"
   },
   {
    "duration": 73,
    "start_time": "2022-05-22T21:08:39.667Z"
   },
   {
    "duration": 18,
    "start_time": "2022-05-22T21:08:39.741Z"
   },
   {
    "duration": 67,
    "start_time": "2022-05-22T21:08:39.761Z"
   },
   {
    "duration": 10,
    "start_time": "2022-05-22T21:08:39.829Z"
   },
   {
    "duration": 88,
    "start_time": "2022-05-22T21:08:39.840Z"
   },
   {
    "duration": 48,
    "start_time": "2022-05-22T21:08:39.930Z"
   },
   {
    "duration": 61,
    "start_time": "2022-05-22T21:08:39.980Z"
   },
   {
    "duration": 11,
    "start_time": "2022-05-22T21:08:40.042Z"
   },
   {
    "duration": 29,
    "start_time": "2022-05-22T21:08:40.054Z"
   },
   {
    "duration": 66,
    "start_time": "2022-05-22T21:08:40.084Z"
   },
   {
    "duration": 111,
    "start_time": "2022-05-22T21:08:40.152Z"
   },
   {
    "duration": 808,
    "start_time": "2022-05-22T21:08:40.265Z"
   },
   {
    "duration": 812,
    "start_time": "2022-05-22T21:08:41.075Z"
   },
   {
    "duration": 16,
    "start_time": "2022-05-22T21:08:41.888Z"
   },
   {
    "duration": 4,
    "start_time": "2022-05-22T21:08:41.905Z"
   },
   {
    "duration": 4,
    "start_time": "2022-05-22T21:08:41.927Z"
   },
   {
    "duration": 19,
    "start_time": "2022-05-22T21:08:41.932Z"
   },
   {
    "duration": 326,
    "start_time": "2022-05-22T21:08:41.952Z"
   },
   {
    "duration": 5,
    "start_time": "2022-05-22T21:08:42.280Z"
   },
   {
    "duration": 9,
    "start_time": "2022-05-22T21:08:42.287Z"
   },
   {
    "duration": 6,
    "start_time": "2022-05-22T21:08:42.297Z"
   },
   {
    "duration": 25,
    "start_time": "2022-05-22T21:08:42.304Z"
   },
   {
    "duration": 5,
    "start_time": "2022-05-22T21:08:42.331Z"
   },
   {
    "duration": 7,
    "start_time": "2022-05-22T21:08:42.337Z"
   },
   {
    "duration": 12,
    "start_time": "2022-05-22T21:08:42.345Z"
   },
   {
    "duration": 10,
    "start_time": "2022-05-22T21:08:42.358Z"
   },
   {
    "duration": 9,
    "start_time": "2022-05-22T21:08:42.369Z"
   },
   {
    "duration": 9,
    "start_time": "2022-05-22T21:08:42.379Z"
   },
   {
    "duration": 4,
    "start_time": "2022-05-22T21:46:17.413Z"
   },
   {
    "duration": 1472,
    "start_time": "2022-05-22T21:46:19.699Z"
   },
   {
    "duration": 3,
    "start_time": "2022-05-22T21:46:29.994Z"
   },
   {
    "duration": 1503,
    "start_time": "2022-05-22T21:46:31.151Z"
   },
   {
    "duration": 455,
    "start_time": "2022-05-22T21:46:48.875Z"
   },
   {
    "duration": 1328,
    "start_time": "2022-05-23T07:29:53.300Z"
   },
   {
    "duration": 515,
    "start_time": "2022-05-23T07:29:54.630Z"
   },
   {
    "duration": 4,
    "start_time": "2022-05-23T07:29:55.147Z"
   },
   {
    "duration": 120,
    "start_time": "2022-05-23T07:29:55.153Z"
   },
   {
    "duration": 111,
    "start_time": "2022-05-23T07:29:55.274Z"
   },
   {
    "duration": 24,
    "start_time": "2022-05-23T07:29:55.387Z"
   },
   {
    "duration": 48,
    "start_time": "2022-05-23T07:29:55.413Z"
   },
   {
    "duration": 6,
    "start_time": "2022-05-23T07:29:55.463Z"
   },
   {
    "duration": 14,
    "start_time": "2022-05-23T07:29:55.471Z"
   },
   {
    "duration": 64,
    "start_time": "2022-05-23T07:29:55.489Z"
   },
   {
    "duration": 37,
    "start_time": "2022-05-23T07:29:55.554Z"
   },
   {
    "duration": 11,
    "start_time": "2022-05-23T07:29:55.593Z"
   },
   {
    "duration": 76,
    "start_time": "2022-05-23T07:29:55.606Z"
   },
   {
    "duration": 3,
    "start_time": "2022-05-23T07:29:55.684Z"
   },
   {
    "duration": 7,
    "start_time": "2022-05-23T07:29:55.689Z"
   },
   {
    "duration": 1603,
    "start_time": "2022-05-23T07:29:55.698Z"
   },
   {
    "duration": 19,
    "start_time": "2022-05-23T07:29:57.303Z"
   },
   {
    "duration": 26,
    "start_time": "2022-05-23T07:29:57.324Z"
   },
   {
    "duration": 16,
    "start_time": "2022-05-23T07:29:57.354Z"
   },
   {
    "duration": 138,
    "start_time": "2022-05-23T07:29:57.372Z"
   },
   {
    "duration": 6,
    "start_time": "2022-05-23T07:29:57.512Z"
   },
   {
    "duration": 31,
    "start_time": "2022-05-23T07:29:57.519Z"
   },
   {
    "duration": 15,
    "start_time": "2022-05-23T07:29:57.551Z"
   },
   {
    "duration": 95,
    "start_time": "2022-05-23T07:29:57.567Z"
   },
   {
    "duration": 974,
    "start_time": "2022-05-23T07:29:57.663Z"
   },
   {
    "duration": 24,
    "start_time": "2022-05-23T07:29:58.639Z"
   },
   {
    "duration": 79,
    "start_time": "2022-05-23T07:29:58.665Z"
   },
   {
    "duration": 28,
    "start_time": "2022-05-23T07:29:58.752Z"
   },
   {
    "duration": 142,
    "start_time": "2022-05-23T07:29:58.781Z"
   },
   {
    "duration": 128,
    "start_time": "2022-05-23T07:29:58.925Z"
   },
   {
    "duration": 335,
    "start_time": "2022-05-23T07:29:59.055Z"
   },
   {
    "duration": 20,
    "start_time": "2022-05-23T07:29:59.392Z"
   },
   {
    "duration": 44,
    "start_time": "2022-05-23T07:29:59.414Z"
   },
   {
    "duration": 18,
    "start_time": "2022-05-23T07:29:59.459Z"
   },
   {
    "duration": 10,
    "start_time": "2022-05-23T07:29:59.479Z"
   },
   {
    "duration": 10,
    "start_time": "2022-05-23T07:29:59.491Z"
   },
   {
    "duration": 48,
    "start_time": "2022-05-23T07:29:59.503Z"
   },
   {
    "duration": 17,
    "start_time": "2022-05-23T07:29:59.552Z"
   },
   {
    "duration": 15,
    "start_time": "2022-05-23T07:29:59.571Z"
   },
   {
    "duration": 26,
    "start_time": "2022-05-23T07:29:59.588Z"
   },
   {
    "duration": 66,
    "start_time": "2022-05-23T07:29:59.616Z"
   },
   {
    "duration": 547,
    "start_time": "2022-05-23T07:29:59.684Z"
   },
   {
    "duration": 870,
    "start_time": "2022-05-23T07:30:00.232Z"
   },
   {
    "duration": 16,
    "start_time": "2022-05-23T07:30:01.103Z"
   },
   {
    "duration": 5,
    "start_time": "2022-05-23T07:30:01.120Z"
   },
   {
    "duration": 41,
    "start_time": "2022-05-23T07:30:01.127Z"
   },
   {
    "duration": 30,
    "start_time": "2022-05-23T07:30:01.170Z"
   },
   {
    "duration": 320,
    "start_time": "2022-05-23T07:30:01.201Z"
   },
   {
    "duration": 5,
    "start_time": "2022-05-23T07:30:01.523Z"
   },
   {
    "duration": 22,
    "start_time": "2022-05-23T07:30:01.530Z"
   },
   {
    "duration": 15,
    "start_time": "2022-05-23T07:30:01.556Z"
   },
   {
    "duration": 12,
    "start_time": "2022-05-23T07:30:01.573Z"
   },
   {
    "duration": 7,
    "start_time": "2022-05-23T07:30:01.586Z"
   },
   {
    "duration": 9,
    "start_time": "2022-05-23T07:30:01.594Z"
   },
   {
    "duration": 11,
    "start_time": "2022-05-23T07:30:01.604Z"
   },
   {
    "duration": 9,
    "start_time": "2022-05-23T07:30:01.616Z"
   },
   {
    "duration": 12,
    "start_time": "2022-05-23T07:30:01.626Z"
   },
   {
    "duration": 44,
    "start_time": "2022-05-23T07:30:01.640Z"
   },
   {
    "duration": 804,
    "start_time": "2022-05-23T07:51:23.262Z"
   },
   {
    "duration": 970,
    "start_time": "2022-05-23T07:51:36.137Z"
   },
   {
    "duration": 799,
    "start_time": "2022-05-23T07:52:08.807Z"
   },
   {
    "duration": 25,
    "start_time": "2022-05-23T08:01:44.336Z"
   },
   {
    "duration": 1248,
    "start_time": "2022-09-01T20:31:01.455Z"
   },
   {
    "duration": 261,
    "start_time": "2022-09-01T20:31:02.705Z"
   },
   {
    "duration": 4,
    "start_time": "2022-09-01T20:31:02.968Z"
   },
   {
    "duration": 99,
    "start_time": "2022-09-01T20:31:02.973Z"
   },
   {
    "duration": 91,
    "start_time": "2022-09-01T20:31:03.074Z"
   },
   {
    "duration": 22,
    "start_time": "2022-09-01T20:31:03.167Z"
   },
   {
    "duration": 37,
    "start_time": "2022-09-01T20:31:03.190Z"
   },
   {
    "duration": 5,
    "start_time": "2022-09-01T20:31:03.228Z"
   },
   {
    "duration": 12,
    "start_time": "2022-09-01T20:31:03.235Z"
   },
   {
    "duration": 58,
    "start_time": "2022-09-01T20:31:03.249Z"
   },
   {
    "duration": 35,
    "start_time": "2022-09-01T20:31:03.309Z"
   },
   {
    "duration": 13,
    "start_time": "2022-09-01T20:31:03.346Z"
   },
   {
    "duration": 78,
    "start_time": "2022-09-01T20:31:03.360Z"
   },
   {
    "duration": 4,
    "start_time": "2022-09-01T20:31:03.440Z"
   },
   {
    "duration": 5,
    "start_time": "2022-09-01T20:31:03.446Z"
   },
   {
    "duration": 1440,
    "start_time": "2022-09-01T20:31:03.453Z"
   },
   {
    "duration": 20,
    "start_time": "2022-09-01T20:31:04.895Z"
   },
   {
    "duration": 9,
    "start_time": "2022-09-01T20:31:04.916Z"
   },
   {
    "duration": 14,
    "start_time": "2022-09-01T20:31:04.927Z"
   },
   {
    "duration": 149,
    "start_time": "2022-09-01T20:31:04.942Z"
   },
   {
    "duration": 13,
    "start_time": "2022-09-01T20:31:05.093Z"
   },
   {
    "duration": 9,
    "start_time": "2022-09-01T20:31:05.108Z"
   },
   {
    "duration": 6,
    "start_time": "2022-09-01T20:31:05.119Z"
   },
   {
    "duration": 9,
    "start_time": "2022-09-01T20:31:05.126Z"
   },
   {
    "duration": 902,
    "start_time": "2022-09-01T20:31:05.137Z"
   },
   {
    "duration": 25,
    "start_time": "2022-09-01T20:31:06.041Z"
   },
   {
    "duration": 91,
    "start_time": "2022-09-01T20:31:06.069Z"
   },
   {
    "duration": 48,
    "start_time": "2022-09-01T20:31:06.165Z"
   },
   {
    "duration": 157,
    "start_time": "2022-09-01T20:31:06.215Z"
   },
   {
    "duration": 151,
    "start_time": "2022-09-01T20:31:06.374Z"
   },
   {
    "duration": 275,
    "start_time": "2022-09-01T20:31:06.527Z"
   },
   {
    "duration": 18,
    "start_time": "2022-09-01T20:31:06.804Z"
   },
   {
    "duration": 16,
    "start_time": "2022-09-01T20:31:06.824Z"
   },
   {
    "duration": 12,
    "start_time": "2022-09-01T20:31:06.842Z"
   },
   {
    "duration": 8,
    "start_time": "2022-09-01T20:31:06.856Z"
   },
   {
    "duration": 41,
    "start_time": "2022-09-01T20:31:06.865Z"
   },
   {
    "duration": 25,
    "start_time": "2022-09-01T20:31:06.907Z"
   },
   {
    "duration": 6,
    "start_time": "2022-09-01T20:31:06.934Z"
   },
   {
    "duration": 12,
    "start_time": "2022-09-01T20:31:06.942Z"
   },
   {
    "duration": 20,
    "start_time": "2022-09-01T20:31:06.956Z"
   },
   {
    "duration": 70,
    "start_time": "2022-09-01T20:31:06.978Z"
   },
   {
    "duration": 437,
    "start_time": "2022-09-01T20:31:07.049Z"
   },
   {
    "duration": 811,
    "start_time": "2022-09-01T20:31:07.488Z"
   },
   {
    "duration": 19,
    "start_time": "2022-09-01T20:31:08.301Z"
   },
   {
    "duration": 4,
    "start_time": "2022-09-01T20:31:08.321Z"
   },
   {
    "duration": 6,
    "start_time": "2022-09-01T20:31:08.326Z"
   },
   {
    "duration": 13,
    "start_time": "2022-09-01T20:31:08.333Z"
   },
   {
    "duration": 348,
    "start_time": "2022-09-01T20:31:08.347Z"
   },
   {
    "duration": 13,
    "start_time": "2022-09-01T20:31:08.697Z"
   },
   {
    "duration": 9,
    "start_time": "2022-09-01T20:31:08.712Z"
   },
   {
    "duration": 6,
    "start_time": "2022-09-01T20:31:08.723Z"
   },
   {
    "duration": 10,
    "start_time": "2022-09-01T20:31:08.731Z"
   },
   {
    "duration": 5,
    "start_time": "2022-09-01T20:31:08.743Z"
   },
   {
    "duration": 6,
    "start_time": "2022-09-01T20:31:08.750Z"
   },
   {
    "duration": 6,
    "start_time": "2022-09-01T20:31:08.758Z"
   },
   {
    "duration": 41,
    "start_time": "2022-09-01T20:31:08.765Z"
   },
   {
    "duration": 6,
    "start_time": "2022-09-01T20:31:08.808Z"
   },
   {
    "duration": 11,
    "start_time": "2022-09-01T20:31:08.816Z"
   }
  ],
  "kernelspec": {
   "display_name": "Python 3 (ipykernel)",
   "language": "python",
   "name": "python3"
  },
  "language_info": {
   "codemirror_mode": {
    "name": "ipython",
    "version": 3
   },
   "file_extension": ".py",
   "mimetype": "text/x-python",
   "name": "python",
   "nbconvert_exporter": "python",
   "pygments_lexer": "ipython3",
   "version": "3.9.5"
  },
  "toc": {
   "base_numbering": 1,
   "nav_menu": {},
   "number_sections": true,
   "sideBar": true,
   "skip_h1_title": true,
   "title_cell": "Table of Contents",
   "title_sidebar": "Contents",
   "toc_cell": false,
   "toc_position": {
    "height": "calc(100% - 180px)",
    "left": "10px",
    "top": "150px",
    "width": "276.638px"
   },
   "toc_section_display": true,
   "toc_window_display": true
  }
 },
 "nbformat": 4,
 "nbformat_minor": 2
}
